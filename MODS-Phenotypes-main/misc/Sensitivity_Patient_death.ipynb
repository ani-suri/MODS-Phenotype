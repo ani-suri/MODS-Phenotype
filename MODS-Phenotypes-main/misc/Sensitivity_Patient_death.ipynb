{
 "cells": [
  {
   "cell_type": "code",
   "execution_count": 1,
   "id": "262e431e-ba7c-4978-941e-4af92b7195d2",
   "metadata": {},
   "outputs": [],
   "source": [
    "import pandas as pd\n",
    "import numpy as np\n",
    "from datetime import datetime, timedelta"
   ]
  },
  {
   "cell_type": "code",
   "execution_count": 6,
   "id": "01f5a03e-deb7-4008-95e1-65f778408408",
   "metadata": {},
   "outputs": [
    {
     "name": "stderr",
     "output_type": "stream",
     "text": [
      "/opt/rh/rh-python36/root/usr/lib/python3.6/site-packages/IPython/core/interactiveshell.py:2785: DtypeWarning: Columns (71,85,86,87,88,89,90) have mixed types.Specify dtype option on import or set low_memory=False.\n",
      "  interactivity=interactivity, compiler=compiler, result=result)\n"
     ]
    }
   ],
   "source": [
    "ARF_super_table = pd.read_csv('/home/pkris25/May_2022/ARF+control_supertables.csv')"
   ]
  },
  {
   "cell_type": "code",
   "execution_count": 7,
   "id": "d4219cfa-47af-4b8c-afa4-7c176f047ae7",
   "metadata": {},
   "outputs": [
    {
     "data": {
      "text/plain": [
       "['Unnamed: 0',\n",
       " 'temperature',\n",
       " 'daily_weight_kg',\n",
       " 'height_cm',\n",
       " 'sbp_line',\n",
       " 'dbp_line',\n",
       " 'map_line',\n",
       " 'sbp_cuff',\n",
       " 'dbp_cuff',\n",
       " 'map_cuff',\n",
       " 'pulse',\n",
       " 'unassisted_resp_rate',\n",
       " 'spo2',\n",
       " 'end_tidal_co2',\n",
       " 'o2_flow_rate',\n",
       " 'anion_gap',\n",
       " 'base_excess',\n",
       " 'bicarb_(hco3)',\n",
       " 'blood_urea_nitrogen_(bun)',\n",
       " 'calcium',\n",
       " 'calcium_adjusted',\n",
       " 'calcium_ionized',\n",
       " 'chloride',\n",
       " 'creatinine',\n",
       " 'gfr',\n",
       " 'glucose',\n",
       " 'magnesium',\n",
       " 'osmolarity',\n",
       " 'phosphorus',\n",
       " 'potassium',\n",
       " 'sodium',\n",
       " 'haptoglobin',\n",
       " 'hematocrit',\n",
       " 'hemoglobin',\n",
       " 'met_hgb',\n",
       " 'platelets',\n",
       " 'white_blood_cell_count',\n",
       " 'carboxy_hgb',\n",
       " 'alanine_aminotransferase_(alt)',\n",
       " 'albumin',\n",
       " 'alkaline_phosphatase',\n",
       " 'ammonia',\n",
       " 'aspartate_aminotransferase_(ast)',\n",
       " 'bilirubin_direct',\n",
       " 'bilirubin_total',\n",
       " 'fibrinogen',\n",
       " 'inr',\n",
       " 'lactate_dehydrogenase',\n",
       " 'lactic_acid',\n",
       " 'partial_prothrombin_time_(ptt)',\n",
       " 'prealbumin',\n",
       " 'protein',\n",
       " 'prothrombin_time_(pt)',\n",
       " 'thrombin_time',\n",
       " 'transferrin',\n",
       " 'amylase',\n",
       " 'lipase',\n",
       " 'b-type_natriuretic_peptide_(bnp)',\n",
       " 'troponin',\n",
       " 'fio2',\n",
       " 'partial_pressure_of_carbon_dioxide_(paco2)',\n",
       " 'partial_pressure_of_oxygen_(pao2)',\n",
       " 'ph',\n",
       " 'saturation_of_oxygen_(sao2)',\n",
       " 'd_dimer',\n",
       " 'hemoglobin_a1c',\n",
       " 'parathyroid_level',\n",
       " 'thyroid_stimulating_hormone_(tsh)',\n",
       " 'crp_high_sens',\n",
       " 'procalcitonin',\n",
       " 'erythrocyte_sedimentation_rate_(esr)',\n",
       " 'c_diff',\n",
       " 'covid',\n",
       " 'mtp',\n",
       " 'gcs_eye_score',\n",
       " 'gcs_verbal_score',\n",
       " 'gcs_motor_score',\n",
       " 'gcs_total_score',\n",
       " 'vent_status',\n",
       " 'norepinephrine',\n",
       " 'epinephrine',\n",
       " 'dobutamine',\n",
       " 'dopamine',\n",
       " 'phenylephrine',\n",
       " 'vasopressin',\n",
       " 'norepinephrine_dose_unit',\n",
       " 'epinephrine_dose_unit',\n",
       " 'dobutamine_dose_unit',\n",
       " 'dopamine_dose_unit',\n",
       " 'phenylephrine_dose_unit',\n",
       " 'vasopressin_dose_unit',\n",
       " 'icu',\n",
       " 'imc',\n",
       " 'ed',\n",
       " 'procedure',\n",
       " 'fluid_name',\n",
       " 'fluid_formulary_name',\n",
       " 'fluid_action_time',\n",
       " 'fluid_start',\n",
       " 'fluid_stop',\n",
       " 'best_map',\n",
       " 'norepinephrine_dose_weight',\n",
       " 'epinephrine_dose_weight',\n",
       " 'dobutamine_dose_weight',\n",
       " 'dopamine_dose_weight',\n",
       " 'phenylephrine_dose_weight',\n",
       " 'vasopressin_dose_weight',\n",
       " 'pf_sp',\n",
       " 'pf_pa',\n",
       " 'SIRS_resp',\n",
       " 'SIRS_cardio',\n",
       " 'SIRS_temp',\n",
       " 'SIRS_wbc',\n",
       " 'hourly_total_x',\n",
       " 'delta_24h_x',\n",
       " 'SOFA_coag',\n",
       " 'SOFA_renal',\n",
       " 'SOFA_hep',\n",
       " 'SOFA_neuro',\n",
       " 'SOFA_cardio',\n",
       " 'SOFA_cardio_mod',\n",
       " 'SOFA_resp',\n",
       " 'SOFA_resp_sa',\n",
       " 'hourly_total_y',\n",
       " 'delta_24h_y',\n",
       " 'hourly_total_mod',\n",
       " 'delta_24h_mod',\n",
       " 'csn',\n",
       " 'pat_id']"
      ]
     },
     "execution_count": 7,
     "metadata": {},
     "output_type": "execute_result"
    }
   ],
   "source": [
    "[column for column in ARF_super_table]"
   ]
  },
  {
   "cell_type": "code",
   "execution_count": 2,
   "id": "7a811770-2fd7-464b-81b6-e23fed7c58c0",
   "metadata": {
    "tags": []
   },
   "outputs": [
    {
     "name": "stderr",
     "output_type": "stream",
     "text": [
      "/opt/rh/rh-python36/root/usr/lib/python3.6/site-packages/IPython/core/interactiveshell.py:2785: DtypeWarning: Columns (90) have mixed types.Specify dtype option on import or set low_memory=False.\n",
      "  interactivity=interactivity, compiler=compiler, result=result)\n"
     ]
    }
   ],
   "source": [
    "ARF_dup = pd.read_csv('/labs/kamaleswaranlab/MODS/Preethi_ARF_data_2016_2018/ATSJournal/arf_0514_ver8.csv')\n"
   ]
  },
  {
   "cell_type": "code",
   "execution_count": 7,
   "id": "ff7e9c49-2aa5-4401-8007-5f9191d47b5a",
   "metadata": {},
   "outputs": [
    {
     "data": {
      "text/plain": [
       "<bound method NDFrame.head of           pat_id          csn  rel_time  daily_weight_kg  height_cm  \\\n",
       "0        1842529   3885207198       1.0             81.5      170.2   \n",
       "1        1842529   3885207198       2.0             81.5      170.2   \n",
       "2        1842529   3885207198       3.0             81.5      170.2   \n",
       "3        1842529   3885207198       4.0             81.5      170.2   \n",
       "4        1842529   3885207198       5.0             81.5      170.2   \n",
       "...          ...          ...       ...              ...        ...   \n",
       "629523  99944802  58079988082     275.0             73.4      160.0   \n",
       "629524  99944802  58079988082     276.0             73.4      160.0   \n",
       "629525  99944802  58079988082     277.0             73.4      160.0   \n",
       "629526  99944802  58079988082     278.0             73.4      160.0   \n",
       "629527  99944802  58079988082     279.0             73.4      160.0   \n",
       "\n",
       "        Temperature  Heart Rate  Mean Arterial Pressure  Respiratory Rate  \\\n",
       "0              37.4        67.0                    81.0              24.0   \n",
       "1              37.4        62.0                    81.0              20.0   \n",
       "2              37.4        75.0                    81.0              18.0   \n",
       "3              38.0        64.5                    81.0              18.0   \n",
       "4              38.0        64.5                    81.0              18.0   \n",
       "...             ...         ...                     ...               ...   \n",
       "629523         36.6       104.0                    72.0              20.0   \n",
       "629524         36.6       104.0                    72.0              20.0   \n",
       "629525         36.6        90.0                    72.0              20.0   \n",
       "629526         36.6        90.0                    72.0              20.0   \n",
       "629527         36.6        99.0                    79.0              20.0   \n",
       "\n",
       "        O2 flow  ...  num_concurrent_inotropes        BMI    PF_ratio  \\\n",
       "0           NaN  ...                       0.0  28.134454  280.000000   \n",
       "1           NaN  ...                       0.0  28.134454  280.000000   \n",
       "2           NaN  ...                       0.0  28.134454  280.000000   \n",
       "3           NaN  ...                       0.0  28.134454  280.000000   \n",
       "4           NaN  ...                       0.0  28.134454  280.000000   \n",
       "...         ...  ...                       ...        ...         ...   \n",
       "629523      NaN  ...                       0.0  28.671875  208.571429   \n",
       "629524      NaN  ...                       0.0  28.671875  208.571429   \n",
       "629525      NaN  ...                       0.0  28.671875  208.571429   \n",
       "629526      NaN  ...                       0.0  28.671875  208.571429   \n",
       "629527      NaN  ...                       0.0  28.671875  208.571429   \n",
       "\n",
       "        bed_unit   hospital_service  MEWS  MEWS>=3  MEWS>=4  MEWS>=5  EHC_SIRS  \n",
       "0         ED EUH  HOSPITAL MEDICINE     2    False    False    False         1  \n",
       "1         ED EUH  HOSPITAL MEDICINE     1    False    False    False         0  \n",
       "2         ED EUH  HOSPITAL MEDICINE     1    False    False    False         0  \n",
       "3         ED EUH  HOSPITAL MEDICINE     1    False    False    False         1  \n",
       "4         ED EUH  HOSPITAL MEDICINE     1    False    False    False         1  \n",
       "...          ...                ...   ...      ...      ...      ...       ...  \n",
       "629523  4B-N EUH   THORACIC SURGERY     3     True    False    False         0  \n",
       "629524  4B-N EUH   THORACIC SURGERY     3     True    False    False         0  \n",
       "629525  4B-N EUH   THORACIC SURGERY     2    False    False    False         0  \n",
       "629526  4B-N EUH   THORACIC SURGERY     2    False    False    False         0  \n",
       "629527  4B-N EUH   THORACIC SURGERY     2    False    False    False         0  \n",
       "\n",
       "[629528 rows x 128 columns]>"
      ]
     },
     "execution_count": 7,
     "metadata": {},
     "output_type": "execute_result"
    }
   ],
   "source": [
    "ARF_dup.head"
   ]
  },
  {
   "cell_type": "code",
   "execution_count": 5,
   "id": "fe8808ba-f389-437a-9e57-940a7f96e5c7",
   "metadata": {},
   "outputs": [
    {
     "data": {
      "text/plain": [
       "['pat_id',\n",
       " 'csn',\n",
       " 'rel_time',\n",
       " 'daily_weight_kg',\n",
       " 'height_cm',\n",
       " 'Temperature',\n",
       " 'Heart Rate',\n",
       " 'Mean Arterial Pressure',\n",
       " 'Respiratory Rate',\n",
       " 'O2 flow',\n",
       " 'Tidal Volume',\n",
       " 'Systolic Blood Pressure',\n",
       " 'SpO2',\n",
       " 'Albumin',\n",
       " 'Bicarbontae',\n",
       " 'Bilirubin',\n",
       " 'Calcium',\n",
       " 'Chloride',\n",
       " 'Creatinine',\n",
       " 'FiO2',\n",
       " 'Glucose',\n",
       " 'Hematocrit',\n",
       " 'Lactate',\n",
       " 'PCO2',\n",
       " 'PaO2',\n",
       " 'Platelet',\n",
       " 'Potassium',\n",
       " 'Sodium',\n",
       " 'White Blood Count',\n",
       " 'gcs_total_score',\n",
       " 't_start',\n",
       " 't_end',\n",
       " 'NNmean',\n",
       " 'NNmedian',\n",
       " 'NNmode',\n",
       " 'NNvariance',\n",
       " 'NNskew',\n",
       " 'NNkurt',\n",
       " 'NNiqr',\n",
       " 'SDNN',\n",
       " 'RMSSD',\n",
       " 'pnn50',\n",
       " 'btsdet',\n",
       " 'avgsqi',\n",
       " 'tdflag',\n",
       " 'ulf',\n",
       " 'vlf',\n",
       " 'lf',\n",
       " 'hf',\n",
       " 'lfhf',\n",
       " 'ttlpwr',\n",
       " 'fdflag',\n",
       " 'ac',\n",
       " 'dc',\n",
       " 'SD1',\n",
       " 'SD2',\n",
       " 'SD1SD2',\n",
       " 'SampEn',\n",
       " 'ApEn',\n",
       " 'SEscale1',\n",
       " 'SEscale2',\n",
       " 'SEscale3',\n",
       " 'SEscale4',\n",
       " 'SEscale5',\n",
       " 'SEscale6',\n",
       " 'SEscale7',\n",
       " 'SEscale8',\n",
       " 'SEscale9',\n",
       " 'SEscale10',\n",
       " 'SEscale11',\n",
       " 'SEscale12',\n",
       " 'SEscale13',\n",
       " 'SEscale14',\n",
       " 'SEscale15',\n",
       " 'SEscale16',\n",
       " 'SEscale17',\n",
       " 'SEscale18',\n",
       " 'SEscale19',\n",
       " 'SEscale20',\n",
       " 'vent_rate_set',\n",
       " 'vent_tidal_rate_set',\n",
       " 'vent_tidal_rate_exhaled',\n",
       " 'peep',\n",
       " 'vent_fio2',\n",
       " 'adm_time',\n",
       " 'age',\n",
       " 'In_hospital_death',\n",
       " 'race',\n",
       " 'gender',\n",
       " 'gender_code',\n",
       " 'ethnicity_code',\n",
       " 'ethnicity',\n",
       " 'vent_start_time',\n",
       " 'vent_stop_time',\n",
       " 'cardiac_arrhythmia',\n",
       " 'chronic_pulmonary',\n",
       " 'congestive_heart_failure',\n",
       " 'diabetes_complicated',\n",
       " 'diabetes_uncomplicated',\n",
       " 'hypertension',\n",
       " 'liver_disease',\n",
       " 'metastatic_cancer',\n",
       " 'obesity',\n",
       " 'renal_failure',\n",
       " 'rhematoid_arthritis',\n",
       " 'valvular_disease',\n",
       " 'abs_time',\n",
       " 'MV',\n",
       " 'minute_ventilation',\n",
       " 'dobutamine',\n",
       " 'dopamine',\n",
       " 'phenylephrine',\n",
       " 'vasopressin',\n",
       " 'epinephrine',\n",
       " 'norepinephrine',\n",
       " 'milrinone',\n",
       " 'midodrine',\n",
       " 'num_concurrent_vasopressors',\n",
       " 'num_concurrent_inotropes',\n",
       " 'BMI',\n",
       " 'PF_ratio',\n",
       " 'bed_unit',\n",
       " 'hospital_service',\n",
       " 'MEWS',\n",
       " 'MEWS>=3',\n",
       " 'MEWS>=4',\n",
       " 'MEWS>=5',\n",
       " 'EHC_SIRS']"
      ]
     },
     "execution_count": 5,
     "metadata": {},
     "output_type": "execute_result"
    }
   ],
   "source": [
    "\n",
    "[column for column in ARF_dup]\n"
   ]
  },
  {
   "cell_type": "code",
   "execution_count": 5,
   "id": "95b1a2da-68c4-41d3-b7cf-257e80f6237d",
   "metadata": {},
   "outputs": [],
   "source": [
    "#ARF_dup.head\n"
   ]
  },
  {
   "cell_type": "code",
   "execution_count": 6,
   "id": "001abc25-a974-4bd1-b3f4-8c62eaf3e5ad",
   "metadata": {},
   "outputs": [
    {
     "name": "stderr",
     "output_type": "stream",
     "text": [
      "/opt/rh/rh-python36/root/usr/lib/python3.6/site-packages/IPython/core/interactiveshell.py:2785: DtypeWarning: Columns (7) have mixed types.Specify dtype option on import or set low_memory=False.\n",
      "  interactivity=interactivity, compiler=compiler, result=result)\n"
     ]
    }
   ],
   "source": [
    "DI2016_pat_death = pd.read_csv('/labs/kamaleswaranlab/MODS/Data/Emory_Data/em_data/2016/CJSEPSIS_DEMOGRAPHICS_2016.dsv',sep='|')\n",
    "DI2017_pat_death = pd.read_csv('/labs/kamaleswaranlab/MODS/Data/Emory_Data/em_data/2017/CJSEPSIS_DEMOGRAPHICS_2017.dsv',sep='|')\n",
    "DI2018_pat_death = pd.read_csv('/labs/kamaleswaranlab/MODS/Data/Emory_Data/em_data/2018/CJSEPSIS_DEMOGRAPHICS_2018.dsv',sep='|')\n"
   ]
  },
  {
   "cell_type": "code",
   "execution_count": 7,
   "id": "d596ee49-84f4-4615-bd65-14fffca72f5a",
   "metadata": {},
   "outputs": [
    {
     "data": {
      "text/plain": [
       "(217756, 13)"
      ]
     },
     "execution_count": 7,
     "metadata": {},
     "output_type": "execute_result"
    }
   ],
   "source": [
    "DI2016_pat_death.shape"
   ]
  },
  {
   "cell_type": "code",
   "execution_count": 8,
   "id": "338ca7b1-5647-46e8-abc5-715e6f320d3e",
   "metadata": {},
   "outputs": [
    {
     "data": {
      "text/plain": [
       "(219847, 13)"
      ]
     },
     "execution_count": 8,
     "metadata": {},
     "output_type": "execute_result"
    }
   ],
   "source": [
    "DI2017_pat_death.shape"
   ]
  },
  {
   "cell_type": "code",
   "execution_count": 9,
   "id": "546b3981-6b0d-462d-aeae-72df5b19601d",
   "metadata": {},
   "outputs": [
    {
     "data": {
      "text/plain": [
       "(232137, 13)"
      ]
     },
     "execution_count": 9,
     "metadata": {},
     "output_type": "execute_result"
    }
   ],
   "source": [
    "DI2018_pat_death.shape"
   ]
  },
  {
   "cell_type": "code",
   "execution_count": 10,
   "id": "6b75a0ad-dedc-469f-bfda-c72366e825c6",
   "metadata": {},
   "outputs": [],
   "source": [
    "DI2016_dis_date = pd.read_csv('/labs/kamaleswaranlab/MODS/Data/Emory_Data/em_data/2016/CJSEPSIS_ENCOUNTER_2016.dsv',sep='|')\n",
    "DI2017_dis_date = pd.read_csv('/labs/kamaleswaranlab/MODS/Data/Emory_Data/em_data/2017/CJSEPSIS_ENCOUNTER_2017.dsv',sep='|')\n",
    "DI2018_dis_date = pd.read_csv('/labs/kamaleswaranlab/MODS/Data/Emory_Data/em_data/2018/CJSEPSIS_ENCOUNTER_2018.dsv',sep='|')\n"
   ]
  },
  {
   "cell_type": "code",
   "execution_count": 11,
   "id": "77b257f1-8b0b-4492-ae01-fc9e6e4fde09",
   "metadata": {},
   "outputs": [],
   "source": [
    "DIAG_pat_death_all_years = pd.concat([DI2016_pat_death,DI2017_pat_death, DI2018_pat_death])\n"
   ]
  },
  {
   "cell_type": "code",
   "execution_count": 12,
   "id": "9c32afa6-3f26-4115-baea-b6fcdc23f192",
   "metadata": {},
   "outputs": [
    {
     "data": {
      "text/plain": [
       "(669740, 13)"
      ]
     },
     "execution_count": 12,
     "metadata": {},
     "output_type": "execute_result"
    }
   ],
   "source": [
    "DIAG_pat_death_all_years.shape"
   ]
  },
  {
   "cell_type": "code",
   "execution_count": 13,
   "id": "32c87005-fe91-4ce9-9969-6c65af17106a",
   "metadata": {},
   "outputs": [
    {
     "data": {
      "text/plain": [
       "(217742, 19)"
      ]
     },
     "execution_count": 13,
     "metadata": {},
     "output_type": "execute_result"
    }
   ],
   "source": [
    "DI2016_dis_date.shape"
   ]
  },
  {
   "cell_type": "code",
   "execution_count": 14,
   "id": "6213a0ae-796e-4a2d-b156-8a525933ff94",
   "metadata": {},
   "outputs": [
    {
     "data": {
      "text/plain": [
       "(219841, 19)"
      ]
     },
     "execution_count": 14,
     "metadata": {},
     "output_type": "execute_result"
    }
   ],
   "source": [
    "DI2017_dis_date.shape"
   ]
  },
  {
   "cell_type": "code",
   "execution_count": 15,
   "id": "1af35606-21be-4c7a-9499-3774d6eb8dad",
   "metadata": {},
   "outputs": [
    {
     "data": {
      "text/plain": [
       "(232138, 19)"
      ]
     },
     "execution_count": 15,
     "metadata": {},
     "output_type": "execute_result"
    }
   ],
   "source": [
    "DI2018_dis_date.shape"
   ]
  },
  {
   "cell_type": "code",
   "execution_count": 16,
   "id": "a286c68b-e3b2-4a3b-9626-8a022f101b5f",
   "metadata": {},
   "outputs": [],
   "source": [
    "DIAG_dis_date_all_years = pd.concat([DI2016_dis_date,DI2017_dis_date, DI2018_dis_date])"
   ]
  },
  {
   "cell_type": "code",
   "execution_count": 17,
   "id": "7af18078-44a8-4087-bdd2-c837591d8043",
   "metadata": {},
   "outputs": [
    {
     "data": {
      "text/plain": [
       "(669721, 19)"
      ]
     },
     "execution_count": 17,
     "metadata": {},
     "output_type": "execute_result"
    }
   ],
   "source": [
    "DIAG_dis_date_all_years.shape"
   ]
  },
  {
   "cell_type": "code",
   "execution_count": 18,
   "id": "6dd4bea7-102f-4a0e-9103-2b786c2c0376",
   "metadata": {},
   "outputs": [
    {
     "data": {
      "text/plain": [
       "Index(['pat_id', 'csn', 'age', 'zip_code', 'ed_arrival_source',\n",
       "       'pre_admit_location', 'ed_presentation_time',\n",
       "       'hospital_admission_date_time', 'hospital_discharge_date_time',\n",
       "       'admit_reason', 'insurance_status', 'cpr_in_ed', 'total_icu_days',\n",
       "       'total_vent_days', 'total_hosp_days', 'discharge_status',\n",
       "       'discharge_to', 'encounter_type', 'facility_nm'],\n",
       "      dtype='object')"
      ]
     },
     "execution_count": 18,
     "metadata": {},
     "output_type": "execute_result"
    }
   ],
   "source": [
    "DIAG_dis_date_all_years.columns"
   ]
  },
  {
   "cell_type": "code",
   "execution_count": 19,
   "id": "6c886c29-f0b9-4a2a-912c-6fa9f8e3a413",
   "metadata": {},
   "outputs": [],
   "source": [
    "DIAG_dis_date_all_years_red = DIAG_dis_date_all_years.drop([ 'age', 'zip_code', 'ed_arrival_source',\n",
    "       'pre_admit_location', 'ed_presentation_time',\n",
    "       'admit_reason', 'insurance_status', 'cpr_in_ed', 'facility_nm'], axis=1)"
   ]
  },
  {
   "cell_type": "code",
   "execution_count": 20,
   "id": "504941fa-ce67-4686-ab0d-720e6db242ca",
   "metadata": {},
   "outputs": [
    {
     "data": {
      "text/plain": [
       "Index(['pat_id', 'csn', 'hospital_admission_date_time',\n",
       "       'hospital_discharge_date_time', 'total_icu_days', 'total_vent_days',\n",
       "       'total_hosp_days', 'discharge_status', 'discharge_to',\n",
       "       'encounter_type'],\n",
       "      dtype='object')"
      ]
     },
     "execution_count": 20,
     "metadata": {},
     "output_type": "execute_result"
    }
   ],
   "source": [
    "DIAG_dis_date_all_years_red.columns"
   ]
  },
  {
   "cell_type": "code",
   "execution_count": 21,
   "id": "63444034-25c5-411e-b46e-926dbb1bf4ca",
   "metadata": {},
   "outputs": [
    {
     "data": {
      "text/plain": [
       "Index(['pat_id', 'first_name', 'last_name', 'mi', 'dob', 'gender_code',\n",
       "       'gender', 'race_code', 'race', 'ethnicity_code', 'ethnicity',\n",
       "       'death_date', 'last4_ssn'],\n",
       "      dtype='object')"
      ]
     },
     "execution_count": 21,
     "metadata": {},
     "output_type": "execute_result"
    }
   ],
   "source": [
    "DIAG_pat_death_all_years.columns"
   ]
  },
  {
   "cell_type": "code",
   "execution_count": 22,
   "id": "cc74bb90-1ab6-4fe2-9303-91ea44ac3ee7",
   "metadata": {},
   "outputs": [],
   "source": [
    "DIAG_pat_death_all_years_red = DIAG_pat_death_all_years.drop(['first_name', 'last_name', 'mi', 'dob', 'gender_code',\n",
    "       'gender', 'race_code', 'race', 'ethnicity_code', 'ethnicity',\n",
    "       'last4_ssn'], axis=1)"
   ]
  },
  {
   "cell_type": "code",
   "execution_count": 23,
   "id": "840295c3-ed09-475f-8504-26bce7f46212",
   "metadata": {},
   "outputs": [
    {
     "data": {
      "text/plain": [
       "Index(['pat_id', 'csn', 'hospital_admission_date_time',\n",
       "       'hospital_discharge_date_time', 'total_icu_days', 'total_vent_days',\n",
       "       'total_hosp_days', 'discharge_status', 'discharge_to',\n",
       "       'encounter_type'],\n",
       "      dtype='object')"
      ]
     },
     "execution_count": 23,
     "metadata": {},
     "output_type": "execute_result"
    }
   ],
   "source": [
    "DIAG_dis_date_all_years_red.columns"
   ]
  },
  {
   "cell_type": "code",
   "execution_count": 24,
   "id": "f7a1d62a-fe1d-4160-bfac-5bd9e8ee8070",
   "metadata": {},
   "outputs": [
    {
     "data": {
      "text/plain": [
       "(669740, 2)"
      ]
     },
     "execution_count": 24,
     "metadata": {},
     "output_type": "execute_result"
    }
   ],
   "source": [
    "DIAG_pat_death_all_years_red.shape"
   ]
  },
  {
   "cell_type": "code",
   "execution_count": 25,
   "id": "74481ae4-a602-4f21-bdbe-3ae322a68aae",
   "metadata": {},
   "outputs": [
    {
     "data": {
      "text/plain": [
       "(669721, 10)"
      ]
     },
     "execution_count": 25,
     "metadata": {},
     "output_type": "execute_result"
    }
   ],
   "source": [
    "DIAG_dis_date_all_years_red.shape"
   ]
  },
  {
   "cell_type": "code",
   "execution_count": 26,
   "id": "5e1d206a-613e-47c4-b635-d784effad4e3",
   "metadata": {},
   "outputs": [
    {
     "data": {
      "text/plain": [
       "Index(['pat_id', 'death_date'], dtype='object')"
      ]
     },
     "execution_count": 26,
     "metadata": {},
     "output_type": "execute_result"
    }
   ],
   "source": [
    "DIAG_pat_death_all_years_red.columns"
   ]
  },
  {
   "cell_type": "code",
   "execution_count": 27,
   "id": "f5654ba2-2ee0-418f-9853-b92bd9d4a1f9",
   "metadata": {},
   "outputs": [],
   "source": [
    "Pat_Info = DIAG_dis_date_all_years_red.merge(DIAG_pat_death_all_years_red,on = 'pat_id', how = 'inner')"
   ]
  },
  {
   "cell_type": "code",
   "execution_count": 34,
   "id": "9e953974-f95b-4c01-bd01-3948d0c92676",
   "metadata": {},
   "outputs": [],
   "source": [
    "Pat_Info.to_csv('ARF_Patient_expired_master_list.csv',index = False)"
   ]
  },
  {
   "cell_type": "code",
   "execution_count": 28,
   "id": "ede70722-4374-4b36-9938-1b1abeb51abb",
   "metadata": {},
   "outputs": [
    {
     "data": {
      "text/plain": [
       "Index(['pat_id', 'csn', 'hospital_admission_date_time',\n",
       "       'hospital_discharge_date_time', 'total_icu_days', 'total_vent_days',\n",
       "       'total_hosp_days', 'discharge_status', 'discharge_to', 'encounter_type',\n",
       "       'death_date'],\n",
       "      dtype='object')"
      ]
     },
     "execution_count": 28,
     "metadata": {},
     "output_type": "execute_result"
    }
   ],
   "source": [
    "Pat_Info.columns"
   ]
  },
  {
   "cell_type": "code",
   "execution_count": 29,
   "id": "3313141f-036b-4dec-9d5b-91db5f253bab",
   "metadata": {},
   "outputs": [
    {
     "data": {
      "text/plain": [
       "(4500462, 11)"
      ]
     },
     "execution_count": 29,
     "metadata": {},
     "output_type": "execute_result"
    }
   ],
   "source": [
    "Pat_Info.shape"
   ]
  },
  {
   "cell_type": "code",
   "execution_count": 30,
   "id": "e46c663f-8da0-44dd-ba94-d446f9b3317e",
   "metadata": {},
   "outputs": [],
   "source": [
    "ARF_Final = ARF_dup.merge(Pat_Info,on = 'csn', how = 'inner')"
   ]
  },
  {
   "cell_type": "code",
   "execution_count": 31,
   "id": "97ecd8a8-fbae-43d9-af24-dac2ecab40db",
   "metadata": {},
   "outputs": [
    {
     "data": {
      "text/plain": [
       "['pat_id_x',\n",
       " 'csn',\n",
       " 'rel_time',\n",
       " 'daily_weight_kg',\n",
       " 'height_cm',\n",
       " 'Temperature',\n",
       " 'Heart Rate',\n",
       " 'Mean Arterial Pressure',\n",
       " 'Respiratory Rate',\n",
       " 'O2 flow',\n",
       " 'Tidal Volume',\n",
       " 'Systolic Blood Pressure',\n",
       " 'SpO2',\n",
       " 'Albumin',\n",
       " 'Bicarbontae',\n",
       " 'Bilirubin',\n",
       " 'Calcium',\n",
       " 'Chloride',\n",
       " 'Creatinine',\n",
       " 'FiO2',\n",
       " 'Glucose',\n",
       " 'Hematocrit',\n",
       " 'Lactate',\n",
       " 'PCO2',\n",
       " 'PaO2',\n",
       " 'Platelet',\n",
       " 'Potassium',\n",
       " 'Sodium',\n",
       " 'White Blood Count',\n",
       " 'gcs_total_score',\n",
       " 't_start',\n",
       " 't_end',\n",
       " 'NNmean',\n",
       " 'NNmedian',\n",
       " 'NNmode',\n",
       " 'NNvariance',\n",
       " 'NNskew',\n",
       " 'NNkurt',\n",
       " 'NNiqr',\n",
       " 'SDNN',\n",
       " 'RMSSD',\n",
       " 'pnn50',\n",
       " 'btsdet',\n",
       " 'avgsqi',\n",
       " 'tdflag',\n",
       " 'ulf',\n",
       " 'vlf',\n",
       " 'lf',\n",
       " 'hf',\n",
       " 'lfhf',\n",
       " 'ttlpwr',\n",
       " 'fdflag',\n",
       " 'ac',\n",
       " 'dc',\n",
       " 'SD1',\n",
       " 'SD2',\n",
       " 'SD1SD2',\n",
       " 'SampEn',\n",
       " 'ApEn',\n",
       " 'SEscale1',\n",
       " 'SEscale2',\n",
       " 'SEscale3',\n",
       " 'SEscale4',\n",
       " 'SEscale5',\n",
       " 'SEscale6',\n",
       " 'SEscale7',\n",
       " 'SEscale8',\n",
       " 'SEscale9',\n",
       " 'SEscale10',\n",
       " 'SEscale11',\n",
       " 'SEscale12',\n",
       " 'SEscale13',\n",
       " 'SEscale14',\n",
       " 'SEscale15',\n",
       " 'SEscale16',\n",
       " 'SEscale17',\n",
       " 'SEscale18',\n",
       " 'SEscale19',\n",
       " 'SEscale20',\n",
       " 'vent_rate_set',\n",
       " 'vent_tidal_rate_set',\n",
       " 'vent_tidal_rate_exhaled',\n",
       " 'peep',\n",
       " 'vent_fio2',\n",
       " 'adm_time',\n",
       " 'age',\n",
       " 'In_hospital_death',\n",
       " 'race',\n",
       " 'gender',\n",
       " 'gender_code',\n",
       " 'ethnicity_code',\n",
       " 'ethnicity',\n",
       " 'vent_start_time',\n",
       " 'vent_stop_time',\n",
       " 'cardiac_arrhythmia',\n",
       " 'chronic_pulmonary',\n",
       " 'congestive_heart_failure',\n",
       " 'diabetes_complicated',\n",
       " 'diabetes_uncomplicated',\n",
       " 'hypertension',\n",
       " 'liver_disease',\n",
       " 'metastatic_cancer',\n",
       " 'obesity',\n",
       " 'renal_failure',\n",
       " 'rhematoid_arthritis',\n",
       " 'valvular_disease',\n",
       " 'abs_time',\n",
       " 'MV',\n",
       " 'minute_ventilation',\n",
       " 'dobutamine',\n",
       " 'dopamine',\n",
       " 'phenylephrine',\n",
       " 'vasopressin',\n",
       " 'epinephrine',\n",
       " 'norepinephrine',\n",
       " 'milrinone',\n",
       " 'midodrine',\n",
       " 'num_concurrent_vasopressors',\n",
       " 'num_concurrent_inotropes',\n",
       " 'BMI',\n",
       " 'PF_ratio',\n",
       " 'bed_unit',\n",
       " 'hospital_service',\n",
       " 'MEWS',\n",
       " 'MEWS>=3',\n",
       " 'MEWS>=4',\n",
       " 'MEWS>=5',\n",
       " 'EHC_SIRS',\n",
       " 'pat_id_y',\n",
       " 'hospital_admission_date_time',\n",
       " 'hospital_discharge_date_time',\n",
       " 'total_icu_days',\n",
       " 'total_vent_days',\n",
       " 'total_hosp_days',\n",
       " 'discharge_status',\n",
       " 'discharge_to',\n",
       " 'encounter_type',\n",
       " 'death_date']"
      ]
     },
     "execution_count": 31,
     "metadata": {},
     "output_type": "execute_result"
    }
   ],
   "source": [
    "[column for column in ARF_Final]\n"
   ]
  },
  {
   "cell_type": "code",
   "execution_count": 32,
   "id": "a3fe4e2d-057e-4854-ac51-5bf1330cc52a",
   "metadata": {},
   "outputs": [],
   "source": [
    "#ARF_Final.to_csv('ARF_Patient_expired_ver2.csv',index = False)"
   ]
  },
  {
   "cell_type": "code",
   "execution_count": 33,
   "id": "63e23ea9-34a8-47fc-8705-96a5061dc5fa",
   "metadata": {},
   "outputs": [
    {
     "ename": "TypeError",
     "evalue": "'Series' object is not callable",
     "output_type": "error",
     "traceback": [
      "\u001b[0;31m---------------------------------------------------------------------------\u001b[0m",
      "\u001b[0;31mTypeError\u001b[0m                                 Traceback (most recent call last)",
      "\u001b[0;32m<ipython-input-33-2b855a8bf8e7>\u001b[0m in \u001b[0;36m<module>\u001b[0;34m()\u001b[0m\n\u001b[0;32m----> 1\u001b[0;31m \u001b[0mARF_Final\u001b[0m\u001b[0;34m.\u001b[0m\u001b[0mdeath_date\u001b[0m\u001b[0;34m(\u001b[0m\u001b[0;36m100\u001b[0m\u001b[0;34m)\u001b[0m\u001b[0;34m\u001b[0m\u001b[0;34m\u001b[0m\u001b[0m\n\u001b[0m",
      "\u001b[0;31mTypeError\u001b[0m: 'Series' object is not callable"
     ]
    }
   ],
   "source": [
    "ARF_Final.death_date(100)"
   ]
  },
  {
   "cell_type": "code",
   "execution_count": null,
   "id": "fcc02a1b-bae8-4f9e-8bcd-d6bdb512dbf7",
   "metadata": {},
   "outputs": [],
   "source": [
    "count = (ARF_Final['death_date'] != 0).sum()\n",
    "print('Count of non zeros in Column  death_date : ', count)"
   ]
  },
  {
   "cell_type": "code",
   "execution_count": null,
   "id": "88a2d126-d5a3-4f56-861e-e8c2e8b88e0b",
   "metadata": {},
   "outputs": [],
   "source": [
    "ARF_Final.shape\n"
   ]
  },
  {
   "cell_type": "code",
   "execution_count": null,
   "id": "5f8ccc3d-fc60-444b-accd-76e21dd87cde",
   "metadata": {},
   "outputs": [],
   "source": [
    "column = ARF_Final['death_date']\n",
    "count = column[column != 0].count()\n",
    "print('Count of non zeros & and non NaN in Column  death_date : ', count)"
   ]
  },
  {
   "cell_type": "code",
   "execution_count": null,
   "id": "a63f4828-fb79-44cb-9cac-b38411477a30",
   "metadata": {},
   "outputs": [],
   "source": []
  },
  {
   "cell_type": "code",
   "execution_count": null,
   "id": "6ac244a4-ef17-43b1-ad4b-b11f38ca9e90",
   "metadata": {},
   "outputs": [],
   "source": []
  },
  {
   "cell_type": "code",
   "execution_count": null,
   "id": "9d17564c-c2ee-4294-a0e4-84ad9f09804c",
   "metadata": {},
   "outputs": [],
   "source": []
  },
  {
   "cell_type": "code",
   "execution_count": null,
   "id": "c8f5cb2e-dae9-409a-ae93-8d0622d10fbb",
   "metadata": {},
   "outputs": [],
   "source": []
  },
  {
   "cell_type": "code",
   "execution_count": null,
   "id": "1fb5be43-0cfd-43b5-98ff-cc7a8305492f",
   "metadata": {},
   "outputs": [],
   "source": []
  },
  {
   "cell_type": "code",
   "execution_count": null,
   "id": "e4775d8f-0669-4c52-8485-3281dd9c0d70",
   "metadata": {},
   "outputs": [],
   "source": []
  },
  {
   "cell_type": "code",
   "execution_count": null,
   "id": "df2fd804-5f5e-455d-a794-58bdf5c4659d",
   "metadata": {},
   "outputs": [],
   "source": []
  },
  {
   "cell_type": "code",
   "execution_count": null,
   "id": "c4cc732c-f512-471e-b8ca-b6389a9da0e4",
   "metadata": {},
   "outputs": [],
   "source": [
    "\n"
   ]
  },
  {
   "cell_type": "code",
   "execution_count": null,
   "id": "0d6979ad-ec09-4a10-8029-5102e5127dc6",
   "metadata": {},
   "outputs": [],
   "source": []
  }
 ],
 "metadata": {
  "kernelspec": {
   "display_name": "Python 3 (ipykernel)",
   "language": "python",
   "name": "python3"
  },
  "language_info": {
   "codemirror_mode": {
    "name": "ipython",
    "version": 3
   },
   "file_extension": ".py",
   "mimetype": "text/x-python",
   "name": "python",
   "nbconvert_exporter": "python",
   "pygments_lexer": "ipython3",
   "version": "3.8.6"
  }
 },
 "nbformat": 4,
 "nbformat_minor": 5
}
