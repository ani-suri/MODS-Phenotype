{
 "cells": [
  {
   "cell_type": "markdown",
   "metadata": {
    "tags": []
   },
   "source": [
    "# MODS Debugging"
   ]
  },
  {
   "cell_type": "code",
   "execution_count": 5,
   "metadata": {
    "tags": []
   },
   "outputs": [],
   "source": [
    "from pathlib import Path\n",
    "import sys\n",
    "sys.path.insert(0, \"/opt/scratchspace/KLAB_SAIL/MODSPhenotypes/mods/\")\n",
    "from src.config import *\n",
    "from src.utils import *\n",
    "site_name = 'grady'\n",
    "sample_rate = 1"
   ]
  },
  {
   "cell_type": "code",
   "execution_count": 32,
   "metadata": {},
   "outputs": [],
   "source": [
    "from tqdm.auto import tqdm"
   ]
  },
  {
   "cell_type": "code",
   "execution_count": 6,
   "metadata": {},
   "outputs": [],
   "source": [
    "# import pandas as pd\n",
    "import pyarrow as pa\n",
    "import pyarrow.parquet as pq"
   ]
  },
  {
   "cell_type": "code",
   "execution_count": 8,
   "metadata": {},
   "outputs": [],
   "source": [
    "from src.extract_mods import find_pickle_paths, extraction, get_super_df, get_static_df, get_times_df"
   ]
  },
  {
   "cell_type": "markdown",
   "metadata": {},
   "source": [
    "## Debugging the grady extraction"
   ]
  },
  {
   "cell_type": "code",
   "execution_count": 9,
   "metadata": {},
   "outputs": [],
   "source": [
    "run_id = '2023_07_29'"
   ]
  },
  {
   "cell_type": "code",
   "execution_count": 10,
   "metadata": {},
   "outputs": [],
   "source": [
    "output_path = project_path / 'data' / str(run_id) / 'extraction' / site_name # / table_name  / year / file.parquet\n",
    "output_path.mkdir(parents=True, exist_ok=True)"
   ]
  },
  {
   "cell_type": "markdown",
   "metadata": {},
   "source": [
    "### static_df issue in grady"
   ]
  },
  {
   "cell_type": "code",
   "execution_count": 11,
   "metadata": {},
   "outputs": [
    {
     "name": "stderr",
     "output_type": "stream",
     "text": [
      "100%|██████████| 7/7 [00:02<00:00,  3.08it/s]\n"
     ]
    }
   ],
   "source": [
    "pickle_paths = find_pickle_paths(site_name, sample_rate)"
   ]
  },
  {
   "cell_type": "code",
   "execution_count": 27,
   "metadata": {},
   "outputs": [],
   "source": [
    "pickle_path = pickle_paths[234]"
   ]
  },
  {
   "cell_type": "code",
   "execution_count": 28,
   "metadata": {},
   "outputs": [],
   "source": [
    "encounter_pickle = load_pickle(pickle_path)"
   ]
  },
  {
   "cell_type": "code",
   "execution_count": 34,
   "metadata": {},
   "outputs": [],
   "source": [
    "from multiprocessing import Pool, Value\n",
    "counter = Value('i', 0)\n",
    "\n",
    "def check_csn(pickle_path):\n",
    "    \"\"\"\n",
    "    Unpickles the file at pickle_path and checks if the 'csn' key exists.\n",
    "    Increments the global counter if 'csn' key is not found.\n",
    "    \"\"\"\n",
    "    with open(pickle_path, 'rb') as f:\n",
    "        data = pickle.load(f)\n",
    "\n",
    "    # Check for the 'csn' key\n",
    "    if 'csn' not in data:\n",
    "        with counter.get_lock():  # Locking is necessary for safe updates\n",
    "            counter.value += 1\n",
    "    return None"
   ]
  },
  {
   "cell_type": "code",
   "execution_count": 35,
   "metadata": {},
   "outputs": [
    {
     "data": {
      "application/vnd.jupyter.widget-view+json": {
       "model_id": "b04f4e55f6b740ad96ed75109c3abca3",
       "version_major": 2,
       "version_minor": 0
      },
      "text/plain": [
       "  0%|          | 0/172561 [00:00<?, ?it/s]"
      ]
     },
     "metadata": {},
     "output_type": "display_data"
    }
   ],
   "source": [
    "with Pool(processes=num_cpus) as pool:\n",
    "    max_ = len(pickle_paths)\n",
    "    with tqdm(total=max_) as pbar:\n",
    "        for _ in pool.imap_unordered(func=check_csn, iterable=pickle_paths):\n",
    "            pbar.update()"
   ]
  },
  {
   "cell_type": "code",
   "execution_count": 29,
   "metadata": {},
   "outputs": [
    {
     "data": {
      "text/plain": [
       "{'csn': 1013356869,\n",
       " 'pat_id': 'Z1989113',\n",
       " 'cultures_PerCSN': Empty DataFrame\n",
       " Columns: [pat_id, proc_cat_id, proc_cat_name, proc_code, proc_desc, component_id, component, loinc_code, specimen_collect_time, order_time, order_id, result_id, lab_result_time, result_status, lab_result, culture_genus_c, culture_genus_description, culture_species_c, culture_species_description, culture_quantity_c, culture_quantity_description, organism_id, organism_description]\n",
       " Index: []\n",
       " \n",
       " [0 rows x 23 columns],\n",
       " 'beds_PerCSN':               pat_id  bed_location_start    bed_location_end       bed_unit  \\\n",
       " csn                                                                           \n",
       " 1013356869  Z1989113 2015-02-25 15:19:00 2015-02-25 16:54:00  GHS EMERGENCY   \n",
       " 1013356869  Z1989113 2015-02-25 16:54:00 2015-02-25 17:17:00  GHS EMERGENCY   \n",
       " 1013356869  Z1989113 2015-02-25 17:17:00 2015-02-25 17:44:00  GHS EMERGENCY   \n",
       " 1013356869  Z1989113 2015-02-25 17:44:00 2015-02-25 20:00:00  GHS EMERGENCY   \n",
       " 1013356869  Z1989113 2015-02-25 20:00:00 2015-02-26 01:21:00  GHS EMERGENCY   \n",
       " 1013356869  Z1989113 2015-02-26 01:21:00 2015-02-27 18:10:00         GHS 5B   \n",
       " \n",
       "                    bed_room  bed_id bed_label  hospital_service  \\\n",
       " csn                                                               \n",
       " 1013356869              RZC    5587       RZC  General Medicine   \n",
       " 1013356869              RZC    5722       RZC  General Medicine   \n",
       " 1013356869          Exam106     847       106  General Medicine   \n",
       " 1013356869  TraumaDischarge    4936      TRDC  General Medicine   \n",
       " 1013356869          Trauma9    4878      TR09  General Medicine   \n",
       " 1013356869             5B44    1568        01  General Medicine   \n",
       " \n",
       "             accomodation_code accomodation_description  icu  imc  ed  \\\n",
       " csn                                                                    \n",
       " 1013356869            10030.0        Semi-Private Room    0    0   1   \n",
       " 1013356869            10030.0        Semi-Private Room    0    0   1   \n",
       " 1013356869            10030.0        Semi-Private Room    0    0   1   \n",
       " 1013356869            10030.0        Semi-Private Room    0    0   1   \n",
       " 1013356869            10030.0        Semi-Private Room    0    0   1   \n",
       " 1013356869            10030.0        Semi-Private Room    0    1   0   \n",
       " \n",
       "             procedure  \n",
       " csn                    \n",
       " 1013356869          0  \n",
       " 1013356869          0  \n",
       " 1013356869          0  \n",
       " 1013356869          0  \n",
       " 1013356869          0  \n",
       " 1013356869          0  ,\n",
       " 'procedures_PerCSN': Empty DataFrame\n",
       " Columns: [pat_id, log_id, surgery_date, in_or_dttm, procedure_start_dttm, procedure_comp_dttm, out_or_dttm, or_proc_id, cpt_code, primary_procedure_nm, service_nm, primary_physician_nm, asa_rating_cd, asa_rating, wound_class_c, surgical_wound_class]\n",
       " Index: [],\n",
       " 'diagnosis_PerCSN':               pat_id  dx_line dx_icd_scope dx_code_icd9 dx_code_icd10  \\\n",
       " csn                                                                     \n",
       " 1013356869  Z1989113        1          NaN        85180           NaN   \n",
       " 1013356869  Z1989113        1          Yes        85180           NaN   \n",
       " \n",
       "                        dx_source        dx_time_date dx_code  \\\n",
       " csn                                                            \n",
       " 1013356869  ADMISSION DX (CODED) 2015-03-03 09:50:45  851.80   \n",
       " 1013356869       FINAL DIAGNOSES 2015-03-03 09:50:00  851.80   \n",
       " \n",
       "                                                       dx_name  \n",
       " csn                                                            \n",
       " 1013356869  Other and unspecified cerebral laceration and ...  \n",
       " 1013356869  Other and unspecified cerebral laceration and ...  ,\n",
       " 'flags': {'csn': 1013356869,\n",
       "  'pt_id': 'Z1989113',\n",
       "  'y_vent_rows': 0,\n",
       "  'y_vent_start_time': 0,\n",
       "  'y_vent_end_time': 0,\n",
       "  'vent_start_time': NaT,\n",
       "  'ed_wait_time': 19.0,\n",
       "  'worst_pf_pa': nan,\n",
       "  'worst_pf_pa_time': NaT,\n",
       "  'worst_pf_sp': nan,\n",
       "  'worst_pf_sp_time': NaT,\n",
       "  'first_sep2_susp': None,\n",
       "  'first_sep2_SIRS': None,\n",
       "  'first_sep2_time': None,\n",
       "  'first_sep3_susp': None,\n",
       "  'first_sep3_SOFA': None,\n",
       "  'first_sep3_time': None,\n",
       "  'first_sep3_susp_mod': None,\n",
       "  'first_sep3_SOFA_mod': None,\n",
       "  'first_sep3_time_mod': None},\n",
       " 'static_features': {'admit_reason': 'HEADACHE',\n",
       "  'ed_arrival_source': 'Self Referral',\n",
       "  'total_icu_days': nan,\n",
       "  'total_vent_days': nan,\n",
       "  'total_hosp_days': 2.0,\n",
       "  'discharge_status': 'Home or Self Care',\n",
       "  'discharge_to': nan,\n",
       "  'encounter_type': 'Inpatient',\n",
       "  'age': 26.0,\n",
       "  'gender': 'Female',\n",
       "  'gender_code': 1,\n",
       "  'race': 'Black or African American',\n",
       "  'race_code': 2.0,\n",
       "  'ethnicity': 'Non-Hispanic',\n",
       "  'ethnicity_code': 1.0},\n",
       " 'event_times': {'ed_presentation_time': Timestamp('2015-02-25 15:00:00'),\n",
       "  'hospital_admission_date_time': Timestamp('2015-02-25 15:19:00'),\n",
       "  'hospital_discharge_date_time': Timestamp('2015-02-27 18:10:00'),\n",
       "  'start_index': Timestamp('2015-02-25 15:00:00'),\n",
       "  'first_icu_start': None,\n",
       "  'first_icu_end': None},\n",
       " 'cultures_staging': Empty DataFrame\n",
       " Columns: [proc_code, proc_desc, component_id, component, loinc_code, specimen_collect_time, order_time, order_id, lab_result_time, result_status, lab_result]\n",
       " Index: [],\n",
       " 'abx_staging': Empty DataFrame\n",
       " Columns: [pat_id, har, mrn, study_id, order_med_id, medication_id, med_name, med_name_generic, med_order_status, med_order_time, med_action_time, med_start, med_stop, med_order_dose, med_order_route_c, med_order_route, med_order_dose_unit, med_frequency, med_action_code, med_action, med_action_dose, med_action_dose_unit, med_action_route_c, med_action_route, infusion_rate, infusion_rate_unit, therapeutic_class, pharmacy_class, pharmacy_subclass, super_table_col_name]\n",
       " Index: []\n",
       " \n",
       " [0 rows x 30 columns],\n",
       " 'labs_staging':                      anion_gap  base_excess  bicarb_(hco3)  \\\n",
       " 2015-02-25 15:00:00        NaN          NaN            NaN   \n",
       " 2015-02-25 16:00:00        NaN          NaN            NaN   \n",
       " 2015-02-25 17:00:00        6.0          NaN           25.0   \n",
       " 2015-02-25 18:00:00        NaN          NaN            NaN   \n",
       " 2015-02-25 19:00:00        NaN          NaN            NaN   \n",
       " 2015-02-25 20:00:00        NaN          NaN            NaN   \n",
       " 2015-02-25 21:00:00        NaN          NaN            NaN   \n",
       " 2015-02-25 22:00:00        NaN          NaN            NaN   \n",
       " 2015-02-25 23:00:00        NaN          NaN            NaN   \n",
       " 2015-02-26 00:00:00        NaN          NaN            NaN   \n",
       " 2015-02-26 01:00:00        NaN          NaN            NaN   \n",
       " 2015-02-26 02:00:00        NaN          NaN            NaN   \n",
       " 2015-02-26 03:00:00        8.0          NaN           24.0   \n",
       " 2015-02-26 04:00:00        NaN          NaN            NaN   \n",
       " 2015-02-26 05:00:00        NaN          NaN            NaN   \n",
       " 2015-02-26 06:00:00        NaN          NaN            NaN   \n",
       " 2015-02-26 07:00:00        NaN          NaN            NaN   \n",
       " 2015-02-26 08:00:00        NaN          NaN            NaN   \n",
       " 2015-02-26 09:00:00        NaN          NaN            NaN   \n",
       " 2015-02-26 10:00:00        NaN          NaN            NaN   \n",
       " 2015-02-26 11:00:00        NaN          NaN            NaN   \n",
       " 2015-02-26 12:00:00        NaN          NaN            NaN   \n",
       " 2015-02-26 13:00:00        NaN          NaN            NaN   \n",
       " 2015-02-26 14:00:00        NaN          NaN            NaN   \n",
       " 2015-02-26 15:00:00        NaN          NaN            NaN   \n",
       " 2015-02-26 16:00:00        NaN          NaN            NaN   \n",
       " 2015-02-26 17:00:00        NaN          NaN            NaN   \n",
       " 2015-02-26 18:00:00        NaN          NaN            NaN   \n",
       " 2015-02-26 19:00:00        NaN          NaN            NaN   \n",
       " 2015-02-26 20:00:00        NaN          NaN            NaN   \n",
       " 2015-02-26 21:00:00        NaN          NaN            NaN   \n",
       " 2015-02-26 22:00:00        NaN          NaN            NaN   \n",
       " 2015-02-26 23:00:00        NaN          NaN            NaN   \n",
       " 2015-02-27 00:00:00        7.0          NaN           28.0   \n",
       " 2015-02-27 01:00:00        NaN          NaN            NaN   \n",
       " 2015-02-27 02:00:00        NaN          NaN            NaN   \n",
       " 2015-02-27 03:00:00        NaN          NaN            NaN   \n",
       " 2015-02-27 04:00:00        NaN          NaN            NaN   \n",
       " 2015-02-27 05:00:00        NaN          NaN            NaN   \n",
       " 2015-02-27 06:00:00        NaN          NaN            NaN   \n",
       " 2015-02-27 07:00:00        NaN          NaN            NaN   \n",
       " 2015-02-27 08:00:00        NaN          NaN            NaN   \n",
       " 2015-02-27 09:00:00        NaN          NaN            NaN   \n",
       " 2015-02-27 10:00:00        NaN          NaN            NaN   \n",
       " 2015-02-27 11:00:00        NaN          NaN            NaN   \n",
       " 2015-02-27 12:00:00        NaN          NaN            NaN   \n",
       " 2015-02-27 13:00:00        NaN          NaN            NaN   \n",
       " 2015-02-27 14:00:00        NaN          NaN            NaN   \n",
       " 2015-02-27 15:00:00        NaN          NaN            NaN   \n",
       " 2015-02-27 16:00:00        NaN          NaN            NaN   \n",
       " 2015-02-27 17:00:00        NaN          NaN            NaN   \n",
       " 2015-02-27 18:00:00        NaN          NaN            NaN   \n",
       " \n",
       "                      blood_urea_nitrogen_(bun)  calcium  calcium_adjusted  \\\n",
       " 2015-02-25 15:00:00                        NaN      NaN               NaN   \n",
       " 2015-02-25 16:00:00                        NaN      NaN               NaN   \n",
       " 2015-02-25 17:00:00                        3.0      8.8               8.8   \n",
       " 2015-02-25 18:00:00                        NaN      NaN               NaN   \n",
       " 2015-02-25 19:00:00                        NaN      NaN               NaN   \n",
       " 2015-02-25 20:00:00                        NaN      NaN               NaN   \n",
       " 2015-02-25 21:00:00                        NaN      NaN               NaN   \n",
       " 2015-02-25 22:00:00                        NaN      NaN               NaN   \n",
       " 2015-02-25 23:00:00                        NaN      NaN               NaN   \n",
       " 2015-02-26 00:00:00                        NaN      NaN               NaN   \n",
       " 2015-02-26 01:00:00                        NaN      NaN               NaN   \n",
       " 2015-02-26 02:00:00                        NaN      NaN               NaN   \n",
       " 2015-02-26 03:00:00                        3.0      8.7               8.7   \n",
       " 2015-02-26 04:00:00                        NaN      NaN               NaN   \n",
       " 2015-02-26 05:00:00                        NaN      NaN               NaN   \n",
       " 2015-02-26 06:00:00                        NaN      NaN               NaN   \n",
       " 2015-02-26 07:00:00                        NaN      NaN               NaN   \n",
       " 2015-02-26 08:00:00                        NaN      NaN               NaN   \n",
       " 2015-02-26 09:00:00                        NaN      NaN               NaN   \n",
       " 2015-02-26 10:00:00                        NaN      NaN               NaN   \n",
       " 2015-02-26 11:00:00                        NaN      NaN               NaN   \n",
       " 2015-02-26 12:00:00                        NaN      NaN               NaN   \n",
       " 2015-02-26 13:00:00                        NaN      NaN               NaN   \n",
       " 2015-02-26 14:00:00                        NaN      NaN               NaN   \n",
       " 2015-02-26 15:00:00                        NaN      NaN               NaN   \n",
       " 2015-02-26 16:00:00                        NaN      NaN               NaN   \n",
       " 2015-02-26 17:00:00                        NaN      NaN               NaN   \n",
       " 2015-02-26 18:00:00                        NaN      NaN               NaN   \n",
       " 2015-02-26 19:00:00                        NaN      NaN               NaN   \n",
       " 2015-02-26 20:00:00                        NaN      NaN               NaN   \n",
       " 2015-02-26 21:00:00                        NaN      NaN               NaN   \n",
       " 2015-02-26 22:00:00                        NaN      NaN               NaN   \n",
       " 2015-02-26 23:00:00                        NaN      NaN               NaN   \n",
       " 2015-02-27 00:00:00                        4.0      9.2               9.2   \n",
       " 2015-02-27 01:00:00                        NaN      NaN               NaN   \n",
       " 2015-02-27 02:00:00                        NaN      NaN               NaN   \n",
       " 2015-02-27 03:00:00                        NaN      NaN               NaN   \n",
       " 2015-02-27 04:00:00                        NaN      NaN               NaN   \n",
       " 2015-02-27 05:00:00                        NaN      NaN               NaN   \n",
       " 2015-02-27 06:00:00                        NaN      NaN               NaN   \n",
       " 2015-02-27 07:00:00                        NaN      NaN               NaN   \n",
       " 2015-02-27 08:00:00                        NaN      NaN               NaN   \n",
       " 2015-02-27 09:00:00                        NaN      NaN               NaN   \n",
       " 2015-02-27 10:00:00                        NaN      NaN               NaN   \n",
       " 2015-02-27 11:00:00                        NaN      NaN               NaN   \n",
       " 2015-02-27 12:00:00                        NaN      NaN               NaN   \n",
       " 2015-02-27 13:00:00                        NaN      NaN               NaN   \n",
       " 2015-02-27 14:00:00                        NaN      NaN               NaN   \n",
       " 2015-02-27 15:00:00                        NaN      NaN               NaN   \n",
       " 2015-02-27 16:00:00                        NaN      NaN               NaN   \n",
       " 2015-02-27 17:00:00                        NaN      NaN               NaN   \n",
       " 2015-02-27 18:00:00                        NaN      NaN               NaN   \n",
       " \n",
       "                      calcium_ionized  chloride  creatinine   gfr  ...  \\\n",
       " 2015-02-25 15:00:00              NaN       NaN         NaN   NaN  ...   \n",
       " 2015-02-25 16:00:00              NaN       NaN         NaN   NaN  ...   \n",
       " 2015-02-25 17:00:00              NaN     102.0         0.5  60.0  ...   \n",
       " 2015-02-25 18:00:00              NaN       NaN         NaN   NaN  ...   \n",
       " 2015-02-25 19:00:00              NaN       NaN         NaN   NaN  ...   \n",
       " 2015-02-25 20:00:00              NaN       NaN         NaN   NaN  ...   \n",
       " 2015-02-25 21:00:00              NaN       NaN         NaN   NaN  ...   \n",
       " 2015-02-25 22:00:00              NaN       NaN         NaN   NaN  ...   \n",
       " 2015-02-25 23:00:00              NaN       NaN         NaN   NaN  ...   \n",
       " 2015-02-26 00:00:00              NaN       NaN         NaN   NaN  ...   \n",
       " 2015-02-26 01:00:00              NaN       NaN         NaN   NaN  ...   \n",
       " 2015-02-26 02:00:00              NaN       NaN         NaN   NaN  ...   \n",
       " 2015-02-26 03:00:00              NaN     105.0         0.5  60.0  ...   \n",
       " 2015-02-26 04:00:00              NaN       NaN         NaN   NaN  ...   \n",
       " 2015-02-26 05:00:00              NaN       NaN         NaN   NaN  ...   \n",
       " 2015-02-26 06:00:00              NaN       NaN         NaN   NaN  ...   \n",
       " 2015-02-26 07:00:00              NaN       NaN         NaN   NaN  ...   \n",
       " 2015-02-26 08:00:00              NaN       NaN         NaN   NaN  ...   \n",
       " 2015-02-26 09:00:00              NaN       NaN         NaN   NaN  ...   \n",
       " 2015-02-26 10:00:00              NaN       NaN         NaN   NaN  ...   \n",
       " 2015-02-26 11:00:00              NaN       NaN         NaN   NaN  ...   \n",
       " 2015-02-26 12:00:00              NaN       NaN         NaN   NaN  ...   \n",
       " 2015-02-26 13:00:00              NaN       NaN         NaN   NaN  ...   \n",
       " 2015-02-26 14:00:00              NaN       NaN         NaN   NaN  ...   \n",
       " 2015-02-26 15:00:00              NaN       NaN         NaN   NaN  ...   \n",
       " 2015-02-26 16:00:00              NaN       NaN         NaN   NaN  ...   \n",
       " 2015-02-26 17:00:00              NaN       NaN         NaN   NaN  ...   \n",
       " 2015-02-26 18:00:00              NaN       NaN         NaN   NaN  ...   \n",
       " 2015-02-26 19:00:00              NaN       NaN         NaN   NaN  ...   \n",
       " 2015-02-26 20:00:00              NaN       NaN         NaN   NaN  ...   \n",
       " 2015-02-26 21:00:00              NaN       NaN         NaN   NaN  ...   \n",
       " 2015-02-26 22:00:00              NaN       NaN         NaN   NaN  ...   \n",
       " 2015-02-26 23:00:00              NaN       NaN         NaN   NaN  ...   \n",
       " 2015-02-27 00:00:00              NaN     106.0         0.6  60.0  ...   \n",
       " 2015-02-27 01:00:00              NaN       NaN         NaN   NaN  ...   \n",
       " 2015-02-27 02:00:00              NaN       NaN         NaN   NaN  ...   \n",
       " 2015-02-27 03:00:00              NaN       NaN         NaN   NaN  ...   \n",
       " 2015-02-27 04:00:00              NaN       NaN         NaN   NaN  ...   \n",
       " 2015-02-27 05:00:00              NaN       NaN         NaN   NaN  ...   \n",
       " 2015-02-27 06:00:00              NaN       NaN         NaN   NaN  ...   \n",
       " 2015-02-27 07:00:00              NaN       NaN         NaN   NaN  ...   \n",
       " 2015-02-27 08:00:00              NaN       NaN         NaN   NaN  ...   \n",
       " 2015-02-27 09:00:00              NaN       NaN         NaN   NaN  ...   \n",
       " 2015-02-27 10:00:00              NaN       NaN         NaN   NaN  ...   \n",
       " 2015-02-27 11:00:00              NaN       NaN         NaN   NaN  ...   \n",
       " 2015-02-27 12:00:00              NaN       NaN         NaN   NaN  ...   \n",
       " 2015-02-27 13:00:00              NaN       NaN         NaN   NaN  ...   \n",
       " 2015-02-27 14:00:00              NaN       NaN         NaN   NaN  ...   \n",
       " 2015-02-27 15:00:00              NaN       NaN         NaN   NaN  ...   \n",
       " 2015-02-27 16:00:00              NaN       NaN         NaN   NaN  ...   \n",
       " 2015-02-27 17:00:00              NaN       NaN         NaN   NaN  ...   \n",
       " 2015-02-27 18:00:00              NaN       NaN         NaN   NaN  ...   \n",
       " \n",
       "                      d_dimer  hemoglobin_a1c  parathyroid_level  \\\n",
       " 2015-02-25 15:00:00      NaN             NaN                NaN   \n",
       " 2015-02-25 16:00:00      NaN             NaN                NaN   \n",
       " 2015-02-25 17:00:00      NaN             NaN                NaN   \n",
       " 2015-02-25 18:00:00      NaN             NaN                NaN   \n",
       " 2015-02-25 19:00:00      NaN             NaN                NaN   \n",
       " 2015-02-25 20:00:00      NaN             NaN                NaN   \n",
       " 2015-02-25 21:00:00      NaN             NaN                NaN   \n",
       " 2015-02-25 22:00:00      NaN             NaN                NaN   \n",
       " 2015-02-25 23:00:00      NaN             NaN                NaN   \n",
       " 2015-02-26 00:00:00      NaN             NaN                NaN   \n",
       " 2015-02-26 01:00:00      NaN             NaN                NaN   \n",
       " 2015-02-26 02:00:00      NaN             NaN                NaN   \n",
       " 2015-02-26 03:00:00      NaN             NaN                NaN   \n",
       " 2015-02-26 04:00:00      NaN             NaN                NaN   \n",
       " 2015-02-26 05:00:00      NaN             NaN                NaN   \n",
       " 2015-02-26 06:00:00      NaN             NaN                NaN   \n",
       " 2015-02-26 07:00:00      NaN             NaN                NaN   \n",
       " 2015-02-26 08:00:00      NaN             NaN                NaN   \n",
       " 2015-02-26 09:00:00      NaN             NaN                NaN   \n",
       " 2015-02-26 10:00:00      NaN             NaN                NaN   \n",
       " 2015-02-26 11:00:00      NaN             NaN                NaN   \n",
       " 2015-02-26 12:00:00      NaN             NaN                NaN   \n",
       " 2015-02-26 13:00:00      NaN             NaN                NaN   \n",
       " 2015-02-26 14:00:00      NaN             NaN                NaN   \n",
       " 2015-02-26 15:00:00      NaN             NaN                NaN   \n",
       " 2015-02-26 16:00:00      NaN             NaN                NaN   \n",
       " 2015-02-26 17:00:00      NaN             NaN                NaN   \n",
       " 2015-02-26 18:00:00      NaN             NaN                NaN   \n",
       " 2015-02-26 19:00:00      NaN             NaN                NaN   \n",
       " 2015-02-26 20:00:00      NaN             NaN                NaN   \n",
       " 2015-02-26 21:00:00      NaN             NaN                NaN   \n",
       " 2015-02-26 22:00:00      NaN             NaN                NaN   \n",
       " 2015-02-26 23:00:00      NaN             NaN                NaN   \n",
       " 2015-02-27 00:00:00      NaN             NaN                NaN   \n",
       " 2015-02-27 01:00:00      NaN             NaN                NaN   \n",
       " 2015-02-27 02:00:00      NaN             NaN                NaN   \n",
       " 2015-02-27 03:00:00      NaN             NaN                NaN   \n",
       " 2015-02-27 04:00:00      NaN             NaN                NaN   \n",
       " 2015-02-27 05:00:00      NaN             NaN                NaN   \n",
       " 2015-02-27 06:00:00      NaN             NaN                NaN   \n",
       " 2015-02-27 07:00:00      NaN             NaN                NaN   \n",
       " 2015-02-27 08:00:00      NaN             NaN                NaN   \n",
       " 2015-02-27 09:00:00      NaN             NaN                NaN   \n",
       " 2015-02-27 10:00:00      NaN             NaN                NaN   \n",
       " 2015-02-27 11:00:00      NaN             NaN                NaN   \n",
       " 2015-02-27 12:00:00      NaN             NaN                NaN   \n",
       " 2015-02-27 13:00:00      NaN             NaN                NaN   \n",
       " 2015-02-27 14:00:00      NaN             NaN                NaN   \n",
       " 2015-02-27 15:00:00      NaN             NaN                NaN   \n",
       " 2015-02-27 16:00:00      NaN             NaN                NaN   \n",
       " 2015-02-27 17:00:00      NaN             NaN                NaN   \n",
       " 2015-02-27 18:00:00      NaN             NaN                NaN   \n",
       " \n",
       "                      thyroid_stimulating_hormone_(tsh)  crp_high_sens  \\\n",
       " 2015-02-25 15:00:00                                NaN            NaN   \n",
       " 2015-02-25 16:00:00                                NaN            NaN   \n",
       " 2015-02-25 17:00:00                                NaN            NaN   \n",
       " 2015-02-25 18:00:00                                NaN            NaN   \n",
       " 2015-02-25 19:00:00                                NaN            NaN   \n",
       " 2015-02-25 20:00:00                                NaN            NaN   \n",
       " 2015-02-25 21:00:00                                NaN            NaN   \n",
       " 2015-02-25 22:00:00                                NaN            NaN   \n",
       " 2015-02-25 23:00:00                                NaN            NaN   \n",
       " 2015-02-26 00:00:00                                NaN            NaN   \n",
       " 2015-02-26 01:00:00                                NaN            NaN   \n",
       " 2015-02-26 02:00:00                                NaN            NaN   \n",
       " 2015-02-26 03:00:00                                NaN            NaN   \n",
       " 2015-02-26 04:00:00                                NaN            NaN   \n",
       " 2015-02-26 05:00:00                                NaN            NaN   \n",
       " 2015-02-26 06:00:00                                NaN            NaN   \n",
       " 2015-02-26 07:00:00                                NaN            NaN   \n",
       " 2015-02-26 08:00:00                                NaN            NaN   \n",
       " 2015-02-26 09:00:00                                NaN            NaN   \n",
       " 2015-02-26 10:00:00                                NaN            NaN   \n",
       " 2015-02-26 11:00:00                                NaN            NaN   \n",
       " 2015-02-26 12:00:00                                NaN            NaN   \n",
       " 2015-02-26 13:00:00                                NaN            NaN   \n",
       " 2015-02-26 14:00:00                                NaN            NaN   \n",
       " 2015-02-26 15:00:00                                NaN            NaN   \n",
       " 2015-02-26 16:00:00                                NaN            NaN   \n",
       " 2015-02-26 17:00:00                                NaN            NaN   \n",
       " 2015-02-26 18:00:00                                NaN            NaN   \n",
       " 2015-02-26 19:00:00                                NaN            NaN   \n",
       " 2015-02-26 20:00:00                                NaN            NaN   \n",
       " 2015-02-26 21:00:00                                NaN            NaN   \n",
       " 2015-02-26 22:00:00                                NaN            NaN   \n",
       " 2015-02-26 23:00:00                                NaN            NaN   \n",
       " 2015-02-27 00:00:00                                NaN            NaN   \n",
       " 2015-02-27 01:00:00                                NaN            NaN   \n",
       " 2015-02-27 02:00:00                                NaN            NaN   \n",
       " 2015-02-27 03:00:00                                NaN            NaN   \n",
       " 2015-02-27 04:00:00                                NaN            NaN   \n",
       " 2015-02-27 05:00:00                                NaN            NaN   \n",
       " 2015-02-27 06:00:00                                NaN            NaN   \n",
       " 2015-02-27 07:00:00                                NaN            NaN   \n",
       " 2015-02-27 08:00:00                                NaN            NaN   \n",
       " 2015-02-27 09:00:00                                NaN            NaN   \n",
       " 2015-02-27 10:00:00                                NaN            NaN   \n",
       " 2015-02-27 11:00:00                                NaN            NaN   \n",
       " 2015-02-27 12:00:00                                NaN            NaN   \n",
       " 2015-02-27 13:00:00                                NaN            NaN   \n",
       " 2015-02-27 14:00:00                                NaN            NaN   \n",
       " 2015-02-27 15:00:00                                NaN            NaN   \n",
       " 2015-02-27 16:00:00                                NaN            NaN   \n",
       " 2015-02-27 17:00:00                                NaN            NaN   \n",
       " 2015-02-27 18:00:00                                NaN            NaN   \n",
       " \n",
       "                      procalcitonin  erythrocyte_sedimentation_rate_(esr)  \\\n",
       " 2015-02-25 15:00:00            NaN                                   NaN   \n",
       " 2015-02-25 16:00:00            NaN                                   NaN   \n",
       " 2015-02-25 17:00:00            NaN                                   NaN   \n",
       " 2015-02-25 18:00:00            NaN                                   NaN   \n",
       " 2015-02-25 19:00:00            NaN                                   NaN   \n",
       " 2015-02-25 20:00:00            NaN                                   NaN   \n",
       " 2015-02-25 21:00:00            NaN                                   NaN   \n",
       " 2015-02-25 22:00:00            NaN                                   NaN   \n",
       " 2015-02-25 23:00:00            NaN                                   NaN   \n",
       " 2015-02-26 00:00:00            NaN                                   NaN   \n",
       " 2015-02-26 01:00:00            NaN                                   NaN   \n",
       " 2015-02-26 02:00:00            NaN                                   NaN   \n",
       " 2015-02-26 03:00:00            NaN                                   NaN   \n",
       " 2015-02-26 04:00:00            NaN                                   NaN   \n",
       " 2015-02-26 05:00:00            NaN                                   NaN   \n",
       " 2015-02-26 06:00:00            NaN                                   NaN   \n",
       " 2015-02-26 07:00:00            NaN                                   NaN   \n",
       " 2015-02-26 08:00:00            NaN                                   NaN   \n",
       " 2015-02-26 09:00:00            NaN                                   NaN   \n",
       " 2015-02-26 10:00:00            NaN                                   NaN   \n",
       " 2015-02-26 11:00:00            NaN                                   NaN   \n",
       " 2015-02-26 12:00:00            NaN                                   NaN   \n",
       " 2015-02-26 13:00:00            NaN                                   NaN   \n",
       " 2015-02-26 14:00:00            NaN                                   NaN   \n",
       " 2015-02-26 15:00:00            NaN                                   NaN   \n",
       " 2015-02-26 16:00:00            NaN                                   NaN   \n",
       " 2015-02-26 17:00:00            NaN                                   NaN   \n",
       " 2015-02-26 18:00:00            NaN                                   NaN   \n",
       " 2015-02-26 19:00:00            NaN                                   NaN   \n",
       " 2015-02-26 20:00:00            NaN                                   NaN   \n",
       " 2015-02-26 21:00:00            NaN                                   NaN   \n",
       " 2015-02-26 22:00:00            NaN                                   NaN   \n",
       " 2015-02-26 23:00:00            NaN                                   NaN   \n",
       " 2015-02-27 00:00:00            NaN                                   NaN   \n",
       " 2015-02-27 01:00:00            NaN                                   NaN   \n",
       " 2015-02-27 02:00:00            NaN                                   NaN   \n",
       " 2015-02-27 03:00:00            NaN                                   NaN   \n",
       " 2015-02-27 04:00:00            NaN                                   NaN   \n",
       " 2015-02-27 05:00:00            NaN                                   NaN   \n",
       " 2015-02-27 06:00:00            NaN                                   NaN   \n",
       " 2015-02-27 07:00:00            NaN                                   NaN   \n",
       " 2015-02-27 08:00:00            NaN                                   NaN   \n",
       " 2015-02-27 09:00:00            NaN                                   NaN   \n",
       " 2015-02-27 10:00:00            NaN                                   NaN   \n",
       " 2015-02-27 11:00:00            NaN                                   NaN   \n",
       " 2015-02-27 12:00:00            NaN                                   NaN   \n",
       " 2015-02-27 13:00:00            NaN                                   NaN   \n",
       " 2015-02-27 14:00:00            NaN                                   NaN   \n",
       " 2015-02-27 15:00:00            NaN                                   NaN   \n",
       " 2015-02-27 16:00:00            NaN                                   NaN   \n",
       " 2015-02-27 17:00:00            NaN                                   NaN   \n",
       " 2015-02-27 18:00:00            NaN                                   NaN   \n",
       " \n",
       "                      c_diff  covid  mtp  \n",
       " 2015-02-25 15:00:00     NaN    NaN  NaN  \n",
       " 2015-02-25 16:00:00     NaN    NaN  NaN  \n",
       " 2015-02-25 17:00:00    None    NaN  NaN  \n",
       " 2015-02-25 18:00:00    None    NaN  NaN  \n",
       " 2015-02-25 19:00:00    None    NaN  NaN  \n",
       " 2015-02-25 20:00:00    None    NaN  NaN  \n",
       " 2015-02-25 21:00:00    None    NaN  NaN  \n",
       " 2015-02-25 22:00:00    None    NaN  NaN  \n",
       " 2015-02-25 23:00:00    None    NaN  NaN  \n",
       " 2015-02-26 00:00:00    None    NaN  NaN  \n",
       " 2015-02-26 01:00:00    None    NaN  NaN  \n",
       " 2015-02-26 02:00:00    None    NaN  NaN  \n",
       " 2015-02-26 03:00:00    None    NaN  NaN  \n",
       " 2015-02-26 04:00:00    None    NaN  NaN  \n",
       " 2015-02-26 05:00:00    None    NaN  NaN  \n",
       " 2015-02-26 06:00:00    None    NaN  NaN  \n",
       " 2015-02-26 07:00:00    None    NaN  NaN  \n",
       " 2015-02-26 08:00:00    None    NaN  NaN  \n",
       " 2015-02-26 09:00:00    None    NaN  NaN  \n",
       " 2015-02-26 10:00:00    None    NaN  NaN  \n",
       " 2015-02-26 11:00:00    None    NaN  NaN  \n",
       " 2015-02-26 12:00:00    None    NaN  NaN  \n",
       " 2015-02-26 13:00:00    None    NaN  NaN  \n",
       " 2015-02-26 14:00:00    None    NaN  NaN  \n",
       " 2015-02-26 15:00:00    None    NaN  NaN  \n",
       " 2015-02-26 16:00:00    None    NaN  NaN  \n",
       " 2015-02-26 17:00:00    None    NaN  NaN  \n",
       " 2015-02-26 18:00:00    None    NaN  NaN  \n",
       " 2015-02-26 19:00:00    None    NaN  NaN  \n",
       " 2015-02-26 20:00:00    None    NaN  NaN  \n",
       " 2015-02-26 21:00:00    None    NaN  NaN  \n",
       " 2015-02-26 22:00:00    None    NaN  NaN  \n",
       " 2015-02-26 23:00:00    None    NaN  NaN  \n",
       " 2015-02-27 00:00:00    None    NaN  NaN  \n",
       " 2015-02-27 01:00:00     NaN    NaN  NaN  \n",
       " 2015-02-27 02:00:00     NaN    NaN  NaN  \n",
       " 2015-02-27 03:00:00     NaN    NaN  NaN  \n",
       " 2015-02-27 04:00:00     NaN    NaN  NaN  \n",
       " 2015-02-27 05:00:00     NaN    NaN  NaN  \n",
       " 2015-02-27 06:00:00     NaN    NaN  NaN  \n",
       " 2015-02-27 07:00:00     NaN    NaN  NaN  \n",
       " 2015-02-27 08:00:00     NaN    NaN  NaN  \n",
       " 2015-02-27 09:00:00     NaN    NaN  NaN  \n",
       " 2015-02-27 10:00:00     NaN    NaN  NaN  \n",
       " 2015-02-27 11:00:00     NaN    NaN  NaN  \n",
       " 2015-02-27 12:00:00     NaN    NaN  NaN  \n",
       " 2015-02-27 13:00:00     NaN    NaN  NaN  \n",
       " 2015-02-27 14:00:00     NaN    NaN  NaN  \n",
       " 2015-02-27 15:00:00     NaN    NaN  NaN  \n",
       " 2015-02-27 16:00:00     NaN    NaN  NaN  \n",
       " 2015-02-27 17:00:00     NaN    NaN  NaN  \n",
       " 2015-02-27 18:00:00     NaN    NaN  NaN  \n",
       " \n",
       " [52 rows x 59 columns],\n",
       " 'vitals_staging':                      temperature  daily_weight_kg  height_cm  sbp_line  \\\n",
       " 2015-02-25 15:00:00         98.2              NaN        NaN       NaN   \n",
       " 2015-02-25 16:00:00          NaN              NaN        NaN       NaN   \n",
       " 2015-02-25 17:00:00          NaN              NaN        NaN       NaN   \n",
       " 2015-02-25 18:00:00          NaN              NaN        NaN       NaN   \n",
       " 2015-02-25 19:00:00          NaN              NaN        NaN       NaN   \n",
       " 2015-02-25 20:00:00          NaN              NaN        NaN       NaN   \n",
       " 2015-02-25 21:00:00         97.3              NaN        NaN       NaN   \n",
       " 2015-02-25 22:00:00          NaN              NaN        NaN       NaN   \n",
       " 2015-02-25 23:00:00          NaN              NaN        NaN       NaN   \n",
       " 2015-02-26 00:00:00          NaN              NaN        NaN       NaN   \n",
       " 2015-02-26 01:00:00         98.4              NaN        NaN       NaN   \n",
       " 2015-02-26 02:00:00          NaN              NaN        NaN       NaN   \n",
       " 2015-02-26 03:00:00         97.7              NaN        NaN       NaN   \n",
       " 2015-02-26 04:00:00          NaN              NaN        NaN       NaN   \n",
       " 2015-02-26 05:00:00          NaN             44.5        NaN       NaN   \n",
       " 2015-02-26 06:00:00          NaN              NaN        NaN       NaN   \n",
       " 2015-02-26 07:00:00          NaN              NaN        NaN       NaN   \n",
       " 2015-02-26 08:00:00         97.5              NaN        NaN       NaN   \n",
       " 2015-02-26 09:00:00          NaN              NaN        NaN       NaN   \n",
       " 2015-02-26 10:00:00          NaN              NaN        NaN       NaN   \n",
       " 2015-02-26 11:00:00          NaN              NaN        NaN       NaN   \n",
       " 2015-02-26 12:00:00          NaN              NaN        NaN       NaN   \n",
       " 2015-02-26 13:00:00          NaN              NaN        NaN       NaN   \n",
       " 2015-02-26 14:00:00          NaN              NaN        NaN       NaN   \n",
       " 2015-02-26 15:00:00         98.4              NaN        NaN       NaN   \n",
       " 2015-02-26 16:00:00          NaN              NaN        NaN       NaN   \n",
       " 2015-02-26 17:00:00          NaN              NaN        NaN       NaN   \n",
       " 2015-02-26 18:00:00          NaN              NaN        NaN       NaN   \n",
       " 2015-02-26 19:00:00         96.7              NaN        NaN       NaN   \n",
       " 2015-02-26 20:00:00          NaN              NaN        NaN       NaN   \n",
       " 2015-02-26 21:00:00          NaN              NaN        NaN       NaN   \n",
       " 2015-02-26 22:00:00          NaN              NaN        NaN       NaN   \n",
       " 2015-02-26 23:00:00          NaN              NaN        NaN       NaN   \n",
       " 2015-02-27 00:00:00          NaN              NaN        NaN       NaN   \n",
       " 2015-02-27 01:00:00          NaN              NaN        NaN       NaN   \n",
       " 2015-02-27 02:00:00          NaN              NaN        NaN       NaN   \n",
       " 2015-02-27 03:00:00         98.2              NaN        NaN       NaN   \n",
       " 2015-02-27 04:00:00          NaN              NaN        NaN       NaN   \n",
       " 2015-02-27 05:00:00          NaN              NaN        NaN       NaN   \n",
       " 2015-02-27 06:00:00          NaN              NaN        NaN       NaN   \n",
       " 2015-02-27 07:00:00          NaN              NaN        NaN       NaN   \n",
       " 2015-02-27 08:00:00         97.7              NaN        NaN       NaN   \n",
       " 2015-02-27 09:00:00          NaN              NaN        NaN       NaN   \n",
       " 2015-02-27 10:00:00          NaN              NaN        NaN       NaN   \n",
       " 2015-02-27 11:00:00          NaN              NaN        NaN       NaN   \n",
       " 2015-02-27 12:00:00          NaN              NaN        NaN       NaN   \n",
       " 2015-02-27 13:00:00          NaN              NaN        NaN       NaN   \n",
       " 2015-02-27 14:00:00          NaN              NaN        NaN       NaN   \n",
       " 2015-02-27 15:00:00          NaN              NaN        NaN       NaN   \n",
       " 2015-02-27 16:00:00          NaN              NaN        NaN       NaN   \n",
       " 2015-02-27 17:00:00          NaN              NaN        NaN       NaN   \n",
       " 2015-02-27 18:00:00          NaN              NaN        NaN       NaN   \n",
       " \n",
       "                      dbp_line  map_line  sbp_cuff  dbp_cuff  map_cuff  pulse  \\\n",
       " 2015-02-25 15:00:00       NaN       NaN     122.0      84.0      92.0   82.0   \n",
       " 2015-02-25 16:00:00       NaN       NaN       NaN       NaN       NaN    NaN   \n",
       " 2015-02-25 17:00:00       NaN       NaN       NaN       NaN       NaN    NaN   \n",
       " 2015-02-25 18:00:00       NaN       NaN       NaN       NaN       NaN    NaN   \n",
       " 2015-02-25 19:00:00       NaN       NaN       NaN       NaN       NaN    NaN   \n",
       " 2015-02-25 20:00:00       NaN       NaN       NaN       NaN       NaN    NaN   \n",
       " 2015-02-25 21:00:00       NaN       NaN     114.0      76.0      84.0   80.0   \n",
       " 2015-02-25 22:00:00       NaN       NaN       NaN       NaN       NaN    NaN   \n",
       " 2015-02-25 23:00:00       NaN       NaN       NaN       NaN       NaN    NaN   \n",
       " 2015-02-26 00:00:00       NaN       NaN       NaN       NaN       NaN    NaN   \n",
       " 2015-02-26 01:00:00       NaN       NaN      98.0      59.0      74.0   64.0   \n",
       " 2015-02-26 02:00:00       NaN       NaN       NaN       NaN       NaN    NaN   \n",
       " 2015-02-26 03:00:00       NaN       NaN      96.0      56.0      61.0   68.0   \n",
       " 2015-02-26 04:00:00       NaN       NaN       NaN       NaN       NaN    NaN   \n",
       " 2015-02-26 05:00:00       NaN       NaN       NaN       NaN       NaN    NaN   \n",
       " 2015-02-26 06:00:00       NaN       NaN       NaN       NaN       NaN    NaN   \n",
       " 2015-02-26 07:00:00       NaN       NaN       NaN       NaN       NaN    NaN   \n",
       " 2015-02-26 08:00:00       NaN       NaN     120.0      78.0       NaN   65.0   \n",
       " 2015-02-26 09:00:00       NaN       NaN       NaN       NaN       NaN    NaN   \n",
       " 2015-02-26 10:00:00       NaN       NaN       NaN       NaN       NaN    NaN   \n",
       " 2015-02-26 11:00:00       NaN       NaN       NaN       NaN       NaN    NaN   \n",
       " 2015-02-26 12:00:00       NaN       NaN       NaN       NaN       NaN    NaN   \n",
       " 2015-02-26 13:00:00       NaN       NaN       NaN       NaN       NaN    NaN   \n",
       " 2015-02-26 14:00:00       NaN       NaN       NaN       NaN       NaN    NaN   \n",
       " 2015-02-26 15:00:00       NaN       NaN      98.0      59.0      75.0    NaN   \n",
       " 2015-02-26 16:00:00       NaN       NaN       NaN       NaN       NaN    NaN   \n",
       " 2015-02-26 17:00:00       NaN       NaN       NaN       NaN       NaN    NaN   \n",
       " 2015-02-26 18:00:00       NaN       NaN       NaN       NaN       NaN    NaN   \n",
       " 2015-02-26 19:00:00       NaN       NaN     101.0      74.0      85.0   90.0   \n",
       " 2015-02-26 20:00:00       NaN       NaN       NaN       NaN       NaN    NaN   \n",
       " 2015-02-26 21:00:00       NaN       NaN       NaN       NaN       NaN    NaN   \n",
       " 2015-02-26 22:00:00       NaN       NaN       NaN       NaN       NaN    NaN   \n",
       " 2015-02-26 23:00:00       NaN       NaN       NaN       NaN       NaN    NaN   \n",
       " 2015-02-27 00:00:00       NaN       NaN       NaN       NaN       NaN    NaN   \n",
       " 2015-02-27 01:00:00       NaN       NaN       NaN       NaN       NaN    NaN   \n",
       " 2015-02-27 02:00:00       NaN       NaN       NaN       NaN       NaN    NaN   \n",
       " 2015-02-27 03:00:00       NaN       NaN     111.0      72.0      89.0   71.0   \n",
       " 2015-02-27 04:00:00       NaN       NaN       NaN       NaN       NaN    NaN   \n",
       " 2015-02-27 05:00:00       NaN       NaN       NaN       NaN       NaN    NaN   \n",
       " 2015-02-27 06:00:00       NaN       NaN       NaN       NaN       NaN    NaN   \n",
       " 2015-02-27 07:00:00       NaN       NaN       NaN       NaN       NaN    NaN   \n",
       " 2015-02-27 08:00:00       NaN       NaN      98.0      56.0       NaN    8.0   \n",
       " 2015-02-27 09:00:00       NaN       NaN       NaN       NaN       NaN    NaN   \n",
       " 2015-02-27 10:00:00       NaN       NaN       NaN       NaN       NaN    NaN   \n",
       " 2015-02-27 11:00:00       NaN       NaN       NaN       NaN       NaN    NaN   \n",
       " 2015-02-27 12:00:00       NaN       NaN       NaN       NaN       NaN    NaN   \n",
       " 2015-02-27 13:00:00       NaN       NaN       NaN       NaN       NaN    NaN   \n",
       " 2015-02-27 14:00:00       NaN       NaN       NaN       NaN       NaN    NaN   \n",
       " 2015-02-27 15:00:00       NaN       NaN       NaN       NaN       NaN    NaN   \n",
       " 2015-02-27 16:00:00       NaN       NaN       NaN       NaN       NaN    NaN   \n",
       " 2015-02-27 17:00:00       NaN       NaN       NaN       NaN       NaN    NaN   \n",
       " 2015-02-27 18:00:00       NaN       NaN       NaN       NaN       NaN    NaN   \n",
       " \n",
       "                      unassisted_resp_rate   spo2  o2_flow_rate  end_tidal_co2  \n",
       " 2015-02-25 15:00:00                  18.0  100.0           NaN            NaN  \n",
       " 2015-02-25 16:00:00                   NaN    NaN           NaN            NaN  \n",
       " 2015-02-25 17:00:00                   NaN    NaN           NaN            NaN  \n",
       " 2015-02-25 18:00:00                   NaN    NaN           NaN            NaN  \n",
       " 2015-02-25 19:00:00                   NaN    NaN           NaN            NaN  \n",
       " 2015-02-25 20:00:00                   NaN    NaN           NaN            NaN  \n",
       " 2015-02-25 21:00:00                  15.0  100.0           NaN            NaN  \n",
       " 2015-02-25 22:00:00                   NaN    NaN           NaN            NaN  \n",
       " 2015-02-25 23:00:00                   NaN    NaN           NaN            NaN  \n",
       " 2015-02-26 00:00:00                   NaN    NaN           NaN            NaN  \n",
       " 2015-02-26 01:00:00                  16.0   98.0           NaN            NaN  \n",
       " 2015-02-26 02:00:00                   NaN    NaN           NaN            NaN  \n",
       " 2015-02-26 03:00:00                  15.0   97.0           NaN            NaN  \n",
       " 2015-02-26 04:00:00                   NaN    NaN           NaN            NaN  \n",
       " 2015-02-26 05:00:00                   NaN    NaN           NaN            NaN  \n",
       " 2015-02-26 06:00:00                   NaN    NaN           NaN            NaN  \n",
       " 2015-02-26 07:00:00                   NaN    NaN           NaN            NaN  \n",
       " 2015-02-26 08:00:00                  16.0   98.0           NaN            NaN  \n",
       " 2015-02-26 09:00:00                   NaN    NaN           NaN            NaN  \n",
       " 2015-02-26 10:00:00                   NaN    NaN           NaN            NaN  \n",
       " 2015-02-26 11:00:00                   NaN    NaN           NaN            NaN  \n",
       " 2015-02-26 12:00:00                   NaN    NaN           NaN            NaN  \n",
       " 2015-02-26 13:00:00                   NaN    NaN           NaN            NaN  \n",
       " 2015-02-26 14:00:00                   NaN    NaN           NaN            NaN  \n",
       " 2015-02-26 15:00:00                  16.0   99.0           NaN            NaN  \n",
       " 2015-02-26 16:00:00                   NaN    NaN           NaN            NaN  \n",
       " 2015-02-26 17:00:00                   NaN    NaN           NaN            NaN  \n",
       " 2015-02-26 18:00:00                   NaN    NaN           NaN            NaN  \n",
       " 2015-02-26 19:00:00                  18.0  100.0           NaN            NaN  \n",
       " 2015-02-26 20:00:00                   NaN    NaN           NaN            NaN  \n",
       " 2015-02-26 21:00:00                   NaN    NaN           NaN            NaN  \n",
       " 2015-02-26 22:00:00                   NaN    NaN           NaN            NaN  \n",
       " 2015-02-26 23:00:00                   NaN    NaN           NaN            NaN  \n",
       " 2015-02-27 00:00:00                   NaN    NaN           NaN            NaN  \n",
       " 2015-02-27 01:00:00                   NaN    NaN           NaN            NaN  \n",
       " 2015-02-27 02:00:00                   NaN    NaN           NaN            NaN  \n",
       " 2015-02-27 03:00:00                  20.0   98.0           NaN            NaN  \n",
       " 2015-02-27 04:00:00                   NaN    NaN           NaN            NaN  \n",
       " 2015-02-27 05:00:00                   NaN    NaN           NaN            NaN  \n",
       " 2015-02-27 06:00:00                   NaN    NaN           NaN            NaN  \n",
       " 2015-02-27 07:00:00                   NaN    NaN           NaN            NaN  \n",
       " 2015-02-27 08:00:00                  16.0   98.0           NaN            NaN  \n",
       " 2015-02-27 09:00:00                   NaN    NaN           NaN            NaN  \n",
       " 2015-02-27 10:00:00                   NaN    NaN           NaN            NaN  \n",
       " 2015-02-27 11:00:00                   NaN    NaN           NaN            NaN  \n",
       " 2015-02-27 12:00:00                   NaN    NaN           NaN            NaN  \n",
       " 2015-02-27 13:00:00                   NaN    NaN           NaN            NaN  \n",
       " 2015-02-27 14:00:00                   NaN    NaN           NaN            NaN  \n",
       " 2015-02-27 15:00:00                   NaN    NaN           NaN            NaN  \n",
       " 2015-02-27 16:00:00                   NaN    NaN           NaN            NaN  \n",
       " 2015-02-27 17:00:00                   NaN    NaN           NaN            NaN  \n",
       " 2015-02-27 18:00:00                   NaN    NaN           NaN            NaN  ,\n",
       " 'gcs_staging':                      gcs_eye_score  gcs_verbal_score  gcs_motor_score  \\\n",
       " 2015-02-25 15:00:00            NaN               NaN              NaN   \n",
       " 2015-02-25 16:00:00            NaN               NaN              NaN   \n",
       " 2015-02-25 17:00:00            NaN               NaN              NaN   \n",
       " 2015-02-25 18:00:00            NaN               NaN              NaN   \n",
       " 2015-02-25 19:00:00            4.0               5.0              6.0   \n",
       " 2015-02-25 20:00:00            NaN               NaN              NaN   \n",
       " 2015-02-25 21:00:00            4.0               5.0              6.0   \n",
       " 2015-02-25 22:00:00            NaN               NaN              NaN   \n",
       " 2015-02-25 23:00:00            NaN               NaN              NaN   \n",
       " 2015-02-26 00:00:00            NaN               NaN              NaN   \n",
       " 2015-02-26 01:00:00            NaN               NaN              NaN   \n",
       " 2015-02-26 02:00:00            4.0               5.0              6.0   \n",
       " 2015-02-26 03:00:00            NaN               NaN              NaN   \n",
       " 2015-02-26 04:00:00            NaN               NaN              NaN   \n",
       " 2015-02-26 05:00:00            NaN               NaN              NaN   \n",
       " 2015-02-26 06:00:00            NaN               NaN              NaN   \n",
       " 2015-02-26 07:00:00            NaN               NaN              NaN   \n",
       " 2015-02-26 08:00:00            4.0               5.0              6.0   \n",
       " 2015-02-26 09:00:00            NaN               NaN              NaN   \n",
       " 2015-02-26 10:00:00            NaN               NaN              NaN   \n",
       " 2015-02-26 11:00:00            NaN               NaN              NaN   \n",
       " 2015-02-26 12:00:00            NaN               NaN              NaN   \n",
       " 2015-02-26 13:00:00            NaN               NaN              NaN   \n",
       " 2015-02-26 14:00:00            NaN               NaN              NaN   \n",
       " 2015-02-26 15:00:00            NaN               NaN              NaN   \n",
       " 2015-02-26 16:00:00            NaN               NaN              NaN   \n",
       " 2015-02-26 17:00:00            NaN               NaN              NaN   \n",
       " 2015-02-26 18:00:00            NaN               NaN              NaN   \n",
       " 2015-02-26 19:00:00            4.0               5.0              6.0   \n",
       " 2015-02-26 20:00:00            NaN               NaN              NaN   \n",
       " 2015-02-26 21:00:00            NaN               NaN              NaN   \n",
       " 2015-02-26 22:00:00            NaN               NaN              NaN   \n",
       " 2015-02-26 23:00:00            NaN               NaN              NaN   \n",
       " 2015-02-27 00:00:00            NaN               NaN              NaN   \n",
       " 2015-02-27 01:00:00            NaN               NaN              NaN   \n",
       " 2015-02-27 02:00:00            NaN               NaN              NaN   \n",
       " 2015-02-27 03:00:00            NaN               NaN              NaN   \n",
       " 2015-02-27 04:00:00            NaN               NaN              NaN   \n",
       " 2015-02-27 05:00:00            NaN               NaN              NaN   \n",
       " 2015-02-27 06:00:00            NaN               NaN              NaN   \n",
       " 2015-02-27 07:00:00            NaN               NaN              NaN   \n",
       " 2015-02-27 08:00:00            NaN               NaN              NaN   \n",
       " 2015-02-27 09:00:00            4.0               5.0              6.0   \n",
       " 2015-02-27 10:00:00            NaN               NaN              NaN   \n",
       " 2015-02-27 11:00:00            NaN               NaN              NaN   \n",
       " 2015-02-27 12:00:00            NaN               NaN              NaN   \n",
       " 2015-02-27 13:00:00            NaN               NaN              NaN   \n",
       " 2015-02-27 14:00:00            NaN               NaN              NaN   \n",
       " 2015-02-27 15:00:00            NaN               NaN              NaN   \n",
       " 2015-02-27 16:00:00            NaN               NaN              NaN   \n",
       " 2015-02-27 17:00:00            NaN               NaN              NaN   \n",
       " 2015-02-27 18:00:00            NaN               NaN              NaN   \n",
       " \n",
       "                      gcs_total_score  \n",
       " 2015-02-25 15:00:00              NaN  \n",
       " 2015-02-25 16:00:00              NaN  \n",
       " 2015-02-25 17:00:00              NaN  \n",
       " 2015-02-25 18:00:00              NaN  \n",
       " 2015-02-25 19:00:00             15.0  \n",
       " 2015-02-25 20:00:00              NaN  \n",
       " 2015-02-25 21:00:00             15.0  \n",
       " 2015-02-25 22:00:00              NaN  \n",
       " 2015-02-25 23:00:00              NaN  \n",
       " 2015-02-26 00:00:00              NaN  \n",
       " 2015-02-26 01:00:00              NaN  \n",
       " 2015-02-26 02:00:00             15.0  \n",
       " 2015-02-26 03:00:00              NaN  \n",
       " 2015-02-26 04:00:00              NaN  \n",
       " 2015-02-26 05:00:00              NaN  \n",
       " 2015-02-26 06:00:00              NaN  \n",
       " 2015-02-26 07:00:00              NaN  \n",
       " 2015-02-26 08:00:00             15.0  \n",
       " 2015-02-26 09:00:00              NaN  \n",
       " 2015-02-26 10:00:00              NaN  \n",
       " 2015-02-26 11:00:00              NaN  \n",
       " 2015-02-26 12:00:00              NaN  \n",
       " 2015-02-26 13:00:00              NaN  \n",
       " 2015-02-26 14:00:00              NaN  \n",
       " 2015-02-26 15:00:00              NaN  \n",
       " 2015-02-26 16:00:00              NaN  \n",
       " 2015-02-26 17:00:00              NaN  \n",
       " 2015-02-26 18:00:00              NaN  \n",
       " 2015-02-26 19:00:00             15.0  \n",
       " 2015-02-26 20:00:00              NaN  \n",
       " 2015-02-26 21:00:00              NaN  \n",
       " 2015-02-26 22:00:00              NaN  \n",
       " 2015-02-26 23:00:00              NaN  \n",
       " 2015-02-27 00:00:00              NaN  \n",
       " 2015-02-27 01:00:00              NaN  \n",
       " 2015-02-27 02:00:00              NaN  \n",
       " 2015-02-27 03:00:00              NaN  \n",
       " 2015-02-27 04:00:00              NaN  \n",
       " 2015-02-27 05:00:00              NaN  \n",
       " 2015-02-27 06:00:00              NaN  \n",
       " 2015-02-27 07:00:00              NaN  \n",
       " 2015-02-27 08:00:00              NaN  \n",
       " 2015-02-27 09:00:00             15.0  \n",
       " 2015-02-27 10:00:00              NaN  \n",
       " 2015-02-27 11:00:00              NaN  \n",
       " 2015-02-27 12:00:00              NaN  \n",
       " 2015-02-27 13:00:00              NaN  \n",
       " 2015-02-27 14:00:00              NaN  \n",
       " 2015-02-27 15:00:00              NaN  \n",
       " 2015-02-27 16:00:00              NaN  \n",
       " 2015-02-27 17:00:00              NaN  \n",
       " 2015-02-27 18:00:00              NaN  ,\n",
       " 'vent_status': 2015-02-25 15:00:00    NaN\n",
       " 2015-02-25 16:00:00    NaN\n",
       " 2015-02-25 17:00:00    NaN\n",
       " 2015-02-25 18:00:00    NaN\n",
       " 2015-02-25 19:00:00    NaN\n",
       " 2015-02-25 20:00:00    NaN\n",
       " 2015-02-25 21:00:00    NaN\n",
       " 2015-02-25 22:00:00    NaN\n",
       " 2015-02-25 23:00:00    NaN\n",
       " 2015-02-26 00:00:00    NaN\n",
       " 2015-02-26 01:00:00    NaN\n",
       " 2015-02-26 02:00:00    NaN\n",
       " 2015-02-26 03:00:00    NaN\n",
       " 2015-02-26 04:00:00    NaN\n",
       " 2015-02-26 05:00:00    NaN\n",
       " 2015-02-26 06:00:00    NaN\n",
       " 2015-02-26 07:00:00    NaN\n",
       " 2015-02-26 08:00:00    NaN\n",
       " 2015-02-26 09:00:00    NaN\n",
       " 2015-02-26 10:00:00    NaN\n",
       " 2015-02-26 11:00:00    NaN\n",
       " 2015-02-26 12:00:00    NaN\n",
       " 2015-02-26 13:00:00    NaN\n",
       " 2015-02-26 14:00:00    NaN\n",
       " 2015-02-26 15:00:00    NaN\n",
       " 2015-02-26 16:00:00    NaN\n",
       " 2015-02-26 17:00:00    NaN\n",
       " 2015-02-26 18:00:00    NaN\n",
       " 2015-02-26 19:00:00    NaN\n",
       " 2015-02-26 20:00:00    NaN\n",
       " 2015-02-26 21:00:00    NaN\n",
       " 2015-02-26 22:00:00    NaN\n",
       " 2015-02-26 23:00:00    NaN\n",
       " 2015-02-27 00:00:00    NaN\n",
       " 2015-02-27 01:00:00    NaN\n",
       " 2015-02-27 02:00:00    NaN\n",
       " 2015-02-27 03:00:00    NaN\n",
       " 2015-02-27 04:00:00    NaN\n",
       " 2015-02-27 05:00:00    NaN\n",
       " 2015-02-27 06:00:00    NaN\n",
       " 2015-02-27 07:00:00    NaN\n",
       " 2015-02-27 08:00:00    NaN\n",
       " 2015-02-27 09:00:00    NaN\n",
       " 2015-02-27 10:00:00    NaN\n",
       " 2015-02-27 11:00:00    NaN\n",
       " 2015-02-27 12:00:00    NaN\n",
       " 2015-02-27 13:00:00    NaN\n",
       " 2015-02-27 14:00:00    NaN\n",
       " 2015-02-27 15:00:00    NaN\n",
       " 2015-02-27 16:00:00    NaN\n",
       " 2015-02-27 17:00:00    NaN\n",
       " 2015-02-27 18:00:00    NaN\n",
       " Freq: H, Name: vent_status, dtype: object,\n",
       " 'vent_fio2': 2015-02-25 15:00:00    NaN\n",
       " 2015-02-25 16:00:00    NaN\n",
       " 2015-02-25 17:00:00    NaN\n",
       " 2015-02-25 18:00:00    NaN\n",
       " 2015-02-25 19:00:00    NaN\n",
       " 2015-02-25 20:00:00    NaN\n",
       " 2015-02-25 21:00:00    NaN\n",
       " 2015-02-25 22:00:00    NaN\n",
       " 2015-02-25 23:00:00    NaN\n",
       " 2015-02-26 00:00:00    NaN\n",
       " 2015-02-26 01:00:00    NaN\n",
       " 2015-02-26 02:00:00    NaN\n",
       " 2015-02-26 03:00:00    NaN\n",
       " 2015-02-26 04:00:00    NaN\n",
       " 2015-02-26 05:00:00    NaN\n",
       " 2015-02-26 06:00:00    NaN\n",
       " 2015-02-26 07:00:00    NaN\n",
       " 2015-02-26 08:00:00    NaN\n",
       " 2015-02-26 09:00:00    NaN\n",
       " 2015-02-26 10:00:00    NaN\n",
       " 2015-02-26 11:00:00    NaN\n",
       " 2015-02-26 12:00:00    NaN\n",
       " 2015-02-26 13:00:00    NaN\n",
       " 2015-02-26 14:00:00    NaN\n",
       " 2015-02-26 15:00:00    NaN\n",
       " 2015-02-26 16:00:00    NaN\n",
       " 2015-02-26 17:00:00    NaN\n",
       " 2015-02-26 18:00:00    NaN\n",
       " 2015-02-26 19:00:00    NaN\n",
       " 2015-02-26 20:00:00    NaN\n",
       " 2015-02-26 21:00:00    NaN\n",
       " 2015-02-26 22:00:00    NaN\n",
       " 2015-02-26 23:00:00    NaN\n",
       " 2015-02-27 00:00:00    NaN\n",
       " 2015-02-27 01:00:00    NaN\n",
       " 2015-02-27 02:00:00    NaN\n",
       " 2015-02-27 03:00:00    NaN\n",
       " 2015-02-27 04:00:00    NaN\n",
       " 2015-02-27 05:00:00    NaN\n",
       " 2015-02-27 06:00:00    NaN\n",
       " 2015-02-27 07:00:00    NaN\n",
       " 2015-02-27 08:00:00    NaN\n",
       " 2015-02-27 09:00:00    NaN\n",
       " 2015-02-27 10:00:00    NaN\n",
       " 2015-02-27 11:00:00    NaN\n",
       " 2015-02-27 12:00:00    NaN\n",
       " 2015-02-27 13:00:00    NaN\n",
       " 2015-02-27 14:00:00    NaN\n",
       " 2015-02-27 15:00:00    NaN\n",
       " 2015-02-27 16:00:00    NaN\n",
       " 2015-02-27 17:00:00    NaN\n",
       " 2015-02-27 18:00:00    NaN\n",
       " Freq: H, Name: fio2, dtype: object,\n",
       " 'vasopressor_meds_staging':                      norepinephrine  epinephrine  dobutamine  dopamine  \\\n",
       " 2015-02-25 15:00:00             NaN          NaN         NaN       NaN   \n",
       " 2015-02-25 16:00:00             NaN          NaN         NaN       NaN   \n",
       " 2015-02-25 17:00:00             NaN          NaN         NaN       NaN   \n",
       " 2015-02-25 18:00:00             NaN          NaN         NaN       NaN   \n",
       " 2015-02-25 19:00:00             NaN          NaN         NaN       NaN   \n",
       " 2015-02-25 20:00:00             NaN          NaN         NaN       NaN   \n",
       " 2015-02-25 21:00:00             NaN          NaN         NaN       NaN   \n",
       " 2015-02-25 22:00:00             NaN          NaN         NaN       NaN   \n",
       " 2015-02-25 23:00:00             NaN          NaN         NaN       NaN   \n",
       " 2015-02-26 00:00:00             NaN          NaN         NaN       NaN   \n",
       " 2015-02-26 01:00:00             NaN          NaN         NaN       NaN   \n",
       " 2015-02-26 02:00:00             NaN          NaN         NaN       NaN   \n",
       " 2015-02-26 03:00:00             NaN          NaN         NaN       NaN   \n",
       " 2015-02-26 04:00:00             NaN          NaN         NaN       NaN   \n",
       " 2015-02-26 05:00:00             NaN          NaN         NaN       NaN   \n",
       " 2015-02-26 06:00:00             NaN          NaN         NaN       NaN   \n",
       " 2015-02-26 07:00:00             NaN          NaN         NaN       NaN   \n",
       " 2015-02-26 08:00:00             NaN          NaN         NaN       NaN   \n",
       " 2015-02-26 09:00:00             NaN          NaN         NaN       NaN   \n",
       " 2015-02-26 10:00:00             NaN          NaN         NaN       NaN   \n",
       " 2015-02-26 11:00:00             NaN          NaN         NaN       NaN   \n",
       " 2015-02-26 12:00:00             NaN          NaN         NaN       NaN   \n",
       " 2015-02-26 13:00:00             NaN          NaN         NaN       NaN   \n",
       " 2015-02-26 14:00:00             NaN          NaN         NaN       NaN   \n",
       " 2015-02-26 15:00:00             NaN          NaN         NaN       NaN   \n",
       " 2015-02-26 16:00:00             NaN          NaN         NaN       NaN   \n",
       " 2015-02-26 17:00:00             NaN          NaN         NaN       NaN   \n",
       " 2015-02-26 18:00:00             NaN          NaN         NaN       NaN   \n",
       " 2015-02-26 19:00:00             NaN          NaN         NaN       NaN   \n",
       " 2015-02-26 20:00:00             NaN          NaN         NaN       NaN   \n",
       " 2015-02-26 21:00:00             NaN          NaN         NaN       NaN   \n",
       " 2015-02-26 22:00:00             NaN          NaN         NaN       NaN   \n",
       " 2015-02-26 23:00:00             NaN          NaN         NaN       NaN   \n",
       " 2015-02-27 00:00:00             NaN          NaN         NaN       NaN   \n",
       " 2015-02-27 01:00:00             NaN          NaN         NaN       NaN   \n",
       " 2015-02-27 02:00:00             NaN          NaN         NaN       NaN   \n",
       " 2015-02-27 03:00:00             NaN          NaN         NaN       NaN   \n",
       " 2015-02-27 04:00:00             NaN          NaN         NaN       NaN   \n",
       " 2015-02-27 05:00:00             NaN          NaN         NaN       NaN   \n",
       " 2015-02-27 06:00:00             NaN          NaN         NaN       NaN   \n",
       " 2015-02-27 07:00:00             NaN          NaN         NaN       NaN   \n",
       " 2015-02-27 08:00:00             NaN          NaN         NaN       NaN   \n",
       " 2015-02-27 09:00:00             NaN          NaN         NaN       NaN   \n",
       " 2015-02-27 10:00:00             NaN          NaN         NaN       NaN   \n",
       " 2015-02-27 11:00:00             NaN          NaN         NaN       NaN   \n",
       " 2015-02-27 12:00:00             NaN          NaN         NaN       NaN   \n",
       " 2015-02-27 13:00:00             NaN          NaN         NaN       NaN   \n",
       " 2015-02-27 14:00:00             NaN          NaN         NaN       NaN   \n",
       " 2015-02-27 15:00:00             NaN          NaN         NaN       NaN   \n",
       " 2015-02-27 16:00:00             NaN          NaN         NaN       NaN   \n",
       " 2015-02-27 17:00:00             NaN          NaN         NaN       NaN   \n",
       " 2015-02-27 18:00:00             NaN          NaN         NaN       NaN   \n",
       " \n",
       "                      phenylephrine  vasopressin norepinephrine_dose_unit  \\\n",
       " 2015-02-25 15:00:00            NaN          NaN                      NaN   \n",
       " 2015-02-25 16:00:00            NaN          NaN                      NaN   \n",
       " 2015-02-25 17:00:00            NaN          NaN                      NaN   \n",
       " 2015-02-25 18:00:00            NaN          NaN                      NaN   \n",
       " 2015-02-25 19:00:00            NaN          NaN                      NaN   \n",
       " 2015-02-25 20:00:00            NaN          NaN                      NaN   \n",
       " 2015-02-25 21:00:00            NaN          NaN                      NaN   \n",
       " 2015-02-25 22:00:00            NaN          NaN                      NaN   \n",
       " 2015-02-25 23:00:00            NaN          NaN                      NaN   \n",
       " 2015-02-26 00:00:00            NaN          NaN                      NaN   \n",
       " 2015-02-26 01:00:00            NaN          NaN                      NaN   \n",
       " 2015-02-26 02:00:00            NaN          NaN                      NaN   \n",
       " 2015-02-26 03:00:00            NaN          NaN                      NaN   \n",
       " 2015-02-26 04:00:00            NaN          NaN                      NaN   \n",
       " 2015-02-26 05:00:00            NaN          NaN                      NaN   \n",
       " 2015-02-26 06:00:00            NaN          NaN                      NaN   \n",
       " 2015-02-26 07:00:00            NaN          NaN                      NaN   \n",
       " 2015-02-26 08:00:00            NaN          NaN                      NaN   \n",
       " 2015-02-26 09:00:00            NaN          NaN                      NaN   \n",
       " 2015-02-26 10:00:00            NaN          NaN                      NaN   \n",
       " 2015-02-26 11:00:00            NaN          NaN                      NaN   \n",
       " 2015-02-26 12:00:00            NaN          NaN                      NaN   \n",
       " 2015-02-26 13:00:00            NaN          NaN                      NaN   \n",
       " 2015-02-26 14:00:00            NaN          NaN                      NaN   \n",
       " 2015-02-26 15:00:00            NaN          NaN                      NaN   \n",
       " 2015-02-26 16:00:00            NaN          NaN                      NaN   \n",
       " 2015-02-26 17:00:00            NaN          NaN                      NaN   \n",
       " 2015-02-26 18:00:00            NaN          NaN                      NaN   \n",
       " 2015-02-26 19:00:00            NaN          NaN                      NaN   \n",
       " 2015-02-26 20:00:00            NaN          NaN                      NaN   \n",
       " 2015-02-26 21:00:00            NaN          NaN                      NaN   \n",
       " 2015-02-26 22:00:00            NaN          NaN                      NaN   \n",
       " 2015-02-26 23:00:00            NaN          NaN                      NaN   \n",
       " 2015-02-27 00:00:00            NaN          NaN                      NaN   \n",
       " 2015-02-27 01:00:00            NaN          NaN                      NaN   \n",
       " 2015-02-27 02:00:00            NaN          NaN                      NaN   \n",
       " 2015-02-27 03:00:00            NaN          NaN                      NaN   \n",
       " 2015-02-27 04:00:00            NaN          NaN                      NaN   \n",
       " 2015-02-27 05:00:00            NaN          NaN                      NaN   \n",
       " 2015-02-27 06:00:00            NaN          NaN                      NaN   \n",
       " 2015-02-27 07:00:00            NaN          NaN                      NaN   \n",
       " 2015-02-27 08:00:00            NaN          NaN                      NaN   \n",
       " 2015-02-27 09:00:00            NaN          NaN                      NaN   \n",
       " 2015-02-27 10:00:00            NaN          NaN                      NaN   \n",
       " 2015-02-27 11:00:00            NaN          NaN                      NaN   \n",
       " 2015-02-27 12:00:00            NaN          NaN                      NaN   \n",
       " 2015-02-27 13:00:00            NaN          NaN                      NaN   \n",
       " 2015-02-27 14:00:00            NaN          NaN                      NaN   \n",
       " 2015-02-27 15:00:00            NaN          NaN                      NaN   \n",
       " 2015-02-27 16:00:00            NaN          NaN                      NaN   \n",
       " 2015-02-27 17:00:00            NaN          NaN                      NaN   \n",
       " 2015-02-27 18:00:00            NaN          NaN                      NaN   \n",
       " \n",
       "                     epinephrine_dose_unit dobutamine_dose_unit  \\\n",
       " 2015-02-25 15:00:00                   NaN                  NaN   \n",
       " 2015-02-25 16:00:00                   NaN                  NaN   \n",
       " 2015-02-25 17:00:00                   NaN                  NaN   \n",
       " 2015-02-25 18:00:00                   NaN                  NaN   \n",
       " 2015-02-25 19:00:00                   NaN                  NaN   \n",
       " 2015-02-25 20:00:00                   NaN                  NaN   \n",
       " 2015-02-25 21:00:00                   NaN                  NaN   \n",
       " 2015-02-25 22:00:00                   NaN                  NaN   \n",
       " 2015-02-25 23:00:00                   NaN                  NaN   \n",
       " 2015-02-26 00:00:00                   NaN                  NaN   \n",
       " 2015-02-26 01:00:00                   NaN                  NaN   \n",
       " 2015-02-26 02:00:00                   NaN                  NaN   \n",
       " 2015-02-26 03:00:00                   NaN                  NaN   \n",
       " 2015-02-26 04:00:00                   NaN                  NaN   \n",
       " 2015-02-26 05:00:00                   NaN                  NaN   \n",
       " 2015-02-26 06:00:00                   NaN                  NaN   \n",
       " 2015-02-26 07:00:00                   NaN                  NaN   \n",
       " 2015-02-26 08:00:00                   NaN                  NaN   \n",
       " 2015-02-26 09:00:00                   NaN                  NaN   \n",
       " 2015-02-26 10:00:00                   NaN                  NaN   \n",
       " 2015-02-26 11:00:00                   NaN                  NaN   \n",
       " 2015-02-26 12:00:00                   NaN                  NaN   \n",
       " 2015-02-26 13:00:00                   NaN                  NaN   \n",
       " 2015-02-26 14:00:00                   NaN                  NaN   \n",
       " 2015-02-26 15:00:00                   NaN                  NaN   \n",
       " 2015-02-26 16:00:00                   NaN                  NaN   \n",
       " 2015-02-26 17:00:00                   NaN                  NaN   \n",
       " 2015-02-26 18:00:00                   NaN                  NaN   \n",
       " 2015-02-26 19:00:00                   NaN                  NaN   \n",
       " 2015-02-26 20:00:00                   NaN                  NaN   \n",
       " 2015-02-26 21:00:00                   NaN                  NaN   \n",
       " 2015-02-26 22:00:00                   NaN                  NaN   \n",
       " 2015-02-26 23:00:00                   NaN                  NaN   \n",
       " 2015-02-27 00:00:00                   NaN                  NaN   \n",
       " 2015-02-27 01:00:00                   NaN                  NaN   \n",
       " 2015-02-27 02:00:00                   NaN                  NaN   \n",
       " 2015-02-27 03:00:00                   NaN                  NaN   \n",
       " 2015-02-27 04:00:00                   NaN                  NaN   \n",
       " 2015-02-27 05:00:00                   NaN                  NaN   \n",
       " 2015-02-27 06:00:00                   NaN                  NaN   \n",
       " 2015-02-27 07:00:00                   NaN                  NaN   \n",
       " 2015-02-27 08:00:00                   NaN                  NaN   \n",
       " 2015-02-27 09:00:00                   NaN                  NaN   \n",
       " 2015-02-27 10:00:00                   NaN                  NaN   \n",
       " 2015-02-27 11:00:00                   NaN                  NaN   \n",
       " 2015-02-27 12:00:00                   NaN                  NaN   \n",
       " 2015-02-27 13:00:00                   NaN                  NaN   \n",
       " 2015-02-27 14:00:00                   NaN                  NaN   \n",
       " 2015-02-27 15:00:00                   NaN                  NaN   \n",
       " 2015-02-27 16:00:00                   NaN                  NaN   \n",
       " 2015-02-27 17:00:00                   NaN                  NaN   \n",
       " 2015-02-27 18:00:00                   NaN                  NaN   \n",
       " \n",
       "                     dopamine_dose_unit phenylephrine_dose_unit  \\\n",
       " 2015-02-25 15:00:00                NaN                     NaN   \n",
       " 2015-02-25 16:00:00                NaN                     NaN   \n",
       " 2015-02-25 17:00:00                NaN                     NaN   \n",
       " 2015-02-25 18:00:00                NaN                     NaN   \n",
       " 2015-02-25 19:00:00                NaN                     NaN   \n",
       " 2015-02-25 20:00:00                NaN                     NaN   \n",
       " 2015-02-25 21:00:00                NaN                     NaN   \n",
       " 2015-02-25 22:00:00                NaN                     NaN   \n",
       " 2015-02-25 23:00:00                NaN                     NaN   \n",
       " 2015-02-26 00:00:00                NaN                     NaN   \n",
       " 2015-02-26 01:00:00                NaN                     NaN   \n",
       " 2015-02-26 02:00:00                NaN                     NaN   \n",
       " 2015-02-26 03:00:00                NaN                     NaN   \n",
       " 2015-02-26 04:00:00                NaN                     NaN   \n",
       " 2015-02-26 05:00:00                NaN                     NaN   \n",
       " 2015-02-26 06:00:00                NaN                     NaN   \n",
       " 2015-02-26 07:00:00                NaN                     NaN   \n",
       " 2015-02-26 08:00:00                NaN                     NaN   \n",
       " 2015-02-26 09:00:00                NaN                     NaN   \n",
       " 2015-02-26 10:00:00                NaN                     NaN   \n",
       " 2015-02-26 11:00:00                NaN                     NaN   \n",
       " 2015-02-26 12:00:00                NaN                     NaN   \n",
       " 2015-02-26 13:00:00                NaN                     NaN   \n",
       " 2015-02-26 14:00:00                NaN                     NaN   \n",
       " 2015-02-26 15:00:00                NaN                     NaN   \n",
       " 2015-02-26 16:00:00                NaN                     NaN   \n",
       " 2015-02-26 17:00:00                NaN                     NaN   \n",
       " 2015-02-26 18:00:00                NaN                     NaN   \n",
       " 2015-02-26 19:00:00                NaN                     NaN   \n",
       " 2015-02-26 20:00:00                NaN                     NaN   \n",
       " 2015-02-26 21:00:00                NaN                     NaN   \n",
       " 2015-02-26 22:00:00                NaN                     NaN   \n",
       " 2015-02-26 23:00:00                NaN                     NaN   \n",
       " 2015-02-27 00:00:00                NaN                     NaN   \n",
       " 2015-02-27 01:00:00                NaN                     NaN   \n",
       " 2015-02-27 02:00:00                NaN                     NaN   \n",
       " 2015-02-27 03:00:00                NaN                     NaN   \n",
       " 2015-02-27 04:00:00                NaN                     NaN   \n",
       " 2015-02-27 05:00:00                NaN                     NaN   \n",
       " 2015-02-27 06:00:00                NaN                     NaN   \n",
       " 2015-02-27 07:00:00                NaN                     NaN   \n",
       " 2015-02-27 08:00:00                NaN                     NaN   \n",
       " 2015-02-27 09:00:00                NaN                     NaN   \n",
       " 2015-02-27 10:00:00                NaN                     NaN   \n",
       " 2015-02-27 11:00:00                NaN                     NaN   \n",
       " 2015-02-27 12:00:00                NaN                     NaN   \n",
       " 2015-02-27 13:00:00                NaN                     NaN   \n",
       " 2015-02-27 14:00:00                NaN                     NaN   \n",
       " 2015-02-27 15:00:00                NaN                     NaN   \n",
       " 2015-02-27 16:00:00                NaN                     NaN   \n",
       " 2015-02-27 17:00:00                NaN                     NaN   \n",
       " 2015-02-27 18:00:00                NaN                     NaN   \n",
       " \n",
       "                     vasopressin_dose_unit  \n",
       " 2015-02-25 15:00:00                   NaN  \n",
       " 2015-02-25 16:00:00                   NaN  \n",
       " 2015-02-25 17:00:00                   NaN  \n",
       " 2015-02-25 18:00:00                   NaN  \n",
       " 2015-02-25 19:00:00                   NaN  \n",
       " 2015-02-25 20:00:00                   NaN  \n",
       " 2015-02-25 21:00:00                   NaN  \n",
       " 2015-02-25 22:00:00                   NaN  \n",
       " 2015-02-25 23:00:00                   NaN  \n",
       " 2015-02-26 00:00:00                   NaN  \n",
       " 2015-02-26 01:00:00                   NaN  \n",
       " 2015-02-26 02:00:00                   NaN  \n",
       " 2015-02-26 03:00:00                   NaN  \n",
       " 2015-02-26 04:00:00                   NaN  \n",
       " 2015-02-26 05:00:00                   NaN  \n",
       " 2015-02-26 06:00:00                   NaN  \n",
       " 2015-02-26 07:00:00                   NaN  \n",
       " 2015-02-26 08:00:00                   NaN  \n",
       " 2015-02-26 09:00:00                   NaN  \n",
       " 2015-02-26 10:00:00                   NaN  \n",
       " 2015-02-26 11:00:00                   NaN  \n",
       " 2015-02-26 12:00:00                   NaN  \n",
       " 2015-02-26 13:00:00                   NaN  \n",
       " 2015-02-26 14:00:00                   NaN  \n",
       " 2015-02-26 15:00:00                   NaN  \n",
       " 2015-02-26 16:00:00                   NaN  \n",
       " 2015-02-26 17:00:00                   NaN  \n",
       " 2015-02-26 18:00:00                   NaN  \n",
       " 2015-02-26 19:00:00                   NaN  \n",
       " 2015-02-26 20:00:00                   NaN  \n",
       " 2015-02-26 21:00:00                   NaN  \n",
       " 2015-02-26 22:00:00                   NaN  \n",
       " 2015-02-26 23:00:00                   NaN  \n",
       " 2015-02-27 00:00:00                   NaN  \n",
       " 2015-02-27 01:00:00                   NaN  \n",
       " 2015-02-27 02:00:00                   NaN  \n",
       " 2015-02-27 03:00:00                   NaN  \n",
       " 2015-02-27 04:00:00                   NaN  \n",
       " 2015-02-27 05:00:00                   NaN  \n",
       " 2015-02-27 06:00:00                   NaN  \n",
       " 2015-02-27 07:00:00                   NaN  \n",
       " 2015-02-27 08:00:00                   NaN  \n",
       " 2015-02-27 09:00:00                   NaN  \n",
       " 2015-02-27 10:00:00                   NaN  \n",
       " 2015-02-27 11:00:00                   NaN  \n",
       " 2015-02-27 12:00:00                   NaN  \n",
       " 2015-02-27 13:00:00                   NaN  \n",
       " 2015-02-27 14:00:00                   NaN  \n",
       " 2015-02-27 15:00:00                   NaN  \n",
       " 2015-02-27 16:00:00                   NaN  \n",
       " 2015-02-27 17:00:00                   NaN  \n",
       " 2015-02-27 18:00:00                   NaN  ,\n",
       " 'super_table':                      temperature  daily_weight_kg  height_cm  sbp_line  \\\n",
       " 2015-02-25 15:00:00         98.2             44.5        NaN       NaN   \n",
       " 2015-02-25 16:00:00         98.2             44.5        NaN       NaN   \n",
       " 2015-02-25 17:00:00         98.2             44.5        NaN       NaN   \n",
       " 2015-02-25 18:00:00         98.2             44.5        NaN       NaN   \n",
       " 2015-02-25 19:00:00         98.2             44.5        NaN       NaN   \n",
       " 2015-02-25 20:00:00         98.2             44.5        NaN       NaN   \n",
       " 2015-02-25 21:00:00         97.3             44.5        NaN       NaN   \n",
       " 2015-02-25 22:00:00         97.3             44.5        NaN       NaN   \n",
       " 2015-02-25 23:00:00         97.3             44.5        NaN       NaN   \n",
       " 2015-02-26 00:00:00         97.3             44.5        NaN       NaN   \n",
       " 2015-02-26 01:00:00         98.4             44.5        NaN       NaN   \n",
       " 2015-02-26 02:00:00         98.4             44.5        NaN       NaN   \n",
       " 2015-02-26 03:00:00         97.7             44.5        NaN       NaN   \n",
       " 2015-02-26 04:00:00         97.7             44.5        NaN       NaN   \n",
       " 2015-02-26 05:00:00         97.7             44.5        NaN       NaN   \n",
       " 2015-02-26 06:00:00         97.7             44.5        NaN       NaN   \n",
       " 2015-02-26 07:00:00         97.7             44.5        NaN       NaN   \n",
       " 2015-02-26 08:00:00         97.5             44.5        NaN       NaN   \n",
       " 2015-02-26 09:00:00         97.5             44.5        NaN       NaN   \n",
       " 2015-02-26 10:00:00         97.5             44.5        NaN       NaN   \n",
       " 2015-02-26 11:00:00         97.5             44.5        NaN       NaN   \n",
       " 2015-02-26 12:00:00         97.5             44.5        NaN       NaN   \n",
       " 2015-02-26 13:00:00         97.5             44.5        NaN       NaN   \n",
       " 2015-02-26 14:00:00         97.5             44.5        NaN       NaN   \n",
       " 2015-02-26 15:00:00         98.4             44.5        NaN       NaN   \n",
       " 2015-02-26 16:00:00         98.4             44.5        NaN       NaN   \n",
       " 2015-02-26 17:00:00         98.4             44.5        NaN       NaN   \n",
       " 2015-02-26 18:00:00         98.4             44.5        NaN       NaN   \n",
       " 2015-02-26 19:00:00         96.7             44.5        NaN       NaN   \n",
       " 2015-02-26 20:00:00         96.7             44.5        NaN       NaN   \n",
       " 2015-02-26 21:00:00         96.7             44.5        NaN       NaN   \n",
       " 2015-02-26 22:00:00         96.7             44.5        NaN       NaN   \n",
       " 2015-02-26 23:00:00         96.7             44.5        NaN       NaN   \n",
       " 2015-02-27 00:00:00         96.7             44.5        NaN       NaN   \n",
       " 2015-02-27 01:00:00         96.7             44.5        NaN       NaN   \n",
       " 2015-02-27 02:00:00         96.7             44.5        NaN       NaN   \n",
       " 2015-02-27 03:00:00         98.2             44.5        NaN       NaN   \n",
       " 2015-02-27 04:00:00         98.2             44.5        NaN       NaN   \n",
       " 2015-02-27 05:00:00         98.2             44.5        NaN       NaN   \n",
       " 2015-02-27 06:00:00         98.2             44.5        NaN       NaN   \n",
       " 2015-02-27 07:00:00         98.2             44.5        NaN       NaN   \n",
       " 2015-02-27 08:00:00         97.7             44.5        NaN       NaN   \n",
       " 2015-02-27 09:00:00         97.7             44.5        NaN       NaN   \n",
       " 2015-02-27 10:00:00         97.7             44.5        NaN       NaN   \n",
       " 2015-02-27 11:00:00         97.7             44.5        NaN       NaN   \n",
       " 2015-02-27 12:00:00         97.7             44.5        NaN       NaN   \n",
       " 2015-02-27 13:00:00         97.7             44.5        NaN       NaN   \n",
       " 2015-02-27 14:00:00         97.7             44.5        NaN       NaN   \n",
       " 2015-02-27 15:00:00         97.7             44.5        NaN       NaN   \n",
       " 2015-02-27 16:00:00         97.7             44.5        NaN       NaN   \n",
       " 2015-02-27 17:00:00         97.7             44.5        NaN       NaN   \n",
       " 2015-02-27 18:00:00         97.7             44.5        NaN       NaN   \n",
       " \n",
       "                      dbp_line  map_line  sbp_cuff  dbp_cuff  map_cuff  pulse  \\\n",
       " 2015-02-25 15:00:00       NaN       NaN     122.0      84.0      92.0   82.0   \n",
       " 2015-02-25 16:00:00       NaN       NaN     122.0      84.0      92.0   82.0   \n",
       " 2015-02-25 17:00:00       NaN       NaN     122.0      84.0      92.0   82.0   \n",
       " 2015-02-25 18:00:00       NaN       NaN     122.0      84.0      92.0   82.0   \n",
       " 2015-02-25 19:00:00       NaN       NaN     122.0      84.0      92.0   82.0   \n",
       " 2015-02-25 20:00:00       NaN       NaN     122.0      84.0      92.0   82.0   \n",
       " 2015-02-25 21:00:00       NaN       NaN     114.0      76.0      84.0   80.0   \n",
       " 2015-02-25 22:00:00       NaN       NaN     114.0      76.0      84.0   80.0   \n",
       " 2015-02-25 23:00:00       NaN       NaN     114.0      76.0      84.0   80.0   \n",
       " 2015-02-26 00:00:00       NaN       NaN     114.0      76.0      84.0   80.0   \n",
       " 2015-02-26 01:00:00       NaN       NaN      98.0      59.0      74.0   64.0   \n",
       " 2015-02-26 02:00:00       NaN       NaN      98.0      59.0      74.0   64.0   \n",
       " 2015-02-26 03:00:00       NaN       NaN      96.0      56.0      61.0   68.0   \n",
       " 2015-02-26 04:00:00       NaN       NaN      96.0      56.0      61.0   68.0   \n",
       " 2015-02-26 05:00:00       NaN       NaN      96.0      56.0      61.0   68.0   \n",
       " 2015-02-26 06:00:00       NaN       NaN      96.0      56.0      61.0   68.0   \n",
       " 2015-02-26 07:00:00       NaN       NaN      96.0      56.0      61.0   68.0   \n",
       " 2015-02-26 08:00:00       NaN       NaN     120.0      78.0      61.0   65.0   \n",
       " 2015-02-26 09:00:00       NaN       NaN     120.0      78.0      61.0   65.0   \n",
       " 2015-02-26 10:00:00       NaN       NaN     120.0      78.0      61.0   65.0   \n",
       " 2015-02-26 11:00:00       NaN       NaN     120.0      78.0      61.0   65.0   \n",
       " 2015-02-26 12:00:00       NaN       NaN     120.0      78.0      61.0   65.0   \n",
       " 2015-02-26 13:00:00       NaN       NaN     120.0      78.0      61.0   65.0   \n",
       " 2015-02-26 14:00:00       NaN       NaN     120.0      78.0      61.0   65.0   \n",
       " 2015-02-26 15:00:00       NaN       NaN      98.0      59.0      75.0   65.0   \n",
       " 2015-02-26 16:00:00       NaN       NaN      98.0      59.0      75.0   65.0   \n",
       " 2015-02-26 17:00:00       NaN       NaN      98.0      59.0      75.0   65.0   \n",
       " 2015-02-26 18:00:00       NaN       NaN      98.0      59.0      75.0   65.0   \n",
       " 2015-02-26 19:00:00       NaN       NaN     101.0      74.0      85.0   90.0   \n",
       " 2015-02-26 20:00:00       NaN       NaN     101.0      74.0      85.0   90.0   \n",
       " 2015-02-26 21:00:00       NaN       NaN     101.0      74.0      85.0   90.0   \n",
       " 2015-02-26 22:00:00       NaN       NaN     101.0      74.0      85.0   90.0   \n",
       " 2015-02-26 23:00:00       NaN       NaN     101.0      74.0      85.0   90.0   \n",
       " 2015-02-27 00:00:00       NaN       NaN     101.0      74.0      85.0   90.0   \n",
       " 2015-02-27 01:00:00       NaN       NaN     101.0      74.0      85.0   90.0   \n",
       " 2015-02-27 02:00:00       NaN       NaN     101.0      74.0      85.0   90.0   \n",
       " 2015-02-27 03:00:00       NaN       NaN     111.0      72.0      89.0   71.0   \n",
       " 2015-02-27 04:00:00       NaN       NaN     111.0      72.0      89.0   71.0   \n",
       " 2015-02-27 05:00:00       NaN       NaN     111.0      72.0      89.0   71.0   \n",
       " 2015-02-27 06:00:00       NaN       NaN     111.0      72.0      89.0   71.0   \n",
       " 2015-02-27 07:00:00       NaN       NaN     111.0      72.0      89.0   71.0   \n",
       " 2015-02-27 08:00:00       NaN       NaN      98.0      56.0      89.0    8.0   \n",
       " 2015-02-27 09:00:00       NaN       NaN      98.0      56.0      89.0    8.0   \n",
       " 2015-02-27 10:00:00       NaN       NaN      98.0      56.0      89.0    8.0   \n",
       " 2015-02-27 11:00:00       NaN       NaN      98.0      56.0      89.0    8.0   \n",
       " 2015-02-27 12:00:00       NaN       NaN      98.0      56.0      89.0    8.0   \n",
       " 2015-02-27 13:00:00       NaN       NaN      98.0      56.0      89.0    8.0   \n",
       " 2015-02-27 14:00:00       NaN       NaN      98.0      56.0      89.0    8.0   \n",
       " 2015-02-27 15:00:00       NaN       NaN      98.0      56.0      89.0    8.0   \n",
       " 2015-02-27 16:00:00       NaN       NaN      98.0      56.0      89.0    8.0   \n",
       " 2015-02-27 17:00:00       NaN       NaN      98.0      56.0      89.0    8.0   \n",
       " 2015-02-27 18:00:00       NaN       NaN      98.0      56.0      89.0    8.0   \n",
       " \n",
       "                      ...  procedure  best_map  norepinephrine_dose_weight  \\\n",
       " 2015-02-25 15:00:00  ...          0      92.0                         NaN   \n",
       " 2015-02-25 16:00:00  ...          0       NaN                         NaN   \n",
       " 2015-02-25 17:00:00  ...          0       NaN                         NaN   \n",
       " 2015-02-25 18:00:00  ...          0       NaN                         NaN   \n",
       " 2015-02-25 19:00:00  ...          0       NaN                         NaN   \n",
       " 2015-02-25 20:00:00  ...          0       NaN                         NaN   \n",
       " 2015-02-25 21:00:00  ...          0      84.0                         NaN   \n",
       " 2015-02-25 22:00:00  ...          0       NaN                         NaN   \n",
       " 2015-02-25 23:00:00  ...          0       NaN                         NaN   \n",
       " 2015-02-26 00:00:00  ...          0       NaN                         NaN   \n",
       " 2015-02-26 01:00:00  ...          0      74.0                         NaN   \n",
       " 2015-02-26 02:00:00  ...          0       NaN                         NaN   \n",
       " 2015-02-26 03:00:00  ...          0      61.0                         NaN   \n",
       " 2015-02-26 04:00:00  ...          0       NaN                         NaN   \n",
       " 2015-02-26 05:00:00  ...          0       NaN                         NaN   \n",
       " 2015-02-26 06:00:00  ...          0       NaN                         NaN   \n",
       " 2015-02-26 07:00:00  ...          0       NaN                         NaN   \n",
       " 2015-02-26 08:00:00  ...          0       NaN                         NaN   \n",
       " 2015-02-26 09:00:00  ...          0       NaN                         NaN   \n",
       " 2015-02-26 10:00:00  ...          0       NaN                         NaN   \n",
       " 2015-02-26 11:00:00  ...          0       NaN                         NaN   \n",
       " 2015-02-26 12:00:00  ...          0       NaN                         NaN   \n",
       " 2015-02-26 13:00:00  ...          0       NaN                         NaN   \n",
       " 2015-02-26 14:00:00  ...          0       NaN                         NaN   \n",
       " 2015-02-26 15:00:00  ...          0      75.0                         NaN   \n",
       " 2015-02-26 16:00:00  ...          0       NaN                         NaN   \n",
       " 2015-02-26 17:00:00  ...          0       NaN                         NaN   \n",
       " 2015-02-26 18:00:00  ...          0       NaN                         NaN   \n",
       " 2015-02-26 19:00:00  ...          0      85.0                         NaN   \n",
       " 2015-02-26 20:00:00  ...          0       NaN                         NaN   \n",
       " 2015-02-26 21:00:00  ...          0       NaN                         NaN   \n",
       " 2015-02-26 22:00:00  ...          0       NaN                         NaN   \n",
       " 2015-02-26 23:00:00  ...          0       NaN                         NaN   \n",
       " 2015-02-27 00:00:00  ...          0       NaN                         NaN   \n",
       " 2015-02-27 01:00:00  ...          0       NaN                         NaN   \n",
       " 2015-02-27 02:00:00  ...          0       NaN                         NaN   \n",
       " 2015-02-27 03:00:00  ...          0      89.0                         NaN   \n",
       " 2015-02-27 04:00:00  ...          0       NaN                         NaN   \n",
       " 2015-02-27 05:00:00  ...          0       NaN                         NaN   \n",
       " 2015-02-27 06:00:00  ...          0       NaN                         NaN   \n",
       " 2015-02-27 07:00:00  ...          0       NaN                         NaN   \n",
       " 2015-02-27 08:00:00  ...          0       NaN                         NaN   \n",
       " 2015-02-27 09:00:00  ...          0       NaN                         NaN   \n",
       " 2015-02-27 10:00:00  ...          0       NaN                         NaN   \n",
       " 2015-02-27 11:00:00  ...          0       NaN                         NaN   \n",
       " 2015-02-27 12:00:00  ...          0       NaN                         NaN   \n",
       " 2015-02-27 13:00:00  ...          0       NaN                         NaN   \n",
       " 2015-02-27 14:00:00  ...          0       NaN                         NaN   \n",
       " 2015-02-27 15:00:00  ...          0       NaN                         NaN   \n",
       " 2015-02-27 16:00:00  ...          0       NaN                         NaN   \n",
       " 2015-02-27 17:00:00  ...          0       NaN                         NaN   \n",
       " 2015-02-27 18:00:00  ...          0       NaN                         NaN   \n",
       " \n",
       "                      epinephrine_dose_weight  dobutamine_dose_weight  \\\n",
       " 2015-02-25 15:00:00                      NaN                     NaN   \n",
       " 2015-02-25 16:00:00                      NaN                     NaN   \n",
       " 2015-02-25 17:00:00                      NaN                     NaN   \n",
       " 2015-02-25 18:00:00                      NaN                     NaN   \n",
       " 2015-02-25 19:00:00                      NaN                     NaN   \n",
       " 2015-02-25 20:00:00                      NaN                     NaN   \n",
       " 2015-02-25 21:00:00                      NaN                     NaN   \n",
       " 2015-02-25 22:00:00                      NaN                     NaN   \n",
       " 2015-02-25 23:00:00                      NaN                     NaN   \n",
       " 2015-02-26 00:00:00                      NaN                     NaN   \n",
       " 2015-02-26 01:00:00                      NaN                     NaN   \n",
       " 2015-02-26 02:00:00                      NaN                     NaN   \n",
       " 2015-02-26 03:00:00                      NaN                     NaN   \n",
       " 2015-02-26 04:00:00                      NaN                     NaN   \n",
       " 2015-02-26 05:00:00                      NaN                     NaN   \n",
       " 2015-02-26 06:00:00                      NaN                     NaN   \n",
       " 2015-02-26 07:00:00                      NaN                     NaN   \n",
       " 2015-02-26 08:00:00                      NaN                     NaN   \n",
       " 2015-02-26 09:00:00                      NaN                     NaN   \n",
       " 2015-02-26 10:00:00                      NaN                     NaN   \n",
       " 2015-02-26 11:00:00                      NaN                     NaN   \n",
       " 2015-02-26 12:00:00                      NaN                     NaN   \n",
       " 2015-02-26 13:00:00                      NaN                     NaN   \n",
       " 2015-02-26 14:00:00                      NaN                     NaN   \n",
       " 2015-02-26 15:00:00                      NaN                     NaN   \n",
       " 2015-02-26 16:00:00                      NaN                     NaN   \n",
       " 2015-02-26 17:00:00                      NaN                     NaN   \n",
       " 2015-02-26 18:00:00                      NaN                     NaN   \n",
       " 2015-02-26 19:00:00                      NaN                     NaN   \n",
       " 2015-02-26 20:00:00                      NaN                     NaN   \n",
       " 2015-02-26 21:00:00                      NaN                     NaN   \n",
       " 2015-02-26 22:00:00                      NaN                     NaN   \n",
       " 2015-02-26 23:00:00                      NaN                     NaN   \n",
       " 2015-02-27 00:00:00                      NaN                     NaN   \n",
       " 2015-02-27 01:00:00                      NaN                     NaN   \n",
       " 2015-02-27 02:00:00                      NaN                     NaN   \n",
       " 2015-02-27 03:00:00                      NaN                     NaN   \n",
       " 2015-02-27 04:00:00                      NaN                     NaN   \n",
       " 2015-02-27 05:00:00                      NaN                     NaN   \n",
       " 2015-02-27 06:00:00                      NaN                     NaN   \n",
       " 2015-02-27 07:00:00                      NaN                     NaN   \n",
       " 2015-02-27 08:00:00                      NaN                     NaN   \n",
       " 2015-02-27 09:00:00                      NaN                     NaN   \n",
       " 2015-02-27 10:00:00                      NaN                     NaN   \n",
       " 2015-02-27 11:00:00                      NaN                     NaN   \n",
       " 2015-02-27 12:00:00                      NaN                     NaN   \n",
       " 2015-02-27 13:00:00                      NaN                     NaN   \n",
       " 2015-02-27 14:00:00                      NaN                     NaN   \n",
       " 2015-02-27 15:00:00                      NaN                     NaN   \n",
       " 2015-02-27 16:00:00                      NaN                     NaN   \n",
       " 2015-02-27 17:00:00                      NaN                     NaN   \n",
       " 2015-02-27 18:00:00                      NaN                     NaN   \n",
       " \n",
       "                      dopamine_dose_weight  phenylephrine_dose_weight  \\\n",
       " 2015-02-25 15:00:00                   NaN                        NaN   \n",
       " 2015-02-25 16:00:00                   NaN                        NaN   \n",
       " 2015-02-25 17:00:00                   NaN                        NaN   \n",
       " 2015-02-25 18:00:00                   NaN                        NaN   \n",
       " 2015-02-25 19:00:00                   NaN                        NaN   \n",
       " 2015-02-25 20:00:00                   NaN                        NaN   \n",
       " 2015-02-25 21:00:00                   NaN                        NaN   \n",
       " 2015-02-25 22:00:00                   NaN                        NaN   \n",
       " 2015-02-25 23:00:00                   NaN                        NaN   \n",
       " 2015-02-26 00:00:00                   NaN                        NaN   \n",
       " 2015-02-26 01:00:00                   NaN                        NaN   \n",
       " 2015-02-26 02:00:00                   NaN                        NaN   \n",
       " 2015-02-26 03:00:00                   NaN                        NaN   \n",
       " 2015-02-26 04:00:00                   NaN                        NaN   \n",
       " 2015-02-26 05:00:00                   NaN                        NaN   \n",
       " 2015-02-26 06:00:00                   NaN                        NaN   \n",
       " 2015-02-26 07:00:00                   NaN                        NaN   \n",
       " 2015-02-26 08:00:00                   NaN                        NaN   \n",
       " 2015-02-26 09:00:00                   NaN                        NaN   \n",
       " 2015-02-26 10:00:00                   NaN                        NaN   \n",
       " 2015-02-26 11:00:00                   NaN                        NaN   \n",
       " 2015-02-26 12:00:00                   NaN                        NaN   \n",
       " 2015-02-26 13:00:00                   NaN                        NaN   \n",
       " 2015-02-26 14:00:00                   NaN                        NaN   \n",
       " 2015-02-26 15:00:00                   NaN                        NaN   \n",
       " 2015-02-26 16:00:00                   NaN                        NaN   \n",
       " 2015-02-26 17:00:00                   NaN                        NaN   \n",
       " 2015-02-26 18:00:00                   NaN                        NaN   \n",
       " 2015-02-26 19:00:00                   NaN                        NaN   \n",
       " 2015-02-26 20:00:00                   NaN                        NaN   \n",
       " 2015-02-26 21:00:00                   NaN                        NaN   \n",
       " 2015-02-26 22:00:00                   NaN                        NaN   \n",
       " 2015-02-26 23:00:00                   NaN                        NaN   \n",
       " 2015-02-27 00:00:00                   NaN                        NaN   \n",
       " 2015-02-27 01:00:00                   NaN                        NaN   \n",
       " 2015-02-27 02:00:00                   NaN                        NaN   \n",
       " 2015-02-27 03:00:00                   NaN                        NaN   \n",
       " 2015-02-27 04:00:00                   NaN                        NaN   \n",
       " 2015-02-27 05:00:00                   NaN                        NaN   \n",
       " 2015-02-27 06:00:00                   NaN                        NaN   \n",
       " 2015-02-27 07:00:00                   NaN                        NaN   \n",
       " 2015-02-27 08:00:00                   NaN                        NaN   \n",
       " 2015-02-27 09:00:00                   NaN                        NaN   \n",
       " 2015-02-27 10:00:00                   NaN                        NaN   \n",
       " 2015-02-27 11:00:00                   NaN                        NaN   \n",
       " 2015-02-27 12:00:00                   NaN                        NaN   \n",
       " 2015-02-27 13:00:00                   NaN                        NaN   \n",
       " 2015-02-27 14:00:00                   NaN                        NaN   \n",
       " 2015-02-27 15:00:00                   NaN                        NaN   \n",
       " 2015-02-27 16:00:00                   NaN                        NaN   \n",
       " 2015-02-27 17:00:00                   NaN                        NaN   \n",
       " 2015-02-27 18:00:00                   NaN                        NaN   \n",
       " \n",
       "                      vasopressin_dose_weight  pf_sp  pf_pa  \n",
       " 2015-02-25 15:00:00                      NaN    NaN    NaN  \n",
       " 2015-02-25 16:00:00                      NaN    NaN    NaN  \n",
       " 2015-02-25 17:00:00                      NaN    NaN    NaN  \n",
       " 2015-02-25 18:00:00                      NaN    NaN    NaN  \n",
       " 2015-02-25 19:00:00                      NaN    NaN    NaN  \n",
       " 2015-02-25 20:00:00                      NaN    NaN    NaN  \n",
       " 2015-02-25 21:00:00                      NaN    NaN    NaN  \n",
       " 2015-02-25 22:00:00                      NaN    NaN    NaN  \n",
       " 2015-02-25 23:00:00                      NaN    NaN    NaN  \n",
       " 2015-02-26 00:00:00                      NaN    NaN    NaN  \n",
       " 2015-02-26 01:00:00                      NaN    NaN    NaN  \n",
       " 2015-02-26 02:00:00                      NaN    NaN    NaN  \n",
       " 2015-02-26 03:00:00                      NaN    NaN    NaN  \n",
       " 2015-02-26 04:00:00                      NaN    NaN    NaN  \n",
       " 2015-02-26 05:00:00                      NaN    NaN    NaN  \n",
       " 2015-02-26 06:00:00                      NaN    NaN    NaN  \n",
       " 2015-02-26 07:00:00                      NaN    NaN    NaN  \n",
       " 2015-02-26 08:00:00                      NaN    NaN    NaN  \n",
       " 2015-02-26 09:00:00                      NaN    NaN    NaN  \n",
       " 2015-02-26 10:00:00                      NaN    NaN    NaN  \n",
       " 2015-02-26 11:00:00                      NaN    NaN    NaN  \n",
       " 2015-02-26 12:00:00                      NaN    NaN    NaN  \n",
       " 2015-02-26 13:00:00                      NaN    NaN    NaN  \n",
       " 2015-02-26 14:00:00                      NaN    NaN    NaN  \n",
       " 2015-02-26 15:00:00                      NaN    NaN    NaN  \n",
       " 2015-02-26 16:00:00                      NaN    NaN    NaN  \n",
       " 2015-02-26 17:00:00                      NaN    NaN    NaN  \n",
       " 2015-02-26 18:00:00                      NaN    NaN    NaN  \n",
       " 2015-02-26 19:00:00                      NaN    NaN    NaN  \n",
       " 2015-02-26 20:00:00                      NaN    NaN    NaN  \n",
       " 2015-02-26 21:00:00                      NaN    NaN    NaN  \n",
       " 2015-02-26 22:00:00                      NaN    NaN    NaN  \n",
       " 2015-02-26 23:00:00                      NaN    NaN    NaN  \n",
       " 2015-02-27 00:00:00                      NaN    NaN    NaN  \n",
       " 2015-02-27 01:00:00                      NaN    NaN    NaN  \n",
       " 2015-02-27 02:00:00                      NaN    NaN    NaN  \n",
       " 2015-02-27 03:00:00                      NaN    NaN    NaN  \n",
       " 2015-02-27 04:00:00                      NaN    NaN    NaN  \n",
       " 2015-02-27 05:00:00                      NaN    NaN    NaN  \n",
       " 2015-02-27 06:00:00                      NaN    NaN    NaN  \n",
       " 2015-02-27 07:00:00                      NaN    NaN    NaN  \n",
       " 2015-02-27 08:00:00                      NaN    NaN    NaN  \n",
       " 2015-02-27 09:00:00                      NaN    NaN    NaN  \n",
       " 2015-02-27 10:00:00                      NaN    NaN    NaN  \n",
       " 2015-02-27 11:00:00                      NaN    NaN    NaN  \n",
       " 2015-02-27 12:00:00                      NaN    NaN    NaN  \n",
       " 2015-02-27 13:00:00                      NaN    NaN    NaN  \n",
       " 2015-02-27 14:00:00                      NaN    NaN    NaN  \n",
       " 2015-02-27 15:00:00                      NaN    NaN    NaN  \n",
       " 2015-02-27 16:00:00                      NaN    NaN    NaN  \n",
       " 2015-02-27 17:00:00                      NaN    NaN    NaN  \n",
       " 2015-02-27 18:00:00                      NaN    NaN    NaN  \n",
       " \n",
       " [52 rows x 103 columns],\n",
       " 'abx_order_time': array([], dtype='datetime64[ns]'),\n",
       " 'culture_times': array([], dtype='datetime64[ns]'),\n",
       " 't_suspicion': Empty DataFrame\n",
       " Columns: [t_abx, t_clt, t_suspicion]\n",
       " Index: [],\n",
       " 'sofa_scores':                      SOFA_coag  SOFA_renal  SOFA_hep  SOFA_neuro  SOFA_cardio  \\\n",
       " 2015-02-25 15:00:00        NaN         NaN       NaN         NaN          0.0   \n",
       " 2015-02-25 16:00:00        NaN         NaN       NaN         NaN          NaN   \n",
       " 2015-02-25 17:00:00        0.0         0.0       NaN         NaN          NaN   \n",
       " 2015-02-25 18:00:00        0.0         0.0       NaN         NaN          NaN   \n",
       " 2015-02-25 19:00:00        0.0         0.0       NaN         0.0          NaN   \n",
       " 2015-02-25 20:00:00        0.0         0.0       NaN         0.0          NaN   \n",
       " 2015-02-25 21:00:00        0.0         0.0       NaN         0.0          0.0   \n",
       " 2015-02-25 22:00:00        0.0         0.0       NaN         0.0          NaN   \n",
       " 2015-02-25 23:00:00        0.0         0.0       NaN         0.0          NaN   \n",
       " 2015-02-26 00:00:00        0.0         0.0       NaN         0.0          NaN   \n",
       " 2015-02-26 01:00:00        0.0         0.0       NaN         0.0          0.0   \n",
       " 2015-02-26 02:00:00        0.0         0.0       NaN         0.0          NaN   \n",
       " 2015-02-26 03:00:00        0.0         0.0       NaN         0.0          1.0   \n",
       " 2015-02-26 04:00:00        0.0         0.0       NaN         0.0          NaN   \n",
       " 2015-02-26 05:00:00        0.0         0.0       NaN         0.0          NaN   \n",
       " 2015-02-26 06:00:00        0.0         0.0       NaN         0.0          NaN   \n",
       " 2015-02-26 07:00:00        0.0         0.0       NaN         0.0          NaN   \n",
       " 2015-02-26 08:00:00        0.0         0.0       NaN         0.0          NaN   \n",
       " 2015-02-26 09:00:00        0.0         0.0       NaN         0.0          NaN   \n",
       " 2015-02-26 10:00:00        0.0         0.0       NaN         0.0          NaN   \n",
       " 2015-02-26 11:00:00        0.0         0.0       NaN         0.0          NaN   \n",
       " 2015-02-26 12:00:00        0.0         0.0       NaN         0.0          NaN   \n",
       " 2015-02-26 13:00:00        0.0         0.0       NaN         0.0          NaN   \n",
       " 2015-02-26 14:00:00        0.0         0.0       NaN         0.0          NaN   \n",
       " 2015-02-26 15:00:00        0.0         0.0       NaN         0.0          0.0   \n",
       " 2015-02-26 16:00:00        0.0         0.0       NaN         0.0          NaN   \n",
       " 2015-02-26 17:00:00        0.0         0.0       NaN         0.0          NaN   \n",
       " 2015-02-26 18:00:00        0.0         0.0       NaN         0.0          NaN   \n",
       " 2015-02-26 19:00:00        0.0         0.0       NaN         0.0          0.0   \n",
       " 2015-02-26 20:00:00        0.0         0.0       NaN         0.0          NaN   \n",
       " 2015-02-26 21:00:00        0.0         0.0       NaN         0.0          NaN   \n",
       " 2015-02-26 22:00:00        0.0         0.0       NaN         0.0          NaN   \n",
       " 2015-02-26 23:00:00        0.0         0.0       NaN         0.0          NaN   \n",
       " 2015-02-27 00:00:00        0.0         0.0       NaN         0.0          NaN   \n",
       " 2015-02-27 01:00:00        0.0         0.0       NaN         0.0          NaN   \n",
       " 2015-02-27 02:00:00        0.0         0.0       NaN         0.0          NaN   \n",
       " 2015-02-27 03:00:00        0.0         0.0       NaN         0.0          0.0   \n",
       " 2015-02-27 04:00:00        NaN         0.0       NaN         0.0          NaN   \n",
       " 2015-02-27 05:00:00        NaN         0.0       NaN         0.0          NaN   \n",
       " 2015-02-27 06:00:00        NaN         0.0       NaN         0.0          NaN   \n",
       " 2015-02-27 07:00:00        NaN         0.0       NaN         0.0          NaN   \n",
       " 2015-02-27 08:00:00        NaN         0.0       NaN         0.0          NaN   \n",
       " 2015-02-27 09:00:00        NaN         0.0       NaN         0.0          NaN   \n",
       " 2015-02-27 10:00:00        NaN         0.0       NaN         0.0          NaN   \n",
       " 2015-02-27 11:00:00        NaN         0.0       NaN         0.0          NaN   \n",
       " 2015-02-27 12:00:00        NaN         0.0       NaN         0.0          NaN   \n",
       " 2015-02-27 13:00:00        NaN         0.0       NaN         0.0          NaN   \n",
       " 2015-02-27 14:00:00        NaN         0.0       NaN         0.0          NaN   \n",
       " 2015-02-27 15:00:00        NaN         0.0       NaN         0.0          NaN   \n",
       " 2015-02-27 16:00:00        NaN         0.0       NaN         0.0          NaN   \n",
       " 2015-02-27 17:00:00        NaN         0.0       NaN         0.0          NaN   \n",
       " 2015-02-27 18:00:00        NaN         0.0       NaN         0.0          NaN   \n",
       " \n",
       "                      SOFA_cardio_mod  SOFA_resp  SOFA_resp_sa  hourly_total  \\\n",
       " 2015-02-25 15:00:00              0.0        NaN           NaN           0.0   \n",
       " 2015-02-25 16:00:00              NaN        NaN           NaN           0.0   \n",
       " 2015-02-25 17:00:00              NaN        NaN           NaN           0.0   \n",
       " 2015-02-25 18:00:00              NaN        NaN           NaN           0.0   \n",
       " 2015-02-25 19:00:00              NaN        NaN           NaN           0.0   \n",
       " 2015-02-25 20:00:00              NaN        NaN           NaN           0.0   \n",
       " 2015-02-25 21:00:00              0.0        NaN           NaN           0.0   \n",
       " 2015-02-25 22:00:00              NaN        NaN           NaN           0.0   \n",
       " 2015-02-25 23:00:00              NaN        NaN           NaN           0.0   \n",
       " 2015-02-26 00:00:00              NaN        NaN           NaN           0.0   \n",
       " 2015-02-26 01:00:00              0.0        NaN           NaN           0.0   \n",
       " 2015-02-26 02:00:00              NaN        NaN           NaN           0.0   \n",
       " 2015-02-26 03:00:00              1.0        NaN           NaN           1.0   \n",
       " 2015-02-26 04:00:00              NaN        NaN           NaN           0.0   \n",
       " 2015-02-26 05:00:00              NaN        NaN           NaN           0.0   \n",
       " 2015-02-26 06:00:00              NaN        NaN           NaN           0.0   \n",
       " 2015-02-26 07:00:00              NaN        NaN           NaN           0.0   \n",
       " 2015-02-26 08:00:00              NaN        NaN           NaN           0.0   \n",
       " 2015-02-26 09:00:00              NaN        NaN           NaN           0.0   \n",
       " 2015-02-26 10:00:00              NaN        NaN           NaN           0.0   \n",
       " 2015-02-26 11:00:00              NaN        NaN           NaN           0.0   \n",
       " 2015-02-26 12:00:00              NaN        NaN           NaN           0.0   \n",
       " 2015-02-26 13:00:00              NaN        NaN           NaN           0.0   \n",
       " 2015-02-26 14:00:00              NaN        NaN           NaN           0.0   \n",
       " 2015-02-26 15:00:00              0.0        NaN           NaN           0.0   \n",
       " 2015-02-26 16:00:00              NaN        NaN           NaN           0.0   \n",
       " 2015-02-26 17:00:00              NaN        NaN           NaN           0.0   \n",
       " 2015-02-26 18:00:00              NaN        NaN           NaN           0.0   \n",
       " 2015-02-26 19:00:00              0.0        NaN           NaN           0.0   \n",
       " 2015-02-26 20:00:00              NaN        NaN           NaN           0.0   \n",
       " 2015-02-26 21:00:00              NaN        NaN           NaN           0.0   \n",
       " 2015-02-26 22:00:00              NaN        NaN           NaN           0.0   \n",
       " 2015-02-26 23:00:00              NaN        NaN           NaN           0.0   \n",
       " 2015-02-27 00:00:00              NaN        NaN           NaN           0.0   \n",
       " 2015-02-27 01:00:00              NaN        NaN           NaN           0.0   \n",
       " 2015-02-27 02:00:00              NaN        NaN           NaN           0.0   \n",
       " 2015-02-27 03:00:00              0.0        NaN           NaN           0.0   \n",
       " 2015-02-27 04:00:00              NaN        NaN           NaN           0.0   \n",
       " 2015-02-27 05:00:00              NaN        NaN           NaN           0.0   \n",
       " 2015-02-27 06:00:00              NaN        NaN           NaN           0.0   \n",
       " 2015-02-27 07:00:00              NaN        NaN           NaN           0.0   \n",
       " 2015-02-27 08:00:00              NaN        NaN           NaN           0.0   \n",
       " 2015-02-27 09:00:00              NaN        NaN           NaN           0.0   \n",
       " 2015-02-27 10:00:00              NaN        NaN           NaN           0.0   \n",
       " 2015-02-27 11:00:00              NaN        NaN           NaN           0.0   \n",
       " 2015-02-27 12:00:00              NaN        NaN           NaN           0.0   \n",
       " 2015-02-27 13:00:00              NaN        NaN           NaN           0.0   \n",
       " 2015-02-27 14:00:00              NaN        NaN           NaN           0.0   \n",
       " 2015-02-27 15:00:00              NaN        NaN           NaN           0.0   \n",
       " 2015-02-27 16:00:00              NaN        NaN           NaN           0.0   \n",
       " 2015-02-27 17:00:00              NaN        NaN           NaN           0.0   \n",
       " 2015-02-27 18:00:00              NaN        NaN           NaN           0.0   \n",
       " \n",
       "                      delta_24h  hourly_total_mod  delta_24h_mod  \n",
       " 2015-02-25 15:00:00        0.0               0.0            0.0  \n",
       " 2015-02-25 16:00:00        0.0               0.0            0.0  \n",
       " 2015-02-25 17:00:00        0.0               0.0            0.0  \n",
       " 2015-02-25 18:00:00        0.0               0.0            0.0  \n",
       " 2015-02-25 19:00:00        0.0               0.0            0.0  \n",
       " 2015-02-25 20:00:00        0.0               0.0            0.0  \n",
       " 2015-02-25 21:00:00        0.0               0.0            0.0  \n",
       " 2015-02-25 22:00:00        0.0               0.0            0.0  \n",
       " 2015-02-25 23:00:00        0.0               0.0            0.0  \n",
       " 2015-02-26 00:00:00        0.0               0.0            0.0  \n",
       " 2015-02-26 01:00:00        0.0               0.0            0.0  \n",
       " 2015-02-26 02:00:00        0.0               0.0            0.0  \n",
       " 2015-02-26 03:00:00        1.0               1.0            1.0  \n",
       " 2015-02-26 04:00:00        1.0               0.0            1.0  \n",
       " 2015-02-26 05:00:00        1.0               0.0            1.0  \n",
       " 2015-02-26 06:00:00        1.0               0.0            1.0  \n",
       " 2015-02-26 07:00:00        1.0               0.0            1.0  \n",
       " 2015-02-26 08:00:00        1.0               0.0            1.0  \n",
       " 2015-02-26 09:00:00        1.0               0.0            1.0  \n",
       " 2015-02-26 10:00:00        1.0               0.0            1.0  \n",
       " 2015-02-26 11:00:00        1.0               0.0            1.0  \n",
       " 2015-02-26 12:00:00        1.0               0.0            1.0  \n",
       " 2015-02-26 13:00:00        1.0               0.0            1.0  \n",
       " 2015-02-26 14:00:00        1.0               0.0            1.0  \n",
       " 2015-02-26 15:00:00        1.0               0.0            1.0  \n",
       " 2015-02-26 16:00:00        1.0               0.0            1.0  \n",
       " 2015-02-26 17:00:00        1.0               0.0            1.0  \n",
       " 2015-02-26 18:00:00        1.0               0.0            1.0  \n",
       " 2015-02-26 19:00:00        1.0               0.0            1.0  \n",
       " 2015-02-26 20:00:00        1.0               0.0            1.0  \n",
       " 2015-02-26 21:00:00        1.0               0.0            1.0  \n",
       " 2015-02-26 22:00:00        1.0               0.0            1.0  \n",
       " 2015-02-26 23:00:00        1.0               0.0            1.0  \n",
       " 2015-02-27 00:00:00        1.0               0.0            1.0  \n",
       " 2015-02-27 01:00:00        1.0               0.0            1.0  \n",
       " 2015-02-27 02:00:00        0.0               0.0            0.0  \n",
       " 2015-02-27 03:00:00        0.0               0.0            0.0  \n",
       " 2015-02-27 04:00:00        0.0               0.0            0.0  \n",
       " 2015-02-27 05:00:00        0.0               0.0            0.0  \n",
       " 2015-02-27 06:00:00        0.0               0.0            0.0  \n",
       " 2015-02-27 07:00:00        0.0               0.0            0.0  \n",
       " 2015-02-27 08:00:00        0.0               0.0            0.0  \n",
       " 2015-02-27 09:00:00        0.0               0.0            0.0  \n",
       " 2015-02-27 10:00:00        0.0               0.0            0.0  \n",
       " 2015-02-27 11:00:00        0.0               0.0            0.0  \n",
       " 2015-02-27 12:00:00        0.0               0.0            0.0  \n",
       " 2015-02-27 13:00:00        0.0               0.0            0.0  \n",
       " 2015-02-27 14:00:00        0.0               0.0            0.0  \n",
       " 2015-02-27 15:00:00        0.0               0.0            0.0  \n",
       " 2015-02-27 16:00:00        0.0               0.0            0.0  \n",
       " 2015-02-27 17:00:00        0.0               0.0            0.0  \n",
       " 2015-02-27 18:00:00        0.0               0.0            0.0  ,\n",
       " 'sep3_time': Empty DataFrame\n",
       " Columns: [t_suspicion, t_SOFA, t_sepsis3]\n",
       " Index: [],\n",
       " 'sirs_scores':                      SIRS_resp  SIRS_cardio  SIRS_temp  SIRS_wbc  \\\n",
       " 2015-02-25 15:00:00          0            0          0         0   \n",
       " 2015-02-25 16:00:00          0            0          0         0   \n",
       " 2015-02-25 17:00:00          0            0          0         0   \n",
       " 2015-02-25 18:00:00          0            0          0         0   \n",
       " 2015-02-25 19:00:00          0            0          0         0   \n",
       " 2015-02-25 20:00:00          0            0          0         0   \n",
       " 2015-02-25 21:00:00          0            0          0         0   \n",
       " 2015-02-25 22:00:00          0            0          0         0   \n",
       " 2015-02-25 23:00:00          0            0          0         0   \n",
       " 2015-02-26 00:00:00          0            0          0         0   \n",
       " 2015-02-26 01:00:00          0            0          0         0   \n",
       " 2015-02-26 02:00:00          0            0          0         0   \n",
       " 2015-02-26 03:00:00          0            0          0         0   \n",
       " 2015-02-26 04:00:00          0            0          0         0   \n",
       " 2015-02-26 05:00:00          0            0          0         0   \n",
       " 2015-02-26 06:00:00          0            0          0         0   \n",
       " 2015-02-26 07:00:00          0            0          0         0   \n",
       " 2015-02-26 08:00:00          0            0          0         0   \n",
       " 2015-02-26 09:00:00          0            0          0         0   \n",
       " 2015-02-26 10:00:00          0            0          0         0   \n",
       " 2015-02-26 11:00:00          0            0          0         0   \n",
       " 2015-02-26 12:00:00          0            0          0         0   \n",
       " 2015-02-26 13:00:00          0            0          0         0   \n",
       " 2015-02-26 14:00:00          0            0          0         0   \n",
       " 2015-02-26 15:00:00          0            0          0         0   \n",
       " 2015-02-26 16:00:00          0            0          0         0   \n",
       " 2015-02-26 17:00:00          0            0          0         0   \n",
       " 2015-02-26 18:00:00          0            0          0         0   \n",
       " 2015-02-26 19:00:00          0            0          0         0   \n",
       " 2015-02-26 20:00:00          0            0          0         0   \n",
       " 2015-02-26 21:00:00          0            0          0         0   \n",
       " 2015-02-26 22:00:00          0            0          0         0   \n",
       " 2015-02-26 23:00:00          0            0          0         0   \n",
       " 2015-02-27 00:00:00          0            0          0         0   \n",
       " 2015-02-27 01:00:00          0            0          0         0   \n",
       " 2015-02-27 02:00:00          0            0          0         0   \n",
       " 2015-02-27 03:00:00          0            0          0         0   \n",
       " 2015-02-27 04:00:00          0            0          0         0   \n",
       " 2015-02-27 05:00:00          0            0          0         0   \n",
       " 2015-02-27 06:00:00          0            0          0         0   \n",
       " 2015-02-27 07:00:00          0            0          0         0   \n",
       " 2015-02-27 08:00:00          0            0          0         0   \n",
       " 2015-02-27 09:00:00          0            0          0         0   \n",
       " 2015-02-27 10:00:00          0            0          0         0   \n",
       " 2015-02-27 11:00:00          0            0          0         0   \n",
       " 2015-02-27 12:00:00          0            0          0         0   \n",
       " 2015-02-27 13:00:00          0            0          0         0   \n",
       " 2015-02-27 14:00:00          0            0          0         0   \n",
       " 2015-02-27 15:00:00          0            0          0         0   \n",
       " 2015-02-27 16:00:00          0            0          0         0   \n",
       " 2015-02-27 17:00:00          0            0          0         0   \n",
       " 2015-02-27 18:00:00          0            0          0         0   \n",
       " \n",
       "                      hourly_total  delta_24h  \n",
       " 2015-02-25 15:00:00             0        0.0  \n",
       " 2015-02-25 16:00:00             0        0.0  \n",
       " 2015-02-25 17:00:00             0        0.0  \n",
       " 2015-02-25 18:00:00             0        0.0  \n",
       " 2015-02-25 19:00:00             0        0.0  \n",
       " 2015-02-25 20:00:00             0        0.0  \n",
       " 2015-02-25 21:00:00             0        0.0  \n",
       " 2015-02-25 22:00:00             0        0.0  \n",
       " 2015-02-25 23:00:00             0        0.0  \n",
       " 2015-02-26 00:00:00             0        0.0  \n",
       " 2015-02-26 01:00:00             0        0.0  \n",
       " 2015-02-26 02:00:00             0        0.0  \n",
       " 2015-02-26 03:00:00             0        0.0  \n",
       " 2015-02-26 04:00:00             0        0.0  \n",
       " 2015-02-26 05:00:00             0        0.0  \n",
       " 2015-02-26 06:00:00             0        0.0  \n",
       " 2015-02-26 07:00:00             0        0.0  \n",
       " 2015-02-26 08:00:00             0        0.0  \n",
       " 2015-02-26 09:00:00             0        0.0  \n",
       " 2015-02-26 10:00:00             0        0.0  \n",
       " 2015-02-26 11:00:00             0        0.0  \n",
       " 2015-02-26 12:00:00             0        0.0  \n",
       " 2015-02-26 13:00:00             0        0.0  \n",
       " 2015-02-26 14:00:00             0        0.0  \n",
       " 2015-02-26 15:00:00             0        0.0  \n",
       " 2015-02-26 16:00:00             0        0.0  \n",
       " 2015-02-26 17:00:00             0        0.0  \n",
       " 2015-02-26 18:00:00             0        0.0  \n",
       " 2015-02-26 19:00:00             0        0.0  \n",
       " 2015-02-26 20:00:00             0        0.0  \n",
       " 2015-02-26 21:00:00             0        0.0  \n",
       " 2015-02-26 22:00:00             0        0.0  \n",
       " 2015-02-26 23:00:00             0        0.0  \n",
       " 2015-02-27 00:00:00             0        0.0  \n",
       " 2015-02-27 01:00:00             0        0.0  \n",
       " 2015-02-27 02:00:00             0        0.0  \n",
       " 2015-02-27 03:00:00             0        0.0  \n",
       " 2015-02-27 04:00:00             0        0.0  \n",
       " 2015-02-27 05:00:00             0        0.0  \n",
       " 2015-02-27 06:00:00             0        0.0  \n",
       " 2015-02-27 07:00:00             0        0.0  \n",
       " 2015-02-27 08:00:00             0        0.0  \n",
       " 2015-02-27 09:00:00             0        0.0  \n",
       " 2015-02-27 10:00:00             0        0.0  \n",
       " 2015-02-27 11:00:00             0        0.0  \n",
       " 2015-02-27 12:00:00             0        0.0  \n",
       " 2015-02-27 13:00:00             0        0.0  \n",
       " 2015-02-27 14:00:00             0        0.0  \n",
       " 2015-02-27 15:00:00             0        0.0  \n",
       " 2015-02-27 16:00:00             0        0.0  \n",
       " 2015-02-27 17:00:00             0        0.0  \n",
       " 2015-02-27 18:00:00             0        0.0  ,\n",
       " 'sep2_time': Empty DataFrame\n",
       " Columns: [t_SIRS, t_suspicion, t_sepsis2]\n",
       " Index: []}"
      ]
     },
     "execution_count": 29,
     "metadata": {},
     "output_type": "execute_result"
    }
   ],
   "source": [
    "print(f\"Number of pickles without 'csn' key: {counter.value}\")"
   ]
  },
  {
   "cell_type": "code",
   "execution_count": null,
   "metadata": {},
   "outputs": [],
   "source": [
    "encounter_pickle['sirs_scores'].columns"
   ]
  },
  {
   "cell_type": "code",
   "execution_count": null,
   "metadata": {},
   "outputs": [],
   "source": [
    "empty_df = pd.DataFrame(index=encounter_pickle['sofa_scores'].index)\n",
    "\n",
    "empty_df[['SIRS_resp', 'SIRS_cardio', 'SIRS_temp', 'SIRS_wbc', 'hourly_total', 'delta_24h']] = pd.NA"
   ]
  },
  {
   "cell_type": "code",
   "execution_count": null,
   "metadata": {},
   "outputs": [],
   "source": [
    "empty_df"
   ]
  },
  {
   "cell_type": "code",
   "execution_count": null,
   "metadata": {},
   "outputs": [],
   "source": [
    "### `static_df` Encounter level data\n",
    "# def extract_static_df(encounter_pickle, pickle_path):\n",
    "static_df = get_static_df(encounter_pickle)\n",
    "times_df = get_times_df(encounter_pickle)"
   ]
  },
  {
   "cell_type": "code",
   "execution_count": null,
   "metadata": {},
   "outputs": [],
   "source": [
    "static_df = pd.concat([static_df, times_df], axis=1)"
   ]
  },
  {
   "cell_type": "raw",
   "metadata": {},
   "source": [
    "list(static_df.dtypes[static_df.dtypes == 'object'].index)"
   ]
  },
  {
   "cell_type": "raw",
   "metadata": {},
   "source": [
    "static_df[['ed_wait_time',\n",
    "'worst_pf_pa',\n",
    "'worst_pf_sp',\n",
    "'total_icu_days',\n",
    "'total_vent_days',\n",
    "'total_hosp_days',\n",
    "'discharge_status',\n",
    "'age']].astype(float)"
   ]
  },
  {
   "cell_type": "raw",
   "metadata": {},
   "source": [
    "# floatss=list(super_df.dtypes[super_df.dtypes == 'object'].index)\n",
    "floats_dict = {k: static_schema[k] for k in static_schema if static_schema[k] == 'Float64'}\n",
    "floats_dict"
   ]
  },
  {
   "cell_type": "code",
   "execution_count": null,
   "metadata": {},
   "outputs": [],
   "source": [
    "static_schema = {}\n",
    "for key in static_keys:\n",
    "    static_schema = static_schema | pandas_schema[\"static\"][key]\n",
    "for key in times_keys:\n",
    "    static_schema = static_schema | pandas_schema[\"static\"][\"times\"][key]\n",
    "try:\n",
    "    static_df = static_df.astype(static_schema)\n",
    "except KeyError as e:\n",
    "    print(f\"KeyError in {str(pickle_path.stem)}: {e}\")"
   ]
  },
  {
   "cell_type": "code",
   "execution_count": null,
   "metadata": {},
   "outputs": [],
   "source": [
    "static_df.rename(\n",
    "    columns={\n",
    "        \"t_suspicion\": \"times_suspicion_sepsis3\",\n",
    "        \"t_SOFA\": \"times_SOFA\",\n",
    "        \"t_sepsis3\": \"times_sepsis3\",\n",
    "        \"t_abx\": \"times_abx_order\",\n",
    "        \"t_clt\": \"times_culture\",\n",
    "    },\n",
    "    inplace=True,\n",
    ")\n",
    "\n",
    "# Re-casting `ed_wait_time` containing multiple data-types that cannot be natively used together\n",
    "# TODO: Make this less ugly\n",
    "if type(static_df[\"ed_wait_time\"].iloc[0]) is pd.Timedelta:\n",
    "    static_df[\"ed_wait_time\"].iloc[0] = float(\n",
    "        static_df[\"ed_wait_time\"].iloc[0].seconds / 60\n",
    "    )\n",
    "if pd.isnull(static_df[\"ed_wait_time\"][0]):\n",
    "    static_df[\"ed_wait_time\"].iloc[0] = 0.0\n",
    "    static_df[\"ed_wait_time\"].iloc[0] = float(\"nan\")  # TODO: Try using pd.NA\n",
    "\n",
    "static_table = pa.Table.from_pandas(static_df, preserve_index=False)\n",
    "\n",
    "output_folder = output_path / \"static_df\" / str(pickle_path.parent.stem)\n",
    "output_folder.mkdir(parents=True, exist_ok=True)\n",
    "\n",
    "pq.write_table(\n",
    "    static_table,\n",
    "    output_folder / f\"{pickle_path.stem}.parquet\",\n",
    "    # TODO: Get from config\n",
    "    version=\"2.6\",\n",
    "    compression=\"snappy\",\n",
    ")"
   ]
  },
  {
   "cell_type": "code",
   "execution_count": null,
   "metadata": {},
   "outputs": [],
   "source": [
    "static_df = get_static_df(encounter_pickle)"
   ]
  },
  {
   "cell_type": "code",
   "execution_count": null,
   "metadata": {},
   "outputs": [],
   "source": [
    "static_df.dtypes"
   ]
  },
  {
   "cell_type": "markdown",
   "metadata": {},
   "source": [
    "### Covid column issue in grady"
   ]
  },
  {
   "cell_type": "raw",
   "metadata": {},
   "source": [
    "1020708686"
   ]
  },
  {
   "cell_type": "code",
   "execution_count": 8,
   "metadata": {},
   "outputs": [
    {
     "name": "stderr",
     "output_type": "stream",
     "text": [
      "100%|██████████| 7/7 [00:01<00:00,  3.80it/s]\n"
     ]
    }
   ],
   "source": [
    "pickle_paths = find_pickle_paths(site_name, sample_rate)"
   ]
  },
  {
   "cell_type": "raw",
   "metadata": {},
   "source": [
    "len(pickle_paths)"
   ]
  },
  {
   "cell_type": "code",
   "execution_count": 10,
   "metadata": {},
   "outputs": [],
   "source": [
    "pickle_path = pickle_paths[100]"
   ]
  },
  {
   "cell_type": "code",
   "execution_count": 11,
   "metadata": {},
   "outputs": [],
   "source": [
    "encounter_pickle = load_pickle(pickle_path)"
   ]
  },
  {
   "cell_type": "code",
   "execution_count": 12,
   "metadata": {},
   "outputs": [],
   "source": [
    "super_df = encounter_pickle[\"super_table\"]"
   ]
  },
  {
   "cell_type": "raw",
   "metadata": {},
   "source": [
    "types = {}\n",
    "for pickle_path in tqdm(pickle_paths[:1000]):\n",
    "    encounter_pickle = load_pickle(pickle_path)\n",
    "    super_df = encounter_pickle[\"super_table\"]\n",
    "    types[pickle_path.stem] = super_df['covid'].unique()"
   ]
  },
  {
   "cell_type": "code",
   "execution_count": 13,
   "metadata": {},
   "outputs": [],
   "source": [
    "super_schema = {}\n",
    "for col in super_df.columns:\n",
    "    try:\n",
    "        super_schema[col] = pandas_schema[\"dynamic\"][\"super_table\"][col]\n",
    "    except KeyError as e:\n",
    "        print(f\"KeyError in {str(pickle_path.stem)}: {e}\")"
   ]
  },
  {
   "cell_type": "code",
   "execution_count": 14,
   "metadata": {},
   "outputs": [
    {
     "data": {
      "text/plain": [
       "['icu', 'imc', 'ed', 'procedure']"
      ]
     },
     "execution_count": 14,
     "metadata": {},
     "output_type": "execute_result"
    }
   ],
   "source": [
    "list(super_df.dtypes[super_df.dtypes == 'object'].index)"
   ]
  },
  {
   "cell_type": "raw",
   "metadata": {},
   "source": [
    "objs=list(super_df.dtypes[super_df.dtypes == 'object'].index)\n",
    "objs_dict = {k: super_schema[k] for k in objs }"
   ]
  },
  {
   "cell_type": "raw",
   "metadata": {},
   "source": [
    "objs_dict"
   ]
  },
  {
   "cell_type": "code",
   "execution_count": 30,
   "metadata": {},
   "outputs": [
    {
     "name": "stderr",
     "output_type": "stream",
     "text": [
      "  1%|          | 85/10000 [00:03<07:39, 21.57it/s]\n"
     ]
    },
    {
     "ename": "KeyboardInterrupt",
     "evalue": "",
     "output_type": "error",
     "traceback": [
      "\u001b[0;31m---------------------------------------------------------------------------\u001b[0m",
      "\u001b[0;31mKeyboardInterrupt\u001b[0m                         Traceback (most recent call last)",
      "Input \u001b[0;32mIn [30]\u001b[0m, in \u001b[0;36m<cell line: 1>\u001b[0;34m()\u001b[0m\n\u001b[1;32m      1\u001b[0m \u001b[38;5;28;01mfor\u001b[39;00m pickle_path \u001b[38;5;129;01min\u001b[39;00m tqdm(pickle_paths[:\u001b[38;5;241m10_000\u001b[39m]):\n\u001b[0;32m----> 2\u001b[0m     encounter_pickle \u001b[38;5;241m=\u001b[39m \u001b[43mload_pickle\u001b[49m\u001b[43m(\u001b[49m\u001b[43mpickle_path\u001b[49m\u001b[43m)\u001b[49m\n\u001b[1;32m      3\u001b[0m     super_df \u001b[38;5;241m=\u001b[39m encounter_pickle[\u001b[38;5;124m\"\u001b[39m\u001b[38;5;124msuper_table\u001b[39m\u001b[38;5;124m\"\u001b[39m]\n\u001b[1;32m      4\u001b[0m     \u001b[38;5;28;01mfor\u001b[39;00m key \u001b[38;5;129;01min\u001b[39;00m \u001b[38;5;28mset\u001b[39m(pandas_schema[\u001b[38;5;124m\"\u001b[39m\u001b[38;5;124mdynamic\u001b[39m\u001b[38;5;124m\"\u001b[39m][\u001b[38;5;124m\"\u001b[39m\u001b[38;5;124msuper_table\u001b[39m\u001b[38;5;124m\"\u001b[39m]\u001b[38;5;241m.\u001b[39mkeys()) \u001b[38;5;241m-\u001b[39m \u001b[38;5;28mset\u001b[39m(\n\u001b[1;32m      5\u001b[0m     super_df\u001b[38;5;241m.\u001b[39mcolumns\n\u001b[1;32m      6\u001b[0m ):\n\u001b[1;32m      7\u001b[0m         \u001b[38;5;66;03m# TODO: Log these events\u001b[39;00m\n",
      "File \u001b[0;32m/opt/bmi-585r/KLAB_SAIL/MODSPhenotypes/src/emory/utils.py:23\u001b[0m, in \u001b[0;36mload_pickle\u001b[0;34m(pickle_fp)\u001b[0m\n\u001b[1;32m     22\u001b[0m \u001b[38;5;28;01mdef\u001b[39;00m \u001b[38;5;21mload_pickle\u001b[39m(pickle_fp):\n\u001b[0;32m---> 23\u001b[0m     file \u001b[38;5;241m=\u001b[39m \u001b[38;5;28;43mopen\u001b[39;49m\u001b[43m(\u001b[49m\u001b[43mpickle_fp\u001b[49m\u001b[43m,\u001b[49m\u001b[43m \u001b[49m\u001b[38;5;124;43m\"\u001b[39;49m\u001b[38;5;124;43mrb\u001b[39;49m\u001b[38;5;124;43m\"\u001b[39;49m\u001b[43m)\u001b[49m\n\u001b[1;32m     24\u001b[0m     pkl \u001b[38;5;241m=\u001b[39m pickle\u001b[38;5;241m.\u001b[39mload(file, encoding\u001b[38;5;241m=\u001b[39m\u001b[38;5;124m\"\u001b[39m\u001b[38;5;124mbytes\u001b[39m\u001b[38;5;124m\"\u001b[39m)\n\u001b[1;32m     25\u001b[0m     file\u001b[38;5;241m.\u001b[39mclose()\n",
      "\u001b[0;31mKeyboardInterrupt\u001b[0m: "
     ]
    }
   ],
   "source": [
    "for pickle_path in tqdm(pickle_paths[:10_000]):\n",
    "    encounter_pickle = load_pickle(pickle_path)\n",
    "    super_df = encounter_pickle[\"super_table\"]\n",
    "    for key in set(pandas_schema[\"dynamic\"][\"super_table\"].keys()) - set(\n",
    "    super_df.columns\n",
    "):\n",
    "        # TODO: Log these events\n",
    "        super_df[key] = None\n",
    "        super_df[key] = super_df[key].astype(\n",
    "            pandas_schema[\"dynamic\"][\"super_table\"][key]\n",
    "        )\n",
    "    # The covid column in the Grady pickles has mixed datatypes and needs to be cast\n",
    "    super_df['covid'] = super_df['covid'].replace('Positive',1.0).replace('Negative',0.0).astype(float)\n",
    "    \n",
    "    # mtp column in grady is a string and needs to be converted to float\n",
    "    super_df['mtp'] = super_df['mtp'].replace('COMPLETE',1.0).astype(float)\n",
    "    \n",
    "    super_df.astype(super_schema)"
   ]
  },
  {
   "cell_type": "code",
   "execution_count": 25,
   "metadata": {},
   "outputs": [
    {
     "data": {
      "text/plain": [
       "['mtp', 'icu', 'imc', 'ed', 'procedure', 'csn', 'pat_id']"
      ]
     },
     "execution_count": 25,
     "metadata": {},
     "output_type": "execute_result"
    }
   ],
   "source": [
    "list(super_df.dtypes[super_df.dtypes == 'object'].index)"
   ]
  },
  {
   "cell_type": "code",
   "execution_count": 27,
   "metadata": {},
   "outputs": [
    {
     "data": {
      "text/plain": [
       "array(['COMPLETE', nan], dtype=object)"
      ]
     },
     "execution_count": 27,
     "metadata": {},
     "output_type": "execute_result"
    }
   ],
   "source": [
    "super_df['mtp'].unique()"
   ]
  },
  {
   "cell_type": "code",
   "execution_count": 24,
   "metadata": {},
   "outputs": [
    {
     "name": "stderr",
     "output_type": "stream",
     "text": [
      "  0%|          | 0/7 [00:00<?, ?it/s]\n"
     ]
    },
    {
     "ename": "ValueError",
     "evalue": "could not convert string to float: 'COMPLETE'",
     "output_type": "error",
     "traceback": [
      "\u001b[0;31m---------------------------------------------------------------------------\u001b[0m",
      "\u001b[0;31mValueError\u001b[0m                                Traceback (most recent call last)",
      "Input \u001b[0;32mIn [24]\u001b[0m, in \u001b[0;36m<cell line: 1>\u001b[0;34m()\u001b[0m\n\u001b[1;32m      1\u001b[0m \u001b[38;5;28;01mfor\u001b[39;00m col \u001b[38;5;129;01min\u001b[39;00m tqdm(\u001b[38;5;28mlist\u001b[39m(super_df\u001b[38;5;241m.\u001b[39mdtypes[super_df\u001b[38;5;241m.\u001b[39mdtypes \u001b[38;5;241m==\u001b[39m \u001b[38;5;124m'\u001b[39m\u001b[38;5;124mobject\u001b[39m\u001b[38;5;124m'\u001b[39m]\u001b[38;5;241m.\u001b[39mindex)):\n\u001b[0;32m----> 2\u001b[0m     \u001b[43msuper_df\u001b[49m\u001b[43m[\u001b[49m\u001b[43mcol\u001b[49m\u001b[43m]\u001b[49m\u001b[38;5;241;43m.\u001b[39;49m\u001b[43mastype\u001b[49m\u001b[43m(\u001b[49m\u001b[38;5;28;43mfloat\u001b[39;49m\u001b[43m)\u001b[49m\n",
      "File \u001b[0;32m~/MODSPhenotypes/miniconda3/envs/mods/lib/python3.10/site-packages/pandas/core/generic.py:5912\u001b[0m, in \u001b[0;36mNDFrame.astype\u001b[0;34m(self, dtype, copy, errors)\u001b[0m\n\u001b[1;32m   5905\u001b[0m     results \u001b[38;5;241m=\u001b[39m [\n\u001b[1;32m   5906\u001b[0m         \u001b[38;5;28mself\u001b[39m\u001b[38;5;241m.\u001b[39miloc[:, i]\u001b[38;5;241m.\u001b[39mastype(dtype, copy\u001b[38;5;241m=\u001b[39mcopy)\n\u001b[1;32m   5907\u001b[0m         \u001b[38;5;28;01mfor\u001b[39;00m i \u001b[38;5;129;01min\u001b[39;00m \u001b[38;5;28mrange\u001b[39m(\u001b[38;5;28mlen\u001b[39m(\u001b[38;5;28mself\u001b[39m\u001b[38;5;241m.\u001b[39mcolumns))\n\u001b[1;32m   5908\u001b[0m     ]\n\u001b[1;32m   5910\u001b[0m \u001b[38;5;28;01melse\u001b[39;00m:\n\u001b[1;32m   5911\u001b[0m     \u001b[38;5;66;03m# else, only a single dtype is given\u001b[39;00m\n\u001b[0;32m-> 5912\u001b[0m     new_data \u001b[38;5;241m=\u001b[39m \u001b[38;5;28;43mself\u001b[39;49m\u001b[38;5;241;43m.\u001b[39;49m\u001b[43m_mgr\u001b[49m\u001b[38;5;241;43m.\u001b[39;49m\u001b[43mastype\u001b[49m\u001b[43m(\u001b[49m\u001b[43mdtype\u001b[49m\u001b[38;5;241;43m=\u001b[39;49m\u001b[43mdtype\u001b[49m\u001b[43m,\u001b[49m\u001b[43m \u001b[49m\u001b[43mcopy\u001b[49m\u001b[38;5;241;43m=\u001b[39;49m\u001b[43mcopy\u001b[49m\u001b[43m,\u001b[49m\u001b[43m \u001b[49m\u001b[43merrors\u001b[49m\u001b[38;5;241;43m=\u001b[39;49m\u001b[43merrors\u001b[49m\u001b[43m)\u001b[49m\n\u001b[1;32m   5913\u001b[0m     \u001b[38;5;28;01mreturn\u001b[39;00m \u001b[38;5;28mself\u001b[39m\u001b[38;5;241m.\u001b[39m_constructor(new_data)\u001b[38;5;241m.\u001b[39m__finalize__(\u001b[38;5;28mself\u001b[39m, method\u001b[38;5;241m=\u001b[39m\u001b[38;5;124m\"\u001b[39m\u001b[38;5;124mastype\u001b[39m\u001b[38;5;124m\"\u001b[39m)\n\u001b[1;32m   5915\u001b[0m \u001b[38;5;66;03m# GH 33113: handle empty frame or series\u001b[39;00m\n",
      "File \u001b[0;32m~/MODSPhenotypes/miniconda3/envs/mods/lib/python3.10/site-packages/pandas/core/internals/managers.py:419\u001b[0m, in \u001b[0;36mBaseBlockManager.astype\u001b[0;34m(self, dtype, copy, errors)\u001b[0m\n\u001b[1;32m    418\u001b[0m \u001b[38;5;28;01mdef\u001b[39;00m \u001b[38;5;21mastype\u001b[39m(\u001b[38;5;28mself\u001b[39m: T, dtype, copy: \u001b[38;5;28mbool\u001b[39m \u001b[38;5;241m=\u001b[39m \u001b[38;5;28;01mFalse\u001b[39;00m, errors: \u001b[38;5;28mstr\u001b[39m \u001b[38;5;241m=\u001b[39m \u001b[38;5;124m\"\u001b[39m\u001b[38;5;124mraise\u001b[39m\u001b[38;5;124m\"\u001b[39m) \u001b[38;5;241m-\u001b[39m\u001b[38;5;241m>\u001b[39m T:\n\u001b[0;32m--> 419\u001b[0m     \u001b[38;5;28;01mreturn\u001b[39;00m \u001b[38;5;28;43mself\u001b[39;49m\u001b[38;5;241;43m.\u001b[39;49m\u001b[43mapply\u001b[49m\u001b[43m(\u001b[49m\u001b[38;5;124;43m\"\u001b[39;49m\u001b[38;5;124;43mastype\u001b[39;49m\u001b[38;5;124;43m\"\u001b[39;49m\u001b[43m,\u001b[49m\u001b[43m \u001b[49m\u001b[43mdtype\u001b[49m\u001b[38;5;241;43m=\u001b[39;49m\u001b[43mdtype\u001b[49m\u001b[43m,\u001b[49m\u001b[43m \u001b[49m\u001b[43mcopy\u001b[49m\u001b[38;5;241;43m=\u001b[39;49m\u001b[43mcopy\u001b[49m\u001b[43m,\u001b[49m\u001b[43m \u001b[49m\u001b[43merrors\u001b[49m\u001b[38;5;241;43m=\u001b[39;49m\u001b[43merrors\u001b[49m\u001b[43m)\u001b[49m\n",
      "File \u001b[0;32m~/MODSPhenotypes/miniconda3/envs/mods/lib/python3.10/site-packages/pandas/core/internals/managers.py:304\u001b[0m, in \u001b[0;36mBaseBlockManager.apply\u001b[0;34m(self, f, align_keys, ignore_failures, **kwargs)\u001b[0m\n\u001b[1;32m    302\u001b[0m         applied \u001b[38;5;241m=\u001b[39m b\u001b[38;5;241m.\u001b[39mapply(f, \u001b[38;5;241m*\u001b[39m\u001b[38;5;241m*\u001b[39mkwargs)\n\u001b[1;32m    303\u001b[0m     \u001b[38;5;28;01melse\u001b[39;00m:\n\u001b[0;32m--> 304\u001b[0m         applied \u001b[38;5;241m=\u001b[39m \u001b[38;5;28;43mgetattr\u001b[39;49m\u001b[43m(\u001b[49m\u001b[43mb\u001b[49m\u001b[43m,\u001b[49m\u001b[43m \u001b[49m\u001b[43mf\u001b[49m\u001b[43m)\u001b[49m\u001b[43m(\u001b[49m\u001b[38;5;241;43m*\u001b[39;49m\u001b[38;5;241;43m*\u001b[39;49m\u001b[43mkwargs\u001b[49m\u001b[43m)\u001b[49m\n\u001b[1;32m    305\u001b[0m \u001b[38;5;28;01mexcept\u001b[39;00m (\u001b[38;5;167;01mTypeError\u001b[39;00m, \u001b[38;5;167;01mNotImplementedError\u001b[39;00m):\n\u001b[1;32m    306\u001b[0m     \u001b[38;5;28;01mif\u001b[39;00m \u001b[38;5;129;01mnot\u001b[39;00m ignore_failures:\n",
      "File \u001b[0;32m~/MODSPhenotypes/miniconda3/envs/mods/lib/python3.10/site-packages/pandas/core/internals/blocks.py:580\u001b[0m, in \u001b[0;36mBlock.astype\u001b[0;34m(self, dtype, copy, errors)\u001b[0m\n\u001b[1;32m    562\u001b[0m \u001b[38;5;124;03m\"\"\"\u001b[39;00m\n\u001b[1;32m    563\u001b[0m \u001b[38;5;124;03mCoerce to the new dtype.\u001b[39;00m\n\u001b[1;32m    564\u001b[0m \n\u001b[0;32m   (...)\u001b[0m\n\u001b[1;32m    576\u001b[0m \u001b[38;5;124;03mBlock\u001b[39;00m\n\u001b[1;32m    577\u001b[0m \u001b[38;5;124;03m\"\"\"\u001b[39;00m\n\u001b[1;32m    578\u001b[0m values \u001b[38;5;241m=\u001b[39m \u001b[38;5;28mself\u001b[39m\u001b[38;5;241m.\u001b[39mvalues\n\u001b[0;32m--> 580\u001b[0m new_values \u001b[38;5;241m=\u001b[39m \u001b[43mastype_array_safe\u001b[49m\u001b[43m(\u001b[49m\u001b[43mvalues\u001b[49m\u001b[43m,\u001b[49m\u001b[43m \u001b[49m\u001b[43mdtype\u001b[49m\u001b[43m,\u001b[49m\u001b[43m \u001b[49m\u001b[43mcopy\u001b[49m\u001b[38;5;241;43m=\u001b[39;49m\u001b[43mcopy\u001b[49m\u001b[43m,\u001b[49m\u001b[43m \u001b[49m\u001b[43merrors\u001b[49m\u001b[38;5;241;43m=\u001b[39;49m\u001b[43merrors\u001b[49m\u001b[43m)\u001b[49m\n\u001b[1;32m    582\u001b[0m new_values \u001b[38;5;241m=\u001b[39m maybe_coerce_values(new_values)\n\u001b[1;32m    583\u001b[0m newb \u001b[38;5;241m=\u001b[39m \u001b[38;5;28mself\u001b[39m\u001b[38;5;241m.\u001b[39mmake_block(new_values)\n",
      "File \u001b[0;32m~/MODSPhenotypes/miniconda3/envs/mods/lib/python3.10/site-packages/pandas/core/dtypes/cast.py:1292\u001b[0m, in \u001b[0;36mastype_array_safe\u001b[0;34m(values, dtype, copy, errors)\u001b[0m\n\u001b[1;32m   1289\u001b[0m     dtype \u001b[38;5;241m=\u001b[39m dtype\u001b[38;5;241m.\u001b[39mnumpy_dtype\n\u001b[1;32m   1291\u001b[0m \u001b[38;5;28;01mtry\u001b[39;00m:\n\u001b[0;32m-> 1292\u001b[0m     new_values \u001b[38;5;241m=\u001b[39m \u001b[43mastype_array\u001b[49m\u001b[43m(\u001b[49m\u001b[43mvalues\u001b[49m\u001b[43m,\u001b[49m\u001b[43m \u001b[49m\u001b[43mdtype\u001b[49m\u001b[43m,\u001b[49m\u001b[43m \u001b[49m\u001b[43mcopy\u001b[49m\u001b[38;5;241;43m=\u001b[39;49m\u001b[43mcopy\u001b[49m\u001b[43m)\u001b[49m\n\u001b[1;32m   1293\u001b[0m \u001b[38;5;28;01mexcept\u001b[39;00m (\u001b[38;5;167;01mValueError\u001b[39;00m, \u001b[38;5;167;01mTypeError\u001b[39;00m):\n\u001b[1;32m   1294\u001b[0m     \u001b[38;5;66;03m# e.g. astype_nansafe can fail on object-dtype of strings\u001b[39;00m\n\u001b[1;32m   1295\u001b[0m     \u001b[38;5;66;03m#  trying to convert to float\u001b[39;00m\n\u001b[1;32m   1296\u001b[0m     \u001b[38;5;28;01mif\u001b[39;00m errors \u001b[38;5;241m==\u001b[39m \u001b[38;5;124m\"\u001b[39m\u001b[38;5;124mignore\u001b[39m\u001b[38;5;124m\"\u001b[39m:\n",
      "File \u001b[0;32m~/MODSPhenotypes/miniconda3/envs/mods/lib/python3.10/site-packages/pandas/core/dtypes/cast.py:1237\u001b[0m, in \u001b[0;36mastype_array\u001b[0;34m(values, dtype, copy)\u001b[0m\n\u001b[1;32m   1234\u001b[0m     values \u001b[38;5;241m=\u001b[39m values\u001b[38;5;241m.\u001b[39mastype(dtype, copy\u001b[38;5;241m=\u001b[39mcopy)\n\u001b[1;32m   1236\u001b[0m \u001b[38;5;28;01melse\u001b[39;00m:\n\u001b[0;32m-> 1237\u001b[0m     values \u001b[38;5;241m=\u001b[39m \u001b[43mastype_nansafe\u001b[49m\u001b[43m(\u001b[49m\u001b[43mvalues\u001b[49m\u001b[43m,\u001b[49m\u001b[43m \u001b[49m\u001b[43mdtype\u001b[49m\u001b[43m,\u001b[49m\u001b[43m \u001b[49m\u001b[43mcopy\u001b[49m\u001b[38;5;241;43m=\u001b[39;49m\u001b[43mcopy\u001b[49m\u001b[43m)\u001b[49m\n\u001b[1;32m   1239\u001b[0m \u001b[38;5;66;03m# in pandas we don't store numpy str dtypes, so convert to object\u001b[39;00m\n\u001b[1;32m   1240\u001b[0m \u001b[38;5;28;01mif\u001b[39;00m \u001b[38;5;28misinstance\u001b[39m(dtype, np\u001b[38;5;241m.\u001b[39mdtype) \u001b[38;5;129;01mand\u001b[39;00m \u001b[38;5;28missubclass\u001b[39m(values\u001b[38;5;241m.\u001b[39mdtype\u001b[38;5;241m.\u001b[39mtype, \u001b[38;5;28mstr\u001b[39m):\n",
      "File \u001b[0;32m~/MODSPhenotypes/miniconda3/envs/mods/lib/python3.10/site-packages/pandas/core/dtypes/cast.py:1181\u001b[0m, in \u001b[0;36mastype_nansafe\u001b[0;34m(arr, dtype, copy, skipna)\u001b[0m\n\u001b[1;32m   1177\u001b[0m     \u001b[38;5;28;01mraise\u001b[39;00m \u001b[38;5;167;01mValueError\u001b[39;00m(msg)\n\u001b[1;32m   1179\u001b[0m \u001b[38;5;28;01mif\u001b[39;00m copy \u001b[38;5;129;01mor\u001b[39;00m is_object_dtype(arr\u001b[38;5;241m.\u001b[39mdtype) \u001b[38;5;129;01mor\u001b[39;00m is_object_dtype(dtype):\n\u001b[1;32m   1180\u001b[0m     \u001b[38;5;66;03m# Explicit copy, or required since NumPy can't view from / to object.\u001b[39;00m\n\u001b[0;32m-> 1181\u001b[0m     \u001b[38;5;28;01mreturn\u001b[39;00m \u001b[43marr\u001b[49m\u001b[38;5;241;43m.\u001b[39;49m\u001b[43mastype\u001b[49m\u001b[43m(\u001b[49m\u001b[43mdtype\u001b[49m\u001b[43m,\u001b[49m\u001b[43m \u001b[49m\u001b[43mcopy\u001b[49m\u001b[38;5;241;43m=\u001b[39;49m\u001b[38;5;28;43;01mTrue\u001b[39;49;00m\u001b[43m)\u001b[49m\n\u001b[1;32m   1183\u001b[0m \u001b[38;5;28;01mreturn\u001b[39;00m arr\u001b[38;5;241m.\u001b[39mastype(dtype, copy\u001b[38;5;241m=\u001b[39mcopy)\n",
      "\u001b[0;31mValueError\u001b[0m: could not convert string to float: 'COMPLETE'"
     ]
    }
   ],
   "source": [
    "for col in tqdm(list(super_df.dtypes[super_df.dtypes == 'object'].index)):\n",
    "    super_df[col].astype(float)"
   ]
  },
  {
   "cell_type": "code",
   "execution_count": null,
   "metadata": {},
   "outputs": [],
   "source": [
    "def debug_super(fp, schema=arrow_static_schema):\n",
    "    try:\n",
    "        static_table = pq.read_table(fp,\n",
    "            schema=schema)\n",
    "    except pa.ArrowInvalid as e:\n",
    "        print(f\"ERROR RAISED :: {fp.stem}\", str(e))\n",
    "        return (fp.stem, str(e))"
   ]
  },
  {
   "cell_type": "markdown",
   "metadata": {
    "tags": []
   },
   "source": [
    "## Move all the malformed static parquets elsewhere for inspection"
   ]
  },
  {
   "cell_type": "code",
   "execution_count": null,
   "metadata": {},
   "outputs": [],
   "source": [
    "from functools import reduce"
   ]
  },
  {
   "cell_type": "code",
   "execution_count": null,
   "metadata": {},
   "outputs": [],
   "source": [
    "from tqdm.auto import tqdm"
   ]
  },
  {
   "cell_type": "code",
   "execution_count": null,
   "metadata": {},
   "outputs": [],
   "source": [
    "import shutil"
   ]
  },
  {
   "cell_type": "code",
   "execution_count": null,
   "metadata": {},
   "outputs": [],
   "source": [
    "input_path = Path('/opt/bmi-585r/KLAB_SAIL/MODSPhenotypes/data/2022_08_01/extraction/emory/')"
   ]
  },
  {
   "cell_type": "code",
   "execution_count": null,
   "metadata": {},
   "outputs": [],
   "source": [
    "years = set(range(2014, 2022)) - set([2015])"
   ]
  },
  {
   "cell_type": "code",
   "execution_count": null,
   "metadata": {},
   "outputs": [],
   "source": [
    "static_schema = (\n",
    "    reduce(lambda a, b: {**a, **b}, [arrow_schema['static'][k] for k in static_keys])\n",
    "    |\n",
    "    reduce(lambda a, b: {**a, **b}, [arrow_schema['static']['times'][k] for k in times_keys])\n",
    "    )\n",
    "\n",
    "arrow_static_schema = make_arrow_schema(static_schema)"
   ]
  },
  {
   "cell_type": "code",
   "execution_count": null,
   "metadata": {
    "tags": []
   },
   "outputs": [],
   "source": [
    "def __debug_static(fp, schema=arrow_static_schema):\n",
    "    for i in range(len(schema)):\n",
    "        # print(i, arrow_static_schema[i].name)\n",
    "        try:\n",
    "            static_table = pq.read_table(fp,\n",
    "                schema=schema,\n",
    "                columns=[schema[i].name]\n",
    "            )\n",
    "        except pa.ArrowInvalid as e:\n",
    "            print(f\"ERROR RAISED :: {fp.stem}\", i, schema[i].name, str(e))\n",
    "            return (fp.stem, e)\n",
    "        \n",
    "def debug_static(fp, schema=arrow_static_schema):\n",
    "    try:\n",
    "        static_table = pq.read_table(fp,\n",
    "            schema=schema)\n",
    "    except pa.ArrowInvalid as e:\n",
    "        print(f\"ERROR RAISED :: {fp.stem}\", str(e))\n",
    "        return (fp.stem, str(e))"
   ]
  },
  {
   "cell_type": "markdown",
   "metadata": {},
   "source": [
    "---"
   ]
  },
  {
   "cell_type": "code",
   "execution_count": null,
   "metadata": {},
   "outputs": [],
   "source": [
    "static_fps = []\n",
    "yr = 2014\n",
    "\n",
    "for year in tqdm([yr]):\n",
    "    static_fps += find_files(source_path=input_path/'static_df'/str(year), ext='.parquet')"
   ]
  },
  {
   "cell_type": "code",
   "execution_count": null,
   "metadata": {},
   "outputs": [],
   "source": [
    "results = [x for x in run_imap_multiprocessing(debug_static,\n",
    "                                               static_fps,\n",
    "                                               num_processes=180) if x is not None]"
   ]
  },
  {
   "cell_type": "code",
   "execution_count": null,
   "metadata": {},
   "outputs": [],
   "source": [
    "error_df = pd.DataFrame(results, columns=['csn','error'])\n",
    "error_df['error'] = error_df.error.astype(str)\n",
    "error_df.groupby('error').count()"
   ]
  },
  {
   "cell_type": "code",
   "execution_count": null,
   "metadata": {},
   "outputs": [],
   "source": [
    "bad_fps=[Path(f\"/opt/bmi-585r/KLAB_SAIL/MODSPhenotypes/data/2022_08_01/extraction/emory/static_df/{str(year)}/{r[0]}.parquet\") for r in results]"
   ]
  },
  {
   "cell_type": "code",
   "execution_count": null,
   "metadata": {},
   "outputs": [],
   "source": [
    "malform_path = Path(f\"/opt/bmi-585r/KLAB_SAIL/MODSPhenotypes/data/2022_08_01/extraction/emory/static_df_MALFORMED/{str(year)}/\")\n",
    "malform_path.mkdir(parents=True, exist_ok=True)"
   ]
  },
  {
   "cell_type": "code",
   "execution_count": null,
   "metadata": {},
   "outputs": [],
   "source": [
    "for fp in bad_fps:\n",
    "    try:\n",
    "        target_fp = malform_path/fp.with_suffix('.MALFORMED').name\n",
    "        shutil.move(fp, target_fp)\n",
    "    except FileNotFoundError as e:\n",
    "        print(fp.stem)"
   ]
  },
  {
   "cell_type": "code",
   "execution_count": null,
   "metadata": {
    "tags": []
   },
   "outputs": [],
   "source": [
    "pq.read_table(f\"/opt/bmi-585r/KLAB_SAIL/MODSPhenotypes/data/2022_08_01/extraction/emory/static_df/{str(year)}/\", schema=arrow_static_schema)"
   ]
  },
  {
   "cell_type": "markdown",
   "metadata": {
    "jp-MarkdownHeadingCollapsed": true,
    "tags": []
   },
   "source": [
    "## Debugging schema issues"
   ]
  },
  {
   "cell_type": "code",
   "execution_count": null,
   "metadata": {
    "tags": []
   },
   "outputs": [],
   "source": [
    "for i in range(len(arrow_static_schema)):\n",
    "    try:\n",
    "        static_table = pq.read_table('/opt/bmi-585r/KLAB_SAIL/MODSPhenotypes/data/2022_07_30/extraction/emory/static_df/2014/',\n",
    "                                 schema=arrow_static_schema,\n",
    "                                 columns=[arrow_static_schema[i].name])\n",
    "    except:\n",
    "        print(i, arrow_static_schema[i].name)\n",
    "\n",
    "pq.read_table('/opt/bmi-585r/KLAB_SAIL/MODSPhenotypes/data/2022_07_30/extraction/emory/static_df/2014/',\n",
    "                                 schema=arrow_static_schema,\n",
    "                                 columns=['times_suspicion_sepsis3'])\n"
   ]
  },
  {
   "cell_type": "markdown",
   "metadata": {
    "tags": []
   },
   "source": [
    "## Workbench"
   ]
  },
  {
   "cell_type": "code",
   "execution_count": null,
   "metadata": {},
   "outputs": [],
   "source": [
    "%%time\n",
    "from collections import Counter\n",
    "numz = []\n",
    "typez = Counter()\n",
    "\n",
    "def get_stuffz(pickle_path):\n",
    "    encounter_pickle = load_pickle(pickle_path)\n",
    "    return get_typez(encounter_pickle), get_numz(encounter_pickle)\n",
    "\n",
    "def get_typez(encounter_pickle):\n",
    "    try:\n",
    "        return type(encounter_pickle['flags']['ed_wait_time'])\n",
    "    except KeyError:\n",
    "        return KeyError\n",
    "    \n",
    "def get_numz(encounter_pickle):\n",
    "    try:\n",
    "        return float(encounter_pickle['flags']['ed_wait_time'])\n",
    "    except KeyError:\n",
    "        return KeyError\n",
    "    \n",
    "with Pool(processes=num_cpus) as pool:\n",
    "    for typ, num in tqdm(\n",
    "        pool.imap(func=get_stuffz, iterable=pickle_paths), total=len(pickle_paths)\n",
    "    ):\n",
    "        typez[typ] += 1\n",
    "        numz.append(num)"
   ]
  },
  {
   "cell_type": "code",
   "execution_count": null,
   "metadata": {},
   "outputs": [],
   "source": [
    "display(typez)"
   ]
  },
  {
   "cell_type": "code",
   "execution_count": null,
   "metadata": {},
   "outputs": [],
   "source": [
    "import math"
   ]
  },
  {
   "cell_type": "code",
   "execution_count": null,
   "metadata": {},
   "outputs": [],
   "source": [
    "sams = list(filter(lambda n: not math.isnan(n), list(filter(lambda n: (n != KeyError), numz))))"
   ]
  },
  {
   "cell_type": "code",
   "execution_count": null,
   "metadata": {},
   "outputs": [],
   "source": [
    "pd.Series(sams).describe()"
   ]
  },
  {
   "cell_type": "code",
   "execution_count": null,
   "metadata": {},
   "outputs": [],
   "source": [
    "numz=pd.Series(numz)"
   ]
  },
  {
   "cell_type": "code",
   "execution_count": null,
   "metadata": {},
   "outputs": [],
   "source": [
    "numz.replace(KeyError, np.nan,)"
   ]
  },
  {
   "cell_type": "code",
   "execution_count": null,
   "metadata": {},
   "outputs": [],
   "source": [
    "encounter_pickle = load_pickle(pickle_paths[9413])\n",
    "ed_wait_time = encounter_pickle['flags']['ed_wait_time']\n",
    "ed_wait_time"
   ]
  },
  {
   "cell_type": "code",
   "execution_count": null,
   "metadata": {},
   "outputs": [],
   "source": [
    "pd.Timedelta(569.633333333, unit='min').seconds/60"
   ]
  },
  {
   "cell_type": "code",
   "execution_count": null,
   "metadata": {},
   "outputs": [],
   "source": [
    "if type(x) == pd.Timedelta:\n",
    "    return float(x.seconds/60)\n",
    "if type(x) == pd.NaT:\n",
    "    return float('nan')"
   ]
  },
  {
   "cell_type": "markdown",
   "metadata": {
    "tags": []
   },
   "source": [
    "---\n",
    "---\n",
    "---"
   ]
  },
  {
   "cell_type": "markdown",
   "metadata": {
    "jp-MarkdownHeadingCollapsed": true,
    "tags": []
   },
   "source": [
    "## Old Code"
   ]
  },
  {
   "cell_type": "markdown",
   "metadata": {},
   "source": [
    "not currently used\n",
    "```python\n",
    "def cast_pandas_schema(df:pd.DataFrame, pandas_schema):\n",
    "    schema = {}\n",
    "    for col in df.columns:\n",
    "        try:\n",
    "            schema[col] = pandas_schema[col]\n",
    "        except KeyError as e:\n",
    "            print(e)\n",
    "    df = df.astype(schema)\n",
    "    return df\n",
    "```"
   ]
  },
  {
   "cell_type": "raw",
   "metadata": {},
   "source": [
    "encounter_pickle['abx_order_time']"
   ]
  },
  {
   "cell_type": "raw",
   "metadata": {},
   "source": [
    "encounter_pickle['culture_times']"
   ]
  },
  {
   "cell_type": "raw",
   "metadata": {},
   "source": [
    "encounter_pickle['sep3_time'].t_suspicion"
   ]
  },
  {
   "cell_type": "raw",
   "metadata": {},
   "source": [
    " == np.sort(encounter_pickle['t_suspicion'].t_abx.array)"
   ]
  },
  {
   "cell_type": "raw",
   "metadata": {},
   "source": [
    "encounter_pickle['sep3_time'].t_suspicion.array == encounter_pickle['t_suspicion'].t_suspicion.unique()"
   ]
  },
  {
   "cell_type": "raw",
   "metadata": {},
   "source": [
    "np.sort(encounter_pickle['t_suspicion'].t_abx.array)"
   ]
  },
  {
   "cell_type": "raw",
   "metadata": {},
   "source": [
    "np.sort(encounter_pickle['abx_order_time'])"
   ]
  },
  {
   "cell_type": "raw",
   "metadata": {},
   "source": [
    "np.sort(encounter_pickle['t_suspicion'].t_abx.array) == np.sort(encounter_pickle['abx_order_time'])"
   ]
  },
  {
   "cell_type": "raw",
   "metadata": {},
   "source": [
    "encounter_pickle['culture_times']"
   ]
  },
  {
   "cell_type": "raw",
   "metadata": {},
   "source": [
    "df[patient_id] = encounter_pickle[patient_id]\n",
    "df[service_id] = encounter_pickle[service_id]\n",
    "display(df)"
   ]
  },
  {
   "cell_type": "raw",
   "metadata": {},
   "source": [
    "sofa_df = encounter_pickle['sofa_scores']\n",
    "sofa_rename_map = {\n",
    "    'hourly_total': 'SOFA_hourly_total',\n",
    "    'delta_24h': 'SOFA_delta_24h',\n",
    "    'hourly_total_mod': 'SOFA_hourly_total_mod',\n",
    "    'delta_24h_mod': 'SOFA_delta_24h_mod'\n",
    "}\n",
    "sofa_df.rename(columns=sofa_rename_map, inplace=True)"
   ]
  },
  {
   "cell_type": "raw",
   "metadata": {},
   "source": [
    "sirs_df = encounter_pickle['sirs_scores']\n",
    "sirs_rename_map = {\n",
    "    'hourly_total': 'SIRS_hourly_total',\n",
    "    'delta_24h': 'SIRS_delta_24h'\n",
    "}\n",
    "sirs_df.rename(columns=sirs_rename_map, inplace=True)"
   ]
  },
  {
   "cell_type": "raw",
   "metadata": {},
   "source": [
    "dynamic_df = pd.merge(left=sofa_df, right=sirs_df,\n",
    "     how='outer', left_index=True, right_index=True)"
   ]
  },
  {
   "cell_type": "raw",
   "metadata": {},
   "source": [
    "dynamic_df.columns"
   ]
  },
  {
   "cell_type": "raw",
   "metadata": {},
   "source": [
    "try:\n",
    "    int(encounter_pickle[patient_id])\n",
    "except KeyError as e:\n",
    "    print(f\"KeyError: {e}\")\n",
    "    dynamic_df[patient_id] = int(encounter_pickle['flags'][patient_id])\n",
    "else:\n",
    "    dynamic_df[patient_id] = int(encounter_pickle[patient_id])"
   ]
  },
  {
   "cell_type": "raw",
   "metadata": {},
   "source": [
    "try:\n",
    "    int(encounter_pickle[service_id])\n",
    "except KeyError as e:\n",
    "    print(f\"KeyError: {e}\")\n",
    "    dynamic_df[service_id] = int(encounter_pickle['flags'][service_id])\n",
    "else:\n",
    "    dynamic_df[service_id] = int(encounter_pickle[service_id])"
   ]
  },
  {
   "cell_type": "raw",
   "metadata": {},
   "source": [
    "dynamic_schema = {}\n",
    "for key in dynamic_keys:\n",
    "    dynamic_schema = dynamic_schema | pandas_schema['dynamic'][key]"
   ]
  },
  {
   "cell_type": "raw",
   "metadata": {},
   "source": [
    "dynamic_schema"
   ]
  },
  {
   "cell_type": "raw",
   "metadata": {},
   "source": [
    "try:\n",
    "    dynamic_df = dynamic_df.astype(dynamic_schema)\n",
    "except KeyError as e:\n",
    "    # print(f\"KeyError: {e}\")\n",
    "    print(dynamic_schema)\n",
    "    raise"
   ]
  },
  {
   "cell_type": "raw",
   "metadata": {},
   "source": [
    "static_dict = reduce(lambda a, b: {**a, **b}, [encounter_pickle[k] for k in static_keys])\n",
    "static_df = pd.DataFrame(pd.Series(static_dict)).T"
   ]
  },
  {
   "cell_type": "raw",
   "metadata": {},
   "source": [
    "# def extract_static_df(encounter_pickle, pickle_path):\n",
    "#    static_dict = reduce(lambda a, b: {**a, **b}, [encounter_pickle[k] for k in static_keys])\n",
    "#    static_df = pd.DataFrame(pd.Series(static_dict)).T\n",
    "    \n",
    "#     for key in static_keys:\n",
    "#         static_df = cast_pandas_schema(static_df, pandas_schema['static'][key])\n",
    "\n",
    "#     static_table = pa.Table.from_pandas(static_df, preserve_index=False)\n",
    "    \n",
    "#     output_folder = output_path / \"static_df\" / str(pickle_path.parent.stem)\n",
    "#     output_folder.mkdir(parents=True, exist_ok=True)\n",
    "    \n",
    "#     pq.write_table(static_table,\n",
    "#                    output_folder / f\"{pickle_path.stem}.parquet\",\n",
    "#                    # TODO: Get from config\n",
    "#                    version='2.6', compression='snappy')"
   ]
  },
  {
   "cell_type": "raw",
   "metadata": {},
   "source": [
    "key = 'super_table'\n",
    "\n",
    "temp_df = encounter_pickle[key]\n",
    "for col in tqdm(temp_df.columns):\n",
    "    try:\n",
    "        temp_df[col].astype(pandas_mods_schema[col])\n",
    "    except TypeError as e:\n",
    "        print(f\"TypeError for col: {col} :: {e}\")"
   ]
  },
  {
   "cell_type": "raw",
   "metadata": {},
   "source": [
    "for key in static_keys:\n",
    "    print(f\"**** {key} ****\")\n",
    "    temp_df = pd.DataFrame(pd.Series(encounter_pickle[key])).T\n",
    "\n",
    "    for col in tqdm(temp_df.columns):\n",
    "        print(col)\n",
    "        try:\n",
    "            temp_df[col].astype(pandas_mods_schema[col])\n",
    "        except TypeError as e:\n",
    "            print(f\"TypeError for col: {col} :: {e}\")\n",
    "    print('\\n')"
   ]
  },
  {
   "cell_type": "raw",
   "metadata": {},
   "source": [
    "tmp = encounter_pickle[dynamic_data_keys[0]]\n",
    "st = encounter_pickle['super_table']"
   ]
  },
  {
   "cell_type": "raw",
   "metadata": {},
   "source": [
    "for col in tmp.columns:\n",
    "    st[col] = [list(set(tmp[col].apply(pd.Series).stack().tolist()))] * len(st)"
   ]
  },
  {
   "cell_type": "raw",
   "metadata": {},
   "source": [
    "for key in dynamic_keys:\n",
    "    print(len(encounter_pickle[key].columns))"
   ]
  },
  {
   "cell_type": "raw",
   "metadata": {},
   "source": [
    "for key in dynamic_keys:\n",
    "    print(f\"**** {key} ****\")\n",
    "    temp_df = encounter_pickle[key]\n",
    "\n",
    "    for col in tqdm(temp_df.columns):\n",
    "        print(col)\n",
    "        try:\n",
    "            temp_df[col].astype(pandas_mods_schema[col])\n",
    "        except TypeError as e:\n",
    "            print(f\"TypeError for col: {col} :: {e}\")\n",
    "    print('\\n')"
   ]
  },
  {
   "cell_type": "raw",
   "metadata": {},
   "source": [
    "---"
   ]
  },
  {
   "cell_type": "raw",
   "metadata": {},
   "source": [
    "def extract_dynamic_df(encounter_pickle, pickle_path):\n",
    "    sofa_df = encounter_pickle['sofa_scores']\n",
    "    sofa_rename_map = {\n",
    "        'hourly_total': 'SOFA_hourly_total',\n",
    "        'delta_24h': 'SOFA_delta_24h',\n",
    "        'hourly_total_mod': 'SOFA_hourly_total_mod',\n",
    "        'delta_24h_mod': 'SOFA_delta_24h_mod'\n",
    "    }\n",
    "    sofa_df.rename(columns=sofa_rename_map, inplace=True)\n",
    "\n",
    "    sirs_df = encounter_pickle['sirs_scores']\n",
    "    sirs_rename_map = {\n",
    "        'hourly_total': 'SIRS_hourly_total',\n",
    "        'delta_24h': 'SIRS_delta_24h'\n",
    "    }\n",
    "    sirs_df.rename(columns=sirs_rename_map, inplace=True)\n",
    "    \n",
    "    dynamic_df = pd.merge(left=sofa_df, right=sirs_df,\n",
    "         how='outer', left_index=True, right_index=True)\n",
    "\n",
    "    try:\n",
    "        int(encounter_pickle[patient_id])\n",
    "    except KeyError as e:\n",
    "        print(f\"KeyError: {e}\")\n",
    "        dynamic_df[patient_id] = int(encounter_pickle['flags'][patient_id])\n",
    "    else:\n",
    "        dynamic_df[patient_id] = int(encounter_pickle[patient_id])\n",
    "\n",
    "    try:\n",
    "        int(encounter_pickle[service_id])\n",
    "    except KeyError as e:\n",
    "        print(f\"KeyError: {e}\")\n",
    "        dynamic_df[service_id] = int(encounter_pickle['flags'][service_id])\n",
    "    else:\n",
    "        dynamic_df[service_id] = int(encounter_pickle[service_id])\n",
    "    \n",
    "    dynamic_schema = {}\n",
    "    for key in dynamic_keys:\n",
    "        dynamic_schema = dynamic_schema | pandas_schema['dynamic'][key]\n",
    "    try:\n",
    "        dynamic_df = dynamic_df.astype(dynamic_schema)\n",
    "    except KeyError as e:\n",
    "        print(f\"KeyError: {e}\")\n",
    "        # print(dynamic_schema)\n",
    "\n",
    "    dynamic_df.reset_index(inplace=True, drop=False)\n",
    "    dynamic_df.rename(columns={\"index\": record_dt}, inplace=True)\n",
    "    \n",
    "    dynamic_table = pa.Table.from_pandas(dynamic_df, preserve_index=False)\n",
    "    \n",
    "    output_folder = output_path / \"dynamic_df\" / str(pickle_path.parent.stem)\n",
    "    output_folder.mkdir(parents=True, exist_ok=True)\n",
    "    \n",
    "    pq.write_table(dynamic_table,\n",
    "                   output_folder / f\"{pickle_path.stem}.parquet\",\n",
    "                   # TODO: Get from config\n",
    "                   version='2.6', compression='snappy')"
   ]
  },
  {
   "cell_type": "raw",
   "metadata": {},
   "source": [
    "# encounter_dfs = \n",
    "run_imap_multiprocessing(\n",
    "    process_encounter, __emory_pickle_paths__, num_cpus\n",
    ")"
   ]
  },
  {
   "cell_type": "raw",
   "metadata": {},
   "source": [
    "%%time\n",
    "__encounter_df__ = dd.concat(encounter_dfs, axis=0)"
   ]
  },
  {
   "cell_type": "raw",
   "metadata": {},
   "source": [
    "encounter_df[\"csn\"] = encounter_df[\"csn\"].astype(int)\n",
    "encounter_df[\"pt_id\"] = encounter_df[\"pt_id\"].astype(int)\n",
    "encounter_df[\"gender_code\"] = encounter_df[\"gender_code\"].astype(int)\n",
    "encounter_df[\"race_code\"] = encounter_df[\"race_code\"].astype(float)\n",
    "encounter_df[\"ethnicity_code\"] = encounter_df[\"ethnicity_code\"].astype(float)\n",
    "encounter_df[\"year\"] = encounter_df[\"hospital_admission_date_time\"].dt.year.astype(int)"
   ]
  },
  {
   "cell_type": "raw",
   "metadata": {},
   "source": [
    "encounter_df.reset_index(inplace=True)"
   ]
  },
  {
   "cell_type": "raw",
   "metadata": {},
   "source": [
    "name = \"encounter\"\n",
    "fp = Path(config['emory']['filepaths']['extracted_data']) / f\"{name}_df\"\n",
    "fp.mkdir(parents=True, exist_ok=True)"
   ]
  },
  {
   "cell_type": "raw",
   "metadata": {},
   "source": [
    "encounter_df.to_parquet(\n",
    "    path = fp / f\"{name}_df.parquet.snappy\",\n",
    "    compression = \"snappy\",\n",
    "    engine = \"pyarrow\"\n",
    ")"
   ]
  },
  {
   "cell_type": "raw",
   "metadata": {},
   "source": [
    "for yr in tqdm(years):  # TODO can I paralellize the exports?\n",
    "    df = encounter_df.query(f\"year == {yr}\").copy()\n",
    "    df.to_parquet(\n",
    "        path = fp / f\"{name}_df_{yr}.parquet.snappy\",\n",
    "        compression = \"snappy\",\n",
    "        engine = \"pyarrow\"\n",
    "    )\n",
    "    del(df)"
   ]
  },
  {
   "cell_type": "raw",
   "metadata": {},
   "source": [
    "beds_dfs = [emory_pickle_data[i][1] for i in range(len(emory_pickle_data)) if not emory_pickle_data[i][1].empty]\n",
    "beds_df = pd.concat(beds_dfs, axis=0)\n",
    "beds_df.reset_index(inplace=True, drop=True)\n",
    "beds_df[\"year\"] = beds_df.bed_location_start.dt.year"
   ]
  },
  {
   "cell_type": "raw",
   "metadata": {},
   "source": [
    "beds_df['pat_id'] = beds_df['pat_id'].astype(int)"
   ]
  },
  {
   "cell_type": "raw",
   "metadata": {},
   "source": [
    "name = \"beds\"\n",
    "fp = Path(config['emory']['filepaths']['extracted_data']) / f\"{name}_df\"\n",
    "fp.mkdir(parents=True, exist_ok=True)\n",
    "for yr in tqdm(years):  # TODO can I paralellize the exports?\n",
    "    df = beds_df.query(f\"year == {yr}\")\n",
    "    df.to_parquet(\n",
    "        path = fp / f\"{name}_df_{yr}.parquet.snappy\",\n",
    "        compression = \"snappy\",\n",
    "        engine = \"pyarrow\"\n",
    "    )"
   ]
  },
  {
   "cell_type": "raw",
   "metadata": {},
   "source": [
    "diagnosis_dfs = [emory_pickle_data[i][2] for i in range(len(emory_pickle_data)) if not emory_pickle_data[i][2].empty]\n",
    "diagnosis_df = pd.concat(diagnosis_dfs, axis=0)\n",
    "diagnosis_df.reset_index(inplace=True, drop=True)\n",
    "diagnosis_df['year'] = diagnosis_df.dx_time_date.dt.year"
   ]
  },
  {
   "cell_type": "raw",
   "metadata": {},
   "source": [
    "diagnosis_df['pat_id'] = diagnosis_df['pat_id'].astype(str)"
   ]
  },
  {
   "cell_type": "raw",
   "metadata": {},
   "source": [
    "name = \"diagnosis_df\"\n",
    "fp = Path(config['emory']['filepaths']['extracted_data']) / f\"{name}_df\"\n",
    "fp.mkdir(parents=True, exist_ok=True)\n",
    "for yr in tqdm(years):  # TODO can I paralellize the exports?\n",
    "    df = diagnosis_df.query(f\"year == {yr}\")\n",
    "    df.to_parquet(\n",
    "        path = fp / f\"{name}_df_{yr}.parquet.snappy\",\n",
    "        compression = \"snappy\",\n",
    "        engine = \"pyarrow\"\n",
    "    )"
   ]
  },
  {
   "cell_type": "raw",
   "metadata": {},
   "source": [
    "procedures_dfs = [emory_pickle_data[i][3] for i in range(len(emory_pickle_data)) if not emory_pickle_data[i][3].empty]\n",
    "procedures_df = pd.concat(procedures_dfs, axis=0)\n",
    "procedures_df.reset_index(inplace=True, drop=True)\n",
    "procedures_df['year'] = procedures_df.in_or_dttm.dt.year"
   ]
  },
  {
   "cell_type": "raw",
   "metadata": {},
   "source": [
    "name = \"procedures\"\n",
    "fp = Path(config['emory']['filepaths']['extracted_data']) / f\"{name}_df\"\n",
    "fp.mkdir(parents=True, exist_ok=True)\n",
    "for yr in tqdm(years):  # TODO can I paralellize the exports?\n",
    "    df = procedures_df.query(f\"year == {yr}\")\n",
    "    df.to_parquet(\n",
    "        path = fp / f\"{name}_df_{yr}.parquet.snappy\",\n",
    "        compression = \"snappy\",\n",
    "        engine = \"pyarrow\"\n",
    "    )"
   ]
  },
  {
   "cell_type": "raw",
   "metadata": {},
   "source": [
    "cultures_dfs = [emory_pickle_data[i][4] for i in range(len(emory_pickle_data))]\n",
    "cultures_df = pd.concat(cultures_dfs, axis=0)\n",
    "cultures_df.reset_index(inplace=True, drop=True)\n",
    "cultures_df['year'] = cultures_df.specimen_collect_time.dt.year"
   ]
  },
  {
   "cell_type": "raw",
   "metadata": {},
   "source": [
    "cultures_df['result_id'] = cultures_df['result_id'].replace('(null)', None)"
   ]
  },
  {
   "cell_type": "raw",
   "metadata": {},
   "source": [
    "name = \"cultures\"\n",
    "fp = Path(config['emory']['filepaths']['extracted_data']) / f\"{name}_df\"\n",
    "fp.mkdir(parents=True, exist_ok=True)\n",
    "for yr in tqdm(years):  # TODO can I paralellize the exports?\n",
    "    df = cultures_df.query(f\"year == {yr}\")\n",
    "    df.to_parquet(\n",
    "        path = fp / f\"{name}_df_{yr}.parquet.snappy\",\n",
    "        compression = \"snappy\",\n",
    "        engine = \"pyarrow\"\n",
    "    )"
   ]
  },
  {
   "cell_type": "raw",
   "metadata": {},
   "source": [
    "extracted_data_fp = config['emory']['filepaths']['extracted_data']"
   ]
  },
  {
   "cell_type": "raw",
   "metadata": {},
   "source": [
    "!ls -lR $extracted_data_fp"
   ]
  },
  {
   "cell_type": "raw",
   "metadata": {},
   "source": [
    "import dask.dataframe as dd\n",
    "from tqdm.dask import TqdmCallback\n",
    "from dask.diagnostics import ProgressBar\n",
    "ProgressBar().register()"
   ]
  },
  {
   "cell_type": "raw",
   "metadata": {},
   "source": [
    "ray_path = Path(\"/opt/localdata/ray\")\n",
    "temp_dir = ray_path / \"temp\"\n",
    "temp_dir.mkdir(exist_ok=True, parents=True)\n",
    "import ray\n",
    "ray.init(\n",
    "    num_cpus=num_cpus,\n",
    "    num_gpus=0,\n",
    "    include_dashboard=False,\n",
    "    _temp_dir=str(temp_dir),\n",
    ")\n",
    "import modin.pandas as md"
   ]
  },
  {
   "cell_type": "raw",
   "metadata": {},
   "source": [
    "cols = pandas_schema.keys()\n",
    "\n",
    "for n in range(len(cols)):\n",
    "    try:\n",
    "        tbl = pq.read_table(output_path, schema=arrow_schema, columns=[list(cols)[n]])\n",
    "    except ArrowInvalid as e:\n",
    "        print(list(cols)[n])\n",
    "        print(e)\n",
    "        break"
   ]
  },
  {
   "cell_type": "raw",
   "metadata": {},
   "source": [
    "import multiprocessing"
   ]
  },
  {
   "cell_type": "raw",
   "metadata": {},
   "source": [
    "pkl1 = load_pickle(pickle_paths[4])\n",
    "# pkl2 = load_pickle(pickle_paths[6])\n",
    "pkl2 = load_pickle(pickle_paths[8])"
   ]
  },
  {
   "cell_type": "raw",
   "metadata": {},
   "source": [
    "pset1 = set(pkl1['super_table'])"
   ]
  },
  {
   "cell_type": "raw",
   "metadata": {},
   "source": [
    "pset2 = set(pkl2['super_table'])"
   ]
  },
  {
   "cell_type": "raw",
   "metadata": {},
   "source": [
    "pset1 - pset2"
   ]
  },
  {
   "cell_type": "raw",
   "metadata": {},
   "source": [
    "pset2 - pset1"
   ]
  },
  {
   "cell_type": "raw",
   "metadata": {},
   "source": [
    "for fp in tqdm(pickle_paths):\n",
    "    debug_processing(fp)"
   ]
  },
  {
   "cell_type": "raw",
   "metadata": {},
   "source": [
    "p = multiprocessing.Pool(num_cpus)\n",
    "p.imap(debug_processing, pickle_paths)"
   ]
  },
  {
   "cell_type": "code",
   "execution_count": null,
   "metadata": {},
   "outputs": [],
   "source": []
  },
  {
   "cell_type": "raw",
   "metadata": {},
   "source": [
    "len(tmp)"
   ]
  },
  {
   "cell_type": "raw",
   "metadata": {},
   "source": [
    "%%time\n",
    "manager = Manager()\n",
    "pool = Pool(processes=num_cpus)\n",
    "pool.map(func=debug_processing, iterable=pickle_paths)"
   ]
  },
  {
   "cell_type": "raw",
   "metadata": {},
   "source": [
    "tmpdf = pd.DataFrame({\"datetime\": pd.date_range(\"2020-01-01T00:00:00Z\", freq=\"H\", periods=3)})"
   ]
  },
  {
   "cell_type": "raw",
   "metadata": {},
   "source": [
    "display(tmpdf.dtypes)\n",
    "display(tmpdf)"
   ]
  },
  {
   "cell_type": "raw",
   "metadata": {},
   "source": [
    "tmptbl = pa.Table.from_pandas(tmpdf)"
   ]
  },
  {
   "cell_type": "raw",
   "metadata": {},
   "source": [
    "tmptbl"
   ]
  },
  {
   "cell_type": "raw",
   "metadata": {},
   "source": [
    "tmp.compute()"
   ]
  },
  {
   "cell_type": "markdown",
   "metadata": {},
   "source": [
    "---"
   ]
  },
  {
   "cell_type": "raw",
   "metadata": {},
   "source": [
    "def empty_dataframe(k):\n",
    "    empty = {\n",
    "        't_suspicion': pd.DataFrame(data=[[pd.NaT,pd.NaT,pd.NaT]], columns=['t_abx','t_clt','t_suspicion']).drop(index=0),\n",
    "        'sep3_time': pd.DataFrame(data=[[pd.NaT,pd.NaT,pd.NaT]], columns=['t_suspicion','t_SOFA','t_sepsis3']).drop(index=0)\n",
    "    }\n",
    "    return empty[k]"
   ]
  },
  {
   "cell_type": "raw",
   "metadata": {},
   "source": [
    "from collections import Counter"
   ]
  },
  {
   "cell_type": "raw",
   "metadata": {},
   "source": [
    "counter = Counter(t_suspicion=0,\n",
    " sofa_scores=0,\n",
    " sep3_time=0,\n",
    " sirs_scores=0,\n",
    " flags=0,\n",
    " event_times=0,\n",
    " static_features=0)"
   ]
  },
  {
   "cell_type": "raw",
   "metadata": {},
   "source": [
    "def check_empty_data(fp):\n",
    "    file = open(pickle_fp, \"rb\")\n",
    "    encounter_pickle = pickle.load(file, encoding=\"bytes\")\n",
    "    file.close()\n",
    "    empty = {}\n",
    "    for k in dynamic_data_keys:\n",
    "        empty[k] = int(encounter_pickle[k].empty)\n",
    "    for k in static_data_keys:\n",
    "        empty[k] = int(not any(encounter_pickle[k]))\n",
    "    # counter.update(empty)\n",
    "    return empty"
   ]
  },
  {
   "cell_type": "raw",
   "metadata": {},
   "source": [
    "empties = run_imap_multiprocessing(\n",
    "    check_empty_data, emory_pickle_paths, num_cpus\n",
    ")"
   ]
  },
  {
   "cell_type": "raw",
   "metadata": {},
   "source": [
    "for e in tqdm(empties):\n",
    "    counter.update(e)"
   ]
  },
  {
   "cell_type": "raw",
   "metadata": {},
   "source": [
    "tmp_df = None\n",
    "for i in range(len(pickle_paths)):\n",
    "    encounter_pickle = load_pickle(pickle_paths[i])\n",
    "    if any(encounter_pickle['culture_times']):\n",
    "        tmp_df = pd.DataFrame([[encounter_pickle['culture_times']]])\n",
    "        break"
   ]
  },
  {
   "cell_type": "raw",
   "metadata": {},
   "source": [
    "pq.write_table(pa.Table.from_pandas(tmp_df, preserve_index=False),\n",
    "               f\"/home/gmatlin/tmp.parquet\",\n",
    "               version='2.6',\n",
    "               compression='snappy')"
   ]
  },
  {
   "cell_type": "raw",
   "metadata": {},
   "source": [
    "%%time\n",
    "tmp_tbl = pq.read_table(f\"/home/gmatlin/tmp.parquet\")"
   ]
  },
  {
   "cell_type": "raw",
   "metadata": {},
   "source": [
    "pa.schema({'0': 'timestamp[ns]'})"
   ]
  },
  {
   "cell_type": "raw",
   "metadata": {},
   "source": [
    "tmp_df = tmp_tbl.to_pandas()"
   ]
  },
  {
   "cell_type": "raw",
   "metadata": {},
   "source": [
    "tmp_tbl"
   ]
  },
  {
   "cell_type": "raw",
   "metadata": {},
   "source": [
    "tmp_df"
   ]
  },
  {
   "cell_type": "raw",
   "metadata": {},
   "source": [
    "tmp_df = encounter_pickle[\"super_table\"]\n",
    "tmp_df[patient_id] = int(encounter_pickle[patient_id])\n",
    "tmp_df[service_id] = int(encounter_pickle[service_id])"
   ]
  },
  {
   "cell_type": "raw",
   "metadata": {},
   "source": [
    "df['norepinephrine_dose_unit'].unique()"
   ]
  },
  {
   "cell_type": "raw",
   "metadata": {},
   "source": [
    "dtypes = {}\n",
    "for key in encounter.keys():\n",
    "    try:\n",
    "        dtypes[key] = encounter_pickle[key].convert_dtypes().dtypes\n",
    "    except AttributeError:\n",
    "        dtypes[key] = type(encounter_pickle[key])"
   ]
  },
  {
   "cell_type": "raw",
   "metadata": {},
   "source": [
    "if len(encounter_pickle['super_table']):\n",
    "    with pd.option_context(\"display.max_rows\", None, \"display.max_columns\", None):\n",
    "        print(encounter_pickle['super_table'].convert_dtypes().dtypes)"
   ]
  },
  {
   "cell_type": "raw",
   "metadata": {},
   "source": [
    "encounter_pickle['procedures_PerCSN'].dtypes"
   ]
  },
  {
   "cell_type": "raw",
   "metadata": {},
   "source": [
    "if True:\n",
    "    with pd.option_context(\"display.max_rows\", None, \"display.max_columns\", None):\n",
    "        display(pd.DataFrame(pd.Series(encounter_pickle['event_times'])).T.convert_dtypes().dtypes)"
   ]
  }
 ],
 "metadata": {
  "kernelspec": {
   "display_name": "mods",
   "language": "python",
   "name": "mods"
  },
  "language_info": {
   "codemirror_mode": {
    "name": "ipython",
    "version": 3
   },
   "file_extension": ".py",
   "mimetype": "text/x-python",
   "name": "python",
   "nbconvert_exporter": "python",
   "pygments_lexer": "ipython3",
   "version": "3.10.4"
  }
 },
 "nbformat": 4,
 "nbformat_minor": 4
}
