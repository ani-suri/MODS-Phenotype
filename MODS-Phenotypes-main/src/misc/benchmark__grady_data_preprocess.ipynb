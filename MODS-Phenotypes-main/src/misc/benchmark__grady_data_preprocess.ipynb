{
 "cells": [
  {
   "cell_type": "markdown",
   "id": "c2f94179",
   "metadata": {},
   "source": [
    "## Import Necessary Libraries"
   ]
  },
  {
   "cell_type": "code",
   "execution_count": 1,
   "id": "5282fb0d",
   "metadata": {},
   "outputs": [],
   "source": [
    "import argparse\n",
    "from datetime import datetime\n",
    "import numpy as np\n",
    "import os\n",
    "import pandas as pd\n",
    "import pickle\n",
    "import random\n",
    "import sys"
   ]
  },
  {
   "cell_type": "code",
   "execution_count": 6,
   "id": "3f0cd5cc-1fc7-4b90-9df3-6c209506bba6",
   "metadata": {},
   "outputs": [],
   "source": [
    "from tqdm.auto import tqdm"
   ]
  },
  {
   "cell_type": "markdown",
   "id": "cf0878dc",
   "metadata": {
    "tags": []
   },
   "source": [
    "## Preprocess Grady Data"
   ]
  },
  {
   "cell_type": "code",
   "execution_count": 9,
   "id": "6c420227",
   "metadata": {},
   "outputs": [],
   "source": [
    "def create_csv(years):\n",
    "\n",
    "    print(\"Creating csv for Grady Patients...\")\n",
    "    csv_path = \"/opt/bmi-585r/Grady_Data/encounter_summary_all_07_02_2021.csv\"\n",
    "\n",
    "    # load the csv files\n",
    "    encs_df = pd.read_csv(csv_path)\n",
    "\n",
    "    # convert sep3 time and start index to datetime columns\n",
    "    encs_df['start_index'] = pd.to_datetime(encs_df['start_index'], format='%Y-%m-%d %H:%M:%S')\n",
    "    encs_df['first_sep3_time'] = pd.to_datetime(encs_df['first_sep3_time'], format='%Y-%m-%d %H:%M:%S')\n",
    "\n",
    "    # add sepsis label column\n",
    "    encs_df['sepsis_patient'] = np.where(encs_df['first_sep3_time'].isnull(), 0, 1)\n",
    "\n",
    "    # get columns from super_table\n",
    "    super_table_df = pd.read_csv('super_table_data_dictionary.csv')\n",
    "    super_table_cols = super_table_df['super_table_col'].str.strip().values.tolist()\n",
    "    \n",
    "    for year in years:\n",
    "        \n",
    "        print(\"Looking at patients for year: \", year)\n",
    "        \n",
    "        # look at patients for certain year\n",
    "        enc_df = encs_df.loc[encs_df['start_index'].dt.year == year].reset_index(drop=True)\n",
    "\n",
    "        enc_cols = list(enc_df.columns)\n",
    "\n",
    "        nonsep_patients = len(enc_df.loc[enc_df['sepsis_patient'] == 0])\n",
    "        sep_patients = len(enc_df.loc[enc_df['sepsis_patient'] == 1])\n",
    "\n",
    "        print(\"Grady patients who had sepsis in %i: %i\" % (year, sep_patients) )\n",
    "        print(\"Grady patients who did not have sepsis in %i: %i\" % (year, nonsep_patients) )\n",
    "\n",
    "        # get csn start time, sepsis patient idx\n",
    "        csn_idx = enc_df.columns.get_loc('csn')\n",
    "        start_time_idx = enc_df.columns.get_loc('start_index')\n",
    "        first_sep3_time_idx = enc_df.columns.get_loc('first_sep3_time')\n",
    "        sepsis_patient_idx = enc_df.columns.get_loc('sepsis_patient')\n",
    "\n",
    "        patient_list = []\n",
    "\n",
    "        i = 1\n",
    "        for row in tqdm(enc_df.values[:100]):\n",
    "            print(\"Looking at patient %i of %i...\\n\" % (i, len(enc_df)) )\n",
    "            #print(\"Looking at patient %i of %i...\\n\" % (i, sep_patients) )\n",
    "\n",
    "            csn = row[csn_idx]\n",
    "            start_time = row[start_time_idx]\n",
    "            first_sep3_time = row[first_sep3_time_idx]\n",
    "            sepsis_patient = row[sepsis_patient_idx]\n",
    "\n",
    "            # load pickle file\n",
    "            pkl_filename = \"/opt/bmi-585r/Grady_Data/\" + str(year) + '/' + str(csn) + '.pickle'\n",
    "\n",
    "            # check if pickle file exists\n",
    "            if not os.path.isfile(pkl_filename):\n",
    "                print(\"Pickle file does not exist. Skipping patient %i of %i...\\n\" % (i, len(enc_df)) )\n",
    "                i = i + 1\n",
    "                continue\n",
    "\n",
    "            with open(pkl_filename, 'rb') as pf:\n",
    "                enc_dict = pickle.load(pf)\n",
    "\n",
    "            # grab patient's super table\n",
    "            super_table = enc_dict['super_table']\n",
    "\n",
    "            if len(list(super_table.columns)) != len(super_table_cols):\n",
    "                print(\"Incorrect super table columns. Skipping patient %i of %i...\\n\" % (i, len(enc_df)) )\n",
    "                i = i + 1\n",
    "                continue\n",
    "\n",
    "            # check if sepsis patient or not\n",
    "            # if sepsis patient, collect values before calculated first sepsis time\n",
    "            # otherwise, collect all nonsepsis patient vals\n",
    "            if sepsis_patient == 1:\n",
    "                after_start_time_cond = super_table.index >= start_time\n",
    "                before_first_sep3_time_cond = super_table.index < first_sep3_time\n",
    "                patient_vals = super_table.loc[(after_start_time_cond) & (before_first_sep3_time_cond)].values\n",
    "            else:\n",
    "                patient_vals = super_table.values\n",
    "\n",
    "            # skip for patients with no values\n",
    "            if patient_vals.size == 0:\n",
    "                print(\"No values for patient. Skipping patient %i of %i...\\n\" % (i, len(enc_df)) )\n",
    "                i = i + 1\n",
    "                continue\n",
    "\n",
    "            for patient_val in patient_vals:\n",
    "                patient_info = np.concatenate((row, patient_val))\n",
    "                patient_list.append(patient_info)\n",
    "\n",
    "            i = i + 1\n",
    "\n",
    "        # create dataframe and save to csv file\n",
    "        if patient_list:\n",
    "            patient_df = pd.DataFrame(np.row_stack(patient_list), columns=enc_cols + super_table_cols)\n",
    "            patient_df.to_csv(\"/opt/bmi-585r/Grady_Data/gr_prep_\" + str(year) + \".csv\", index=False)\n",
    "        else:\n",
    "            print(\"No recorded patients for %s. Skipping year...\" % year)"
   ]
  },
  {
   "cell_type": "markdown",
   "id": "babce7a7",
   "metadata": {},
   "source": [
    "## Gather All Grady Patients For Available Years"
   ]
  },
  {
   "cell_type": "code",
   "execution_count": 10,
   "id": "0d90cfea-6e9f-4f2c-9374-a7a7ccc58308",
   "metadata": {},
   "outputs": [
    {
     "name": "stdout",
     "output_type": "stream",
     "text": [
      "years:  [2014]\n"
     ]
    }
   ],
   "source": [
    "years = list(range(2014,2015))\n",
    "print(\"years: \", years)"
   ]
  },
  {
   "cell_type": "code",
   "execution_count": 11,
   "id": "27797aa0-adb8-4e53-a57f-90a0caf43080",
   "metadata": {},
   "outputs": [
    {
     "name": "stdout",
     "output_type": "stream",
     "text": [
      "Creating csv for Grady Patients...\n"
     ]
    },
    {
     "ename": "PermissionError",
     "evalue": "[Errno 13] Permission denied: '/opt/bmi-585r/Grady_Data/encounter_summary_all_07_02_2021.csv'",
     "output_type": "error",
     "traceback": [
      "\u001b[0;31m---------------------------------------------------------------------------\u001b[0m",
      "\u001b[0;31mPermissionError\u001b[0m                           Traceback (most recent call last)",
      "File \u001b[0;32m<timed eval>:1\u001b[0m, in \u001b[0;36m<module>\u001b[0;34m\u001b[0m\n",
      "Input \u001b[0;32mIn [9]\u001b[0m, in \u001b[0;36mcreate_csv\u001b[0;34m(years)\u001b[0m\n\u001b[1;32m      4\u001b[0m csv_path \u001b[38;5;241m=\u001b[39m \u001b[38;5;124m\"\u001b[39m\u001b[38;5;124m/opt/bmi-585r/Grady_Data/encounter_summary_all_07_02_2021.csv\u001b[39m\u001b[38;5;124m\"\u001b[39m\n\u001b[1;32m      6\u001b[0m \u001b[38;5;66;03m# load the csv files\u001b[39;00m\n\u001b[0;32m----> 7\u001b[0m encs_df \u001b[38;5;241m=\u001b[39m \u001b[43mpd\u001b[49m\u001b[38;5;241;43m.\u001b[39;49m\u001b[43mread_csv\u001b[49m\u001b[43m(\u001b[49m\u001b[43mcsv_path\u001b[49m\u001b[43m)\u001b[49m\n\u001b[1;32m      9\u001b[0m \u001b[38;5;66;03m# convert sep3 time and start index to datetime columns\u001b[39;00m\n\u001b[1;32m     10\u001b[0m encs_df[\u001b[38;5;124m'\u001b[39m\u001b[38;5;124mstart_index\u001b[39m\u001b[38;5;124m'\u001b[39m] \u001b[38;5;241m=\u001b[39m pd\u001b[38;5;241m.\u001b[39mto_datetime(encs_df[\u001b[38;5;124m'\u001b[39m\u001b[38;5;124mstart_index\u001b[39m\u001b[38;5;124m'\u001b[39m], \u001b[38;5;28mformat\u001b[39m\u001b[38;5;241m=\u001b[39m\u001b[38;5;124m'\u001b[39m\u001b[38;5;124m%\u001b[39m\u001b[38;5;124mY-\u001b[39m\u001b[38;5;124m%\u001b[39m\u001b[38;5;124mm-\u001b[39m\u001b[38;5;132;01m%d\u001b[39;00m\u001b[38;5;124m \u001b[39m\u001b[38;5;124m%\u001b[39m\u001b[38;5;124mH:\u001b[39m\u001b[38;5;124m%\u001b[39m\u001b[38;5;124mM:\u001b[39m\u001b[38;5;124m%\u001b[39m\u001b[38;5;124mS\u001b[39m\u001b[38;5;124m'\u001b[39m)\n",
      "File \u001b[0;32m~/MODSPhenotypes/miniconda3/envs/mods/lib/python3.10/site-packages/pandas/util/_decorators.py:311\u001b[0m, in \u001b[0;36mdeprecate_nonkeyword_arguments.<locals>.decorate.<locals>.wrapper\u001b[0;34m(*args, **kwargs)\u001b[0m\n\u001b[1;32m    305\u001b[0m \u001b[38;5;28;01mif\u001b[39;00m \u001b[38;5;28mlen\u001b[39m(args) \u001b[38;5;241m>\u001b[39m num_allow_args:\n\u001b[1;32m    306\u001b[0m     warnings\u001b[38;5;241m.\u001b[39mwarn(\n\u001b[1;32m    307\u001b[0m         msg\u001b[38;5;241m.\u001b[39mformat(arguments\u001b[38;5;241m=\u001b[39marguments),\n\u001b[1;32m    308\u001b[0m         \u001b[38;5;167;01mFutureWarning\u001b[39;00m,\n\u001b[1;32m    309\u001b[0m         stacklevel\u001b[38;5;241m=\u001b[39mstacklevel,\n\u001b[1;32m    310\u001b[0m     )\n\u001b[0;32m--> 311\u001b[0m \u001b[38;5;28;01mreturn\u001b[39;00m \u001b[43mfunc\u001b[49m\u001b[43m(\u001b[49m\u001b[38;5;241;43m*\u001b[39;49m\u001b[43margs\u001b[49m\u001b[43m,\u001b[49m\u001b[43m \u001b[49m\u001b[38;5;241;43m*\u001b[39;49m\u001b[38;5;241;43m*\u001b[39;49m\u001b[43mkwargs\u001b[49m\u001b[43m)\u001b[49m\n",
      "File \u001b[0;32m~/MODSPhenotypes/miniconda3/envs/mods/lib/python3.10/site-packages/pandas/io/parsers/readers.py:680\u001b[0m, in \u001b[0;36mread_csv\u001b[0;34m(filepath_or_buffer, sep, delimiter, header, names, index_col, usecols, squeeze, prefix, mangle_dupe_cols, dtype, engine, converters, true_values, false_values, skipinitialspace, skiprows, skipfooter, nrows, na_values, keep_default_na, na_filter, verbose, skip_blank_lines, parse_dates, infer_datetime_format, keep_date_col, date_parser, dayfirst, cache_dates, iterator, chunksize, compression, thousands, decimal, lineterminator, quotechar, quoting, doublequote, escapechar, comment, encoding, encoding_errors, dialect, error_bad_lines, warn_bad_lines, on_bad_lines, delim_whitespace, low_memory, memory_map, float_precision, storage_options)\u001b[0m\n\u001b[1;32m    665\u001b[0m kwds_defaults \u001b[38;5;241m=\u001b[39m _refine_defaults_read(\n\u001b[1;32m    666\u001b[0m     dialect,\n\u001b[1;32m    667\u001b[0m     delimiter,\n\u001b[0;32m   (...)\u001b[0m\n\u001b[1;32m    676\u001b[0m     defaults\u001b[38;5;241m=\u001b[39m{\u001b[38;5;124m\"\u001b[39m\u001b[38;5;124mdelimiter\u001b[39m\u001b[38;5;124m\"\u001b[39m: \u001b[38;5;124m\"\u001b[39m\u001b[38;5;124m,\u001b[39m\u001b[38;5;124m\"\u001b[39m},\n\u001b[1;32m    677\u001b[0m )\n\u001b[1;32m    678\u001b[0m kwds\u001b[38;5;241m.\u001b[39mupdate(kwds_defaults)\n\u001b[0;32m--> 680\u001b[0m \u001b[38;5;28;01mreturn\u001b[39;00m \u001b[43m_read\u001b[49m\u001b[43m(\u001b[49m\u001b[43mfilepath_or_buffer\u001b[49m\u001b[43m,\u001b[49m\u001b[43m \u001b[49m\u001b[43mkwds\u001b[49m\u001b[43m)\u001b[49m\n",
      "File \u001b[0;32m~/MODSPhenotypes/miniconda3/envs/mods/lib/python3.10/site-packages/pandas/io/parsers/readers.py:575\u001b[0m, in \u001b[0;36m_read\u001b[0;34m(filepath_or_buffer, kwds)\u001b[0m\n\u001b[1;32m    572\u001b[0m _validate_names(kwds\u001b[38;5;241m.\u001b[39mget(\u001b[38;5;124m\"\u001b[39m\u001b[38;5;124mnames\u001b[39m\u001b[38;5;124m\"\u001b[39m, \u001b[38;5;28;01mNone\u001b[39;00m))\n\u001b[1;32m    574\u001b[0m \u001b[38;5;66;03m# Create the parser.\u001b[39;00m\n\u001b[0;32m--> 575\u001b[0m parser \u001b[38;5;241m=\u001b[39m \u001b[43mTextFileReader\u001b[49m\u001b[43m(\u001b[49m\u001b[43mfilepath_or_buffer\u001b[49m\u001b[43m,\u001b[49m\u001b[43m \u001b[49m\u001b[38;5;241;43m*\u001b[39;49m\u001b[38;5;241;43m*\u001b[39;49m\u001b[43mkwds\u001b[49m\u001b[43m)\u001b[49m\n\u001b[1;32m    577\u001b[0m \u001b[38;5;28;01mif\u001b[39;00m chunksize \u001b[38;5;129;01mor\u001b[39;00m iterator:\n\u001b[1;32m    578\u001b[0m     \u001b[38;5;28;01mreturn\u001b[39;00m parser\n",
      "File \u001b[0;32m~/MODSPhenotypes/miniconda3/envs/mods/lib/python3.10/site-packages/pandas/io/parsers/readers.py:933\u001b[0m, in \u001b[0;36mTextFileReader.__init__\u001b[0;34m(self, f, engine, **kwds)\u001b[0m\n\u001b[1;32m    930\u001b[0m     \u001b[38;5;28mself\u001b[39m\u001b[38;5;241m.\u001b[39moptions[\u001b[38;5;124m\"\u001b[39m\u001b[38;5;124mhas_index_names\u001b[39m\u001b[38;5;124m\"\u001b[39m] \u001b[38;5;241m=\u001b[39m kwds[\u001b[38;5;124m\"\u001b[39m\u001b[38;5;124mhas_index_names\u001b[39m\u001b[38;5;124m\"\u001b[39m]\n\u001b[1;32m    932\u001b[0m \u001b[38;5;28mself\u001b[39m\u001b[38;5;241m.\u001b[39mhandles: IOHandles \u001b[38;5;241m|\u001b[39m \u001b[38;5;28;01mNone\u001b[39;00m \u001b[38;5;241m=\u001b[39m \u001b[38;5;28;01mNone\u001b[39;00m\n\u001b[0;32m--> 933\u001b[0m \u001b[38;5;28mself\u001b[39m\u001b[38;5;241m.\u001b[39m_engine \u001b[38;5;241m=\u001b[39m \u001b[38;5;28;43mself\u001b[39;49m\u001b[38;5;241;43m.\u001b[39;49m\u001b[43m_make_engine\u001b[49m\u001b[43m(\u001b[49m\u001b[43mf\u001b[49m\u001b[43m,\u001b[49m\u001b[43m \u001b[49m\u001b[38;5;28;43mself\u001b[39;49m\u001b[38;5;241;43m.\u001b[39;49m\u001b[43mengine\u001b[49m\u001b[43m)\u001b[49m\n",
      "File \u001b[0;32m~/MODSPhenotypes/miniconda3/envs/mods/lib/python3.10/site-packages/pandas/io/parsers/readers.py:1217\u001b[0m, in \u001b[0;36mTextFileReader._make_engine\u001b[0;34m(self, f, engine)\u001b[0m\n\u001b[1;32m   1213\u001b[0m     mode \u001b[38;5;241m=\u001b[39m \u001b[38;5;124m\"\u001b[39m\u001b[38;5;124mrb\u001b[39m\u001b[38;5;124m\"\u001b[39m\n\u001b[1;32m   1214\u001b[0m \u001b[38;5;66;03m# error: No overload variant of \"get_handle\" matches argument types\u001b[39;00m\n\u001b[1;32m   1215\u001b[0m \u001b[38;5;66;03m# \"Union[str, PathLike[str], ReadCsvBuffer[bytes], ReadCsvBuffer[str]]\"\u001b[39;00m\n\u001b[1;32m   1216\u001b[0m \u001b[38;5;66;03m# , \"str\", \"bool\", \"Any\", \"Any\", \"Any\", \"Any\", \"Any\"\u001b[39;00m\n\u001b[0;32m-> 1217\u001b[0m \u001b[38;5;28mself\u001b[39m\u001b[38;5;241m.\u001b[39mhandles \u001b[38;5;241m=\u001b[39m \u001b[43mget_handle\u001b[49m\u001b[43m(\u001b[49m\u001b[43m  \u001b[49m\u001b[38;5;66;43;03m# type: ignore[call-overload]\u001b[39;49;00m\n\u001b[1;32m   1218\u001b[0m \u001b[43m    \u001b[49m\u001b[43mf\u001b[49m\u001b[43m,\u001b[49m\n\u001b[1;32m   1219\u001b[0m \u001b[43m    \u001b[49m\u001b[43mmode\u001b[49m\u001b[43m,\u001b[49m\n\u001b[1;32m   1220\u001b[0m \u001b[43m    \u001b[49m\u001b[43mencoding\u001b[49m\u001b[38;5;241;43m=\u001b[39;49m\u001b[38;5;28;43mself\u001b[39;49m\u001b[38;5;241;43m.\u001b[39;49m\u001b[43moptions\u001b[49m\u001b[38;5;241;43m.\u001b[39;49m\u001b[43mget\u001b[49m\u001b[43m(\u001b[49m\u001b[38;5;124;43m\"\u001b[39;49m\u001b[38;5;124;43mencoding\u001b[39;49m\u001b[38;5;124;43m\"\u001b[39;49m\u001b[43m,\u001b[49m\u001b[43m \u001b[49m\u001b[38;5;28;43;01mNone\u001b[39;49;00m\u001b[43m)\u001b[49m\u001b[43m,\u001b[49m\n\u001b[1;32m   1221\u001b[0m \u001b[43m    \u001b[49m\u001b[43mcompression\u001b[49m\u001b[38;5;241;43m=\u001b[39;49m\u001b[38;5;28;43mself\u001b[39;49m\u001b[38;5;241;43m.\u001b[39;49m\u001b[43moptions\u001b[49m\u001b[38;5;241;43m.\u001b[39;49m\u001b[43mget\u001b[49m\u001b[43m(\u001b[49m\u001b[38;5;124;43m\"\u001b[39;49m\u001b[38;5;124;43mcompression\u001b[39;49m\u001b[38;5;124;43m\"\u001b[39;49m\u001b[43m,\u001b[49m\u001b[43m \u001b[49m\u001b[38;5;28;43;01mNone\u001b[39;49;00m\u001b[43m)\u001b[49m\u001b[43m,\u001b[49m\n\u001b[1;32m   1222\u001b[0m \u001b[43m    \u001b[49m\u001b[43mmemory_map\u001b[49m\u001b[38;5;241;43m=\u001b[39;49m\u001b[38;5;28;43mself\u001b[39;49m\u001b[38;5;241;43m.\u001b[39;49m\u001b[43moptions\u001b[49m\u001b[38;5;241;43m.\u001b[39;49m\u001b[43mget\u001b[49m\u001b[43m(\u001b[49m\u001b[38;5;124;43m\"\u001b[39;49m\u001b[38;5;124;43mmemory_map\u001b[39;49m\u001b[38;5;124;43m\"\u001b[39;49m\u001b[43m,\u001b[49m\u001b[43m \u001b[49m\u001b[38;5;28;43;01mFalse\u001b[39;49;00m\u001b[43m)\u001b[49m\u001b[43m,\u001b[49m\n\u001b[1;32m   1223\u001b[0m \u001b[43m    \u001b[49m\u001b[43mis_text\u001b[49m\u001b[38;5;241;43m=\u001b[39;49m\u001b[43mis_text\u001b[49m\u001b[43m,\u001b[49m\n\u001b[1;32m   1224\u001b[0m \u001b[43m    \u001b[49m\u001b[43merrors\u001b[49m\u001b[38;5;241;43m=\u001b[39;49m\u001b[38;5;28;43mself\u001b[39;49m\u001b[38;5;241;43m.\u001b[39;49m\u001b[43moptions\u001b[49m\u001b[38;5;241;43m.\u001b[39;49m\u001b[43mget\u001b[49m\u001b[43m(\u001b[49m\u001b[38;5;124;43m\"\u001b[39;49m\u001b[38;5;124;43mencoding_errors\u001b[39;49m\u001b[38;5;124;43m\"\u001b[39;49m\u001b[43m,\u001b[49m\u001b[43m \u001b[49m\u001b[38;5;124;43m\"\u001b[39;49m\u001b[38;5;124;43mstrict\u001b[39;49m\u001b[38;5;124;43m\"\u001b[39;49m\u001b[43m)\u001b[49m\u001b[43m,\u001b[49m\n\u001b[1;32m   1225\u001b[0m \u001b[43m    \u001b[49m\u001b[43mstorage_options\u001b[49m\u001b[38;5;241;43m=\u001b[39;49m\u001b[38;5;28;43mself\u001b[39;49m\u001b[38;5;241;43m.\u001b[39;49m\u001b[43moptions\u001b[49m\u001b[38;5;241;43m.\u001b[39;49m\u001b[43mget\u001b[49m\u001b[43m(\u001b[49m\u001b[38;5;124;43m\"\u001b[39;49m\u001b[38;5;124;43mstorage_options\u001b[39;49m\u001b[38;5;124;43m\"\u001b[39;49m\u001b[43m,\u001b[49m\u001b[43m \u001b[49m\u001b[38;5;28;43;01mNone\u001b[39;49;00m\u001b[43m)\u001b[49m\u001b[43m,\u001b[49m\n\u001b[1;32m   1226\u001b[0m \u001b[43m\u001b[49m\u001b[43m)\u001b[49m\n\u001b[1;32m   1227\u001b[0m \u001b[38;5;28;01massert\u001b[39;00m \u001b[38;5;28mself\u001b[39m\u001b[38;5;241m.\u001b[39mhandles \u001b[38;5;129;01mis\u001b[39;00m \u001b[38;5;129;01mnot\u001b[39;00m \u001b[38;5;28;01mNone\u001b[39;00m\n\u001b[1;32m   1228\u001b[0m f \u001b[38;5;241m=\u001b[39m \u001b[38;5;28mself\u001b[39m\u001b[38;5;241m.\u001b[39mhandles\u001b[38;5;241m.\u001b[39mhandle\n",
      "File \u001b[0;32m~/MODSPhenotypes/miniconda3/envs/mods/lib/python3.10/site-packages/pandas/io/common.py:789\u001b[0m, in \u001b[0;36mget_handle\u001b[0;34m(path_or_buf, mode, encoding, compression, memory_map, is_text, errors, storage_options)\u001b[0m\n\u001b[1;32m    784\u001b[0m \u001b[38;5;28;01melif\u001b[39;00m \u001b[38;5;28misinstance\u001b[39m(handle, \u001b[38;5;28mstr\u001b[39m):\n\u001b[1;32m    785\u001b[0m     \u001b[38;5;66;03m# Check whether the filename is to be opened in binary mode.\u001b[39;00m\n\u001b[1;32m    786\u001b[0m     \u001b[38;5;66;03m# Binary mode does not support 'encoding' and 'newline'.\u001b[39;00m\n\u001b[1;32m    787\u001b[0m     \u001b[38;5;28;01mif\u001b[39;00m ioargs\u001b[38;5;241m.\u001b[39mencoding \u001b[38;5;129;01mand\u001b[39;00m \u001b[38;5;124m\"\u001b[39m\u001b[38;5;124mb\u001b[39m\u001b[38;5;124m\"\u001b[39m \u001b[38;5;129;01mnot\u001b[39;00m \u001b[38;5;129;01min\u001b[39;00m ioargs\u001b[38;5;241m.\u001b[39mmode:\n\u001b[1;32m    788\u001b[0m         \u001b[38;5;66;03m# Encoding\u001b[39;00m\n\u001b[0;32m--> 789\u001b[0m         handle \u001b[38;5;241m=\u001b[39m \u001b[38;5;28;43mopen\u001b[39;49m\u001b[43m(\u001b[49m\n\u001b[1;32m    790\u001b[0m \u001b[43m            \u001b[49m\u001b[43mhandle\u001b[49m\u001b[43m,\u001b[49m\n\u001b[1;32m    791\u001b[0m \u001b[43m            \u001b[49m\u001b[43mioargs\u001b[49m\u001b[38;5;241;43m.\u001b[39;49m\u001b[43mmode\u001b[49m\u001b[43m,\u001b[49m\n\u001b[1;32m    792\u001b[0m \u001b[43m            \u001b[49m\u001b[43mencoding\u001b[49m\u001b[38;5;241;43m=\u001b[39;49m\u001b[43mioargs\u001b[49m\u001b[38;5;241;43m.\u001b[39;49m\u001b[43mencoding\u001b[49m\u001b[43m,\u001b[49m\n\u001b[1;32m    793\u001b[0m \u001b[43m            \u001b[49m\u001b[43merrors\u001b[49m\u001b[38;5;241;43m=\u001b[39;49m\u001b[43merrors\u001b[49m\u001b[43m,\u001b[49m\n\u001b[1;32m    794\u001b[0m \u001b[43m            \u001b[49m\u001b[43mnewline\u001b[49m\u001b[38;5;241;43m=\u001b[39;49m\u001b[38;5;124;43m\"\u001b[39;49m\u001b[38;5;124;43m\"\u001b[39;49m\u001b[43m,\u001b[49m\n\u001b[1;32m    795\u001b[0m \u001b[43m        \u001b[49m\u001b[43m)\u001b[49m\n\u001b[1;32m    796\u001b[0m     \u001b[38;5;28;01melse\u001b[39;00m:\n\u001b[1;32m    797\u001b[0m         \u001b[38;5;66;03m# Binary mode\u001b[39;00m\n\u001b[1;32m    798\u001b[0m         handle \u001b[38;5;241m=\u001b[39m \u001b[38;5;28mopen\u001b[39m(handle, ioargs\u001b[38;5;241m.\u001b[39mmode)\n",
      "\u001b[0;31mPermissionError\u001b[0m: [Errno 13] Permission denied: '/opt/bmi-585r/Grady_Data/encounter_summary_all_07_02_2021.csv'"
     ]
    }
   ],
   "source": [
    "%%time\n",
    "create_csv(years)"
   ]
  },
  {
   "cell_type": "markdown",
   "id": "defdc01d",
   "metadata": {},
   "source": [
    "## Print Dataframe Heads for Confirmation"
   ]
  },
  {
   "cell_type": "code",
   "execution_count": 4,
   "id": "3f3990d9",
   "metadata": {},
   "outputs": [
    {
     "name": "stdout",
     "output_type": "stream",
     "text": [
      "Looking at year:  2016\n"
     ]
    },
    {
     "name": "stderr",
     "output_type": "stream",
     "text": [
      "/tmp/ipykernel_11912/3100979361.py:4: DtypeWarning: Columns (5,8,10,14,15,16,17,18,19,26,39,40,112,114,126,127,128,129,130,131) have mixed types. Specify dtype option on import or set low_memory=False.\n",
      "  df = pd.read_csv(\"gr_prep_\" + str(year) + \".csv\")\n"
     ]
    },
    {
     "name": "stdout",
     "output_type": "stream",
     "text": [
      "          csn     pt_id  y_vent_rows  y_vent_start_time  y_vent_end_time  \\\n",
      "0  1017101607  Z1360733            0                  0                0   \n",
      "1  1017101607  Z1360733            0                  0                0   \n",
      "2  1017101607  Z1360733            0                  0                0   \n",
      "3  1017101607  Z1360733            0                  0                0   \n",
      "4  1017101607  Z1360733            0                  0                0   \n",
      "\n",
      "  vent_start_time  ed_wait_time  worst_pf_pa worst_pf_pa_time  worst_pf_sp  \\\n",
      "0             NaN          14.0          NaN              NaN          NaN   \n",
      "1             NaN          14.0          NaN              NaN          NaN   \n",
      "2             NaN          14.0          NaN              NaN          NaN   \n",
      "3             NaN          14.0          NaN              NaN          NaN   \n",
      "4             NaN          14.0          NaN              NaN          NaN   \n",
      "\n",
      "   ... procedure best_map norepinephrine_dose_weight epinephrine_dose_weight  \\\n",
      "0  ...         0     74.0                        NaN                     NaN   \n",
      "1  ...         0     78.0                        NaN                     NaN   \n",
      "2  ...         0      NaN                        NaN                     NaN   \n",
      "3  ...         0     96.0                        NaN                     NaN   \n",
      "4  ...         0      NaN                        NaN                     NaN   \n",
      "\n",
      "  dobutamine_dose_weight dopamine_dose_weight phenylephrine_dose_weight  \\\n",
      "0                    NaN                  NaN                       NaN   \n",
      "1                    NaN                  NaN                       NaN   \n",
      "2                    NaN                  NaN                       NaN   \n",
      "3                    NaN                  NaN                       NaN   \n",
      "4                    NaN                  NaN                       NaN   \n",
      "\n",
      "  vasopressin_dose_weight pf_sp pf_pa  \n",
      "0                     NaN   NaN   NaN  \n",
      "1                     NaN   NaN   NaN  \n",
      "2                     NaN   NaN   NaN  \n",
      "3                     NaN   NaN   NaN  \n",
      "4                     NaN   NaN   NaN  \n",
      "\n",
      "[5 rows x 145 columns]\n",
      "*******************************************\n",
      "Looking at year:  2017\n"
     ]
    },
    {
     "name": "stderr",
     "output_type": "stream",
     "text": [
      "/tmp/ipykernel_11912/3100979361.py:4: DtypeWarning: Columns (5,8,10,14,15,16,17,18,19,26,39,40,112,114,126,127,128,129,130,131) have mixed types. Specify dtype option on import or set low_memory=False.\n",
      "  df = pd.read_csv(\"gr_prep_\" + str(year) + \".csv\")\n"
     ]
    },
    {
     "name": "stdout",
     "output_type": "stream",
     "text": [
      "          csn     pt_id  y_vent_rows  y_vent_start_time  y_vent_end_time  \\\n",
      "0  1019440753  Z1722910            0                  0                0   \n",
      "1  1019440753  Z1722910            0                  0                0   \n",
      "2  1019440753  Z1722910            0                  0                0   \n",
      "3  1019440753  Z1722910            0                  0                0   \n",
      "4  1019440753  Z1722910            0                  0                0   \n",
      "\n",
      "  vent_start_time  ed_wait_time  worst_pf_pa worst_pf_pa_time  worst_pf_sp  \\\n",
      "0             NaN           7.0          NaN              NaN          NaN   \n",
      "1             NaN           7.0          NaN              NaN          NaN   \n",
      "2             NaN           7.0          NaN              NaN          NaN   \n",
      "3             NaN           7.0          NaN              NaN          NaN   \n",
      "4             NaN           7.0          NaN              NaN          NaN   \n",
      "\n",
      "   ... procedure best_map norepinephrine_dose_weight epinephrine_dose_weight  \\\n",
      "0  ...         0     61.0                        NaN                     NaN   \n",
      "1  ...         0      NaN                        NaN                     NaN   \n",
      "2  ...         0     69.5                        NaN                     NaN   \n",
      "3  ...         0     72.0                        NaN                     NaN   \n",
      "4  ...         0     69.0                        NaN                     NaN   \n",
      "\n",
      "  dobutamine_dose_weight dopamine_dose_weight phenylephrine_dose_weight  \\\n",
      "0                    NaN                  NaN                       NaN   \n",
      "1                    NaN                  NaN                       NaN   \n",
      "2                    NaN                  NaN                       NaN   \n",
      "3                    NaN                  NaN                       NaN   \n",
      "4                    NaN                  NaN                       NaN   \n",
      "\n",
      "  vasopressin_dose_weight pf_sp pf_pa  \n",
      "0                     NaN   NaN   NaN  \n",
      "1                     NaN   NaN   NaN  \n",
      "2                     NaN   NaN   NaN  \n",
      "3                     NaN   NaN   NaN  \n",
      "4                     NaN   NaN   NaN  \n",
      "\n",
      "[5 rows x 145 columns]\n",
      "*******************************************\n",
      "Looking at year:  2018\n"
     ]
    },
    {
     "name": "stderr",
     "output_type": "stream",
     "text": [
      "/tmp/ipykernel_11912/3100979361.py:4: DtypeWarning: Columns (5,8,10,11,12,13,14,15,16,17,18,19,26,39,40,112,114,126,127,128,129,130,131) have mixed types. Specify dtype option on import or set low_memory=False.\n",
      "  df = pd.read_csv(\"gr_prep_\" + str(year) + \".csv\")\n"
     ]
    },
    {
     "name": "stdout",
     "output_type": "stream",
     "text": [
      "          csn     pt_id  y_vent_rows  y_vent_start_time  y_vent_end_time  \\\n",
      "0  1025222642  Z1723215            0                  0                0   \n",
      "1  1025222642  Z1723215            0                  0                0   \n",
      "2  1025222642  Z1723215            0                  0                0   \n",
      "3  1025222642  Z1723215            0                  0                0   \n",
      "4  1025222642  Z1723215            0                  0                0   \n",
      "\n",
      "  vent_start_time  ed_wait_time  worst_pf_pa worst_pf_pa_time  worst_pf_sp  \\\n",
      "0             NaN         349.0          NaN              NaN          NaN   \n",
      "1             NaN         349.0          NaN              NaN          NaN   \n",
      "2             NaN         349.0          NaN              NaN          NaN   \n",
      "3             NaN         349.0          NaN              NaN          NaN   \n",
      "4             NaN         349.0          NaN              NaN          NaN   \n",
      "\n",
      "   ... procedure best_map norepinephrine_dose_weight epinephrine_dose_weight  \\\n",
      "0  ...         0      NaN                        NaN                     NaN   \n",
      "1  ...         0     82.0                        NaN                     NaN   \n",
      "2  ...         0      NaN                        NaN                     NaN   \n",
      "3  ...         0      NaN                        NaN                     NaN   \n",
      "4  ...         0      NaN                        NaN                     NaN   \n",
      "\n",
      "  dobutamine_dose_weight dopamine_dose_weight phenylephrine_dose_weight  \\\n",
      "0                    NaN                  NaN                       NaN   \n",
      "1                    NaN                  NaN                       NaN   \n",
      "2                    NaN                  NaN                       NaN   \n",
      "3                    NaN                  NaN                       NaN   \n",
      "4                    NaN                  NaN                       NaN   \n",
      "\n",
      "  vasopressin_dose_weight pf_sp pf_pa  \n",
      "0                     NaN   NaN   NaN  \n",
      "1                     NaN   NaN   NaN  \n",
      "2                     NaN   NaN   NaN  \n",
      "3                     NaN   NaN   NaN  \n",
      "4                     NaN   NaN   NaN  \n",
      "\n",
      "[5 rows x 145 columns]\n",
      "*******************************************\n",
      "Looking at year:  2019\n"
     ]
    },
    {
     "name": "stderr",
     "output_type": "stream",
     "text": [
      "/tmp/ipykernel_11912/3100979361.py:4: DtypeWarning: Columns (5,8,10,11,12,13,14,15,16,17,18,19,26,39,40,112,114,126,127,128,129,130,131) have mixed types. Specify dtype option on import or set low_memory=False.\n",
      "  df = pd.read_csv(\"gr_prep_\" + str(year) + \".csv\")\n"
     ]
    },
    {
     "name": "stdout",
     "output_type": "stream",
     "text": [
      "          csn     pt_id  y_vent_rows  y_vent_start_time  y_vent_end_time  \\\n",
      "0  1027990195  Z1723215            0                  0                0   \n",
      "1  1027990195  Z1723215            0                  0                0   \n",
      "2  1027990195  Z1723215            0                  0                0   \n",
      "3  1027990195  Z1723215            0                  0                0   \n",
      "4  1027990195  Z1723215            0                  0                0   \n",
      "\n",
      "  vent_start_time  ed_wait_time  worst_pf_pa worst_pf_pa_time  worst_pf_sp  \\\n",
      "0             NaN          29.0          NaN              NaN          NaN   \n",
      "1             NaN          29.0          NaN              NaN          NaN   \n",
      "2             NaN          29.0          NaN              NaN          NaN   \n",
      "3             NaN          29.0          NaN              NaN          NaN   \n",
      "4             NaN          29.0          NaN              NaN          NaN   \n",
      "\n",
      "   ... procedure best_map norepinephrine_dose_weight epinephrine_dose_weight  \\\n",
      "0  ...         0    103.0                        NaN                     NaN   \n",
      "1  ...         0    104.0                        NaN                     NaN   \n",
      "2  ...         0    101.0                        NaN                     NaN   \n",
      "3  ...         0     98.0                        NaN                     NaN   \n",
      "4  ...         0      NaN                        NaN                     NaN   \n",
      "\n",
      "  dobutamine_dose_weight dopamine_dose_weight phenylephrine_dose_weight  \\\n",
      "0                    NaN                  NaN                       NaN   \n",
      "1                    NaN                  NaN                       NaN   \n",
      "2                    NaN                  NaN                       NaN   \n",
      "3                    NaN                  NaN                       NaN   \n",
      "4                    NaN                  NaN                       NaN   \n",
      "\n",
      "  vasopressin_dose_weight pf_sp pf_pa  \n",
      "0                     NaN   NaN   NaN  \n",
      "1                     NaN   NaN   NaN  \n",
      "2                     NaN   NaN   NaN  \n",
      "3                     NaN   NaN   NaN  \n",
      "4                     NaN   NaN   NaN  \n",
      "\n",
      "[5 rows x 145 columns]\n",
      "*******************************************\n",
      "Looking at year:  2020\n"
     ]
    },
    {
     "name": "stderr",
     "output_type": "stream",
     "text": [
      "/tmp/ipykernel_11912/3100979361.py:4: DtypeWarning: Columns (5,8,10,14,15,16,17,18,19,26,39,40,112,113,126,127,128,129,130,131) have mixed types. Specify dtype option on import or set low_memory=False.\n",
      "  df = pd.read_csv(\"gr_prep_\" + str(year) + \".csv\")\n"
     ]
    },
    {
     "name": "stdout",
     "output_type": "stream",
     "text": [
      "          csn     pt_id  y_vent_rows  y_vent_start_time  y_vent_end_time  \\\n",
      "0  1035996185  Z1722864            0                  0                0   \n",
      "1  1035996185  Z1722864            0                  0                0   \n",
      "2  1035996185  Z1722864            0                  0                0   \n",
      "3  1035996185  Z1722864            0                  0                0   \n",
      "4  1035996185  Z1722864            0                  0                0   \n",
      "\n",
      "  vent_start_time  ed_wait_time  worst_pf_pa worst_pf_pa_time  worst_pf_sp  \\\n",
      "0             NaN          -9.0          NaN              NaN          NaN   \n",
      "1             NaN          -9.0          NaN              NaN          NaN   \n",
      "2             NaN          -9.0          NaN              NaN          NaN   \n",
      "3             NaN          -9.0          NaN              NaN          NaN   \n",
      "4             NaN          -9.0          NaN              NaN          NaN   \n",
      "\n",
      "   ... procedure best_map norepinephrine_dose_weight epinephrine_dose_weight  \\\n",
      "0  ...         0    102.5                        NaN                     NaN   \n",
      "1  ...         0      NaN                        NaN                     NaN   \n",
      "2  ...         0     98.0                        NaN                     NaN   \n",
      "3  ...         0      NaN                        NaN                     NaN   \n",
      "4  ...         0    126.0                        NaN                     NaN   \n",
      "\n",
      "  dobutamine_dose_weight dopamine_dose_weight phenylephrine_dose_weight  \\\n",
      "0                    NaN                  NaN                       NaN   \n",
      "1                    NaN                  NaN                       NaN   \n",
      "2                    NaN                  NaN                       NaN   \n",
      "3                    NaN                  NaN                       NaN   \n",
      "4                    NaN                  NaN                       NaN   \n",
      "\n",
      "  vasopressin_dose_weight pf_sp pf_pa  \n",
      "0                     NaN   NaN   NaN  \n",
      "1                     NaN   NaN   NaN  \n",
      "2                     NaN   NaN   NaN  \n",
      "3                     NaN   NaN   NaN  \n",
      "4                     NaN   NaN   NaN  \n",
      "\n",
      "[5 rows x 145 columns]\n",
      "*******************************************\n"
     ]
    }
   ],
   "source": [
    "years = list(range(2016,2021))\n",
    "for year in years:\n",
    "    print(\"Looking at year: \", year)\n",
    "    df = pd.read_csv(\"/opt/bmi-585r/Grady_Data/gr_prep_\" + str(year) + \".csv\")\n",
    "    print(df.head())\n",
    "    print(\"*******************************************\")"
   ]
  },
  {
   "cell_type": "code",
   "execution_count": null,
   "id": "87f9e496",
   "metadata": {},
   "outputs": [],
   "source": []
  }
 ],
 "metadata": {
  "kernelspec": {
   "display_name": "Python 3 (ipykernel)",
   "language": "python",
   "name": "python3"
  },
  "language_info": {
   "codemirror_mode": {
    "name": "ipython",
    "version": 3
   },
   "file_extension": ".py",
   "mimetype": "text/x-python",
   "name": "python",
   "nbconvert_exporter": "python",
   "pygments_lexer": "ipython3",
   "version": "3.10.4"
  }
 },
 "nbformat": 4,
 "nbformat_minor": 5
}
