{
 "cells": [
  {
   "cell_type": "markdown",
   "metadata": {},
   "source": [
    "# MODS Phenotypes: Step 4. Create Study Cohorts"
   ]
  },
  {
   "cell_type": "markdown",
   "metadata": {
    "tags": []
   },
   "source": [
    "## Setup"
   ]
  },
  {
   "cell_type": "markdown",
   "metadata": {
    "tags": []
   },
   "source": [
    "### `imports`"
   ]
  },
  {
   "cell_type": "code",
   "execution_count": 1,
   "metadata": {},
   "outputs": [
    {
     "data": {
      "application/vnd.jupyter.widget-view+json": {
       "model_id": "0673b753d79740fc98c38ebf9a95aac3",
       "version_major": 2,
       "version_minor": 0
      },
      "text/plain": [
       "  0%|          | 0/100 [00:00<?, ?it/s]"
      ]
     },
     "metadata": {},
     "output_type": "display_data"
    },
    {
     "data": {
      "text/plain": [
       "<tqdm.auto.tqdm at 0x14f1c21515a0>"
      ]
     },
     "execution_count": 1,
     "metadata": {},
     "output_type": "execute_result"
    }
   ],
   "source": [
    "import os\n",
    "import sys\n",
    "from pathlib import Path\n",
    "import warnings\n",
    "warnings.filterwarnings(\"ignore\")\n",
    "from datetime import date\n",
    "# import numpy as np\n",
    "# import seaborn as sns\n",
    "# import matplotlib\n",
    "# import matplotlib.pyplot as plt\n",
    "from multiprocessing import Pool\n",
    "from IPython.display import display as display\n",
    "\n",
    "from tqdm.auto import tqdm\n",
    "tqdm(total=100, mininterval=1.0)"
   ]
  },
  {
   "cell_type": "code",
   "execution_count": 2,
   "metadata": {
    "tags": []
   },
   "outputs": [],
   "source": [
    "site_name = 'emory'\n",
    "\n",
    "sys.path.insert(0, \"/opt/scratchspace/KLAB_SAIL/MODSPhenotypes/mods/\")\n",
    "from src.config import *\n",
    "from src.utils import *\n",
    "from src.analysis import *"
   ]
  },
  {
   "cell_type": "markdown",
   "metadata": {},
   "source": [
    "### `config`"
   ]
  },
  {
   "cell_type": "code",
   "execution_count": 3,
   "metadata": {},
   "outputs": [],
   "source": [
    "# TODO: this shouldnt be needed make it go away\n",
    "\n",
    "years=['2016','2017','2018','2019','2020']\n",
    "\n",
    "sepsis3_window_days = project_config['parameters']['sepsis3_window_days']\n",
    "num_cpus = project_config['parameters']['num_cpus']\n",
    "num_gpus = project_config['parameters']['num_gpus']\n",
    "\n",
    "\n",
    "patient_id = project_config[site_name][\"keys\"][\"patient_key\"]\n",
    "service_id = project_config[site_name][\"keys\"][\"service_key\"]\n",
    "record_dt = project_config[site_name][\"keys\"][\"record_dt\"]\n",
    "\n",
    "\n",
    "scores_keys = project_config[site_name][\"scores\"]\n",
    "static_keys = project_config[site_name][\"static\"]\n",
    "dynamic_keys = project_config[site_name][\"dynamic\"]\n",
    "times_keys = project_config[site_name][\"times\"]\n",
    "datetimes_keys = project_config[site_name][\"datetimes\"]\n",
    "\n",
    "\n",
    "hospital_intime = project_config[site_name][\"datetimes\"][\"hospital_intime\"]\n",
    "hospital_outtime = project_config[site_name][\"datetimes\"][\"hospital_outtime\"]\n",
    "hospital_encounter_current = project_config[site_name][\"datetimes\"][\"hospital_encounter_current\"]\n",
    "hospital_encounter_total = project_config[site_name][\"datetimes\"][\"hospital_encounter_total\"]\n",
    "\n",
    "sepsis3_current = 'sepsis3_current'\n",
    "hours_after_sepsis = 'hours_after_sepsis'\n",
    "sepsis3_onset = project_config[site_name][\"datetimes\"][\"sepsis3_onset\"]\n",
    "sepsis3_encounter = project_config[site_name]['datetimes']['sepsis3_encounter']\n",
    "sepsis3_config = project_config[site_name]['datetimes']['sepsis3_current']\n",
    "sepsis3_window = project_config[site_name]['datetimes']['sepsis3_window']"
   ]
  },
  {
   "cell_type": "code",
   "execution_count": null,
   "metadata": {},
   "outputs": [],
   "source": [
    "sofa_organ_cols = [\n",
    "    'SOFA_coag',\n",
    "    'SOFA_renal',\n",
    "    'SOFA_hep',\n",
    "    'SOFA_neuro',\n",
    "    'SOFA_cardio',\n",
    "    'SOFA_resp'\n",
    "]\n",
    "\n",
    "sofa_score_cols = [f\"{col}_score\" for col in sofa_organ_cols]\n",
    "sofa_failure_cols = [f\"{col}_failure\" for col in sofa_organ_cols]\n",
    "sofa_status_cols = sofa_failure_cols + ['SOFA_no_failure']\n",
    "\n",
    "sofa_etc_cols = [\n",
    "    'SOFA_cardio_mod',\n",
    "    'SOFA_resp_sa',\n",
    "    'SOFA_hourly_total',\n",
    "    'SOFA_hourly_total_mod',\n",
    "    'SOFA_delta_24h',\n",
    "    'SOFA_delta_24h_mod'\n",
    "]\n",
    "\n",
    "sofa_cols = sofa_organ_cols + sofa_score_cols + sofa_failure_cols + sofa_status_cols + sofa_etc_cols\n",
    "\n",
    "sepsis_cols = [\n",
    "'first_sep3_SOFA',\n",
    "'first_sep3_time',\n",
    "'first_sep3_susp_mod',\n",
    "'first_sep3_SOFA_mod',\n",
    "'first_sep3_time_mod'\n",
    "]\n",
    "\n",
    "time_col = 'time_1D'\n",
    "mods_label = 'mods_28D'\n",
    "\n",
    "sofa_admission_failure_cols = [f\"{col}_admission\" for col in sofa_failure_cols]\n"
   ]
  },
  {
   "cell_type": "markdown",
   "metadata": {
    "tags": []
   },
   "source": [
    "### `duckdb()`"
   ]
  },
  {
   "cell_type": "code",
   "execution_count": null,
   "metadata": {},
   "outputs": [],
   "source": [
    "import duckdb\n",
    "import sqlalchemy\n",
    "%load_ext sql\n",
    "%config SqlMagic.autopandas = True\n",
    "%config SqlMagic.feedback = False\n",
    "%config SqlMagic.displaycon = False"
   ]
  },
  {
   "cell_type": "code",
   "execution_count": null,
   "metadata": {},
   "outputs": [
    {
     "data": {
      "text/html": [
       "<div>\n",
       "<style scoped>\n",
       "    .dataframe tbody tr th:only-of-type {\n",
       "        vertical-align: middle;\n",
       "    }\n",
       "\n",
       "    .dataframe tbody tr th {\n",
       "        vertical-align: top;\n",
       "    }\n",
       "\n",
       "    .dataframe thead th {\n",
       "        text-align: right;\n",
       "    }\n",
       "</style>\n",
       "<table border=\"1\" class=\"dataframe\">\n",
       "  <thead>\n",
       "    <tr style=\"text-align: right;\">\n",
       "      <th></th>\n",
       "    </tr>\n",
       "  </thead>\n",
       "  <tbody>\n",
       "  </tbody>\n",
       "</table>\n",
       "</div>"
      ],
      "text/plain": [
       "Empty DataFrame\n",
       "Columns: []\n",
       "Index: []"
      ]
     },
     "execution_count": 6,
     "metadata": {},
     "output_type": "execute_result"
    }
   ],
   "source": [
    "%%sql\n",
    "duckdb:////opt/scratchspace/KLAB_SAIL/MODSPhenotypes/data/MODS.duckdb\n",
    "PRAGMA memory_limit='700GB';\n",
    "PRAGMA threads=180;\n",
    "PRAGMA enable_profiling;\n",
    "PRAGMA enable_optimizer;\n",
    "PRAGMA temp_directory='/opt/localdata/duck.tmp'"
   ]
  },
  {
   "cell_type": "code",
   "execution_count": null,
   "metadata": {},
   "outputs": [
    {
     "data": {
      "text/html": [
       "<div>\n",
       "<style scoped>\n",
       "    .dataframe tbody tr th:only-of-type {\n",
       "        vertical-align: middle;\n",
       "    }\n",
       "\n",
       "    .dataframe tbody tr th {\n",
       "        vertical-align: top;\n",
       "    }\n",
       "\n",
       "    .dataframe thead th {\n",
       "        text-align: right;\n",
       "    }\n",
       "</style>\n",
       "<table border=\"1\" class=\"dataframe\">\n",
       "  <thead>\n",
       "    <tr style=\"text-align: right;\">\n",
       "      <th></th>\n",
       "    </tr>\n",
       "  </thead>\n",
       "  <tbody>\n",
       "  </tbody>\n",
       "</table>\n",
       "</div>"
      ],
      "text/plain": [
       "Empty DataFrame\n",
       "Columns: []\n",
       "Index: []"
      ]
     },
     "execution_count": 7,
     "metadata": {},
     "output_type": "execute_result"
    }
   ],
   "source": [
    "%sql SET access_mode TO 'READ_ONLY';"
   ]
  },
  {
   "cell_type": "markdown",
   "metadata": {},
   "source": [
    "### Modin"
   ]
  },
  {
   "cell_type": "code",
   "execution_count": null,
   "metadata": {},
   "outputs": [
    {
     "name": "stdout",
     "output_type": "stream",
     "text": [
      "CPU times: user 579 ms, sys: 273 ms, total: 853 ms\n",
      "Wall time: 4.28 s\n"
     ]
    }
   ],
   "source": [
    "%%time\n",
    "ray_path = Path(\"/opt/localdata/ray\")\n",
    "temp_dir = ray_path / \"temp\"\n",
    "temp_dir.mkdir(exist_ok=True, parents=True)\n",
    "\n",
    "import ray\n",
    "ray.init(\n",
    "    num_cpus=num_cpus,\n",
    "    num_gpus=num_gpus,\n",
    "    include_dashboard=False,\n",
    "    _temp_dir=str(temp_dir),\n",
    ")\n",
    "\n",
    "import modin.pandas as md"
   ]
  },
  {
   "cell_type": "markdown",
   "metadata": {
    "tags": []
   },
   "source": [
    "## 28 DAYS POST SEPSIS\n",
    "Find patients with sepsis who developed MODS within 28 days of sepsis-onset"
   ]
  },
  {
   "cell_type": "code",
   "execution_count": null,
   "metadata": {},
   "outputs": [
    {
     "ename": "DBAPIError",
     "evalue": "(builtins.RuntimeError) Catalog Error: Table with name emory_sepsis_28days does not exist!\nDid you mean \"sepsis_28days\"?\nLINE 22:                                 FROM emory_sepsis_28days;\n                                              ^\n[SQL: SELECT      pat_id,\n                                csn,\n                                hospital_encounter_current,\n                                hours_after_sepsis,\n                                SOFA_coag,\n                                SOFA_renal,\n                                SOFA_hep,\n                                SOFA_neuro,\n                                SOFA_cardio,\n                                SOFA_cardio_mod,\n                                SOFA_resp,\n                                SOFA_resp_sa,\n                                SOFA_hourly_total,\n                                SOFA_delta_24h,\n                                SOFA_hourly_total_mod,\n                                SOFA_delta_24h_mod,\n                                first_sep3_SOFA,\n                                first_sep3_time,\n                                first_sep3_susp_mod,\n                                first_sep3_SOFA_mod,\n                                first_sep3_time_mod\n                                FROM emory_sepsis_28days;]\n(Background on this error at: https://sqlalche.me/e/14/dbapi)",
     "output_type": "error",
     "traceback": [
      "\u001b[0;31m---------------------------------------------------------------------------\u001b[0m",
      "\u001b[0;31mRuntimeError\u001b[0m                              Traceback (most recent call last)",
      "File \u001b[0;32m~/MODSPhenotypes/miniconda3/envs/mods/lib/python3.10/site-packages/sqlalchemy/engine/base.py:1819\u001b[0m, in \u001b[0;36mConnection._execute_context\u001b[0;34m(self, dialect, constructor, statement, parameters, execution_options, *args, **kw)\u001b[0m\n\u001b[1;32m   1818\u001b[0m     \u001b[38;5;28;01mif\u001b[39;00m \u001b[38;5;129;01mnot\u001b[39;00m evt_handled:\n\u001b[0;32m-> 1819\u001b[0m         \u001b[38;5;28;43mself\u001b[39;49m\u001b[38;5;241;43m.\u001b[39;49m\u001b[43mdialect\u001b[49m\u001b[38;5;241;43m.\u001b[39;49m\u001b[43mdo_execute\u001b[49m\u001b[43m(\u001b[49m\n\u001b[1;32m   1820\u001b[0m \u001b[43m            \u001b[49m\u001b[43mcursor\u001b[49m\u001b[43m,\u001b[49m\u001b[43m \u001b[49m\u001b[43mstatement\u001b[49m\u001b[43m,\u001b[49m\u001b[43m \u001b[49m\u001b[43mparameters\u001b[49m\u001b[43m,\u001b[49m\u001b[43m \u001b[49m\u001b[43mcontext\u001b[49m\n\u001b[1;32m   1821\u001b[0m \u001b[43m        \u001b[49m\u001b[43m)\u001b[49m\n\u001b[1;32m   1823\u001b[0m \u001b[38;5;28;01mif\u001b[39;00m \u001b[38;5;28mself\u001b[39m\u001b[38;5;241m.\u001b[39m_has_events \u001b[38;5;129;01mor\u001b[39;00m \u001b[38;5;28mself\u001b[39m\u001b[38;5;241m.\u001b[39mengine\u001b[38;5;241m.\u001b[39m_has_events:\n",
      "File \u001b[0;32m~/MODSPhenotypes/miniconda3/envs/mods/lib/python3.10/site-packages/duckdb_engine/__init__.py:186\u001b[0m, in \u001b[0;36mDialect.do_execute\u001b[0;34m(self, cursor, statement, parameters, context)\u001b[0m\n\u001b[1;32m    179\u001b[0m \u001b[38;5;28;01mdef\u001b[39;00m \u001b[38;5;21mdo_execute\u001b[39m(\n\u001b[1;32m    180\u001b[0m     \u001b[38;5;28mself\u001b[39m,\n\u001b[1;32m    181\u001b[0m     cursor: ConnectionWrapper,\n\u001b[0;32m   (...)\u001b[0m\n\u001b[1;32m    184\u001b[0m     context: PGExecutionContext,\n\u001b[1;32m    185\u001b[0m ) \u001b[38;5;241m-\u001b[39m\u001b[38;5;241m>\u001b[39m \u001b[38;5;28;01mNone\u001b[39;00m:\n\u001b[0;32m--> 186\u001b[0m     \u001b[43mcursor\u001b[49m\u001b[38;5;241;43m.\u001b[39;49m\u001b[43mexecute\u001b[49m\u001b[43m(\u001b[49m\u001b[43mstatement\u001b[49m\u001b[43m,\u001b[49m\u001b[43m \u001b[49m\u001b[43mparameters\u001b[49m\u001b[43m,\u001b[49m\u001b[43m \u001b[49m\u001b[43mcontext\u001b[49m\u001b[43m)\u001b[49m\n",
      "File \u001b[0;32m~/MODSPhenotypes/miniconda3/envs/mods/lib/python3.10/site-packages/duckdb_engine/__init__.py:108\u001b[0m, in \u001b[0;36mConnectionWrapper.execute\u001b[0;34m(self, statement, parameters, context)\u001b[0m\n\u001b[1;32m    107\u001b[0m \u001b[38;5;28;01melse\u001b[39;00m:\n\u001b[0;32m--> 108\u001b[0m     \u001b[38;5;28;01mraise\u001b[39;00m e\n",
      "File \u001b[0;32m~/MODSPhenotypes/miniconda3/envs/mods/lib/python3.10/site-packages/duckdb_engine/__init__.py:98\u001b[0m, in \u001b[0;36mConnectionWrapper.execute\u001b[0;34m(self, statement, parameters, context)\u001b[0m\n\u001b[1;32m     97\u001b[0m     \u001b[38;5;28;01melse\u001b[39;00m:\n\u001b[0;32m---> 98\u001b[0m         \u001b[38;5;28;43mself\u001b[39;49m\u001b[38;5;241;43m.\u001b[39;49m\u001b[43mc\u001b[49m\u001b[38;5;241;43m.\u001b[39;49m\u001b[43mexecute\u001b[49m\u001b[43m(\u001b[49m\u001b[43mstatement\u001b[49m\u001b[43m,\u001b[49m\u001b[43m \u001b[49m\u001b[43mparameters\u001b[49m\u001b[43m)\u001b[49m\n\u001b[1;32m     99\u001b[0m \u001b[38;5;28;01mexcept\u001b[39;00m \u001b[38;5;167;01mRuntimeError\u001b[39;00m \u001b[38;5;28;01mas\u001b[39;00m e:\n",
      "\u001b[0;31mRuntimeError\u001b[0m: Catalog Error: Table with name emory_sepsis_28days does not exist!\nDid you mean \"sepsis_28days\"?\nLINE 22:                                 FROM emory_sepsis_28days;\n                                              ^",
      "\nThe above exception was the direct cause of the following exception:\n",
      "\u001b[0;31mDBAPIError\u001b[0m                                Traceback (most recent call last)",
      "File \u001b[0;32m<timed eval>:1\u001b[0m\n",
      "File \u001b[0;32m~/MODSPhenotypes/miniconda3/envs/mods/lib/python3.10/site-packages/IPython/core/interactiveshell.py:2417\u001b[0m, in \u001b[0;36mInteractiveShell.run_cell_magic\u001b[0;34m(self, magic_name, line, cell)\u001b[0m\n\u001b[1;32m   2415\u001b[0m \u001b[38;5;28;01mwith\u001b[39;00m \u001b[38;5;28mself\u001b[39m\u001b[38;5;241m.\u001b[39mbuiltin_trap:\n\u001b[1;32m   2416\u001b[0m     args \u001b[38;5;241m=\u001b[39m (magic_arg_s, cell)\n\u001b[0;32m-> 2417\u001b[0m     result \u001b[38;5;241m=\u001b[39m \u001b[43mfn\u001b[49m\u001b[43m(\u001b[49m\u001b[38;5;241;43m*\u001b[39;49m\u001b[43margs\u001b[49m\u001b[43m,\u001b[49m\u001b[43m \u001b[49m\u001b[38;5;241;43m*\u001b[39;49m\u001b[38;5;241;43m*\u001b[39;49m\u001b[43mkwargs\u001b[49m\u001b[43m)\u001b[49m\n\u001b[1;32m   2418\u001b[0m \u001b[38;5;28;01mreturn\u001b[39;00m result\n",
      "File \u001b[0;32m~/MODSPhenotypes/miniconda3/envs/mods/lib/python3.10/site-packages/sql/magic.py:215\u001b[0m, in \u001b[0;36mSqlMagic.execute\u001b[0;34m(self, line, cell, local_ns)\u001b[0m\n\u001b[1;32m    212\u001b[0m     \u001b[38;5;28;01mreturn\u001b[39;00m\n\u001b[1;32m    214\u001b[0m \u001b[38;5;28;01mtry\u001b[39;00m:\n\u001b[0;32m--> 215\u001b[0m     result \u001b[38;5;241m=\u001b[39m \u001b[43msql\u001b[49m\u001b[38;5;241;43m.\u001b[39;49m\u001b[43mrun\u001b[49m\u001b[38;5;241;43m.\u001b[39;49m\u001b[43mrun\u001b[49m\u001b[43m(\u001b[49m\u001b[43mconn\u001b[49m\u001b[43m,\u001b[49m\u001b[43m \u001b[49m\u001b[43mparsed\u001b[49m\u001b[43m[\u001b[49m\u001b[38;5;124;43m\"\u001b[39;49m\u001b[38;5;124;43msql\u001b[39;49m\u001b[38;5;124;43m\"\u001b[39;49m\u001b[43m]\u001b[49m\u001b[43m,\u001b[49m\u001b[43m \u001b[49m\u001b[38;5;28;43mself\u001b[39;49m\u001b[43m,\u001b[49m\u001b[43m \u001b[49m\u001b[43muser_ns\u001b[49m\u001b[43m)\u001b[49m\n\u001b[1;32m    217\u001b[0m     \u001b[38;5;28;01mif\u001b[39;00m (\n\u001b[1;32m    218\u001b[0m         result \u001b[38;5;129;01mis\u001b[39;00m \u001b[38;5;129;01mnot\u001b[39;00m \u001b[38;5;28;01mNone\u001b[39;00m\n\u001b[1;32m    219\u001b[0m         \u001b[38;5;129;01mand\u001b[39;00m \u001b[38;5;129;01mnot\u001b[39;00m \u001b[38;5;28misinstance\u001b[39m(result, \u001b[38;5;28mstr\u001b[39m)\n\u001b[0;32m   (...)\u001b[0m\n\u001b[1;32m    222\u001b[0m         \u001b[38;5;66;03m# Instead of returning values, set variables directly in the\u001b[39;00m\n\u001b[1;32m    223\u001b[0m         \u001b[38;5;66;03m# users namespace. Variable names given by column names\u001b[39;00m\n\u001b[1;32m    225\u001b[0m         \u001b[38;5;28;01mif\u001b[39;00m \u001b[38;5;28mself\u001b[39m\u001b[38;5;241m.\u001b[39mautopandas:\n",
      "File \u001b[0;32m~/MODSPhenotypes/miniconda3/envs/mods/lib/python3.10/site-packages/sql/run.py:370\u001b[0m, in \u001b[0;36mrun\u001b[0;34m(conn, sql, config, user_namespace)\u001b[0m\n\u001b[1;32m    368\u001b[0m \u001b[38;5;28;01melse\u001b[39;00m:\n\u001b[1;32m    369\u001b[0m     txt \u001b[38;5;241m=\u001b[39m sqlalchemy\u001b[38;5;241m.\u001b[39msql\u001b[38;5;241m.\u001b[39mtext(statement)\n\u001b[0;32m--> 370\u001b[0m     result \u001b[38;5;241m=\u001b[39m \u001b[43mconn\u001b[49m\u001b[38;5;241;43m.\u001b[39;49m\u001b[43msession\u001b[49m\u001b[38;5;241;43m.\u001b[39;49m\u001b[43mexecute\u001b[49m\u001b[43m(\u001b[49m\u001b[43mtxt\u001b[49m\u001b[43m,\u001b[49m\u001b[43m \u001b[49m\u001b[43muser_namespace\u001b[49m\u001b[43m)\u001b[49m\n\u001b[1;32m    371\u001b[0m _commit(conn\u001b[38;5;241m=\u001b[39mconn, config\u001b[38;5;241m=\u001b[39mconfig)\n\u001b[1;32m    372\u001b[0m \u001b[38;5;28;01mif\u001b[39;00m result \u001b[38;5;129;01mand\u001b[39;00m config\u001b[38;5;241m.\u001b[39mfeedback:\n",
      "File \u001b[0;32m~/MODSPhenotypes/miniconda3/envs/mods/lib/python3.10/site-packages/sqlalchemy/engine/base.py:1306\u001b[0m, in \u001b[0;36mConnection.execute\u001b[0;34m(self, statement, *multiparams, **params)\u001b[0m\n\u001b[1;32m   1302\u001b[0m     util\u001b[38;5;241m.\u001b[39mraise_(\n\u001b[1;32m   1303\u001b[0m         exc\u001b[38;5;241m.\u001b[39mObjectNotExecutableError(statement), replace_context\u001b[38;5;241m=\u001b[39merr\n\u001b[1;32m   1304\u001b[0m     )\n\u001b[1;32m   1305\u001b[0m \u001b[38;5;28;01melse\u001b[39;00m:\n\u001b[0;32m-> 1306\u001b[0m     \u001b[38;5;28;01mreturn\u001b[39;00m \u001b[43mmeth\u001b[49m\u001b[43m(\u001b[49m\u001b[38;5;28;43mself\u001b[39;49m\u001b[43m,\u001b[49m\u001b[43m \u001b[49m\u001b[43mmultiparams\u001b[49m\u001b[43m,\u001b[49m\u001b[43m \u001b[49m\u001b[43mparams\u001b[49m\u001b[43m,\u001b[49m\u001b[43m \u001b[49m\u001b[43m_EMPTY_EXECUTION_OPTS\u001b[49m\u001b[43m)\u001b[49m\n",
      "File \u001b[0;32m~/MODSPhenotypes/miniconda3/envs/mods/lib/python3.10/site-packages/sqlalchemy/sql/elements.py:332\u001b[0m, in \u001b[0;36mClauseElement._execute_on_connection\u001b[0;34m(self, connection, multiparams, params, execution_options, _force)\u001b[0m\n\u001b[1;32m    328\u001b[0m \u001b[38;5;28;01mdef\u001b[39;00m \u001b[38;5;21m_execute_on_connection\u001b[39m(\n\u001b[1;32m    329\u001b[0m     \u001b[38;5;28mself\u001b[39m, connection, multiparams, params, execution_options, _force\u001b[38;5;241m=\u001b[39m\u001b[38;5;28;01mFalse\u001b[39;00m\n\u001b[1;32m    330\u001b[0m ):\n\u001b[1;32m    331\u001b[0m     \u001b[38;5;28;01mif\u001b[39;00m _force \u001b[38;5;129;01mor\u001b[39;00m \u001b[38;5;28mself\u001b[39m\u001b[38;5;241m.\u001b[39msupports_execution:\n\u001b[0;32m--> 332\u001b[0m         \u001b[38;5;28;01mreturn\u001b[39;00m \u001b[43mconnection\u001b[49m\u001b[38;5;241;43m.\u001b[39;49m\u001b[43m_execute_clauseelement\u001b[49m\u001b[43m(\u001b[49m\n\u001b[1;32m    333\u001b[0m \u001b[43m            \u001b[49m\u001b[38;5;28;43mself\u001b[39;49m\u001b[43m,\u001b[49m\u001b[43m \u001b[49m\u001b[43mmultiparams\u001b[49m\u001b[43m,\u001b[49m\u001b[43m \u001b[49m\u001b[43mparams\u001b[49m\u001b[43m,\u001b[49m\u001b[43m \u001b[49m\u001b[43mexecution_options\u001b[49m\n\u001b[1;32m    334\u001b[0m \u001b[43m        \u001b[49m\u001b[43m)\u001b[49m\n\u001b[1;32m    335\u001b[0m     \u001b[38;5;28;01melse\u001b[39;00m:\n\u001b[1;32m    336\u001b[0m         \u001b[38;5;28;01mraise\u001b[39;00m exc\u001b[38;5;241m.\u001b[39mObjectNotExecutableError(\u001b[38;5;28mself\u001b[39m)\n",
      "File \u001b[0;32m~/MODSPhenotypes/miniconda3/envs/mods/lib/python3.10/site-packages/sqlalchemy/engine/base.py:1498\u001b[0m, in \u001b[0;36mConnection._execute_clauseelement\u001b[0;34m(self, elem, multiparams, params, execution_options)\u001b[0m\n\u001b[1;32m   1486\u001b[0m compiled_cache \u001b[38;5;241m=\u001b[39m execution_options\u001b[38;5;241m.\u001b[39mget(\n\u001b[1;32m   1487\u001b[0m     \u001b[38;5;124m\"\u001b[39m\u001b[38;5;124mcompiled_cache\u001b[39m\u001b[38;5;124m\"\u001b[39m, \u001b[38;5;28mself\u001b[39m\u001b[38;5;241m.\u001b[39mengine\u001b[38;5;241m.\u001b[39m_compiled_cache\n\u001b[1;32m   1488\u001b[0m )\n\u001b[1;32m   1490\u001b[0m compiled_sql, extracted_params, cache_hit \u001b[38;5;241m=\u001b[39m elem\u001b[38;5;241m.\u001b[39m_compile_w_cache(\n\u001b[1;32m   1491\u001b[0m     dialect\u001b[38;5;241m=\u001b[39mdialect,\n\u001b[1;32m   1492\u001b[0m     compiled_cache\u001b[38;5;241m=\u001b[39mcompiled_cache,\n\u001b[0;32m   (...)\u001b[0m\n\u001b[1;32m   1496\u001b[0m     linting\u001b[38;5;241m=\u001b[39m\u001b[38;5;28mself\u001b[39m\u001b[38;5;241m.\u001b[39mdialect\u001b[38;5;241m.\u001b[39mcompiler_linting \u001b[38;5;241m|\u001b[39m compiler\u001b[38;5;241m.\u001b[39mWARN_LINTING,\n\u001b[1;32m   1497\u001b[0m )\n\u001b[0;32m-> 1498\u001b[0m ret \u001b[38;5;241m=\u001b[39m \u001b[38;5;28;43mself\u001b[39;49m\u001b[38;5;241;43m.\u001b[39;49m\u001b[43m_execute_context\u001b[49m\u001b[43m(\u001b[49m\n\u001b[1;32m   1499\u001b[0m \u001b[43m    \u001b[49m\u001b[43mdialect\u001b[49m\u001b[43m,\u001b[49m\n\u001b[1;32m   1500\u001b[0m \u001b[43m    \u001b[49m\u001b[43mdialect\u001b[49m\u001b[38;5;241;43m.\u001b[39;49m\u001b[43mexecution_ctx_cls\u001b[49m\u001b[38;5;241;43m.\u001b[39;49m\u001b[43m_init_compiled\u001b[49m\u001b[43m,\u001b[49m\n\u001b[1;32m   1501\u001b[0m \u001b[43m    \u001b[49m\u001b[43mcompiled_sql\u001b[49m\u001b[43m,\u001b[49m\n\u001b[1;32m   1502\u001b[0m \u001b[43m    \u001b[49m\u001b[43mdistilled_params\u001b[49m\u001b[43m,\u001b[49m\n\u001b[1;32m   1503\u001b[0m \u001b[43m    \u001b[49m\u001b[43mexecution_options\u001b[49m\u001b[43m,\u001b[49m\n\u001b[1;32m   1504\u001b[0m \u001b[43m    \u001b[49m\u001b[43mcompiled_sql\u001b[49m\u001b[43m,\u001b[49m\n\u001b[1;32m   1505\u001b[0m \u001b[43m    \u001b[49m\u001b[43mdistilled_params\u001b[49m\u001b[43m,\u001b[49m\n\u001b[1;32m   1506\u001b[0m \u001b[43m    \u001b[49m\u001b[43melem\u001b[49m\u001b[43m,\u001b[49m\n\u001b[1;32m   1507\u001b[0m \u001b[43m    \u001b[49m\u001b[43mextracted_params\u001b[49m\u001b[43m,\u001b[49m\n\u001b[1;32m   1508\u001b[0m \u001b[43m    \u001b[49m\u001b[43mcache_hit\u001b[49m\u001b[38;5;241;43m=\u001b[39;49m\u001b[43mcache_hit\u001b[49m\u001b[43m,\u001b[49m\n\u001b[1;32m   1509\u001b[0m \u001b[43m\u001b[49m\u001b[43m)\u001b[49m\n\u001b[1;32m   1510\u001b[0m \u001b[38;5;28;01mif\u001b[39;00m has_events:\n\u001b[1;32m   1511\u001b[0m     \u001b[38;5;28mself\u001b[39m\u001b[38;5;241m.\u001b[39mdispatch\u001b[38;5;241m.\u001b[39mafter_execute(\n\u001b[1;32m   1512\u001b[0m         \u001b[38;5;28mself\u001b[39m,\n\u001b[1;32m   1513\u001b[0m         elem,\n\u001b[0;32m   (...)\u001b[0m\n\u001b[1;32m   1517\u001b[0m         ret,\n\u001b[1;32m   1518\u001b[0m     )\n",
      "File \u001b[0;32m~/MODSPhenotypes/miniconda3/envs/mods/lib/python3.10/site-packages/sqlalchemy/engine/base.py:1862\u001b[0m, in \u001b[0;36mConnection._execute_context\u001b[0;34m(self, dialect, constructor, statement, parameters, execution_options, *args, **kw)\u001b[0m\n\u001b[1;32m   1859\u001b[0m             branched\u001b[38;5;241m.\u001b[39mclose()\n\u001b[1;32m   1861\u001b[0m \u001b[38;5;28;01mexcept\u001b[39;00m \u001b[38;5;167;01mBaseException\u001b[39;00m \u001b[38;5;28;01mas\u001b[39;00m e:\n\u001b[0;32m-> 1862\u001b[0m     \u001b[38;5;28;43mself\u001b[39;49m\u001b[38;5;241;43m.\u001b[39;49m\u001b[43m_handle_dbapi_exception\u001b[49m\u001b[43m(\u001b[49m\n\u001b[1;32m   1863\u001b[0m \u001b[43m        \u001b[49m\u001b[43me\u001b[49m\u001b[43m,\u001b[49m\u001b[43m \u001b[49m\u001b[43mstatement\u001b[49m\u001b[43m,\u001b[49m\u001b[43m \u001b[49m\u001b[43mparameters\u001b[49m\u001b[43m,\u001b[49m\u001b[43m \u001b[49m\u001b[43mcursor\u001b[49m\u001b[43m,\u001b[49m\u001b[43m \u001b[49m\u001b[43mcontext\u001b[49m\n\u001b[1;32m   1864\u001b[0m \u001b[43m    \u001b[49m\u001b[43m)\u001b[49m\n\u001b[1;32m   1866\u001b[0m \u001b[38;5;28;01mreturn\u001b[39;00m result\n",
      "File \u001b[0;32m~/MODSPhenotypes/miniconda3/envs/mods/lib/python3.10/site-packages/sqlalchemy/engine/base.py:2043\u001b[0m, in \u001b[0;36mConnection._handle_dbapi_exception\u001b[0;34m(self, e, statement, parameters, cursor, context)\u001b[0m\n\u001b[1;32m   2041\u001b[0m     util\u001b[38;5;241m.\u001b[39mraise_(newraise, with_traceback\u001b[38;5;241m=\u001b[39mexc_info[\u001b[38;5;241m2\u001b[39m], from_\u001b[38;5;241m=\u001b[39me)\n\u001b[1;32m   2042\u001b[0m \u001b[38;5;28;01melif\u001b[39;00m should_wrap:\n\u001b[0;32m-> 2043\u001b[0m     \u001b[43mutil\u001b[49m\u001b[38;5;241;43m.\u001b[39;49m\u001b[43mraise_\u001b[49m\u001b[43m(\u001b[49m\n\u001b[1;32m   2044\u001b[0m \u001b[43m        \u001b[49m\u001b[43msqlalchemy_exception\u001b[49m\u001b[43m,\u001b[49m\u001b[43m \u001b[49m\u001b[43mwith_traceback\u001b[49m\u001b[38;5;241;43m=\u001b[39;49m\u001b[43mexc_info\u001b[49m\u001b[43m[\u001b[49m\u001b[38;5;241;43m2\u001b[39;49m\u001b[43m]\u001b[49m\u001b[43m,\u001b[49m\u001b[43m \u001b[49m\u001b[43mfrom_\u001b[49m\u001b[38;5;241;43m=\u001b[39;49m\u001b[43me\u001b[49m\n\u001b[1;32m   2045\u001b[0m \u001b[43m    \u001b[49m\u001b[43m)\u001b[49m\n\u001b[1;32m   2046\u001b[0m \u001b[38;5;28;01melse\u001b[39;00m:\n\u001b[1;32m   2047\u001b[0m     util\u001b[38;5;241m.\u001b[39mraise_(exc_info[\u001b[38;5;241m1\u001b[39m], with_traceback\u001b[38;5;241m=\u001b[39mexc_info[\u001b[38;5;241m2\u001b[39m])\n",
      "File \u001b[0;32m~/MODSPhenotypes/miniconda3/envs/mods/lib/python3.10/site-packages/sqlalchemy/util/compat.py:208\u001b[0m, in \u001b[0;36mraise_\u001b[0;34m(***failed resolving arguments***)\u001b[0m\n\u001b[1;32m    205\u001b[0m     exception\u001b[38;5;241m.\u001b[39m__cause__ \u001b[38;5;241m=\u001b[39m replace_context\n\u001b[1;32m    207\u001b[0m \u001b[38;5;28;01mtry\u001b[39;00m:\n\u001b[0;32m--> 208\u001b[0m     \u001b[38;5;28;01mraise\u001b[39;00m exception\n\u001b[1;32m    209\u001b[0m \u001b[38;5;28;01mfinally\u001b[39;00m:\n\u001b[1;32m    210\u001b[0m     \u001b[38;5;66;03m# credit to\u001b[39;00m\n\u001b[1;32m    211\u001b[0m     \u001b[38;5;66;03m# https://cosmicpercolator.com/2016/01/13/exception-leaks-in-python-2-and-3/\u001b[39;00m\n\u001b[1;32m    212\u001b[0m     \u001b[38;5;66;03m# as the __traceback__ object creates a cycle\u001b[39;00m\n\u001b[1;32m    213\u001b[0m     \u001b[38;5;28;01mdel\u001b[39;00m exception, replace_context, from_, with_traceback\n",
      "File \u001b[0;32m~/MODSPhenotypes/miniconda3/envs/mods/lib/python3.10/site-packages/sqlalchemy/engine/base.py:1819\u001b[0m, in \u001b[0;36mConnection._execute_context\u001b[0;34m(self, dialect, constructor, statement, parameters, execution_options, *args, **kw)\u001b[0m\n\u001b[1;32m   1817\u001b[0m                 \u001b[38;5;28;01mbreak\u001b[39;00m\n\u001b[1;32m   1818\u001b[0m     \u001b[38;5;28;01mif\u001b[39;00m \u001b[38;5;129;01mnot\u001b[39;00m evt_handled:\n\u001b[0;32m-> 1819\u001b[0m         \u001b[38;5;28;43mself\u001b[39;49m\u001b[38;5;241;43m.\u001b[39;49m\u001b[43mdialect\u001b[49m\u001b[38;5;241;43m.\u001b[39;49m\u001b[43mdo_execute\u001b[49m\u001b[43m(\u001b[49m\n\u001b[1;32m   1820\u001b[0m \u001b[43m            \u001b[49m\u001b[43mcursor\u001b[49m\u001b[43m,\u001b[49m\u001b[43m \u001b[49m\u001b[43mstatement\u001b[49m\u001b[43m,\u001b[49m\u001b[43m \u001b[49m\u001b[43mparameters\u001b[49m\u001b[43m,\u001b[49m\u001b[43m \u001b[49m\u001b[43mcontext\u001b[49m\n\u001b[1;32m   1821\u001b[0m \u001b[43m        \u001b[49m\u001b[43m)\u001b[49m\n\u001b[1;32m   1823\u001b[0m \u001b[38;5;28;01mif\u001b[39;00m \u001b[38;5;28mself\u001b[39m\u001b[38;5;241m.\u001b[39m_has_events \u001b[38;5;129;01mor\u001b[39;00m \u001b[38;5;28mself\u001b[39m\u001b[38;5;241m.\u001b[39mengine\u001b[38;5;241m.\u001b[39m_has_events:\n\u001b[1;32m   1824\u001b[0m     \u001b[38;5;28mself\u001b[39m\u001b[38;5;241m.\u001b[39mdispatch\u001b[38;5;241m.\u001b[39mafter_cursor_execute(\n\u001b[1;32m   1825\u001b[0m         \u001b[38;5;28mself\u001b[39m,\n\u001b[1;32m   1826\u001b[0m         cursor,\n\u001b[0;32m   (...)\u001b[0m\n\u001b[1;32m   1830\u001b[0m         context\u001b[38;5;241m.\u001b[39mexecutemany,\n\u001b[1;32m   1831\u001b[0m     )\n",
      "File \u001b[0;32m~/MODSPhenotypes/miniconda3/envs/mods/lib/python3.10/site-packages/duckdb_engine/__init__.py:186\u001b[0m, in \u001b[0;36mDialect.do_execute\u001b[0;34m(self, cursor, statement, parameters, context)\u001b[0m\n\u001b[1;32m    179\u001b[0m \u001b[38;5;28;01mdef\u001b[39;00m \u001b[38;5;21mdo_execute\u001b[39m(\n\u001b[1;32m    180\u001b[0m     \u001b[38;5;28mself\u001b[39m,\n\u001b[1;32m    181\u001b[0m     cursor: ConnectionWrapper,\n\u001b[0;32m   (...)\u001b[0m\n\u001b[1;32m    184\u001b[0m     context: PGExecutionContext,\n\u001b[1;32m    185\u001b[0m ) \u001b[38;5;241m-\u001b[39m\u001b[38;5;241m>\u001b[39m \u001b[38;5;28;01mNone\u001b[39;00m:\n\u001b[0;32m--> 186\u001b[0m     \u001b[43mcursor\u001b[49m\u001b[38;5;241;43m.\u001b[39;49m\u001b[43mexecute\u001b[49m\u001b[43m(\u001b[49m\u001b[43mstatement\u001b[49m\u001b[43m,\u001b[49m\u001b[43m \u001b[49m\u001b[43mparameters\u001b[49m\u001b[43m,\u001b[49m\u001b[43m \u001b[49m\u001b[43mcontext\u001b[49m\u001b[43m)\u001b[49m\n",
      "File \u001b[0;32m~/MODSPhenotypes/miniconda3/envs/mods/lib/python3.10/site-packages/duckdb_engine/__init__.py:108\u001b[0m, in \u001b[0;36mConnectionWrapper.execute\u001b[0;34m(self, statement, parameters, context)\u001b[0m\n\u001b[1;32m    106\u001b[0m     \u001b[38;5;28;01mreturn\u001b[39;00m\n\u001b[1;32m    107\u001b[0m \u001b[38;5;28;01melse\u001b[39;00m:\n\u001b[0;32m--> 108\u001b[0m     \u001b[38;5;28;01mraise\u001b[39;00m e\n",
      "File \u001b[0;32m~/MODSPhenotypes/miniconda3/envs/mods/lib/python3.10/site-packages/duckdb_engine/__init__.py:98\u001b[0m, in \u001b[0;36mConnectionWrapper.execute\u001b[0;34m(self, statement, parameters, context)\u001b[0m\n\u001b[1;32m     96\u001b[0m         \u001b[38;5;28mself\u001b[39m\u001b[38;5;241m.\u001b[39mc\u001b[38;5;241m.\u001b[39mexecute(statement)\n\u001b[1;32m     97\u001b[0m     \u001b[38;5;28;01melse\u001b[39;00m:\n\u001b[0;32m---> 98\u001b[0m         \u001b[38;5;28;43mself\u001b[39;49m\u001b[38;5;241;43m.\u001b[39;49m\u001b[43mc\u001b[49m\u001b[38;5;241;43m.\u001b[39;49m\u001b[43mexecute\u001b[49m\u001b[43m(\u001b[49m\u001b[43mstatement\u001b[49m\u001b[43m,\u001b[49m\u001b[43m \u001b[49m\u001b[43mparameters\u001b[49m\u001b[43m)\u001b[49m\n\u001b[1;32m     99\u001b[0m \u001b[38;5;28;01mexcept\u001b[39;00m \u001b[38;5;167;01mRuntimeError\u001b[39;00m \u001b[38;5;28;01mas\u001b[39;00m e:\n\u001b[1;32m    100\u001b[0m     \u001b[38;5;28;01mif\u001b[39;00m e\u001b[38;5;241m.\u001b[39margs[\u001b[38;5;241m0\u001b[39m]\u001b[38;5;241m.\u001b[39mstartswith(\u001b[38;5;124m\"\u001b[39m\u001b[38;5;124mNot implemented Error\u001b[39m\u001b[38;5;124m\"\u001b[39m):\n",
      "\u001b[0;31mDBAPIError\u001b[0m: (builtins.RuntimeError) Catalog Error: Table with name emory_sepsis_28days does not exist!\nDid you mean \"sepsis_28days\"?\nLINE 22:                                 FROM emory_sepsis_28days;\n                                              ^\n[SQL: SELECT      pat_id,\n                                csn,\n                                hospital_encounter_current,\n                                hours_after_sepsis,\n                                SOFA_coag,\n                                SOFA_renal,\n                                SOFA_hep,\n                                SOFA_neuro,\n                                SOFA_cardio,\n                                SOFA_cardio_mod,\n                                SOFA_resp,\n                                SOFA_resp_sa,\n                                SOFA_hourly_total,\n                                SOFA_delta_24h,\n                                SOFA_hourly_total_mod,\n                                SOFA_delta_24h_mod,\n                                first_sep3_SOFA,\n                                first_sep3_time,\n                                first_sep3_susp_mod,\n                                first_sep3_SOFA_mod,\n                                first_sep3_time_mod\n                                FROM emory_sepsis_28days;]\n(Background on this error at: https://sqlalche.me/e/14/dbapi)"
     ]
    }
   ],
   "source": [
    "%%time\n",
    "%%sql\n",
    "sepsis_28D_df_pd << SELECT      {patient_id},\n",
    "                                {service_id},\n",
    "                                {hospital_encounter_current},\n",
    "                                hours_after_sepsis,\n",
    "                                SOFA_coag,\n",
    "                                SOFA_renal,\n",
    "                                SOFA_hep,\n",
    "                                SOFA_neuro,\n",
    "                                SOFA_cardio,\n",
    "                                SOFA_cardio_mod,\n",
    "                                SOFA_resp,\n",
    "                                SOFA_resp_sa,\n",
    "                                SOFA_hourly_total,\n",
    "                                SOFA_delta_24h,\n",
    "                                SOFA_hourly_total_mod,\n",
    "                                SOFA_delta_24h_mod,\n",
    "                                first_sep3_SOFA,\n",
    "                                first_sep3_time,\n",
    "                                first_sep3_susp_mod,\n",
    "                                first_sep3_SOFA_mod,\n",
    "                                first_sep3_time_mod\n",
    "                                FROM {site_name}_sepsis_28days;"
   ]
  },
  {
   "cell_type": "code",
   "execution_count": null,
   "metadata": {},
   "outputs": [],
   "source": [
    "##### Move from Pandas to Modin\n",
    "sepsis_28D_df = md.DataFrame(sepsis_28D_df_pd)\n",
    "# del(sepsis_28D_df_pd)"
   ]
  },
  {
   "cell_type": "code",
   "execution_count": null,
   "metadata": {},
   "outputs": [],
   "source": [
    "##### Sort and Index\n",
    "sepsis_28D_df.sort_values([service_id, hospital_encounter_current], ascending=True, inplace=True)\n",
    "sepsis_28D_df.set_index([service_id], inplace=True)"
   ]
  },
  {
   "cell_type": "code",
   "execution_count": null,
   "metadata": {},
   "outputs": [],
   "source": [
    "##### Normalize SOFA Scores\n",
    "sepsis_28D_df = normalize_sofa_scores(sepsis_28D_df, cols=sofa_organ_cols)"
   ]
  },
  {
   "cell_type": "markdown",
   "metadata": {
    "tags": []
   },
   "source": [
    "### MODS_28D"
   ]
  },
  {
   "cell_type": "code",
   "execution_count": null,
   "metadata": {},
   "outputs": [],
   "source": [
    "sepsis_28D_df.columns"
   ]
  },
  {
   "cell_type": "code",
   "execution_count": null,
   "metadata": {},
   "outputs": [],
   "source": [
    "##### For each CSN, find the maximum SOFA score for each organ over the 28 days\n",
    "max_sofa_scores_28D = sepsis_28D_df[sofa_score_cols].groupby(service_id).max()"
   ]
  },
  {
   "cell_type": "code",
   "execution_count": null,
   "metadata": {},
   "outputs": [],
   "source": [
    "##### Determine which organs have failed\n",
    "max_sofa_scores_28D = sofa_status_check(max_sofa_scores_28D, sofa_score_cols, sofa_failure_cols)"
   ]
  },
  {
   "cell_type": "code",
   "execution_count": null,
   "metadata": {},
   "outputs": [],
   "source": [
    "##### Get a list of service IDs for encounters that had MODS within 28 days of sepsis-onset\n",
    "serviceIDs_mods_28D = max_sofa_scores_28D.query(\"SOFA_no_failure != True\").index\n",
    "\n",
    "len(serviceIDs_mods_28D)"
   ]
  },
  {
   "cell_type": "markdown",
   "metadata": {
    "tags": []
   },
   "source": [
    "##### Plot"
   ]
  },
  {
   "cell_type": "code",
   "execution_count": null,
   "metadata": {
    "tags": []
   },
   "outputs": [],
   "source": [
    "plt_title = (\n",
    "\"\"\"SOFA Organ Failure Indicators\n",
    "from the Maximum 28-Day Score\n",
    "for Post-Sepsis Patients at Emory Hospital\"\"\"\n",
    ")\n",
    "plot_sofa_status(df=max_sofa_scores_28D[sofa_status_cols], title=plt_title)"
   ]
  },
  {
   "cell_type": "markdown",
   "metadata": {},
   "source": [
    "Count of number of organs which went into failure 28 days post sespsi"
   ]
  },
  {
   "cell_type": "code",
   "execution_count": null,
   "metadata": {},
   "outputs": [],
   "source": [
    "cohort_df = max_sofa_scores_28D[max_sofa_scores_28D[sofa_status_cols[:-1]].sum(axis=1) >= 2]"
   ]
  },
  {
   "cell_type": "code",
   "execution_count": null,
   "metadata": {},
   "outputs": [],
   "source": [
    "##### Export\n",
    "cohort_df.to_parquet(project_path/'data'/run_id/f\"{site_name}_cohort_df_{run_id}.parquet\")"
   ]
  },
  {
   "cell_type": "code",
   "execution_count": null,
   "metadata": {},
   "outputs": [],
   "source": [
    "organs_failed_counts = max_sofa_scores_28D[sofa_status_cols[:-1]].sum(axis=1).value_counts()"
   ]
  },
  {
   "cell_type": "code",
   "execution_count": null,
   "metadata": {},
   "outputs": [],
   "source": [
    "organs_failed_counts.sort_index(inplace=True)"
   ]
  },
  {
   "cell_type": "code",
   "execution_count": null,
   "metadata": {},
   "outputs": [],
   "source": [
    "labels, data = organs_failed_counts.index, organs_failed_counts.values\n",
    "labels = [f\"{n}\" for n in labels]"
   ]
  },
  {
   "cell_type": "code",
   "execution_count": null,
   "metadata": {},
   "outputs": [],
   "source": [
    "##### Define Seaborn color palette to use\n",
    "colors = sns.color_palette('pastel')[0:8]\n",
    "\n",
    "explode = [0 for _ in labels]\n",
    "explode[list(labels).index('0')] = 0.25\n",
    "explode[list(labels).index('1')] = 0.25\n",
    "\n",
    "fig, ax = plt.subplots()\n",
    "fig.set_size_inches(11, 9)\n",
    "ax.pie(data, explode=explode, labels=labels, autopct='%1.1f%%',\n",
    "        shadow=False, startangle=90, colors=colors,\n",
    "        pctdistance=0.8, labeldistance=1.1)\n",
    "ax.axis('equal')  # Equal aspect ratio ensures that pie is drawn as a circle.\n",
    "ax.set_title('Percent of Encounters by Count of Organ Failures', size=24, fontweight=\"bold\", pad=25)\n",
    "plt.tight_layout()\n",
    "plt.show()"
   ]
  },
  {
   "cell_type": "markdown",
   "metadata": {
    "tags": []
   },
   "source": [
    "## AT TIME OF ADMISSION\n",
    "For patients who developed MODS, determine what their MODS status was at the time of admission"
   ]
  },
  {
   "cell_type": "markdown",
   "metadata": {},
   "source": [
    "#### Data"
   ]
  },
  {
   "cell_type": "code",
   "execution_count": null,
   "metadata": {},
   "outputs": [],
   "source": [
    "%%time\n",
    "%%sql\n",
    "sepsis_admission_df_pd << SELECT    {patient_id},\n",
    "                                    {service_id},\n",
    "                                    {hospital_encounter_current},\n",
    "                                    hours_after_sepsis,\n",
    "                                    SOFA_coag,\n",
    "                                    SOFA_renal,\n",
    "                                    SOFA_hep,\n",
    "                                    SOFA_neuro,\n",
    "                                    SOFA_cardio,\n",
    "                                    SOFA_cardio_mod,\n",
    "                                    SOFA_resp,\n",
    "                                    SOFA_resp_sa,\n",
    "                                    SOFA_hourly_total,\n",
    "                                    SOFA_delta_24h,\n",
    "                                    SOFA_hourly_total_mod,\n",
    "                                    SOFA_delta_24h_mod,\n",
    "                                    first_sep3_SOFA,\n",
    "                                    first_sep3_time,\n",
    "                                    first_sep3_susp_mod,\n",
    "                                    first_sep3_SOFA_mod,\n",
    "                                    first_sep3_time_mod\n",
    "                        FROM {site_name}_sepsis_admission;"
   ]
  },
  {
   "cell_type": "code",
   "execution_count": null,
   "metadata": {},
   "outputs": [],
   "source": [
    "##### Move dataframe into Modin\n",
    "sepsis_admission_df = md.DataFrame(sepsis_admission_df_pd)\n",
    "#del(sepsis_admission_df_pd)"
   ]
  },
  {
   "cell_type": "markdown",
   "metadata": {},
   "source": [
    "#### MODS_28D"
   ]
  },
  {
   "cell_type": "code",
   "execution_count": null,
   "metadata": {},
   "outputs": [],
   "source": [
    "# Check the organ status at admission for encounters which had developed MODS within 28 days of sepsis-onset\n",
    "sepsis_admission_df.query(f\"{service_id} in @serviceIDs_mods_28D.tolist()\", inplace=True)"
   ]
  },
  {
   "cell_type": "markdown",
   "metadata": {},
   "source": [
    "#### Sort and Index"
   ]
  },
  {
   "cell_type": "code",
   "execution_count": null,
   "metadata": {},
   "outputs": [],
   "source": [
    "sepsis_admission_df.sort_values([service_id, hospital_encounter_current], ascending=True, inplace=True)\n",
    "sepsis_admission_df.set_index([service_id], inplace=True)"
   ]
  },
  {
   "cell_type": "markdown",
   "metadata": {},
   "source": [
    "#### Normalize"
   ]
  },
  {
   "cell_type": "code",
   "execution_count": null,
   "metadata": {},
   "outputs": [],
   "source": [
    "sepsis_admission_df = normalize_sofa_scores(sepsis_admission_df, cols=sofa_organ_cols)"
   ]
  },
  {
   "cell_type": "markdown",
   "metadata": {},
   "source": [
    "#### Check Status"
   ]
  },
  {
   "cell_type": "code",
   "execution_count": null,
   "metadata": {},
   "outputs": [],
   "source": [
    "sepsis_admission_df = sofa_status_check(sepsis_admission_df, sofa_score_cols, sofa_failure_cols)"
   ]
  },
  {
   "cell_type": "code",
   "execution_count": null,
   "metadata": {},
   "outputs": [],
   "source": [
    "sepsis_admission_status = sepsis_admission_df[sofa_status_cols].add_suffix('_admission')"
   ]
  },
  {
   "cell_type": "code",
   "execution_count": null,
   "metadata": {},
   "outputs": [],
   "source": [
    "sepsis_admission_status.head()"
   ]
  },
  {
   "cell_type": "markdown",
   "metadata": {},
   "source": [
    "#### Plot"
   ]
  },
  {
   "cell_type": "code",
   "execution_count": null,
   "metadata": {},
   "outputs": [],
   "source": [
    "plt_title = (\n",
    "\"\"\"SOFA Organ Failure Indicators at Time of Admission\n",
    "for MODS_28D Patients at Emory Hospital\"\"\"\n",
    ")\n",
    "plot_sofa_status(df=sepsis_admission_status, title=plt_title)"
   ]
  },
  {
   "cell_type": "markdown",
   "metadata": {
    "tags": []
   },
   "source": [
    "## 1-DAY POST SEPSIS\n",
    "For patients who developed MODS within 28 days of sepsis onset:\n",
    "1. discount organ failures present at admission:\n",
    "1. determine the sequence of organ failure occuiring 24-hours post-sepsis\n",
    "1. generate a timeseries of SoFA scores for the organs post-sepsis\n",
    "1. use that time series for FSM (frequent subgraph mining)"
   ]
  },
  {
   "cell_type": "markdown",
   "metadata": {},
   "source": [
    "#### Data"
   ]
  },
  {
   "cell_type": "code",
   "execution_count": null,
   "metadata": {},
   "outputs": [],
   "source": [
    "%%time\n",
    "%%sql\n",
    "sepsis_1D_df_pd << SELECT {patient_id},\n",
    "                            {service_id},\n",
    "                            {hospital_encounter_current},\n",
    "                            hours_after_sepsis,\n",
    "                            SOFA_coag,\n",
    "                            SOFA_renal,\n",
    "                            SOFA_hep,\n",
    "                            SOFA_neuro,\n",
    "                            SOFA_cardio,\n",
    "                            SOFA_cardio_mod,\n",
    "                            SOFA_resp,\n",
    "                            SOFA_resp_sa,\n",
    "                            SOFA_hourly_total,\n",
    "                            SOFA_delta_24h,\n",
    "                            SOFA_hourly_total_mod,\n",
    "                            SOFA_delta_24h_mod,\n",
    "                            first_sep3_SOFA,\n",
    "                            first_sep3_time,\n",
    "                            first_sep3_susp_mod,\n",
    "                            first_sep3_SOFA_mod,\n",
    "                            first_sep3_time_mod\n",
    "                    FROM {site_name}_sepsis_1day;"
   ]
  },
  {
   "cell_type": "code",
   "execution_count": null,
   "metadata": {},
   "outputs": [],
   "source": [
    "##### Move dataframe into Modin\n",
    "sepsis_1D_df = md.DataFrame(sepsis_admission_df_pd)\n",
    "#del(sepsis_admission_df_pd)"
   ]
  },
  {
   "cell_type": "markdown",
   "metadata": {
    "tags": []
   },
   "source": [
    "#### Sort and Index"
   ]
  },
  {
   "cell_type": "code",
   "execution_count": null,
   "metadata": {},
   "outputs": [],
   "source": [
    "sepsis_1D_df = index_1D(input_df=sepsis_1D_df, service_id=service_id, col_name=time_col)\n",
    "\n",
    "# Increment down the time index by 1\n",
    "sepsis_1D_df.reset_index(level=1, inplace=True)\n",
    "sepsis_1D_df[time_col] = sepsis_1D_df[time_col] - 1\n",
    "sepsis_1D_df.set_index([sepsis_1D_df.index, time_col], inplace=True)"
   ]
  },
  {
   "cell_type": "markdown",
   "metadata": {},
   "source": [
    "#### Normalize"
   ]
  },
  {
   "cell_type": "code",
   "execution_count": null,
   "metadata": {},
   "outputs": [],
   "source": [
    "sepsis_1D_df = normalize_sofa_scores(sepsis_1D_df, cols=sofa_organ_cols)"
   ]
  },
  {
   "cell_type": "markdown",
   "metadata": {
    "tags": []
   },
   "source": [
    "#### Label MODS patients"
   ]
  },
  {
   "cell_type": "code",
   "execution_count": null,
   "metadata": {},
   "outputs": [],
   "source": [
    "sepsis_1D_df[mods_label] = sepsis_1D_df.index.get_level_values(0).isin(serviceIDs_mods_28D.tolist())"
   ]
  },
  {
   "cell_type": "markdown",
   "metadata": {
    "tags": []
   },
   "source": [
    "#### SOFA Status Check"
   ]
  },
  {
   "cell_type": "code",
   "execution_count": null,
   "metadata": {},
   "outputs": [],
   "source": [
    "sepsis_1D_df = sofa_status_check(sepsis_1D_df, sofa_score_cols, sofa_failure_cols)"
   ]
  },
  {
   "cell_type": "markdown",
   "metadata": {},
   "source": [
    "#### Analyze SOFA Status"
   ]
  },
  {
   "cell_type": "code",
   "execution_count": null,
   "metadata": {},
   "outputs": [],
   "source": [
    "sepsis_1D_status = sepsis_1D_df[sofa_status_cols]\n",
    "\n",
    "# Ignore any organs that were in failure at the time of admission\n",
    "sepsis_1D_status = sepsis_admission_status.join(sepsis_1D_status)"
   ]
  },
  {
   "cell_type": "raw",
   "metadata": {},
   "source": [
    "# SOFA FAILURE COLUMNS PROCESSED FOR IGNORING \n",
    "def check_reference(idx):\n",
    "    for col, val in failure_reference.loc[idx].iteritems():\n",
    "        if val is True:\n",
    "            failure_data.loc[idx, col.replace('_admission','')] = -1\n",
    "\n",
    "def mark_ignored_organs(status_data):\n",
    "    global failure_data\n",
    "    failure_data = status_data[sofa_failure_cols].astype(int).copy()\n",
    "    global reference\n",
    "    failure_reference = status_data[sofa_admission_failure_cols].groupby(service_id).first().copy()\n",
    "    pool = Pool(processes=180)\n",
    "    for i in range(len(failure_reference.index)):\n",
    "        pool.apply_async(check_reference, args=failure_reference.index)\n",
    "    pool.close()\n",
    "    pool.join()\n",
    "    return failure_data, failure_reference\n",
    "\n",
    "# def _v2_mark_ignored_organs(status_data):\n",
    "#     global failure_data\n",
    "#     failure_data = status_data[sofa_failure_cols].astype(int).copy()\n",
    "#     global reference\n",
    "#     failure_reference = status_data[sofa_admission_failure_cols].groupby(service_id).first().copy()\n",
    "#     pool = Pool(processes=180)\n",
    "#     for i in pool.map(check_reference, args=failure_reference.index):\n",
    "#         pass\n",
    "#     return failure_data, failure_reference\n",
    "\n",
    "# m = Manager()\n",
    "# p = Pool(180)\n",
    "# failure_data = status_data[sofa_failure_cols].astype(int).copy()\n",
    "# failure_reference = status_data[sofa_admission_failure_cols].groupby(service_id).first().copy()\n",
    "# multi = [m.obj for i in failure_data.loc[i] for i in failure_data.index.unique]\n",
    "# p.map(fun, multi)\n",
    "# data = [a[\"1\"] for a in multi]\n",
    "# print(data)"
   ]
  },
  {
   "cell_type": "raw",
   "metadata": {},
   "source": [
    "%%time\n",
    "failure_data, failure_reference = mark_ignored_organs(sepsis_1D_status)"
   ]
  },
  {
   "cell_type": "raw",
   "metadata": {},
   "source": [
    "failure_data"
   ]
  },
  {
   "cell_type": "markdown",
   "metadata": {
    "tags": []
   },
   "source": [
    "#### Plot Organ Failure"
   ]
  },
  {
   "cell_type": "raw",
   "metadata": {},
   "source": [
    "sampled_reference"
   ]
  },
  {
   "cell_type": "raw",
   "metadata": {},
   "source": [
    "sampled_data"
   ]
  },
  {
   "cell_type": "raw",
   "metadata": {},
   "source": [
    "def plot_sofa_status_heatmap(data, reference):\n",
    "    plt_data = data.T.astype(float)\n",
    "    mask = plt_data.isna()\n",
    "    fig, ax = plt.subplots(figsize=(16,8))\n",
    "    # sns.set()\n",
    "    with sns.axes_style(\"white\"):\n",
    "        ax = sns.heatmap(plt_data, ax=ax, cmap='vlag', cbar=False, vmin=0, vmax=1, square=True, annot=False, linewidths=.5, mask=mask)\n",
    "    ax.set_xlim(0, 24)\n",
    "    # g.set_facecolor('grey')\n",
    "    # legend = ax.legend()\n",
    "    # legend.remove()\n",
    "    ax.set_facecolor('xkcd:light grey')\n",
    "    plt.xticks(rotation=15)\n",
    "    plt.tight_layout()\n",
    "    plt.show()"
   ]
  },
  {
   "cell_type": "code",
   "execution_count": null,
   "metadata": {},
   "outputs": [],
   "source": [
    "failure_data = sepsis_1D_df[sofa_failure_cols].astype(int).copy()\n",
    "failure_reference = sepsis_admission_df[sofa_failure_cols].groupby(service_id).first().copy()"
   ]
  },
  {
   "cell_type": "code",
   "execution_count": null,
   "metadata": {
    "tags": []
   },
   "outputs": [],
   "source": [
    "service_ids = failure_reference.index\n",
    "sampled_id = np.random.choice(service_ids, 1, replace=False)"
   ]
  },
  {
   "cell_type": "code",
   "execution_count": null,
   "metadata": {},
   "outputs": [],
   "source": [
    "failure_data.loc[sampled_id]"
   ]
  },
  {
   "cell_type": "code",
   "execution_count": null,
   "metadata": {
    "tags": []
   },
   "outputs": [],
   "source": [
    "sampled_data, sampled_reference = failure_data.loc[sampled_id].droplevel(0).copy(), failure_reference.loc[sampled_id].copy()\n",
    "plot_sofa_status_heatmap(sampled_data, sampled_reference)"
   ]
  },
  {
   "cell_type": "markdown",
   "metadata": {
    "tags": []
   },
   "source": [
    "# Export for Mining"
   ]
  },
  {
   "cell_type": "raw",
   "metadata": {},
   "source": [
    "data_path = Path(\"/opt/bmi-585r/KLAB_SAIL/MODSPhenotypes/data/2022_10_28/\")\n",
    "\n",
    "sepsis_1D_df[sofa_score_cols].to_parquet(data_path/'score_df.parquet')"
   ]
  },
  {
   "cell_type": "markdown",
   "metadata": {
    "tags": []
   },
   "source": [
    "---\n",
    "***TODO***\n",
    "# Determine the Sequence of Organ Failures"
   ]
  },
  {
   "cell_type": "raw",
   "metadata": {},
   "source": [
    "%%sql\n",
    "debug_df << SELECT static.csn, static.hospital_admission_date_time,\n",
    "dynamic.charttime, dynamic.SOFA_neuro, dynamic.SOFA_resp, dynamic.SOFA_coag, dynamic.SOFA_cardio, dynamic.SOFA_renal, dynamic.SOFA_hep\n",
    "FROM (SELECT * FROM static WHERE csn == '15631051172') static INNER JOIN (SELECT * FROM dynamic WHERE csn == '15631051172') dynamic\n",
    "ON static.csn = dynamic.csn;"
   ]
  },
  {
   "cell_type": "raw",
   "metadata": {},
   "source": [
    "debug_df.query(\"hospital_admission_date_time <= charttime\")"
   ]
  },
  {
   "cell_type": "raw",
   "metadata": {},
   "source": [
    "# 1\n",
    "organ_failure_order = {}\n",
    "for col in sofa_failure_cols:\n",
    "    organ_failure_order[col] = np.nan\n",
    "\n",
    "# 2\n",
    "for col in data_sample.columns:\n",
    "    values = data_sample[col].dropna()\n",
    "    if not values.empty:\n",
    "        lowest = values.index[0]\n",
    "        organ_failure_order[col] = lowest"
   ]
  },
  {
   "cell_type": "raw",
   "metadata": {},
   "source": [
    "organ_failure_order"
   ]
  }
 ],
 "metadata": {
  "kernelspec": {
   "display_name": "mods",
   "language": "python",
   "name": "mods"
  },
  "language_info": {
   "codemirror_mode": {
    "name": "ipython",
    "version": 3
   },
   "file_extension": ".py",
   "mimetype": "text/x-python",
   "name": "python",
   "nbconvert_exporter": "python",
   "pygments_lexer": "ipython3",
   "version": "3.10.4"
  }
 },
 "nbformat": 4,
 "nbformat_minor": 4
}
