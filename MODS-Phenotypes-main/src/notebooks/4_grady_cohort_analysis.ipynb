{
 "cells": [
  {
   "cell_type": "markdown",
   "metadata": {},
   "source": [
    "# MODS Phenotypes: Step 4. Grady Create Study Cohorts"
   ]
  },
  {
   "cell_type": "markdown",
   "metadata": {
    "tags": []
   },
   "source": [
    "## Setup"
   ]
  },
  {
   "cell_type": "markdown",
   "metadata": {
    "tags": []
   },
   "source": [
    "### `imports`"
   ]
  },
  {
   "cell_type": "code",
   "execution_count": 1,
   "metadata": {},
   "outputs": [
    {
     "data": {
      "application/vnd.jupyter.widget-view+json": {
       "model_id": "233986f75e284d738e74bc2d6da2142b",
       "version_major": 2,
       "version_minor": 0
      },
      "text/plain": [
       "  0%|          | 0/100 [00:00<?, ?it/s]"
      ]
     },
     "metadata": {},
     "output_type": "display_data"
    },
    {
     "data": {
      "text/plain": [
       "<tqdm.auto.tqdm at 0x14c2ab525420>"
      ]
     },
     "execution_count": 1,
     "metadata": {},
     "output_type": "execute_result"
    }
   ],
   "source": [
    "import os\n",
    "import sys\n",
    "from pathlib import Path\n",
    "import warnings\n",
    "warnings.filterwarnings(\"ignore\")\n",
    "from datetime import date\n",
    "from multiprocessing import Pool\n",
    "from IPython.display import display as display\n",
    "\n",
    "from tqdm.auto import tqdm\n",
    "tqdm(total=100, mininterval=1.0)"
   ]
  },
  {
   "cell_type": "code",
   "execution_count": 2,
   "metadata": {
    "tags": []
   },
   "outputs": [],
   "source": [
    "site_name = 'grady'\n",
    "\n",
    "sys.path.insert(0, \"/opt/scratchspace/KLAB_SAIL/MODSPhenotypes/mods/\")\n",
    "from src.config import *\n",
    "from src.utils import *\n",
    "from src.analysis import *"
   ]
  },
  {
   "cell_type": "markdown",
   "metadata": {},
   "source": [
    "### `config`"
   ]
  },
  {
   "cell_type": "code",
   "execution_count": 3,
   "metadata": {},
   "outputs": [],
   "source": [
    "# TODO: this shouldnt be needed make it go away\n",
    "\n",
    "years=['2016','2017','2018','2019','2020']\n",
    "\n",
    "sepsis3_window_days = project_config['parameters']['sepsis3_window_days']\n",
    "num_cpus = project_config['parameters']['num_cpus']\n",
    "num_gpus = project_config['parameters']['num_gpus']\n",
    "\n",
    "\n",
    "patient_id = project_config[site_name][\"keys\"][\"patient_key\"]\n",
    "service_id = project_config[site_name][\"keys\"][\"service_key\"]\n",
    "record_dt = project_config[site_name][\"keys\"][\"record_dt\"]\n",
    "\n",
    "\n",
    "scores_keys = project_config[site_name][\"scores\"]\n",
    "static_keys = project_config[site_name][\"static\"]\n",
    "dynamic_keys = project_config[site_name][\"dynamic\"]\n",
    "times_keys = project_config[site_name][\"times\"]\n",
    "datetimes_keys = project_config[site_name][\"datetimes\"]\n",
    "\n",
    "\n",
    "hospital_intime = project_config[site_name][\"datetimes\"][\"hospital_intime\"]\n",
    "hospital_outtime = project_config[site_name][\"datetimes\"][\"hospital_outtime\"]\n",
    "hospital_encounter_current = project_config[site_name][\"datetimes\"][\"hospital_encounter_current\"]\n",
    "hospital_encounter_total = project_config[site_name][\"datetimes\"][\"hospital_encounter_total\"]\n",
    "\n",
    "sepsis3_current = 'sepsis3_current'\n",
    "hours_after_sepsis = 'hours_after_sepsis'\n",
    "sepsis3_onset = project_config[site_name][\"datetimes\"][\"sepsis3_onset\"]\n",
    "sepsis3_encounter = project_config[site_name]['datetimes']['sepsis3_encounter']\n",
    "sepsis3_config = project_config[site_name]['datetimes']['sepsis3_current']\n",
    "sepsis3_window = project_config[site_name]['datetimes']['sepsis3_window']"
   ]
  },
  {
   "cell_type": "code",
   "execution_count": 4,
   "metadata": {},
   "outputs": [],
   "source": [
    "sofa_organ_cols = [\n",
    "    'SOFA_coag',\n",
    "    'SOFA_renal',\n",
    "    'SOFA_hep',\n",
    "    'SOFA_neuro',\n",
    "    'SOFA_cardio',\n",
    "    'SOFA_resp'\n",
    "]\n",
    "\n",
    "sofa_score_cols = [f\"{col}_score\" for col in sofa_organ_cols]\n",
    "sofa_failure_cols = [f\"{col}_failure\" for col in sofa_organ_cols]\n",
    "sofa_status_cols = sofa_failure_cols + ['SOFA_no_failure']\n",
    "\n",
    "sofa_etc_cols = [\n",
    "    'SOFA_cardio_mod',\n",
    "    'SOFA_resp_sa',\n",
    "    'SOFA_hourly_total',\n",
    "    'SOFA_hourly_total_mod',\n",
    "    'SOFA_delta_24h',\n",
    "    'SOFA_delta_24h_mod'\n",
    "]\n",
    "\n",
    "sofa_cols = sofa_organ_cols + sofa_score_cols + sofa_failure_cols + sofa_status_cols + sofa_etc_cols\n",
    "\n",
    "sepsis_cols = [\n",
    "'first_sep3_SOFA',\n",
    "'first_sep3_time',\n",
    "'first_sep3_susp_mod',\n",
    "'first_sep3_SOFA_mod',\n",
    "'first_sep3_time_mod'\n",
    "]\n",
    "\n",
    "time_col = 'time_1D'\n",
    "mods_label = 'mods_28D'\n",
    "\n",
    "sofa_admission_failure_cols = [f\"{col}_admission\" for col in sofa_failure_cols]\n"
   ]
  },
  {
   "cell_type": "markdown",
   "metadata": {
    "tags": []
   },
   "source": [
    "### `duckdb()`"
   ]
  },
  {
   "cell_type": "code",
   "execution_count": 5,
   "metadata": {},
   "outputs": [],
   "source": [
    "import duckdb\n",
    "import sqlalchemy\n",
    "%load_ext sql\n",
    "%config SqlMagic.autopandas = True\n",
    "%config SqlMagic.feedback = False\n",
    "%config SqlMagic.displaycon = False"
   ]
  },
  {
   "cell_type": "code",
   "execution_count": 6,
   "metadata": {},
   "outputs": [
    {
     "data": {
      "text/html": [
       "<div>\n",
       "<style scoped>\n",
       "    .dataframe tbody tr th:only-of-type {\n",
       "        vertical-align: middle;\n",
       "    }\n",
       "\n",
       "    .dataframe tbody tr th {\n",
       "        vertical-align: top;\n",
       "    }\n",
       "\n",
       "    .dataframe thead th {\n",
       "        text-align: right;\n",
       "    }\n",
       "</style>\n",
       "<table border=\"1\" class=\"dataframe\">\n",
       "  <thead>\n",
       "    <tr style=\"text-align: right;\">\n",
       "      <th></th>\n",
       "    </tr>\n",
       "  </thead>\n",
       "  <tbody>\n",
       "  </tbody>\n",
       "</table>\n",
       "</div>"
      ],
      "text/plain": [
       "Empty DataFrame\n",
       "Columns: []\n",
       "Index: []"
      ]
     },
     "execution_count": 6,
     "metadata": {},
     "output_type": "execute_result"
    }
   ],
   "source": [
    "%%sql\n",
    "duckdb:////opt/scratchspace/KLAB_SAIL/MODSPhenotypes/data/MODS.duckdb\n",
    "PRAGMA memory_limit='700GB';\n",
    "PRAGMA threads=180;\n",
    "PRAGMA enable_profiling;\n",
    "PRAGMA enable_optimizer;\n",
    "PRAGMA temp_directory='/opt/localdata/duck.tmp'"
   ]
  },
  {
   "cell_type": "code",
   "execution_count": 7,
   "metadata": {},
   "outputs": [
    {
     "data": {
      "text/html": [
       "<div>\n",
       "<style scoped>\n",
       "    .dataframe tbody tr th:only-of-type {\n",
       "        vertical-align: middle;\n",
       "    }\n",
       "\n",
       "    .dataframe tbody tr th {\n",
       "        vertical-align: top;\n",
       "    }\n",
       "\n",
       "    .dataframe thead th {\n",
       "        text-align: right;\n",
       "    }\n",
       "</style>\n",
       "<table border=\"1\" class=\"dataframe\">\n",
       "  <thead>\n",
       "    <tr style=\"text-align: right;\">\n",
       "      <th></th>\n",
       "    </tr>\n",
       "  </thead>\n",
       "  <tbody>\n",
       "  </tbody>\n",
       "</table>\n",
       "</div>"
      ],
      "text/plain": [
       "Empty DataFrame\n",
       "Columns: []\n",
       "Index: []"
      ]
     },
     "execution_count": 7,
     "metadata": {},
     "output_type": "execute_result"
    }
   ],
   "source": [
    "%sql SET access_mode TO 'READ_ONLY';"
   ]
  },
  {
   "cell_type": "markdown",
   "metadata": {},
   "source": [
    "### Modin"
   ]
  },
  {
   "cell_type": "code",
   "execution_count": 8,
   "metadata": {},
   "outputs": [
    {
     "name": "stdout",
     "output_type": "stream",
     "text": [
      "CPU times: user 556 ms, sys: 245 ms, total: 801 ms\n",
      "Wall time: 4.5 s\n"
     ]
    }
   ],
   "source": [
    "%%time\n",
    "ray_path = Path(\"/opt/localdata/ray\")\n",
    "temp_dir = ray_path / \"temp\"\n",
    "temp_dir.mkdir(exist_ok=True, parents=True)\n",
    "\n",
    "import ray\n",
    "ray.init(\n",
    "    num_cpus=num_cpus,\n",
    "    num_gpus=num_gpus,\n",
    "    include_dashboard=False,\n",
    "    _temp_dir=str(temp_dir),\n",
    ")\n",
    "\n",
    "import modin.pandas as md"
   ]
  },
  {
   "cell_type": "markdown",
   "metadata": {
    "tags": []
   },
   "source": [
    "## 28 DAYS POST SEPSIS\n",
    "Find patients with sepsis who developed MODS within 28 days of sepsis-onset"
   ]
  },
  {
   "cell_type": "code",
   "execution_count": 39,
   "metadata": {},
   "outputs": [
    {
     "name": "stdout",
     "output_type": "stream",
     "text": [
      "Returning data to local variable sepsis_28D_df_pd\n",
      "CPU times: user 35.5 s, sys: 3 s, total: 38.5 s\n",
      "Wall time: 38.1 s\n"
     ]
    }
   ],
   "source": [
    "%%time\n",
    "%%sql\n",
    "sepsis_28D_df_pd << SELECT      {patient_id},\n",
    "                                {service_id},\n",
    "                                {hospital_encounter_current},\n",
    "                                admission_year,\n",
    "                                hours_after_sepsis,\n",
    "                                SOFA_coag,\n",
    "                                SOFA_renal,\n",
    "                                SOFA_hep,\n",
    "                                SOFA_neuro,\n",
    "                                SOFA_cardio,\n",
    "                                SOFA_cardio_mod,\n",
    "                                SOFA_resp,\n",
    "                                SOFA_resp_sa,\n",
    "                                SOFA_hourly_total,\n",
    "                                SOFA_delta_24h,\n",
    "                                SOFA_hourly_total_mod,\n",
    "                                SOFA_delta_24h_mod,\n",
    "                                first_sep3_SOFA,\n",
    "                                first_sep3_time,\n",
    "                                first_sep3_susp_mod,\n",
    "                                first_sep3_SOFA_mod,\n",
    "                                first_sep3_time_mod\n",
    "                                FROM {site_name}_sepsis_28days\n",
    "                                    WHERE admission_year IN (2016,2017,2018,2019,2020);"
   ]
  },
  {
   "cell_type": "code",
   "execution_count": 40,
   "metadata": {},
   "outputs": [],
   "source": [
    "##### Move from Pandas to Modin\n",
    "sepsis_28D_df = md.DataFrame(sepsis_28D_df_pd)\n",
    "# del(sepsis_28D_df_pd)"
   ]
  },
  {
   "cell_type": "code",
   "execution_count": 41,
   "metadata": {},
   "outputs": [],
   "source": [
    "##### Sort and Index\n",
    "sepsis_28D_df.sort_values([service_id, hospital_encounter_current], ascending=True, inplace=True)\n",
    "sepsis_28D_df.set_index([service_id], inplace=True)"
   ]
  },
  {
   "cell_type": "code",
   "execution_count": 42,
   "metadata": {},
   "outputs": [],
   "source": [
    "##### Normalize SOFA Scores\n",
    "sepsis_28D_df = normalize_sofa_scores(sepsis_28D_df, cols=sofa_organ_cols)"
   ]
  },
  {
   "cell_type": "markdown",
   "metadata": {
    "tags": []
   },
   "source": [
    "### MODS_28D"
   ]
  },
  {
   "cell_type": "code",
   "execution_count": 43,
   "metadata": {},
   "outputs": [],
   "source": [
    "##### For each CSN, find the maximum SOFA score for each organ over the 28 days\n",
    "max_sofa_scores_28D = sepsis_28D_df[sofa_score_cols].groupby(service_id).max()"
   ]
  },
  {
   "cell_type": "code",
   "execution_count": 44,
   "metadata": {},
   "outputs": [],
   "source": [
    "##### Determine which organs have failed\n",
    "max_sofa_scores_28D = sofa_status_check(max_sofa_scores_28D, sofa_score_cols, sofa_failure_cols)"
   ]
  },
  {
   "cell_type": "code",
   "execution_count": 45,
   "metadata": {},
   "outputs": [],
   "source": [
    "##### Get a list of service IDs for encounters that had MODS within 28 days of sepsis-onset\n",
    "serviceIDs_mods_28D = max_sofa_scores_28D.query(\"SOFA_no_failure != True\").index"
   ]
  },
  {
   "cell_type": "markdown",
   "metadata": {
    "tags": []
   },
   "source": [
    "##### Plot"
   ]
  },
  {
   "cell_type": "code",
   "execution_count": 71,
   "metadata": {
    "tags": []
   },
   "outputs": [
    {
     "data": {
      "image/png": "[encoded data removed]",
      "text/plain": [
       "<Figure size 1400x600 with 1 Axes>"
      ]
     },
     "metadata": {},
     "output_type": "display_data"
    }
   ],
   "source": [
    "plt_title = (\n",
    "f\"\"\"SOFA Organ Failure Indicators\n",
    "from the Maximum 28-Day Score\n",
    "for Post-Sepsis Patients at {site_name.upper()}\"\"\"\n",
    ")\n",
    "plot_sofa_status(df=max_sofa_scores_28D[sofa_status_cols], title=plt_title)"
   ]
  },
  {
   "cell_type": "markdown",
   "metadata": {},
   "source": [
    "Count of number of organs which went into failure 28 days post sespsi"
   ]
  },
  {
   "cell_type": "code",
   "execution_count": 47,
   "metadata": {},
   "outputs": [],
   "source": [
    "cohort_df = max_sofa_scores_28D[max_sofa_scores_28D[sofa_status_cols[:-1]].sum(axis=1) >= 2]"
   ]
  },
  {
   "cell_type": "code",
   "execution_count": 48,
   "metadata": {},
   "outputs": [],
   "source": [
    "##### Export\n",
    "cohort_df.to_parquet(project_path/'data'/run_id/f\"{site_name}_cohort_df_{run_id}.parquet\")"
   ]
  },
  {
   "cell_type": "code",
   "execution_count": 49,
   "metadata": {},
   "outputs": [],
   "source": [
    "organs_failed_counts = max_sofa_scores_28D[sofa_status_cols[:-1]].sum(axis=1).value_counts()"
   ]
  },
  {
   "cell_type": "code",
   "execution_count": 50,
   "metadata": {},
   "outputs": [],
   "source": [
    "organs_failed_counts.sort_index(inplace=True)"
   ]
  },
  {
   "cell_type": "code",
   "execution_count": 51,
   "metadata": {},
   "outputs": [],
   "source": [
    "labels, data = organs_failed_counts.index, organs_failed_counts.values\n",
    "labels = [f\"{n}\" for n in labels]"
   ]
  },
  {
   "cell_type": "code",
   "execution_count": 72,
   "metadata": {},
   "outputs": [
    {
     "data": {
      "image/png": "[encoded data removed]",
      "text/plain": [
       "<Figure size 1100x900 with 1 Axes>"
      ]
     },
     "metadata": {},
     "output_type": "display_data"
    }
   ],
   "source": [
    "##### Define Seaborn color palette to use\n",
    "colors = sns.color_palette('pastel')[0:8]\n",
    "\n",
    "explode = [0 for _ in labels]\n",
    "explode[list(labels).index('0')] = 0.25\n",
    "explode[list(labels).index('1')] = 0.25\n",
    "\n",
    "fig, ax = plt.subplots()\n",
    "fig.set_size_inches(11, 9)\n",
    "ax.pie(data, explode=explode, labels=labels, autopct='%1.1f%%',\n",
    "        shadow=False, startangle=90, colors=colors,\n",
    "        pctdistance=0.8, labeldistance=1.1)\n",
    "ax.axis('equal')  # Equal aspect ratio ensures that pie is drawn as a circle.\n",
    "ax.set_title(f\"Percent of Encounters by Count of Organ Failures {site_name.upper()}\", size=24, fontweight=\"bold\", pad=25)\n",
    "plt.tight_layout()\n",
    "plt.show()"
   ]
  },
  {
   "cell_type": "markdown",
   "metadata": {
    "tags": []
   },
   "source": [
    "## AT TIME OF ADMISSION\n",
    "For patients who developed MODS, determine what their MODS status was at the time of admission"
   ]
  },
  {
   "cell_type": "markdown",
   "metadata": {},
   "source": [
    "#### Data"
   ]
  },
  {
   "cell_type": "code",
   "execution_count": 53,
   "metadata": {},
   "outputs": [
    {
     "name": "stdout",
     "output_type": "stream",
     "text": [
      "Returning data to local variable sepsis_admission_df_pd\n",
      "CPU times: user 169 ms, sys: 89.6 ms, total: 259 ms\n",
      "Wall time: 143 ms\n"
     ]
    }
   ],
   "source": [
    "%%time\n",
    "%%sql\n",
    "sepsis_admission_df_pd << SELECT    {patient_id},\n",
    "                                    {service_id},\n",
    "                                    {hospital_encounter_current},\n",
    "                                    admission_year,\n",
    "                                    hours_after_sepsis,\n",
    "                                    SOFA_coag,\n",
    "                                    SOFA_renal,\n",
    "                                    SOFA_hep,\n",
    "                                    SOFA_neuro,\n",
    "                                    SOFA_cardio,\n",
    "                                    SOFA_cardio_mod,\n",
    "                                    SOFA_resp,\n",
    "                                    SOFA_resp_sa,\n",
    "                                    SOFA_hourly_total,\n",
    "                                    SOFA_delta_24h,\n",
    "                                    SOFA_hourly_total_mod,\n",
    "                                    SOFA_delta_24h_mod,\n",
    "                                    first_sep3_SOFA,\n",
    "                                    first_sep3_time,\n",
    "                                    first_sep3_susp_mod,\n",
    "                                    first_sep3_SOFA_mod,\n",
    "                                    first_sep3_time_mod\n",
    "                        FROM {site_name}_sepsis_admission\n",
    "                                    WHERE admission_year IN (2016,2017,2018,2019,2020);"
   ]
  },
  {
   "cell_type": "code",
   "execution_count": 54,
   "metadata": {},
   "outputs": [],
   "source": [
    "##### Move dataframe into Modin\n",
    "sepsis_admission_df = md.DataFrame(sepsis_admission_df_pd)"
   ]
  },
  {
   "cell_type": "markdown",
   "metadata": {},
   "source": [
    "#### MODS_28D"
   ]
  },
  {
   "cell_type": "code",
   "execution_count": 55,
   "metadata": {},
   "outputs": [],
   "source": [
    "# Check the organ status at admission for encounters which had developed MODS within 28 days of sepsis-onset\n",
    "sepsis_admission_df.query(f\"{service_id} in @serviceIDs_mods_28D.tolist()\", inplace=True)"
   ]
  },
  {
   "cell_type": "markdown",
   "metadata": {},
   "source": [
    "#### Sort and Index"
   ]
  },
  {
   "cell_type": "code",
   "execution_count": 56,
   "metadata": {},
   "outputs": [],
   "source": [
    "sepsis_admission_df.sort_values([service_id, hospital_encounter_current], ascending=True, inplace=True)\n",
    "sepsis_admission_df.set_index([service_id], inplace=True)"
   ]
  },
  {
   "cell_type": "markdown",
   "metadata": {},
   "source": [
    "#### Normalize"
   ]
  },
  {
   "cell_type": "code",
   "execution_count": 57,
   "metadata": {},
   "outputs": [],
   "source": [
    "sepsis_admission_df = normalize_sofa_scores(sepsis_admission_df, cols=sofa_organ_cols)"
   ]
  },
  {
   "cell_type": "markdown",
   "metadata": {},
   "source": [
    "#### Check Status"
   ]
  },
  {
   "cell_type": "code",
   "execution_count": 58,
   "metadata": {},
   "outputs": [],
   "source": [
    "sepsis_admission_df = sofa_status_check(sepsis_admission_df, sofa_score_cols, sofa_failure_cols)"
   ]
  },
  {
   "cell_type": "code",
   "execution_count": 59,
   "metadata": {},
   "outputs": [],
   "source": [
    "sepsis_admission_status = sepsis_admission_df[sofa_status_cols].add_suffix('_admission')"
   ]
  },
  {
   "cell_type": "code",
   "execution_count": 60,
   "metadata": {},
   "outputs": [
    {
     "data": {
      "text/html": [
       "<div>\n",
       "<style scoped>\n",
       "    .dataframe tbody tr th:only-of-type {\n",
       "        vertical-align: middle;\n",
       "    }\n",
       "\n",
       "    .dataframe tbody tr th {\n",
       "        vertical-align: top;\n",
       "    }\n",
       "\n",
       "    .dataframe thead th {\n",
       "        text-align: right;\n",
       "    }\n",
       "</style>\n",
       "<table border=\"1\" class=\"dataframe\">\n",
       "  <thead>\n",
       "    <tr style=\"text-align: right;\">\n",
       "      <th></th>\n",
       "      <th>SOFA_coag_failure_admission</th>\n",
       "      <th>SOFA_renal_failure_admission</th>\n",
       "      <th>SOFA_hep_failure_admission</th>\n",
       "      <th>SOFA_neuro_failure_admission</th>\n",
       "      <th>SOFA_cardio_failure_admission</th>\n",
       "      <th>SOFA_resp_failure_admission</th>\n",
       "      <th>SOFA_no_failure_admission</th>\n",
       "    </tr>\n",
       "    <tr>\n",
       "      <th>csn</th>\n",
       "      <th></th>\n",
       "      <th></th>\n",
       "      <th></th>\n",
       "      <th></th>\n",
       "      <th></th>\n",
       "      <th></th>\n",
       "      <th></th>\n",
       "    </tr>\n",
       "  </thead>\n",
       "  <tbody>\n",
       "    <tr>\n",
       "      <th>1015752680</th>\n",
       "      <td>False</td>\n",
       "      <td>False</td>\n",
       "      <td>True</td>\n",
       "      <td>False</td>\n",
       "      <td>False</td>\n",
       "      <td>False</td>\n",
       "      <td>False</td>\n",
       "    </tr>\n",
       "    <tr>\n",
       "      <th>1015788298</th>\n",
       "      <td>False</td>\n",
       "      <td>False</td>\n",
       "      <td>True</td>\n",
       "      <td>False</td>\n",
       "      <td>False</td>\n",
       "      <td>False</td>\n",
       "      <td>False</td>\n",
       "    </tr>\n",
       "    <tr>\n",
       "      <th>1015788546</th>\n",
       "      <td>False</td>\n",
       "      <td>False</td>\n",
       "      <td>True</td>\n",
       "      <td>False</td>\n",
       "      <td>False</td>\n",
       "      <td>False</td>\n",
       "      <td>False</td>\n",
       "    </tr>\n",
       "    <tr>\n",
       "      <th>1015788896</th>\n",
       "      <td>False</td>\n",
       "      <td>False</td>\n",
       "      <td>True</td>\n",
       "      <td>False</td>\n",
       "      <td>False</td>\n",
       "      <td>False</td>\n",
       "      <td>False</td>\n",
       "    </tr>\n",
       "    <tr>\n",
       "      <th>1015789329</th>\n",
       "      <td>False</td>\n",
       "      <td>False</td>\n",
       "      <td>True</td>\n",
       "      <td>False</td>\n",
       "      <td>False</td>\n",
       "      <td>False</td>\n",
       "      <td>False</td>\n",
       "    </tr>\n",
       "  </tbody>\n",
       "</table>\n",
       "</div>"
      ],
      "text/plain": [
       "            SOFA_coag_failure_admission  SOFA_renal_failure_admission  \\\n",
       "csn                                                                     \n",
       "1015752680                        False                         False   \n",
       "1015788298                        False                         False   \n",
       "1015788546                        False                         False   \n",
       "1015788896                        False                         False   \n",
       "1015789329                        False                         False   \n",
       "\n",
       "            SOFA_hep_failure_admission  SOFA_neuro_failure_admission  \\\n",
       "csn                                                                    \n",
       "1015752680                        True                         False   \n",
       "1015788298                        True                         False   \n",
       "1015788546                        True                         False   \n",
       "1015788896                        True                         False   \n",
       "1015789329                        True                         False   \n",
       "\n",
       "            SOFA_cardio_failure_admission  SOFA_resp_failure_admission  \\\n",
       "csn                                                                      \n",
       "1015752680                          False                        False   \n",
       "1015788298                          False                        False   \n",
       "1015788546                          False                        False   \n",
       "1015788896                          False                        False   \n",
       "1015789329                          False                        False   \n",
       "\n",
       "            SOFA_no_failure_admission  \n",
       "csn                                    \n",
       "1015752680                      False  \n",
       "1015788298                      False  \n",
       "1015788546                      False  \n",
       "1015788896                      False  \n",
       "1015789329                      False  "
      ]
     },
     "execution_count": 60,
     "metadata": {},
     "output_type": "execute_result"
    }
   ],
   "source": [
    "sepsis_admission_status.head()"
   ]
  },
  {
   "cell_type": "markdown",
   "metadata": {},
   "source": [
    "#### Plot"
   ]
  },
  {
   "cell_type": "code",
   "execution_count": 73,
   "metadata": {},
   "outputs": [
    {
     "data": {
      "image/png": "[encoded data removed]",
      "text/plain": [
       "<Figure size 1400x600 with 1 Axes>"
      ]
     },
     "metadata": {},
     "output_type": "display_data"
    }
   ],
   "source": [
    "plt_title = (\n",
    "f\"\"\"SOFA Organ Failure Indicators at Time of Admission\n",
    "for MODS_28D Patients at {site_name.upper()}\"\"\"\n",
    ")\n",
    "plot_sofa_status(df=sepsis_admission_status, title=plt_title)"
   ]
  },
  {
   "cell_type": "markdown",
   "metadata": {
    "tags": []
   },
   "source": [
    "## 1-DAY POST SEPSIS\n",
    "For patients who developed MODS within 28 days of sepsis onset:\n",
    "1. discount organ failures present at admission:\n",
    "1. determine the sequence of organ failure occuiring 24-hours post-sepsis\n",
    "1. generate a timeseries of SoFA scores for the organs post-sepsis\n",
    "1. use that time series for FSM (frequent subgraph mining)"
   ]
  },
  {
   "cell_type": "markdown",
   "metadata": {},
   "source": [
    "#### Data"
   ]
  },
  {
   "cell_type": "code",
   "execution_count": 62,
   "metadata": {},
   "outputs": [
    {
     "name": "stdout",
     "output_type": "stream",
     "text": [
      "Returning data to local variable sepsis_1D_df_pd\n",
      "CPU times: user 3.56 s, sys: 248 ms, total: 3.81 s\n",
      "Wall time: 3.67 s\n"
     ]
    }
   ],
   "source": [
    "%%time\n",
    "%%sql\n",
    "sepsis_1D_df_pd << SELECT {patient_id},\n",
    "                            {service_id},\n",
    "                            {hospital_encounter_current},\n",
    "                            hours_after_sepsis,\n",
    "                            SOFA_coag,\n",
    "                            SOFA_renal,\n",
    "                            SOFA_hep,\n",
    "                            SOFA_neuro,\n",
    "                            SOFA_cardio,\n",
    "                            SOFA_cardio_mod,\n",
    "                            SOFA_resp,\n",
    "                            SOFA_resp_sa,\n",
    "                            SOFA_hourly_total,\n",
    "                            SOFA_delta_24h,\n",
    "                            SOFA_hourly_total_mod,\n",
    "                            SOFA_delta_24h_mod,\n",
    "                            first_sep3_SOFA,\n",
    "                            first_sep3_time,\n",
    "                            first_sep3_susp_mod,\n",
    "                            first_sep3_SOFA_mod,\n",
    "                            first_sep3_time_mod\n",
    "                    FROM {site_name}_sepsis_1day\n",
    "                                    WHERE admission_year IN (2016,2017,2018,2019,2020);"
   ]
  },
  {
   "cell_type": "code",
   "execution_count": 63,
   "metadata": {},
   "outputs": [],
   "source": [
    "##### Move dataframe into Modin\n",
    "sepsis_1D_df = md.DataFrame(sepsis_1D_df_pd)\n",
    "#del(sepsis_admission_df_pd)"
   ]
  },
  {
   "cell_type": "markdown",
   "metadata": {
    "tags": []
   },
   "source": [
    "#### Sort and Index"
   ]
  },
  {
   "cell_type": "code",
   "execution_count": 64,
   "metadata": {},
   "outputs": [],
   "source": [
    "sepsis_1D_df = index_1D(input_df=sepsis_1D_df, service_id=service_id, col_name=time_col)\n",
    "\n",
    "# Increment down the time index by 1\n",
    "sepsis_1D_df.reset_index(level=1, inplace=True)\n",
    "sepsis_1D_df[time_col] = sepsis_1D_df[time_col] - 1\n",
    "sepsis_1D_df.set_index([sepsis_1D_df.index, time_col], inplace=True)"
   ]
  },
  {
   "cell_type": "markdown",
   "metadata": {},
   "source": [
    "#### Normalize"
   ]
  },
  {
   "cell_type": "code",
   "execution_count": 65,
   "metadata": {},
   "outputs": [],
   "source": [
    "sepsis_1D_df = normalize_sofa_scores(sepsis_1D_df, cols=sofa_organ_cols)"
   ]
  },
  {
   "cell_type": "markdown",
   "metadata": {
    "tags": []
   },
   "source": [
    "#### Label MODS patients"
   ]
  },
  {
   "cell_type": "code",
   "execution_count": 66,
   "metadata": {},
   "outputs": [],
   "source": [
    "sepsis_1D_df[mods_label] = sepsis_1D_df.index.get_level_values(0).isin(serviceIDs_mods_28D.tolist())"
   ]
  },
  {
   "cell_type": "markdown",
   "metadata": {
    "tags": []
   },
   "source": [
    "#### SOFA Status Check"
   ]
  },
  {
   "cell_type": "code",
   "execution_count": 67,
   "metadata": {},
   "outputs": [],
   "source": [
    "sepsis_1D_df = sofa_status_check(sepsis_1D_df, sofa_score_cols, sofa_failure_cols)"
   ]
  },
  {
   "cell_type": "markdown",
   "metadata": {},
   "source": [
    "#### Analyze SOFA Status"
   ]
  },
  {
   "cell_type": "code",
   "execution_count": 68,
   "metadata": {},
   "outputs": [],
   "source": [
    "sepsis_1D_status = sepsis_1D_df[sofa_status_cols]"
   ]
  },
  {
   "cell_type": "code",
   "execution_count": 69,
   "metadata": {},
   "outputs": [
    {
     "data": {
      "text/html": [
       "<div>\n",
       "<style scoped>\n",
       "    .dataframe tbody tr th:only-of-type {\n",
       "        vertical-align: middle;\n",
       "    }\n",
       "\n",
       "    .dataframe tbody tr th {\n",
       "        vertical-align: top;\n",
       "    }\n",
       "\n",
       "    .dataframe thead th {\n",
       "        text-align: right;\n",
       "    }\n",
       "</style>\n",
       "<table border=\"1\" class=\"dataframe\">\n",
       "  <thead>\n",
       "    <tr style=\"text-align: right;\">\n",
       "      <th></th>\n",
       "      <th></th>\n",
       "      <th>SOFA_coag_failure</th>\n",
       "      <th>SOFA_renal_failure</th>\n",
       "      <th>SOFA_hep_failure</th>\n",
       "      <th>SOFA_neuro_failure</th>\n",
       "      <th>SOFA_cardio_failure</th>\n",
       "      <th>SOFA_resp_failure</th>\n",
       "      <th>SOFA_no_failure</th>\n",
       "    </tr>\n",
       "    <tr>\n",
       "      <th>csn</th>\n",
       "      <th>time_1D</th>\n",
       "      <th></th>\n",
       "      <th></th>\n",
       "      <th></th>\n",
       "      <th></th>\n",
       "      <th></th>\n",
       "      <th></th>\n",
       "      <th></th>\n",
       "    </tr>\n",
       "  </thead>\n",
       "  <tbody>\n",
       "    <tr>\n",
       "      <th rowspan=\"5\" valign=\"top\">1015752680</th>\n",
       "      <th>0</th>\n",
       "      <td>False</td>\n",
       "      <td>False</td>\n",
       "      <td>True</td>\n",
       "      <td>False</td>\n",
       "      <td>False</td>\n",
       "      <td>False</td>\n",
       "      <td>False</td>\n",
       "    </tr>\n",
       "    <tr>\n",
       "      <th>1</th>\n",
       "      <td>False</td>\n",
       "      <td>False</td>\n",
       "      <td>True</td>\n",
       "      <td>False</td>\n",
       "      <td>False</td>\n",
       "      <td>False</td>\n",
       "      <td>False</td>\n",
       "    </tr>\n",
       "    <tr>\n",
       "      <th>2</th>\n",
       "      <td>False</td>\n",
       "      <td>False</td>\n",
       "      <td>True</td>\n",
       "      <td>False</td>\n",
       "      <td>False</td>\n",
       "      <td>False</td>\n",
       "      <td>False</td>\n",
       "    </tr>\n",
       "    <tr>\n",
       "      <th>3</th>\n",
       "      <td>False</td>\n",
       "      <td>False</td>\n",
       "      <td>True</td>\n",
       "      <td>False</td>\n",
       "      <td>False</td>\n",
       "      <td>False</td>\n",
       "      <td>False</td>\n",
       "    </tr>\n",
       "    <tr>\n",
       "      <th>4</th>\n",
       "      <td>False</td>\n",
       "      <td>False</td>\n",
       "      <td>True</td>\n",
       "      <td>False</td>\n",
       "      <td>False</td>\n",
       "      <td>False</td>\n",
       "      <td>False</td>\n",
       "    </tr>\n",
       "  </tbody>\n",
       "</table>\n",
       "</div>"
      ],
      "text/plain": [
       "                    SOFA_coag_failure  SOFA_renal_failure  SOFA_hep_failure  \\\n",
       "csn        time_1D                                                            \n",
       "1015752680 0                    False               False              True   \n",
       "           1                    False               False              True   \n",
       "           2                    False               False              True   \n",
       "           3                    False               False              True   \n",
       "           4                    False               False              True   \n",
       "\n",
       "                    SOFA_neuro_failure  SOFA_cardio_failure  \\\n",
       "csn        time_1D                                            \n",
       "1015752680 0                     False                False   \n",
       "           1                     False                False   \n",
       "           2                     False                False   \n",
       "           3                     False                False   \n",
       "           4                     False                False   \n",
       "\n",
       "                    SOFA_resp_failure  SOFA_no_failure  \n",
       "csn        time_1D                                      \n",
       "1015752680 0                    False            False  \n",
       "           1                    False            False  \n",
       "           2                    False            False  \n",
       "           3                    False            False  \n",
       "           4                    False            False  "
      ]
     },
     "execution_count": 69,
     "metadata": {},
     "output_type": "execute_result"
    }
   ],
   "source": [
    "sepsis_1D_status.head()"
   ]
  },
  {
   "cell_type": "code",
   "execution_count": 70,
   "metadata": {},
   "outputs": [
    {
     "data": {
      "text/html": [
       "<div>\n",
       "<style scoped>\n",
       "    .dataframe tbody tr th:only-of-type {\n",
       "        vertical-align: middle;\n",
       "    }\n",
       "\n",
       "    .dataframe tbody tr th {\n",
       "        vertical-align: top;\n",
       "    }\n",
       "\n",
       "    .dataframe thead th {\n",
       "        text-align: right;\n",
       "    }\n",
       "</style>\n",
       "<table border=\"1\" class=\"dataframe\">\n",
       "  <thead>\n",
       "    <tr style=\"text-align: right;\">\n",
       "      <th></th>\n",
       "      <th>SOFA_coag_failure_admission</th>\n",
       "      <th>SOFA_renal_failure_admission</th>\n",
       "      <th>SOFA_hep_failure_admission</th>\n",
       "      <th>SOFA_neuro_failure_admission</th>\n",
       "      <th>SOFA_cardio_failure_admission</th>\n",
       "      <th>SOFA_resp_failure_admission</th>\n",
       "      <th>SOFA_no_failure_admission</th>\n",
       "    </tr>\n",
       "    <tr>\n",
       "      <th>csn</th>\n",
       "      <th></th>\n",
       "      <th></th>\n",
       "      <th></th>\n",
       "      <th></th>\n",
       "      <th></th>\n",
       "      <th></th>\n",
       "      <th></th>\n",
       "    </tr>\n",
       "  </thead>\n",
       "  <tbody>\n",
       "    <tr>\n",
       "      <th>1015752680</th>\n",
       "      <td>False</td>\n",
       "      <td>False</td>\n",
       "      <td>True</td>\n",
       "      <td>False</td>\n",
       "      <td>False</td>\n",
       "      <td>False</td>\n",
       "      <td>False</td>\n",
       "    </tr>\n",
       "    <tr>\n",
       "      <th>1015788298</th>\n",
       "      <td>False</td>\n",
       "      <td>False</td>\n",
       "      <td>True</td>\n",
       "      <td>False</td>\n",
       "      <td>False</td>\n",
       "      <td>False</td>\n",
       "      <td>False</td>\n",
       "    </tr>\n",
       "    <tr>\n",
       "      <th>1015788546</th>\n",
       "      <td>False</td>\n",
       "      <td>False</td>\n",
       "      <td>True</td>\n",
       "      <td>False</td>\n",
       "      <td>False</td>\n",
       "      <td>False</td>\n",
       "      <td>False</td>\n",
       "    </tr>\n",
       "    <tr>\n",
       "      <th>1015788896</th>\n",
       "      <td>False</td>\n",
       "      <td>False</td>\n",
       "      <td>True</td>\n",
       "      <td>False</td>\n",
       "      <td>False</td>\n",
       "      <td>False</td>\n",
       "      <td>False</td>\n",
       "    </tr>\n",
       "    <tr>\n",
       "      <th>1015789329</th>\n",
       "      <td>False</td>\n",
       "      <td>False</td>\n",
       "      <td>True</td>\n",
       "      <td>False</td>\n",
       "      <td>False</td>\n",
       "      <td>False</td>\n",
       "      <td>False</td>\n",
       "    </tr>\n",
       "  </tbody>\n",
       "</table>\n",
       "</div>"
      ],
      "text/plain": [
       "            SOFA_coag_failure_admission  SOFA_renal_failure_admission  \\\n",
       "csn                                                                     \n",
       "1015752680                        False                         False   \n",
       "1015788298                        False                         False   \n",
       "1015788546                        False                         False   \n",
       "1015788896                        False                         False   \n",
       "1015789329                        False                         False   \n",
       "\n",
       "            SOFA_hep_failure_admission  SOFA_neuro_failure_admission  \\\n",
       "csn                                                                    \n",
       "1015752680                        True                         False   \n",
       "1015788298                        True                         False   \n",
       "1015788546                        True                         False   \n",
       "1015788896                        True                         False   \n",
       "1015789329                        True                         False   \n",
       "\n",
       "            SOFA_cardio_failure_admission  SOFA_resp_failure_admission  \\\n",
       "csn                                                                      \n",
       "1015752680                          False                        False   \n",
       "1015788298                          False                        False   \n",
       "1015788546                          False                        False   \n",
       "1015788896                          False                        False   \n",
       "1015789329                          False                        False   \n",
       "\n",
       "            SOFA_no_failure_admission  \n",
       "csn                                    \n",
       "1015752680                      False  \n",
       "1015788298                      False  \n",
       "1015788546                      False  \n",
       "1015788896                      False  \n",
       "1015789329                      False  "
      ]
     },
     "execution_count": 70,
     "metadata": {},
     "output_type": "execute_result"
    }
   ],
   "source": [
    "sepsis_admission_status.head()"
   ]
  },
  {
   "cell_type": "code",
   "execution_count": 76,
   "metadata": {},
   "outputs": [],
   "source": [
    "# Ignore any organs that were in failure at the time of admission\n",
    "sepsis_1D_status = sepsis_1D_status.join(sepsis_admission_status, how='inner', on=['csn'])"
   ]
  },
  {
   "cell_type": "raw",
   "metadata": {},
   "source": [
    "# SOFA FAILURE COLUMNS PROCESSED FOR IGNORING \n",
    "def check_reference(idx):\n",
    "    for col, val in failure_reference.loc[idx].iteritems():\n",
    "        if val is True:\n",
    "            failure_data.loc[idx, col.replace('_admission','')] = -1\n",
    "\n",
    "def mark_ignored_organs(status_data):\n",
    "    global failure_data\n",
    "    failure_data = status_data[sofa_failure_cols].astype(int).copy()\n",
    "    global reference\n",
    "    failure_reference = status_data[sofa_admission_failure_cols].groupby(service_id).first().copy()\n",
    "    pool = Pool(processes=180)\n",
    "    for i in range(len(failure_reference.index)):\n",
    "        pool.apply_async(check_reference, args=failure_reference.index)\n",
    "    pool.close()\n",
    "    pool.join()\n",
    "    return failure_data, failure_reference\n",
    "\n",
    "# def _v2_mark_ignored_organs(status_data):\n",
    "#     global failure_data\n",
    "#     failure_data = status_data[sofa_failure_cols].astype(int).copy()\n",
    "#     global reference\n",
    "#     failure_reference = status_data[sofa_admission_failure_cols].groupby(service_id).first().copy()\n",
    "#     pool = Pool(processes=180)\n",
    "#     for i in pool.map(check_reference, args=failure_reference.index):\n",
    "#         pass\n",
    "#     return failure_data, failure_reference\n",
    "\n",
    "# m = Manager()\n",
    "# p = Pool(180)\n",
    "# failure_data = status_data[sofa_failure_cols].astype(int).copy()\n",
    "# failure_reference = status_data[sofa_admission_failure_cols].groupby(service_id).first().copy()\n",
    "# multi = [m.obj for i in failure_data.loc[i] for i in failure_data.index.unique]\n",
    "# p.map(fun, multi)\n",
    "# data = [a[\"1\"] for a in multi]\n",
    "# print(data)\n",
    "\n",
    "%%time\n",
    "failure_data, failure_reference = mark_ignored_organs(sepsis_1D_status)\n",
    "\n",
    "failure_data"
   ]
  },
  {
   "cell_type": "markdown",
   "metadata": {
    "tags": []
   },
   "source": [
    "#### Plot Organ Failure"
   ]
  },
  {
   "cell_type": "raw",
   "metadata": {},
   "source": [
    "sampled_reference\n",
    "\n",
    "sampled_data\n",
    "\n",
    "def plot_sofa_status_heatmap(data, reference):\n",
    "    plt_data = data.T.astype(float)\n",
    "    mask = plt_data.isna()\n",
    "    fig, ax = plt.subplots(figsize=(16,8))\n",
    "    # sns.set()\n",
    "    with sns.axes_style(\"white\"):\n",
    "        ax = sns.heatmap(plt_data, ax=ax, cmap='vlag', cbar=False, vmin=0, vmax=1, square=True, annot=False, linewidths=.5, mask=mask)\n",
    "    ax.set_xlim(0, 24)\n",
    "    # g.set_facecolor('grey')\n",
    "    # legend = ax.legend()\n",
    "    # legend.remove()\n",
    "    ax.set_facecolor('xkcd:light grey')\n",
    "    plt.xticks(rotation=15)\n",
    "    plt.tight_layout()\n",
    "    plt.show()"
   ]
  },
  {
   "cell_type": "code",
   "execution_count": 78,
   "metadata": {},
   "outputs": [],
   "source": [
    "failure_data = sepsis_1D_df[sofa_failure_cols].astype(int).copy()\n",
    "failure_reference = sepsis_admission_df[sofa_failure_cols].groupby(service_id).first().copy()"
   ]
  },
  {
   "cell_type": "code",
   "execution_count": 79,
   "metadata": {
    "tags": []
   },
   "outputs": [],
   "source": [
    "service_ids = failure_reference.index\n",
    "sampled_id = np.random.choice(service_ids, 1, replace=False)"
   ]
  },
  {
   "cell_type": "code",
   "execution_count": 80,
   "metadata": {},
   "outputs": [
    {
     "data": {
      "text/html": [
       "<div>\n",
       "<style scoped>\n",
       "    .dataframe tbody tr th:only-of-type {\n",
       "        vertical-align: middle;\n",
       "    }\n",
       "\n",
       "    .dataframe tbody tr th {\n",
       "        vertical-align: top;\n",
       "    }\n",
       "\n",
       "    .dataframe thead th {\n",
       "        text-align: right;\n",
       "    }\n",
       "</style>\n",
       "<table border=\"1\" class=\"dataframe\">\n",
       "  <thead>\n",
       "    <tr style=\"text-align: right;\">\n",
       "      <th></th>\n",
       "      <th>SOFA_coag_failure</th>\n",
       "      <th>SOFA_renal_failure</th>\n",
       "      <th>SOFA_hep_failure</th>\n",
       "      <th>SOFA_neuro_failure</th>\n",
       "      <th>SOFA_cardio_failure</th>\n",
       "      <th>SOFA_resp_failure</th>\n",
       "    </tr>\n",
       "    <tr>\n",
       "      <th>time_1D</th>\n",
       "      <th></th>\n",
       "      <th></th>\n",
       "      <th></th>\n",
       "      <th></th>\n",
       "      <th></th>\n",
       "      <th></th>\n",
       "    </tr>\n",
       "  </thead>\n",
       "  <tbody>\n",
       "    <tr>\n",
       "      <th>0</th>\n",
       "      <td>0</td>\n",
       "      <td>1</td>\n",
       "      <td>1</td>\n",
       "      <td>1</td>\n",
       "      <td>0</td>\n",
       "      <td>0</td>\n",
       "    </tr>\n",
       "    <tr>\n",
       "      <th>1</th>\n",
       "      <td>0</td>\n",
       "      <td>1</td>\n",
       "      <td>1</td>\n",
       "      <td>0</td>\n",
       "      <td>0</td>\n",
       "      <td>0</td>\n",
       "    </tr>\n",
       "    <tr>\n",
       "      <th>2</th>\n",
       "      <td>0</td>\n",
       "      <td>1</td>\n",
       "      <td>1</td>\n",
       "      <td>0</td>\n",
       "      <td>0</td>\n",
       "      <td>0</td>\n",
       "    </tr>\n",
       "    <tr>\n",
       "      <th>3</th>\n",
       "      <td>0</td>\n",
       "      <td>1</td>\n",
       "      <td>1</td>\n",
       "      <td>0</td>\n",
       "      <td>0</td>\n",
       "      <td>0</td>\n",
       "    </tr>\n",
       "    <tr>\n",
       "      <th>4</th>\n",
       "      <td>0</td>\n",
       "      <td>1</td>\n",
       "      <td>1</td>\n",
       "      <td>0</td>\n",
       "      <td>0</td>\n",
       "      <td>0</td>\n",
       "    </tr>\n",
       "    <tr>\n",
       "      <th>5</th>\n",
       "      <td>0</td>\n",
       "      <td>1</td>\n",
       "      <td>1</td>\n",
       "      <td>0</td>\n",
       "      <td>0</td>\n",
       "      <td>0</td>\n",
       "    </tr>\n",
       "    <tr>\n",
       "      <th>6</th>\n",
       "      <td>0</td>\n",
       "      <td>1</td>\n",
       "      <td>1</td>\n",
       "      <td>0</td>\n",
       "      <td>0</td>\n",
       "      <td>0</td>\n",
       "    </tr>\n",
       "    <tr>\n",
       "      <th>7</th>\n",
       "      <td>0</td>\n",
       "      <td>1</td>\n",
       "      <td>1</td>\n",
       "      <td>0</td>\n",
       "      <td>0</td>\n",
       "      <td>0</td>\n",
       "    </tr>\n",
       "    <tr>\n",
       "      <th>8</th>\n",
       "      <td>0</td>\n",
       "      <td>1</td>\n",
       "      <td>1</td>\n",
       "      <td>0</td>\n",
       "      <td>0</td>\n",
       "      <td>0</td>\n",
       "    </tr>\n",
       "    <tr>\n",
       "      <th>9</th>\n",
       "      <td>0</td>\n",
       "      <td>1</td>\n",
       "      <td>1</td>\n",
       "      <td>0</td>\n",
       "      <td>0</td>\n",
       "      <td>0</td>\n",
       "    </tr>\n",
       "    <tr>\n",
       "      <th>10</th>\n",
       "      <td>0</td>\n",
       "      <td>1</td>\n",
       "      <td>1</td>\n",
       "      <td>0</td>\n",
       "      <td>0</td>\n",
       "      <td>0</td>\n",
       "    </tr>\n",
       "    <tr>\n",
       "      <th>11</th>\n",
       "      <td>0</td>\n",
       "      <td>1</td>\n",
       "      <td>1</td>\n",
       "      <td>0</td>\n",
       "      <td>0</td>\n",
       "      <td>0</td>\n",
       "    </tr>\n",
       "    <tr>\n",
       "      <th>12</th>\n",
       "      <td>0</td>\n",
       "      <td>1</td>\n",
       "      <td>1</td>\n",
       "      <td>0</td>\n",
       "      <td>0</td>\n",
       "      <td>0</td>\n",
       "    </tr>\n",
       "    <tr>\n",
       "      <th>13</th>\n",
       "      <td>0</td>\n",
       "      <td>1</td>\n",
       "      <td>1</td>\n",
       "      <td>0</td>\n",
       "      <td>0</td>\n",
       "      <td>0</td>\n",
       "    </tr>\n",
       "    <tr>\n",
       "      <th>14</th>\n",
       "      <td>0</td>\n",
       "      <td>1</td>\n",
       "      <td>1</td>\n",
       "      <td>0</td>\n",
       "      <td>0</td>\n",
       "      <td>0</td>\n",
       "    </tr>\n",
       "    <tr>\n",
       "      <th>15</th>\n",
       "      <td>0</td>\n",
       "      <td>1</td>\n",
       "      <td>1</td>\n",
       "      <td>0</td>\n",
       "      <td>0</td>\n",
       "      <td>0</td>\n",
       "    </tr>\n",
       "    <tr>\n",
       "      <th>16</th>\n",
       "      <td>0</td>\n",
       "      <td>1</td>\n",
       "      <td>1</td>\n",
       "      <td>0</td>\n",
       "      <td>0</td>\n",
       "      <td>0</td>\n",
       "    </tr>\n",
       "    <tr>\n",
       "      <th>17</th>\n",
       "      <td>0</td>\n",
       "      <td>1</td>\n",
       "      <td>1</td>\n",
       "      <td>0</td>\n",
       "      <td>0</td>\n",
       "      <td>0</td>\n",
       "    </tr>\n",
       "    <tr>\n",
       "      <th>18</th>\n",
       "      <td>0</td>\n",
       "      <td>1</td>\n",
       "      <td>1</td>\n",
       "      <td>0</td>\n",
       "      <td>0</td>\n",
       "      <td>0</td>\n",
       "    </tr>\n",
       "    <tr>\n",
       "      <th>19</th>\n",
       "      <td>0</td>\n",
       "      <td>1</td>\n",
       "      <td>1</td>\n",
       "      <td>0</td>\n",
       "      <td>0</td>\n",
       "      <td>0</td>\n",
       "    </tr>\n",
       "    <tr>\n",
       "      <th>20</th>\n",
       "      <td>0</td>\n",
       "      <td>1</td>\n",
       "      <td>1</td>\n",
       "      <td>0</td>\n",
       "      <td>0</td>\n",
       "      <td>0</td>\n",
       "    </tr>\n",
       "    <tr>\n",
       "      <th>21</th>\n",
       "      <td>0</td>\n",
       "      <td>1</td>\n",
       "      <td>1</td>\n",
       "      <td>0</td>\n",
       "      <td>0</td>\n",
       "      <td>0</td>\n",
       "    </tr>\n",
       "    <tr>\n",
       "      <th>22</th>\n",
       "      <td>0</td>\n",
       "      <td>1</td>\n",
       "      <td>1</td>\n",
       "      <td>0</td>\n",
       "      <td>0</td>\n",
       "      <td>0</td>\n",
       "    </tr>\n",
       "  </tbody>\n",
       "</table>\n",
       "</div>"
      ],
      "text/plain": [
       "         SOFA_coag_failure  SOFA_renal_failure  SOFA_hep_failure  \\\n",
       "time_1D                                                            \n",
       "0                        0                   1                 1   \n",
       "1                        0                   1                 1   \n",
       "2                        0                   1                 1   \n",
       "3                        0                   1                 1   \n",
       "4                        0                   1                 1   \n",
       "5                        0                   1                 1   \n",
       "6                        0                   1                 1   \n",
       "7                        0                   1                 1   \n",
       "8                        0                   1                 1   \n",
       "9                        0                   1                 1   \n",
       "10                       0                   1                 1   \n",
       "11                       0                   1                 1   \n",
       "12                       0                   1                 1   \n",
       "13                       0                   1                 1   \n",
       "14                       0                   1                 1   \n",
       "15                       0                   1                 1   \n",
       "16                       0                   1                 1   \n",
       "17                       0                   1                 1   \n",
       "18                       0                   1                 1   \n",
       "19                       0                   1                 1   \n",
       "20                       0                   1                 1   \n",
       "21                       0                   1                 1   \n",
       "22                       0                   1                 1   \n",
       "\n",
       "         SOFA_neuro_failure  SOFA_cardio_failure  SOFA_resp_failure  \n",
       "time_1D                                                              \n",
       "0                         1                    0                  0  \n",
       "1                         0                    0                  0  \n",
       "2                         0                    0                  0  \n",
       "3                         0                    0                  0  \n",
       "4                         0                    0                  0  \n",
       "5                         0                    0                  0  \n",
       "6                         0                    0                  0  \n",
       "7                         0                    0                  0  \n",
       "8                         0                    0                  0  \n",
       "9                         0                    0                  0  \n",
       "10                        0                    0                  0  \n",
       "11                        0                    0                  0  \n",
       "12                        0                    0                  0  \n",
       "13                        0                    0                  0  \n",
       "14                        0                    0                  0  \n",
       "15                        0                    0                  0  \n",
       "16                        0                    0                  0  \n",
       "17                        0                    0                  0  \n",
       "18                        0                    0                  0  \n",
       "19                        0                    0                  0  \n",
       "20                        0                    0                  0  \n",
       "21                        0                    0                  0  \n",
       "22                        0                    0                  0  "
      ]
     },
     "execution_count": 80,
     "metadata": {},
     "output_type": "execute_result"
    }
   ],
   "source": [
    "failure_data.loc[sampled_id]"
   ]
  },
  {
   "cell_type": "raw",
   "metadata": {
    "tags": []
   },
   "source": [
    "sampled_data, sampled_reference = failure_data.loc[sampled_id].droplevel(0).copy(), failure_reference.loc[sampled_id].copy()\n",
    "plot_sofa_status_heatmap(sampled_data, sampled_reference)"
   ]
  },
  {
   "cell_type": "markdown",
   "metadata": {
    "tags": []
   },
   "source": [
    "# Export for Mining"
   ]
  },
  {
   "cell_type": "code",
   "execution_count": 83,
   "metadata": {},
   "outputs": [],
   "source": [
    "data_path = Path(f\"/opt/scratchspace/KLAB_SAIL/MODSPhenotypes/data/{run_id}/\")\n",
    "\n",
    "sepsis_1D_df[sofa_score_cols].query('time_1D <= 24').to_parquet(data_path/f\"{site_name}_{run_id}_sofa_scores_df.parquet\")"
   ]
  },
  {
   "cell_type": "markdown",
   "metadata": {
    "tags": []
   },
   "source": [
    "---\n",
    "***TODO***\n",
    "# Determine the Sequence of Organ Failures"
   ]
  },
  {
   "cell_type": "raw",
   "metadata": {},
   "source": [
    "%%sql\n",
    "debug_df << SELECT static.csn, static.hospital_admission_date_time,\n",
    "dynamic.charttime, dynamic.SOFA_neuro, dynamic.SOFA_resp, dynamic.SOFA_coag, dynamic.SOFA_cardio, dynamic.SOFA_renal, dynamic.SOFA_hep\n",
    "FROM (SELECT * FROM static WHERE csn == '15631051172') static INNER JOIN (SELECT * FROM dynamic WHERE csn == '15631051172') dynamic\n",
    "ON static.csn = dynamic.csn;"
   ]
  },
  {
   "cell_type": "raw",
   "metadata": {},
   "source": [
    "debug_df.query(\"hospital_admission_date_time <= charttime\")"
   ]
  },
  {
   "cell_type": "raw",
   "metadata": {},
   "source": [
    "# 1\n",
    "organ_failure_order = {}\n",
    "for col in sofa_failure_cols:\n",
    "    organ_failure_order[col] = np.nan\n",
    "\n",
    "# 2\n",
    "for col in data_sample.columns:\n",
    "    values = data_sample[col].dropna()\n",
    "    if not values.empty:\n",
    "        lowest = values.index[0]\n",
    "        organ_failure_order[col] = lowest"
   ]
  },
  {
   "cell_type": "raw",
   "metadata": {},
   "source": [
    "organ_failure_order"
   ]
  }
 ],
 "metadata": {
  "kernelspec": {
   "display_name": "mods",
   "language": "python",
   "name": "mods"
  },
  "language_info": {
   "codemirror_mode": {
    "name": "ipython",
    "version": 3
   },
   "file_extension": ".py",
   "mimetype": "text/x-python",
   "name": "python",
   "nbconvert_exporter": "python",
   "pygments_lexer": "ipython3",
   "version": "3.10.4"
  }
 },
 "nbformat": 4,
 "nbformat_minor": 4
}
