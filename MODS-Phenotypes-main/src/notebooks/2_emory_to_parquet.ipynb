{
 "cells": [
  {
   "cell_type": "markdown",
   "metadata": {
    "tags": []
   },
   "source": [
    "# MODS Phenotypes: Step 2. Coallesce Emory Data to Parquet"
   ]
  },
  {
   "cell_type": "markdown",
   "metadata": {},
   "source": [
    "## Setup"
   ]
  },
  {
   "cell_type": "markdown",
   "metadata": {
    "tags": []
   },
   "source": [
    "### `import`"
   ]
  },
  {
   "cell_type": "code",
   "execution_count": 1,
   "metadata": {},
   "outputs": [
    {
     "data": {
      "application/vnd.jupyter.widget-view+json": {
       "model_id": "adc64c7833a34e1ba1f0419c47ce22fd",
       "version_major": 2,
       "version_minor": 0
      },
      "text/plain": [
       "  0%|          | 0/100 [00:00<?, ?it/s]"
      ]
     },
     "metadata": {},
     "output_type": "display_data"
    }
   ],
   "source": [
    "import pickle\n",
    "from pathlib import Path\n",
    "from tqdm.auto import tqdm\n",
    "tqdm(total=100, mininterval=1.0) # only update tqdm every second\n",
    "import os\n",
    "import sys\n",
    "import warnings\n",
    "from random import sample\n",
    "warnings.simplefilter(action=\"ignore\", category=FutureWarning)\n",
    "import numpy as np\n",
    "import pyarrow as pa\n",
    "import pyarrow.parquet as pq\n",
    "from functools import reduce"
   ]
  },
  {
   "cell_type": "code",
   "execution_count": 2,
   "metadata": {},
   "outputs": [],
   "source": [
    "site_name = 'emory'\n",
    "sys.path.insert(0, \"/opt/scratchspace/KLAB_SAIL/MODSPhenotypes/mods/\")\n",
    "from src.config import *\n",
    "from src.utils import *"
   ]
  },
  {
   "cell_type": "code",
   "execution_count": 3,
   "metadata": {},
   "outputs": [],
   "source": [
    "from src.log import setup_logger\n",
    "logs_path = Path(\"/opt/scratchspace/KLAB_SAIL/MODSPhenotypes/mods/logs/\")\n",
    "logs_path.mkdir(exist_ok=True)\n",
    "logger = setup_logger(\"2_emory_to_parquet\", root_folder=logs_path)"
   ]
  },
  {
   "cell_type": "markdown",
   "metadata": {},
   "source": [
    "### `config`"
   ]
  },
  {
   "cell_type": "code",
   "execution_count": 4,
   "metadata": {},
   "outputs": [],
   "source": [
    "# TODO: I think these are in the config files so just get them there and delete this\n",
    "input_path = Path('/opt/scratchspace/KLAB_SAIL/MODSPhenotypes/data/2023_07_29/extraction/emory/')\n",
    "# years=['2014','2016','2017','2018','2019','2020']\n",
    "years=['2020']\n",
    "\n",
    "# TODO: this shouldnt be needed make it go away\n",
    "patient_id = project_config[site_name][\"keys\"][\"patient_key\"]\n",
    "service_id = project_config[site_name][\"keys\"][\"service_key\"]\n",
    "record_dt = project_config[site_name][\"keys\"][\"record_dt\"]\n",
    "\n",
    "scores_keys = project_config[site_name][\"scores\"]\n",
    "static_keys = project_config[site_name][\"static\"]\n",
    "dynamic_keys = project_config[site_name][\"dynamic\"]\n",
    "times_keys = project_config[site_name][\"times\"]\n",
    "datetimes_keys = project_config[site_name][\"datetimes\"]\n",
    "\n",
    "num_cpus = project_config['parameters']['num_cpus']\n",
    "num_gpus = project_config['parameters']['num_gpus']"
   ]
  },
  {
   "cell_type": "markdown",
   "metadata": {},
   "source": [
    "## Run"
   ]
  },
  {
   "cell_type": "markdown",
   "metadata": {
    "tags": []
   },
   "source": [
    "### Coallesce `static_dfs`"
   ]
  },
  {
   "cell_type": "code",
   "execution_count": 5,
   "metadata": {},
   "outputs": [],
   "source": [
    "static_schema = (\n",
    "    reduce(lambda a, b: {**a, **b}, [arrow_schema['static'][k] for k in static_keys])\n",
    "    |\n",
    "    reduce(lambda a, b: {**a, **b}, [arrow_schema['static']['times'][k] for k in times_keys])\n",
    "    )\n",
    "\n",
    "time_columns = [\n",
    "    'times_abx_order', \n",
    "    'times_culture', \n",
    "    'times_suspicion_sepsis3', \n",
    "    'times_SOFA', \n",
    "    'times_sepsis3'\n",
    "]\n",
    "\n",
    "for col in time_columns:\n",
    "    static_schema[col] = 'LIST(TIMESTAMP[NS])'\n",
    "\n",
    "arrow_static_schema = make_arrow_schema(static_schema)"
   ]
  },
  {
   "cell_type": "code",
   "execution_count": 6,
   "metadata": {},
   "outputs": [
    {
     "data": {
      "application/vnd.jupyter.widget-view+json": {
       "model_id": "97426af2525e4c5eb577914c7783ff00",
       "version_major": 2,
       "version_minor": 0
      },
      "text/plain": [
       "  0%|          | 0/1 [00:00<?, ?it/s]"
      ]
     },
     "metadata": {},
     "output_type": "display_data"
    },
    {
     "data": {
      "application/vnd.jupyter.widget-view+json": {
       "model_id": "42b9bc0ccaa84e6ca6c4fbb6c4dd45b3",
       "version_major": 2,
       "version_minor": 0
      },
      "text/plain": [
       "Reading files:   0%|          | 0/207279 [00:00<?, ?it/s]"
      ]
     },
     "metadata": {},
     "output_type": "display_data"
    },
    {
     "ename": "KeyboardInterrupt",
     "evalue": "",
     "output_type": "error",
     "traceback": [
      "\u001b[0;31m---------------------------------------------------------------------------\u001b[0m",
      "\u001b[0;31mKeyboardInterrupt\u001b[0m                         Traceback (most recent call last)",
      "File \u001b[0;32m<timed exec>:3\u001b[0m\n",
      "File \u001b[0;32m/opt/scratchspace/KLAB_SAIL/MODSPhenotypes/mods/src/utils.py:70\u001b[0m, in \u001b[0;36mread_parquet_files_in_parallel\u001b[0;34m(directory, schema, max_workers)\u001b[0m\n\u001b[1;32m     68\u001b[0m \u001b[38;5;28;01mwith\u001b[39;00m tqdm(total\u001b[38;5;241m=\u001b[39m\u001b[38;5;28mlen\u001b[39m(files), desc\u001b[38;5;241m=\u001b[39m\u001b[38;5;124m\"\u001b[39m\u001b[38;5;124mReading files\u001b[39m\u001b[38;5;124m\"\u001b[39m, position\u001b[38;5;241m=\u001b[39m\u001b[38;5;241m0\u001b[39m, leave\u001b[38;5;241m=\u001b[39m\u001b[38;5;28;01mTrue\u001b[39;00m) \u001b[38;5;28;01mas\u001b[39;00m pbar:\n\u001b[1;32m     69\u001b[0m     \u001b[38;5;28;01mwith\u001b[39;00m ThreadPoolExecutor(max_workers\u001b[38;5;241m=\u001b[39mmax_workers) \u001b[38;5;28;01mas\u001b[39;00m executor:\n\u001b[0;32m---> 70\u001b[0m         results \u001b[38;5;241m=\u001b[39m \u001b[38;5;28mlist\u001b[39m(\u001b[43mexecutor\u001b[49m\u001b[38;5;241;43m.\u001b[39;49m\u001b[43mmap\u001b[49m\u001b[43m(\u001b[49m\u001b[38;5;28;43;01mlambda\u001b[39;49;00m\u001b[43m \u001b[49m\u001b[43mf\u001b[49m\u001b[43m:\u001b[49m\u001b[43m \u001b[49m\u001b[43mread_parquet_file\u001b[49m\u001b[43m(\u001b[49m\u001b[43mf\u001b[49m\u001b[43m,\u001b[49m\u001b[43m \u001b[49m\u001b[43mschema\u001b[49m\u001b[43m,\u001b[49m\u001b[43m \u001b[49m\u001b[43mpbar\u001b[49m\u001b[43m)\u001b[49m\u001b[43m,\u001b[49m\u001b[43m \u001b[49m\u001b[43mfiles\u001b[49m\u001b[43m)\u001b[49m)\n\u001b[1;32m     72\u001b[0m \u001b[38;5;66;03m# Filter out the None values, which indicate files that raised an error.\u001b[39;00m\n\u001b[1;32m     73\u001b[0m valid_results \u001b[38;5;241m=\u001b[39m [res \u001b[38;5;28;01mfor\u001b[39;00m res \u001b[38;5;129;01min\u001b[39;00m results \u001b[38;5;28;01mif\u001b[39;00m res \u001b[38;5;129;01mis\u001b[39;00m \u001b[38;5;129;01mnot\u001b[39;00m \u001b[38;5;28;01mNone\u001b[39;00m]\n",
      "File \u001b[0;32m~/MODSPhenotypes/miniconda3/envs/mods/lib/python3.10/concurrent/futures/_base.py:598\u001b[0m, in \u001b[0;36mExecutor.map\u001b[0;34m(self, fn, timeout, chunksize, *iterables)\u001b[0m\n\u001b[1;32m    595\u001b[0m \u001b[38;5;28;01mif\u001b[39;00m timeout \u001b[38;5;129;01mis\u001b[39;00m \u001b[38;5;129;01mnot\u001b[39;00m \u001b[38;5;28;01mNone\u001b[39;00m:\n\u001b[1;32m    596\u001b[0m     end_time \u001b[38;5;241m=\u001b[39m timeout \u001b[38;5;241m+\u001b[39m time\u001b[38;5;241m.\u001b[39mmonotonic()\n\u001b[0;32m--> 598\u001b[0m fs \u001b[38;5;241m=\u001b[39m [\u001b[38;5;28mself\u001b[39m\u001b[38;5;241m.\u001b[39msubmit(fn, \u001b[38;5;241m*\u001b[39margs) \u001b[38;5;28;01mfor\u001b[39;00m args \u001b[38;5;129;01min\u001b[39;00m \u001b[38;5;28mzip\u001b[39m(\u001b[38;5;241m*\u001b[39miterables)]\n\u001b[1;32m    600\u001b[0m \u001b[38;5;66;03m# Yield must be hidden in closure so that the futures are submitted\u001b[39;00m\n\u001b[1;32m    601\u001b[0m \u001b[38;5;66;03m# before the first iterator value is required.\u001b[39;00m\n\u001b[1;32m    602\u001b[0m \u001b[38;5;28;01mdef\u001b[39;00m \u001b[38;5;21mresult_iterator\u001b[39m():\n",
      "File \u001b[0;32m~/MODSPhenotypes/miniconda3/envs/mods/lib/python3.10/concurrent/futures/_base.py:598\u001b[0m, in \u001b[0;36m<listcomp>\u001b[0;34m(.0)\u001b[0m\n\u001b[1;32m    595\u001b[0m \u001b[38;5;28;01mif\u001b[39;00m timeout \u001b[38;5;129;01mis\u001b[39;00m \u001b[38;5;129;01mnot\u001b[39;00m \u001b[38;5;28;01mNone\u001b[39;00m:\n\u001b[1;32m    596\u001b[0m     end_time \u001b[38;5;241m=\u001b[39m timeout \u001b[38;5;241m+\u001b[39m time\u001b[38;5;241m.\u001b[39mmonotonic()\n\u001b[0;32m--> 598\u001b[0m fs \u001b[38;5;241m=\u001b[39m [\u001b[38;5;28;43mself\u001b[39;49m\u001b[38;5;241;43m.\u001b[39;49m\u001b[43msubmit\u001b[49m\u001b[43m(\u001b[49m\u001b[43mfn\u001b[49m\u001b[43m,\u001b[49m\u001b[43m \u001b[49m\u001b[38;5;241;43m*\u001b[39;49m\u001b[43margs\u001b[49m\u001b[43m)\u001b[49m \u001b[38;5;28;01mfor\u001b[39;00m args \u001b[38;5;129;01min\u001b[39;00m \u001b[38;5;28mzip\u001b[39m(\u001b[38;5;241m*\u001b[39miterables)]\n\u001b[1;32m    600\u001b[0m \u001b[38;5;66;03m# Yield must be hidden in closure so that the futures are submitted\u001b[39;00m\n\u001b[1;32m    601\u001b[0m \u001b[38;5;66;03m# before the first iterator value is required.\u001b[39;00m\n\u001b[1;32m    602\u001b[0m \u001b[38;5;28;01mdef\u001b[39;00m \u001b[38;5;21mresult_iterator\u001b[39m():\n",
      "File \u001b[0;32m~/MODSPhenotypes/miniconda3/envs/mods/lib/python3.10/concurrent/futures/thread.py:176\u001b[0m, in \u001b[0;36mThreadPoolExecutor.submit\u001b[0;34m(self, fn, *args, **kwargs)\u001b[0m\n\u001b[1;32m    173\u001b[0m w \u001b[38;5;241m=\u001b[39m _WorkItem(f, fn, args, kwargs)\n\u001b[1;32m    175\u001b[0m \u001b[38;5;28mself\u001b[39m\u001b[38;5;241m.\u001b[39m_work_queue\u001b[38;5;241m.\u001b[39mput(w)\n\u001b[0;32m--> 176\u001b[0m \u001b[38;5;28;43mself\u001b[39;49m\u001b[38;5;241;43m.\u001b[39;49m\u001b[43m_adjust_thread_count\u001b[49m\u001b[43m(\u001b[49m\u001b[43m)\u001b[49m\n\u001b[1;32m    177\u001b[0m \u001b[38;5;28;01mreturn\u001b[39;00m f\n",
      "File \u001b[0;32m~/MODSPhenotypes/miniconda3/envs/mods/lib/python3.10/concurrent/futures/thread.py:199\u001b[0m, in \u001b[0;36mThreadPoolExecutor._adjust_thread_count\u001b[0;34m(self)\u001b[0m\n\u001b[1;32m    192\u001b[0m thread_name \u001b[38;5;241m=\u001b[39m \u001b[38;5;124m'\u001b[39m\u001b[38;5;132;01m%s\u001b[39;00m\u001b[38;5;124m_\u001b[39m\u001b[38;5;132;01m%d\u001b[39;00m\u001b[38;5;124m'\u001b[39m \u001b[38;5;241m%\u001b[39m (\u001b[38;5;28mself\u001b[39m\u001b[38;5;241m.\u001b[39m_thread_name_prefix \u001b[38;5;129;01mor\u001b[39;00m \u001b[38;5;28mself\u001b[39m,\n\u001b[1;32m    193\u001b[0m                          num_threads)\n\u001b[1;32m    194\u001b[0m t \u001b[38;5;241m=\u001b[39m threading\u001b[38;5;241m.\u001b[39mThread(name\u001b[38;5;241m=\u001b[39mthread_name, target\u001b[38;5;241m=\u001b[39m_worker,\n\u001b[1;32m    195\u001b[0m                      args\u001b[38;5;241m=\u001b[39m(weakref\u001b[38;5;241m.\u001b[39mref(\u001b[38;5;28mself\u001b[39m, weakref_cb),\n\u001b[1;32m    196\u001b[0m                            \u001b[38;5;28mself\u001b[39m\u001b[38;5;241m.\u001b[39m_work_queue,\n\u001b[1;32m    197\u001b[0m                            \u001b[38;5;28mself\u001b[39m\u001b[38;5;241m.\u001b[39m_initializer,\n\u001b[1;32m    198\u001b[0m                            \u001b[38;5;28mself\u001b[39m\u001b[38;5;241m.\u001b[39m_initargs))\n\u001b[0;32m--> 199\u001b[0m \u001b[43mt\u001b[49m\u001b[38;5;241;43m.\u001b[39;49m\u001b[43mstart\u001b[49m\u001b[43m(\u001b[49m\u001b[43m)\u001b[49m\n\u001b[1;32m    200\u001b[0m \u001b[38;5;28mself\u001b[39m\u001b[38;5;241m.\u001b[39m_threads\u001b[38;5;241m.\u001b[39madd(t)\n\u001b[1;32m    201\u001b[0m _threads_queues[t] \u001b[38;5;241m=\u001b[39m \u001b[38;5;28mself\u001b[39m\u001b[38;5;241m.\u001b[39m_work_queue\n",
      "File \u001b[0;32m~/MODSPhenotypes/miniconda3/envs/mods/lib/python3.10/threading.py:933\u001b[0m, in \u001b[0;36mThread.start\u001b[0;34m(self)\u001b[0m\n\u001b[1;32m    931\u001b[0m         \u001b[38;5;28;01mdel\u001b[39;00m _limbo[\u001b[38;5;28mself\u001b[39m]\n\u001b[1;32m    932\u001b[0m     \u001b[38;5;28;01mraise\u001b[39;00m\n\u001b[0;32m--> 933\u001b[0m \u001b[38;5;28;43mself\u001b[39;49m\u001b[38;5;241;43m.\u001b[39;49m\u001b[43m_started\u001b[49m\u001b[38;5;241;43m.\u001b[39;49m\u001b[43mwait\u001b[49m\u001b[43m(\u001b[49m\u001b[43m)\u001b[49m\n",
      "File \u001b[0;32m~/MODSPhenotypes/miniconda3/envs/mods/lib/python3.10/threading.py:600\u001b[0m, in \u001b[0;36mEvent.wait\u001b[0;34m(self, timeout)\u001b[0m\n\u001b[1;32m    598\u001b[0m signaled \u001b[38;5;241m=\u001b[39m \u001b[38;5;28mself\u001b[39m\u001b[38;5;241m.\u001b[39m_flag\n\u001b[1;32m    599\u001b[0m \u001b[38;5;28;01mif\u001b[39;00m \u001b[38;5;129;01mnot\u001b[39;00m signaled:\n\u001b[0;32m--> 600\u001b[0m     signaled \u001b[38;5;241m=\u001b[39m \u001b[38;5;28;43mself\u001b[39;49m\u001b[38;5;241;43m.\u001b[39;49m\u001b[43m_cond\u001b[49m\u001b[38;5;241;43m.\u001b[39;49m\u001b[43mwait\u001b[49m\u001b[43m(\u001b[49m\u001b[43mtimeout\u001b[49m\u001b[43m)\u001b[49m\n\u001b[1;32m    601\u001b[0m \u001b[38;5;28;01mreturn\u001b[39;00m signaled\n",
      "File \u001b[0;32m~/MODSPhenotypes/miniconda3/envs/mods/lib/python3.10/threading.py:320\u001b[0m, in \u001b[0;36mCondition.wait\u001b[0;34m(self, timeout)\u001b[0m\n\u001b[1;32m    318\u001b[0m \u001b[38;5;28;01mtry\u001b[39;00m:    \u001b[38;5;66;03m# restore state no matter what (e.g., KeyboardInterrupt)\u001b[39;00m\n\u001b[1;32m    319\u001b[0m     \u001b[38;5;28;01mif\u001b[39;00m timeout \u001b[38;5;129;01mis\u001b[39;00m \u001b[38;5;28;01mNone\u001b[39;00m:\n\u001b[0;32m--> 320\u001b[0m         \u001b[43mwaiter\u001b[49m\u001b[38;5;241;43m.\u001b[39;49m\u001b[43macquire\u001b[49m\u001b[43m(\u001b[49m\u001b[43m)\u001b[49m\n\u001b[1;32m    321\u001b[0m         gotit \u001b[38;5;241m=\u001b[39m \u001b[38;5;28;01mTrue\u001b[39;00m\n\u001b[1;32m    322\u001b[0m     \u001b[38;5;28;01melse\u001b[39;00m:\n",
      "\u001b[0;31mKeyboardInterrupt\u001b[0m: "
     ]
    }
   ],
   "source": [
    "%%time\n",
    "(input_path / 'static_df_YEARLY').mkdir(exist_ok=True, parents=True)\n",
    "for year in tqdm(years):\n",
    "    static_table = read_parquet_files_in_parallel(directory=input_path / 'static_df' / year,\n",
    "                                                  schema=arrow_static_schema,\n",
    "                                                  max_workers=num_cpus)\n",
    "    pq.write_table(static_table, input_path / 'static_df_YEARLY' / f\"static_df_{year}.parquet\")"
   ]
  },
  {
   "cell_type": "markdown",
   "metadata": {},
   "source": [
    "**TODO:** ***FIX ERRORS**\n",
    "```text\n",
    "\"2023-07-30 14:33:36,380 - ERROR - Error reading file: /opt/scratchspace/KLAB_SAIL/MODSPhenotypes/data/2023_07_29/extraction/emory/static_df/2018/54472218018.parquet. Error: Failed to parse string: '(null)' as a scalar of type double\"\n",
    "\"2023-07-30 14:33:38,001 - ERROR - Error reading file: /opt/scratchspace/KLAB_SAIL/MODSPhenotypes/data/2023_07_29/extraction/emory/static_df/2018/46838348052.parquet. Error: Failed to parse string: '(null)' as a scalar of type double\"\n",
    "\"2023-07-30 14:33:38,209 - ERROR - Error reading file: /opt/scratchspace/KLAB_SAIL/MODSPhenotypes/data/2023_07_29/extraction/emory/static_df/2018/20340007365.parquet. Error: Failed to parse string: '(null)' as a scalar of type double\"\n",
    "\"2023-07-30 14:33:40,713 - ERROR - Error reading file: /opt/scratchspace/KLAB_SAIL/MODSPhenotypes/data/2023_07_29/extraction/emory/static_df/2018/17067897365.parquet. Error: Failed to parse string: '(null)' as a scalar of type double\"\n",
    "\"2023-07-30 14:33:41,591 - ERROR - Error reading file: /opt/scratchspace/KLAB_SAIL/MODSPhenotypes/data/2023_07_29/extraction/emory/static_df/2018/19703377363.parquet. Error: Failed to parse string: '(null)' as a scalar of type double\"\n",
    "\"2023-07-30 14:33:43,182 - ERROR - Error reading file: /opt/scratchspace/KLAB_SAIL/MODSPhenotypes/data/2023_07_29/extraction/emory/static_df/2018/54865797365.parquet. Error: Failed to parse string: '(null)' as a scalar of type double\"\n",
    "\"2023-07-30 14:33:43,627 - ERROR - Error reading file: /opt/scratchspace/KLAB_SAIL/MODSPhenotypes/data/2023_07_29/extraction/emory/static_df/2018/32283227365.parquet. Error: Failed to parse string: '(null)' as a scalar of type double\"\n",
    "\"2023-07-30 14:33:45,617 - ERROR - Error reading file: /opt/scratchspace/KLAB_SAIL/MODSPhenotypes/data/2023_07_29/extraction/emory/static_df/2018/2248567365.parquet. Error: Failed to parse string: '(null)' as a scalar of type double\"\n",
    "\"2023-07-30 14:33:47,246 - ERROR - Error reading file: /opt/scratchspace/KLAB_SAIL/MODSPhenotypes/data/2023_07_29/extraction/emory/static_df/2018/55148007365.parquet. Error: Failed to parse string: '(null)' as a scalar of type double\"\n",
    "\"2023-07-30 14:33:50,188 - ERROR - Error reading file: /opt/scratchspace/KLAB_SAIL/MODSPhenotypes/data/2023_07_29/extraction/emory/static_df/2018/1678267365.parquet. Error: Failed to parse string: '(null)' as a scalar of type double\"\n",
    "\"2023-07-30 14:33:51,799 - ERROR - Error reading file: /opt/scratchspace/KLAB_SAIL/MODSPhenotypes/data/2023_07_29/extraction/emory/static_df/2018/13743938047.parquet. Error: Failed to parse string: '(null)' as a scalar of type double\"\n",
    "\"2023-07-30 14:33:52,614 - ERROR - Error reading file: /opt/scratchspace/KLAB_SAIL/MODSPhenotypes/data/2023_07_29/extraction/emory/static_df/2018/42379867365.parquet. Error: Failed to parse string: '(null)' as a scalar of type double\"\n",
    "\"2023-07-30 14:33:52,714 - ERROR - Error reading file: /opt/scratchspace/KLAB_SAIL/MODSPhenotypes/data/2023_07_29/extraction/emory/static_df/2018/17964967364.parquet. Error: Failed to parse string: '(null)' as a scalar of type double\"\n",
    "\"2023-07-30 14:33:54,933 - ERROR - Error reading file: /opt/scratchspace/KLAB_SAIL/MODSPhenotypes/data/2023_07_29/extraction/emory/static_df/2018/17016197365.parquet. Error: Failed to parse string: '(null)' as a scalar of type double\"\n",
    "\"2023-07-30 14:33:55,817 - ERROR - Error reading file: /opt/scratchspace/KLAB_SAIL/MODSPhenotypes/data/2023_07_29/extraction/emory/static_df/2018/9800677365.parquet. Error: Failed to parse string: '(null)' as a scalar of type double\"\n",
    "\"2023-07-30 14:33:57,573 - ERROR - Error reading file: /opt/scratchspace/KLAB_SAIL/MODSPhenotypes/data/2023_07_29/extraction/emory/static_df/2018/43431347362.parquet. Error: Failed to parse string: '(null)' as a scalar of type double\"\n",
    "\"2023-07-30 14:33:58,570 - ERROR - Error reading file: /opt/scratchspace/KLAB_SAIL/MODSPhenotypes/data/2023_07_29/extraction/emory/static_df/2018/36444178032.parquet. Error: Failed to parse string: '(null)' as a scalar of type double\"\n",
    "\"2023-07-30 14:34:01,495 - ERROR - Error reading file: /opt/scratchspace/KLAB_SAIL/MODSPhenotypes/data/2023_07_29/extraction/emory/static_df/2018/34136287364.parquet. Error: Failed to parse string: '(null)' as a scalar of type double\"\n",
    " Output of this cell has been trimmed on the initial display.\n",
    "Displaying the first 50 top and last bottom outputs.\n",
    "Click on this message to get the complete output.\n",
    " \"2023-07-30 14:34:34,542 - ERROR - Error reading file: /opt/scratchspace/KLAB_SAIL/MODSPhenotypes/data/2023_07_29/extraction/emory/static_df/2018/57220337365.parquet. Error: Failed to parse string: '(null)' as a scalar of type double\"\n",
    "\"2023-07-30 14:34:36,301 - ERROR - Error reading file: /opt/scratchspace/KLAB_SAIL/MODSPhenotypes/data/2023_07_29/extraction/emory/static_df/2018/47606468066.parquet. Error: Failed to parse string: '(null)' as a scalar of type double\"\n",
    "\"2023-07-30 14:34:37,491 - ERROR - Error reading file: /opt/scratchspace/KLAB_SAIL/MODSPhenotypes/data/2023_07_29/extraction/emory/static_df/2018/57045737362.parquet. Error: Failed to parse string: '(null)' as a scalar of type double\"\n",
    "\"2023-07-30 14:34:39,187 - ERROR - Error reading file: /opt/scratchspace/KLAB_SAIL/MODSPhenotypes/data/2023_07_29/extraction/emory/static_df/2018/50703747365.parquet. Error: Failed to parse string: '(null)' as a scalar of type double\"\n",
    "\"2023-07-30 14:34:39,323 - ERROR - Error reading file: /opt/scratchspace/KLAB_SAIL/MODSPhenotypes/data/2023_07_29/extraction/emory/static_df/2018/43634017365.parquet. Error: Failed to parse string: '(null)' as a scalar of type double\"\n",
    "\"2023-07-30 14:34:39,745 - ERROR - Error reading file: /opt/scratchspace/KLAB_SAIL/MODSPhenotypes/data/2023_07_29/extraction/emory/static_df/2018/6870918147.parquet. Error: Failed to parse string: '(null)' as a scalar of type double\"\n",
    "\"2023-07-30 14:34:42,436 - ERROR - Error reading file: /opt/scratchspace/KLAB_SAIL/MODSPhenotypes/data/2023_07_29/extraction/emory/static_df/2018/20488677361.parquet. Error: Failed to parse string: '(null)' as a scalar of type double\"\n",
    "\"2023-07-30 14:34:43,485 - ERROR - Error reading file: /opt/scratchspace/KLAB_SAIL/MODSPhenotypes/data/2023_07_29/extraction/emory/static_df/2018/54107107363.parquet. Error: Failed to parse string: '(null)' as a scalar of type double\"\n",
    "\"2023-07-30 14:34:51,055 - ERROR - Error reading file: /opt/scratchspace/KLAB_SAIL/MODSPhenotypes/data/2023_07_29/extraction/emory/static_df/2018/56793048079.parquet. Error: Failed to parse string: '(null)' as a scalar of type double\"\n",
    "\"2023-07-30 14:34:52,444 - ERROR - Error reading file: /opt/scratchspace/KLAB_SAIL/MODSPhenotypes/data/2023_07_29/extraction/emory/static_df/2018/11315517365.parquet. Error: Failed to parse string: '(null)' as a scalar of type double\"\n",
    "\"2023-07-30 14:34:52,461 - ERROR - Error reading file: /opt/scratchspace/KLAB_SAIL/MODSPhenotypes/data/2023_07_29/extraction/emory/static_df/2018/9073788018.parquet. Error: Failed to parse string: '(null)' as a scalar of type double\"\n",
    "\"2023-07-30 14:34:53,119 - ERROR - Error reading file: /opt/scratchspace/KLAB_SAIL/MODSPhenotypes/data/2023_07_29/extraction/emory/static_df/2018/57386377365.parquet. Error: Failed to parse string: '(null)' as a scalar of type double\"\n",
    "\"2023-07-30 14:34:57,242 - ERROR - Error reading file: /opt/scratchspace/KLAB_SAIL/MODSPhenotypes/data/2023_07_29/extraction/emory/static_df/2018/18442958159.parquet. Error: Failed to parse string: '(null)' as a scalar of type double\"\n",
    "\"2023-07-30 14:35:04,286 - ERROR - Error reading file: /opt/scratchspace/KLAB_SAIL/MODSPhenotypes/data/2023_07_29/extraction/emory/static_df/2018/20677177365.parquet. Error: Failed to parse string: '(null)' as a scalar of type double\"\n",
    "\"2023-07-30 14:35:05,141 - ERROR - Error reading file: /opt/scratchspace/KLAB_SAIL/MODSPhenotypes/data/2023_07_29/extraction/emory/static_df/2018/10272517365.parquet. Error: Failed to parse string: '(null)' as a scalar of type double\"\n",
    "\"2023-07-30 14:35:10,465 - ERROR - Error reading file: /opt/scratchspace/KLAB_SAIL/MODSPhenotypes/data/2023_07_29/extraction/emory/static_df/2018/47965688037.parquet. Error: Failed to parse string: '(null)' as a scalar of type double\"\n",
    "\"2023-07-30 14:35:13,675 - ERROR - Error reading file: /opt/scratchspace/KLAB_SAIL/MODSPhenotypes/data/2023_07_29/extraction/emory/static_df/2018/37810567365.parquet. Error: Failed to parse string: '(null)' as a scalar of type double\"\n",
    "\"2023-07-30 14:35:14,435 - ERROR - Error reading file: /opt/scratchspace/KLAB_SAIL/MODSPhenotypes/data/2023_07_29/extraction/emory/static_df/2018/41826817365.parquet. Error: Failed to parse string: '(null)' as a scalar of type double\"\n",
    "\"2023-07-30 14:35:20,002 - ERROR - Error reading file: /opt/scratchspace/KLAB_SAIL/MODSPhenotypes/data/2023_07_29/extraction/emory/static_df/2018/57348257365.parquet. Error: Failed to parse string: '(null)' as a scalar of type double\"\n",
    "\"2023-07-30 14:35:21,193 - ERROR - Error reading file: /opt/scratchspace/KLAB_SAIL/MODSPhenotypes/data/2023_07_29/extraction/emory/static_df/2018/17781797365.parquet. Error: Failed to parse string: '(null)' as a scalar of type double\"\n",
    "\"2023-07-30 14:35:23,881 - ERROR - Error reading file: /opt/scratchspace/KLAB_SAIL/MODSPhenotypes/data/2023_07_29/extraction/emory/static_df/2018/43173137365.parquet. Error: Failed to parse string: '(null)' as a scalar of type double\"\n",
    "\"2023-07-30 14:35:29,177 - ERROR - Error reading file: /opt/scratchspace/KLAB_SAIL/MODSPhenotypes/data/2023_07_29/extraction/emory/static_df/2018/54834618030.parquet. Error: Failed to parse string: '(null)' as a scalar of type double\"\n",
    "\"2023-07-30 14:35:34,706 - ERROR - Error reading file: /opt/scratchspace/KLAB_SAIL/MODSPhenotypes/data/2023_07_29/extraction/emory/static_df/2018/57182007364.parquet. Error: Failed to parse string: '(null)' as a scalar of type double\"\n",
    "```"
   ]
  },
  {
   "cell_type": "markdown",
   "metadata": {},
   "source": [
    "### Coallesce `dynamic_dfs`"
   ]
  },
  {
   "cell_type": "code",
   "execution_count": 7,
   "metadata": {},
   "outputs": [],
   "source": [
    "dynamic_schema = (\n",
    "    arrow_schema['dynamic']['super_table'] |\n",
    "    reduce(lambda a, b: {**a, **b}, [arrow_schema['dynamic']['scores'][k] for k in scores_keys])\n",
    "    )\n",
    "\n",
    "arrow_dynamic_schema = make_arrow_schema(dynamic_schema)"
   ]
  },
  {
   "cell_type": "code",
   "execution_count": 8,
   "metadata": {},
   "outputs": [
    {
     "data": {
      "application/vnd.jupyter.widget-view+json": {
       "model_id": "526874f9ec86470482c623d2f2b487a8",
       "version_major": 2,
       "version_minor": 0
      },
      "text/plain": [
       "  0%|          | 0/1 [00:00<?, ?it/s]"
      ]
     },
     "metadata": {},
     "output_type": "display_data"
    },
    {
     "data": {
      "application/vnd.jupyter.widget-view+json": {
       "model_id": "66990e0dbcab47f894d9ee78d6fa3f20",
       "version_major": 2,
       "version_minor": 0
      },
      "text/plain": [
       "Reading files:   0%|          | 0/207279 [00:00<?, ?it/s]"
      ]
     },
     "metadata": {},
     "output_type": "display_data"
    },
    {
     "name": "stdout",
     "output_type": "stream",
     "text": [
      "CPU times: user 1h 19min 52s, sys: 16min 23s, total: 1h 36min 16s\n",
      "Wall time: 13min 49s\n"
     ]
    }
   ],
   "source": [
    "%%time\n",
    "(input_path / 'dynamic_df_YEARLY').mkdir(exist_ok=True, parents=True)\n",
    "for year in tqdm(years):\n",
    "    dynamic_table = read_parquet_files_in_parallel(directory=input_path / 'dynamic_df' / year,\n",
    "                                                   schema=arrow_dynamic_schema,\n",
    "                                                   max_workers=num_cpus)\n",
    "    pq.write_table(dynamic_table, input_path / 'dynamic_df_YEARLY' / f\"dynamic_df_{year}.parquet\")"
   ]
  },
  {
   "cell_type": "markdown",
   "metadata": {},
   "source": [
    "---"
   ]
  },
  {
   "cell_type": "markdown",
   "metadata": {
    "tags": []
   },
   "source": [
    "## Quality Check"
   ]
  },
  {
   "cell_type": "markdown",
   "metadata": {
    "tags": []
   },
   "source": [
    "### Load `static_df`"
   ]
  },
  {
   "cell_type": "code",
   "execution_count": null,
   "metadata": {
    "tags": []
   },
   "outputs": [],
   "source": [
    "%%time\n",
    "__static_table = pq.read_table(\n",
    "    input_path / 'static_df_YEARLY' / '2018',\n",
    "    schema=arrow_static_schema\n",
    ")\n",
    "__static_table.head()"
   ]
  },
  {
   "cell_type": "markdown",
   "metadata": {
    "tags": []
   },
   "source": [
    "### Load `dynamic_df`"
   ]
  },
  {
   "cell_type": "code",
   "execution_count": null,
   "metadata": {},
   "outputs": [],
   "source": [
    "%%time\n",
    "__dynamic_table = pq.read_table(\n",
    "    input_path / 'dynamic_df_YEARLY' / '2018',\n",
    "    schema=arrow_dynamic_schema\n",
    ")\n",
    "__dynamic_table.head()"
   ]
  }
 ],
 "metadata": {
  "kernelspec": {
   "display_name": "mods",
   "language": "python",
   "name": "mods"
  },
  "language_info": {
   "codemirror_mode": {
    "name": "ipython",
    "version": 3
   },
   "file_extension": ".py",
   "mimetype": "text/x-python",
   "name": "python",
   "nbconvert_exporter": "python",
   "pygments_lexer": "ipython3",
   "version": "3.10.4"
  }
 },
 "nbformat": 4,
 "nbformat_minor": 4
}
