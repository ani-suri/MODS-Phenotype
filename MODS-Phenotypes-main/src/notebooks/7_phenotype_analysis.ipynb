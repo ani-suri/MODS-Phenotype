{
 "cells": [
  {
   "cell_type": "markdown",
   "metadata": {},
   "source": [
    "MODS Phenotypes: Step 6. Phenotype Analysis\n",
    "==="
   ]
  },
  {
   "cell_type": "code",
   "execution_count": 1,
   "metadata": {},
   "outputs": [],
   "source": [
    "import os\n",
    "import sys\n",
    "from pathlib import Path\n",
    "import warnings\n",
    "warnings.filterwarnings(\"ignore\")\n",
    "\n",
    "import pandas as pd\n",
    "import multiprocessing\n",
    "import dill as pickle\n",
    "\n",
    "n_cpus = multiprocessing.cpu_count()"
   ]
  },
  {
   "cell_type": "code",
   "execution_count": 2,
   "metadata": {},
   "outputs": [],
   "source": [
    "import numpy as np\n",
    "import seaborn as sns\n",
    "import matplotlib.pyplot as plt\n",
    "sns.set_theme(style=\"white\", context=\"notebook\")"
   ]
  },
  {
   "cell_type": "code",
   "execution_count": 3,
   "metadata": {},
   "outputs": [],
   "source": [
    "from collections import ChainMap"
   ]
  },
  {
   "cell_type": "code",
   "execution_count": 4,
   "metadata": {},
   "outputs": [],
   "source": [
    "import seaborn as sns\n",
    "import matplotlib"
   ]
  },
  {
   "cell_type": "code",
   "execution_count": 5,
   "metadata": {},
   "outputs": [],
   "source": [
    "sys.path.insert(0, \"/opt/bmi-585r/KLAB_SAIL/MODSPhenotypes/gSpan\")\n",
    "import shlex\n",
    "from src.gspan_mining.main import parse_args, main\n",
    "from src.gspan_mining.data_processing import process_graph_data"
   ]
  },
  {
   "cell_type": "code",
   "execution_count": 6,
   "metadata": {},
   "outputs": [],
   "source": [
    "font = {'family' : 'sans-serif',\n",
    "        'weight' : 'normal',\n",
    "        'size'   : 16}\n",
    "\n",
    "matplotlib.rc('font', **font)"
   ]
  },
  {
   "cell_type": "markdown",
   "metadata": {},
   "source": [
    "---"
   ]
  },
  {
   "cell_type": "markdown",
   "metadata": {},
   "source": [
    "# Phenotyping"
   ]
  },
  {
   "cell_type": "code",
   "execution_count": 7,
   "metadata": {},
   "outputs": [],
   "source": [
    "phenotype_df = pd.read_parquet('/home/gmatlin/tmp/phenotype_df_12112022.parquet')"
   ]
  },
  {
   "cell_type": "markdown",
   "metadata": {
    "tags": []
   },
   "source": [
    "# TODO: remove patients who did not have 2+ organ failures"
   ]
  },
  {
   "cell_type": "markdown",
   "metadata": {},
   "source": [
    "## remove all patients with no phenotypes discovered"
   ]
  },
  {
   "cell_type": "code",
   "execution_count": 9,
   "metadata": {},
   "outputs": [],
   "source": [
    "no_phenotype_index = phenotype_df[(phenotype_df.T.sum(axis=0)==0)].index"
   ]
  },
  {
   "cell_type": "raw",
   "metadata": {},
   "source": [
    "# TODO: Logging\n",
    "log.info(len(no_phenotype_index))"
   ]
  },
  {
   "cell_type": "code",
   "execution_count": 10,
   "metadata": {},
   "outputs": [],
   "source": [
    "phenotype_df.drop(no_phenotype_index, inplace=True)"
   ]
  },
  {
   "cell_type": "markdown",
   "metadata": {},
   "source": [
    "## assign all patients to phenotype\n",
    "patients are assigned based on the phenotype with the highest probability in *sanchez-pinto 2019*"
   ]
  },
  {
   "cell_type": "code",
   "execution_count": 11,
   "metadata": {},
   "outputs": [],
   "source": [
    "patient_phenotypes = phenotype_df.idxmax(axis=1)\n",
    "phenotype_counts = patient_phenotypes.value_counts().reset_index()\n",
    "phenotype_counts.columns = ['phenotype','count']"
   ]
  },
  {
   "cell_type": "code",
   "execution_count": 12,
   "metadata": {},
   "outputs": [],
   "source": [
    "phenotype_names = {'phenotype_0': '\\u03B1',\n",
    "'phenotype_1': '\\u03B2',\n",
    "'phenotype_2': '\\u03B3',\n",
    "'phenotype_3': '\\u03B4',\n",
    "'phenotype_4': '\\u03B5'}"
   ]
  },
  {
   "cell_type": "code",
   "execution_count": 13,
   "metadata": {},
   "outputs": [],
   "source": [
    "phenotype_counts['phenotype'] = phenotype_counts['phenotype'].map(phenotype_names)"
   ]
  },
  {
   "cell_type": "code",
   "execution_count": 14,
   "metadata": {},
   "outputs": [
    {
     "data": {
      "image/png": "[encoded data removed]",
      "text/plain": [
       "<Figure size 800x600 with 1 Axes>"
      ]
     },
     "metadata": {},
     "output_type": "display_data"
    }
   ],
   "source": [
    "fig, ax = plt.subplots(1, 1, figsize=(8, 6))\n",
    "sns.barplot(data=phenotype_counts, x=\"phenotype\", y=\"count\")\n",
    "sns.despine(bottom=True)\n",
    "ax.bar_label(ax.containers[0])\n",
    "ax.set_xlabel('Phenotype')\n",
    "ax.set_ylabel('Count of Patient Encounters')\n",
    "plt.setp(fig.axes, yticks=[])\n",
    "plt.tight_layout(h_pad=2)"
   ]
  },
  {
   "cell_type": "code",
   "execution_count": 20,
   "metadata": {},
   "outputs": [
    {
     "data": {
      "text/html": [
       "<div>\n",
       "<style scoped>\n",
       "    .dataframe tbody tr th:only-of-type {\n",
       "        vertical-align: middle;\n",
       "    }\n",
       "\n",
       "    .dataframe tbody tr th {\n",
       "        vertical-align: top;\n",
       "    }\n",
       "\n",
       "    .dataframe thead th {\n",
       "        text-align: right;\n",
       "    }\n",
       "</style>\n",
       "<table border=\"1\" class=\"dataframe\">\n",
       "  <thead>\n",
       "    <tr style=\"text-align: right;\">\n",
       "      <th></th>\n",
       "      <th>Unnamed: 0</th>\n",
       "      <th>0</th>\n",
       "    </tr>\n",
       "  </thead>\n",
       "  <tbody>\n",
       "    <tr>\n",
       "      <th>0</th>\n",
       "      <td>46661764186</td>\n",
       "      <td>phenotype_0</td>\n",
       "    </tr>\n",
       "    <tr>\n",
       "      <th>1</th>\n",
       "      <td>12989950338</td>\n",
       "      <td>phenotype_3</td>\n",
       "    </tr>\n",
       "    <tr>\n",
       "      <th>2</th>\n",
       "      <td>62471000307</td>\n",
       "      <td>phenotype_0</td>\n",
       "    </tr>\n",
       "    <tr>\n",
       "      <th>3</th>\n",
       "      <td>3419660022</td>\n",
       "      <td>phenotype_0</td>\n",
       "    </tr>\n",
       "    <tr>\n",
       "      <th>4</th>\n",
       "      <td>31967637101</td>\n",
       "      <td>phenotype_0</td>\n",
       "    </tr>\n",
       "    <tr>\n",
       "      <th>...</th>\n",
       "      <td>...</td>\n",
       "      <td>...</td>\n",
       "    </tr>\n",
       "    <tr>\n",
       "      <th>53303</th>\n",
       "      <td>20447148142</td>\n",
       "      <td>phenotype_0</td>\n",
       "    </tr>\n",
       "    <tr>\n",
       "      <th>53304</th>\n",
       "      <td>7677654159</td>\n",
       "      <td>phenotype_3</td>\n",
       "    </tr>\n",
       "    <tr>\n",
       "      <th>53305</th>\n",
       "      <td>48502160311</td>\n",
       "      <td>phenotype_3</td>\n",
       "    </tr>\n",
       "    <tr>\n",
       "      <th>53306</th>\n",
       "      <td>7361767076</td>\n",
       "      <td>phenotype_0</td>\n",
       "    </tr>\n",
       "    <tr>\n",
       "      <th>53307</th>\n",
       "      <td>9990544239</td>\n",
       "      <td>phenotype_0</td>\n",
       "    </tr>\n",
       "  </tbody>\n",
       "</table>\n",
       "<p>53308 rows × 2 columns</p>\n",
       "</div>"
      ],
      "text/plain": [
       "        Unnamed: 0            0\n",
       "0      46661764186  phenotype_0\n",
       "1      12989950338  phenotype_3\n",
       "2      62471000307  phenotype_0\n",
       "3       3419660022  phenotype_0\n",
       "4      31967637101  phenotype_0\n",
       "...            ...          ...\n",
       "53303  20447148142  phenotype_0\n",
       "53304   7677654159  phenotype_3\n",
       "53305  48502160311  phenotype_3\n",
       "53306   7361767076  phenotype_0\n",
       "53307   9990544239  phenotype_0\n",
       "\n",
       "[53308 rows x 2 columns]"
      ]
     },
     "execution_count": 20,
     "metadata": {},
     "output_type": "execute_result"
    }
   ],
   "source": [
    "patient_phenotypes"
   ]
  },
  {
   "cell_type": "code",
   "execution_count": 18,
   "metadata": {},
   "outputs": [],
   "source": [
    "patient_phenotypes.to_csv('/opt/bmi-585r/KLAB_SAIL/patient_phenotypes_20221209.csv')"
   ]
  },
  {
   "cell_type": "code",
   "execution_count": 19,
   "metadata": {},
   "outputs": [],
   "source": [
    "patient_phenotypes = pd.read_csv('/opt/bmi-585r/KLAB_SAIL/patient_phenotypes_20221209.csv')"
   ]
  },
  {
   "cell_type": "markdown",
   "metadata": {},
   "source": [
    "# plotting the frequent subgraphs"
   ]
  },
  {
   "cell_type": "markdown",
   "metadata": {},
   "source": [
    "## get the subgraph representations"
   ]
  },
  {
   "cell_type": "code",
   "execution_count": 124,
   "metadata": {},
   "outputs": [],
   "source": [
    "organs = {'SOFA_coag_score': 'Coagulation',\n",
    " 'SOFA_renal_score': 'Renal',\n",
    " 'SOFA_hep_score': 'Hepatic',\n",
    " 'SOFA_neuro_score': 'Neurological',\n",
    " 'SOFA_cardio_score': 'Cardiovascular',\n",
    " 'SOFA_resp_score': 'Respiratory'}"
   ]
  },
  {
   "cell_type": "code",
   "execution_count": 125,
   "metadata": {},
   "outputs": [],
   "source": [
    "organ_scores = [fp.name.replace('.gSpan','') for fp in graph_miner.gspan_fps]"
   ]
  },
  {
   "cell_type": "code",
   "execution_count": 126,
   "metadata": {},
   "outputs": [],
   "source": [
    "organ_map = {k:organs[v] for k,v in zip(list(range(len(organ_scores))), organ_scores)}"
   ]
  },
  {
   "cell_type": "code",
   "execution_count": 127,
   "metadata": {},
   "outputs": [
    {
     "data": {
      "text/plain": [
       "{0: 'Coagulation',\n",
       " 1: 'Renal',\n",
       " 2: 'Hepatic',\n",
       " 3: 'Neurological',\n",
       " 4: 'Cardiovascular',\n",
       " 5: 'Respiratory'}"
      ]
     },
     "execution_count": 127,
     "metadata": {},
     "output_type": "execute_result"
    }
   ],
   "source": [
    "organ_map"
   ]
  },
  {
   "cell_type": "code",
   "execution_count": 128,
   "metadata": {},
   "outputs": [],
   "source": [
    "gspan_subgraphs = graph_miner.gspan_subgraphs"
   ]
  },
  {
   "cell_type": "code",
   "execution_count": 129,
   "metadata": {},
   "outputs": [],
   "source": [
    "subgraphs =  dict(ChainMap(*[gspan_subgraphs[i] for i in range(len(gspan_subgraphs))]))"
   ]
  },
  {
   "cell_type": "raw",
   "metadata": {},
   "source": [
    "subgraphs"
   ]
  },
  {
   "cell_type": "code",
   "execution_count": 130,
   "metadata": {},
   "outputs": [
    {
     "data": {
      "text/plain": [
       "46661764186    12.0\n",
       "12989950338     3.0\n",
       "62471000307     3.0\n",
       "3419660022     21.0\n",
       "31967637101     3.0\n",
       "               ... \n",
       "7361767076      3.0\n",
       "9990544239      4.0\n",
       "19229510276     0.0\n",
       "65806030119     0.0\n",
       "46244270093     0.0\n",
       "Length: 75977, dtype: float64"
      ]
     },
     "execution_count": 130,
     "metadata": {},
     "output_type": "execute_result"
    }
   ],
   "source": [
    "nnm_df.sum()"
   ]
  },
  {
   "cell_type": "code",
   "execution_count": 131,
   "metadata": {
    "tags": []
   },
   "outputs": [],
   "source": [
    "def get_subgraph_count(nnm_df:pd.DataFrame, patient_phenotypes: pd.DataFrame, phenotype: str):\n",
    "    phenotype_encounters = patient_phenotypes[patient_phenotypes == phenotype].index\n",
    "    phenotype_count = len(phenotype_encounters)\n",
    "    phenotype_subgraph_count = nnm_df.loc[:,list(phenotype_encounters)].sum(axis=1).sort_values(ascending=False)\n",
    "    return phenotype_subgraph_count\n",
    "\n",
    "def get_top10_subgraphs(phenotype_top10:pd.DataFrame):\n",
    "    phenotype_top10 = [(x,subgraphs[x]) for x in list(phenotype_subgraph_count[:10].index)]\n",
    "    return phenotype_top10\n",
    "\n",
    "def plot_top10_subgraphs(phenotype_subgraph_count:pd.DataFrame, phenotype_top10:pd.DataFrame, total:int):\n",
    "    facet_df = []\n",
    "    for (n, g) in phenotype_top10:\n",
    "        _df = pd.DataFrame([j.split('~') for j in g.split('->')])\n",
    "        _df.columns = ['Time', 'Score']\n",
    "        _df['Subgraph'] = n\n",
    "        facet_df.append(_df)\n",
    "    facet_df = pd.concat(facet_df)\n",
    "    facet_df[['Organ','Subgraph']] = facet_df['Subgraph'].str.split('_subgraph_').tolist()\n",
    "    facet_df = facet_df.astype(int)\n",
    "    # facet_df['Hour'] = facet_df['Hour']+1\n",
    "    facet_df['Organ'] = facet_df['Organ'].map(organ_map)\n",
    "\n",
    "    facet_df['Time']=facet_df['Time']+1\n",
    "    percents = phenotype_subgraph_count[:10].values / total\n",
    "    \n",
    "    # Initialize a grid of plots with an Axes for each walk\n",
    "    grid = sns.FacetGrid(facet_df, col=\"Subgraph\", hue=\"Organ\", col_wrap=5, height=1.5, sharex=False, margin_titles=True)\n",
    "\n",
    "    # Draw a horizontal line to show the starting point\n",
    "    grid.refline(y=2, linestyle=\":\")\n",
    "\n",
    "    # Draw a line plot to show the trajectory of each random walk\n",
    "    grid.map(plt.plot, \"Time\", \"Score\", marker=\"o\")\n",
    "\n",
    "    # Adjust the tick positions and labels\n",
    "    grid.set(yticks=range(5), xlim=(1,6.1), ylim=(-1, 5))\n",
    "\n",
    "    grid.fig.set_size_inches(16,8)\n",
    "    # Adjust the arrangement of the plots\n",
    "    grid.fig.suptitle(f\"Top 10 Common Subgraphs for Phenotype\")\n",
    "    grid.add_legend(bbox_to_anchor=(1, 0.25), loc='upper left', borderaxespad=0)\n",
    "    grid.fig.tight_layout(w_pad=1)\n",
    "    # grid.map(percents)\n",
    "    return grid, percents"
   ]
  },
  {
   "cell_type": "code",
   "execution_count": 134,
   "metadata": {},
   "outputs": [
    {
     "name": "stdout",
     "output_type": "stream",
     "text": [
      "[0.06130803 0.0449873  0.04310515 0.04173631 0.04032799 0.03761665\n",
      " 0.01626808 0.0159522  0.01550469 0.01547837]\n"
     ]
    },
    {
     "data": {
      "image/png": "[encoded data removed]",
      "text/plain": [
       "<Figure size 1747x800 with 10 Axes>"
      ]
     },
     "metadata": {},
     "output_type": "display_data"
    }
   ],
   "source": [
    "phenotype_subgraph_count = get_subgraph_count(nnm_df, patient_phenotypes, 'phenotype_2')\n",
    "top10_subgraphs = get_top10_subgraphs(phenotype_subgraph_count)\n",
    "grid, percents = plot_top10_subgraphs(phenotype_subgraph_count, top10_subgraphs, len(nnm_df.columns))\n",
    "print(percents)"
   ]
  },
  {
   "cell_type": "code",
   "execution_count": null,
   "metadata": {},
   "outputs": [],
   "source": []
  }
 ],
 "metadata": {
  "kernelspec": {
   "display_name": "mods",
   "language": "python",
   "name": "mods"
  },
  "language_info": {
   "codemirror_mode": {
    "name": "ipython",
    "version": 3
   },
   "file_extension": ".py",
   "mimetype": "text/x-python",
   "name": "python",
   "nbconvert_exporter": "python",
   "pygments_lexer": "ipython3",
   "version": "3.10.4"
  }
 },
 "nbformat": 4,
 "nbformat_minor": 4
}
