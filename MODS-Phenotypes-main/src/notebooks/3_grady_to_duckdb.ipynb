{
 "cells": [
  {
   "cell_type": "markdown",
   "metadata": {},
   "source": [
    "# MODS Phenotypes: Step 3. Load Grady into DuckDB"
   ]
  },
  {
   "cell_type": "markdown",
   "metadata": {
    "tags": []
   },
   "source": [
    "## `imports`"
   ]
  },
  {
   "cell_type": "code",
   "execution_count": 1,
   "metadata": {},
   "outputs": [],
   "source": [
    "import os\n",
    "import sys\n",
    "from pathlib import Path\n",
    "import warnings\n",
    "warnings.filterwarnings(\"ignore\")\n",
    "import numpy as np\n",
    "from datetime import date\n",
    "import seaborn as sns\n",
    "import matplotlib.pyplot as plt\n",
    "from multiprocessing import Pool\n",
    "from IPython.display import display as display\n",
    "from tqdm.auto import tqdm\n",
    "\n",
    "import matplotlib\n",
    "import matplotlib.pyplot as plt\n",
    "import seaborn as sns\n",
    "\n",
    "font = {'family' : 'sans-serif',\n",
    "        'weight' : 'bold',\n",
    "        'size'   : 16}\n",
    "\n",
    "matplotlib.rc('font', **font)"
   ]
  },
  {
   "cell_type": "code",
   "execution_count": 2,
   "metadata": {},
   "outputs": [],
   "source": [
    "sys.path.insert(0, \"/opt/scratchspace/KLAB_SAIL/MODSPhenotypes/mods/\")\n",
    "from src.config import *\n",
    "from src.utils import *\n",
    "site_name = 'grady'"
   ]
  },
  {
   "cell_type": "code",
   "execution_count": 9,
   "metadata": {},
   "outputs": [],
   "source": [
    "data_path = Path(f\"{project_path}/data/{run_id}/extraction/{site_name}/\")"
   ]
  },
  {
   "cell_type": "raw",
   "metadata": {},
   "source": [
    "today = date.today()"
   ]
  },
  {
   "cell_type": "markdown",
   "metadata": {
    "tags": []
   },
   "source": [
    "## `config`"
   ]
  },
  {
   "cell_type": "code",
   "execution_count": 3,
   "metadata": {},
   "outputs": [],
   "source": [
    "num_cpus = project_config['parameters']['num_cpus']\n",
    "num_gpus = project_config['parameters']['num_gpus']\n",
    "sepsis3_window_days = project_config[\"parameters\"][\"sepsis3_window_days\"]"
   ]
  },
  {
   "cell_type": "code",
   "execution_count": 4,
   "metadata": {},
   "outputs": [],
   "source": [
    "patient_id = project_config[site_name][\"keys\"][\"patient_key\"]\n",
    "service_id = project_config[site_name][\"keys\"][\"service_key\"]\n",
    "record_dt = project_config[site_name][\"keys\"][\"record_dt\"]"
   ]
  },
  {
   "cell_type": "code",
   "execution_count": 5,
   "metadata": {},
   "outputs": [],
   "source": [
    "hospital_intime = project_config[site_name][\"datetimes\"][\"hospital_intime\"]\n",
    "hospital_outtime = project_config[site_name][\"datetimes\"][\"hospital_outtime\"]\n",
    "hospital_encounter_current = project_config[site_name][\"datetimes\"][\"hospital_encounter_current\"]\n",
    "hospital_encounter_total = project_config[site_name][\"datetimes\"][\"hospital_encounter_total\"]"
   ]
  },
  {
   "cell_type": "code",
   "execution_count": 6,
   "metadata": {},
   "outputs": [],
   "source": [
    "sepsis3_onset = project_config[site_name][\"datetimes\"][\"sepsis3_onset\"]\n",
    "sepsis3_encounter = project_config[site_name][\"datetimes\"][\"sepsis3_encounter\"]\n",
    "sepsis3_current = project_config[site_name][\"datetimes\"][\"sepsis3_current\"]\n",
    "sepsis3_window = project_config[site_name][\"datetimes\"][\"sepsis3_window\"]"
   ]
  },
  {
   "cell_type": "markdown",
   "metadata": {
    "tags": []
   },
   "source": [
    "## `duckdb()`"
   ]
  },
  {
   "cell_type": "markdown",
   "metadata": {
    "tags": []
   },
   "source": [
    "### init `sql`"
   ]
  },
  {
   "cell_type": "code",
   "execution_count": 7,
   "metadata": {},
   "outputs": [],
   "source": [
    "import duckdb\n",
    "import sqlalchemy\n",
    "%load_ext sql\n",
    "%config SqlMagic.autopandas = True\n",
    "%config SqlMagic.feedback = False\n",
    "%config SqlMagic.displaycon = False"
   ]
  },
  {
   "cell_type": "code",
   "execution_count": 8,
   "metadata": {},
   "outputs": [
    {
     "data": {
      "text/html": [
       "<div>\n",
       "<style scoped>\n",
       "    .dataframe tbody tr th:only-of-type {\n",
       "        vertical-align: middle;\n",
       "    }\n",
       "\n",
       "    .dataframe tbody tr th {\n",
       "        vertical-align: top;\n",
       "    }\n",
       "\n",
       "    .dataframe thead th {\n",
       "        text-align: right;\n",
       "    }\n",
       "</style>\n",
       "<table border=\"1\" class=\"dataframe\">\n",
       "  <thead>\n",
       "    <tr style=\"text-align: right;\">\n",
       "      <th></th>\n",
       "    </tr>\n",
       "  </thead>\n",
       "  <tbody>\n",
       "  </tbody>\n",
       "</table>\n",
       "</div>"
      ],
      "text/plain": [
       "Empty DataFrame\n",
       "Columns: []\n",
       "Index: []"
      ]
     },
     "execution_count": 8,
     "metadata": {},
     "output_type": "execute_result"
    }
   ],
   "source": [
    "%%sql\n",
    "duckdb:////opt/scratchspace/KLAB_SAIL/MODSPhenotypes/data/MODS.duckdb\n",
    "PRAGMA memory_limit='700GB';\n",
    "PRAGMA threads=180;\n",
    "PRAGMA enable_profiling;\n",
    "PRAGMA enable_optimizer;\n",
    "PRAGMA temp_directory='/opt/localdata/duck.tmp';"
   ]
  },
  {
   "cell_type": "markdown",
   "metadata": {},
   "source": [
    "### Import `.parquet` files to `duckdb` tables"
   ]
  },
  {
   "cell_type": "markdown",
   "metadata": {},
   "source": [
    "#### Static"
   ]
  },
  {
   "cell_type": "code",
   "execution_count": null,
   "metadata": {},
   "outputs": [],
   "source": [
    "static_parquet = str(data_path / 'static_df_YEARLY' / 'static_df_*.parquet')"
   ]
  },
  {
   "cell_type": "code",
   "execution_count": null,
   "metadata": {},
   "outputs": [],
   "source": [
    "%%sql\n",
    "CREATE TABLE '{site_name}_static' AS\n",
    "SELECT * FROM read_parquet('{static_parquet}');"
   ]
  },
  {
   "cell_type": "code",
   "execution_count": null,
   "metadata": {},
   "outputs": [],
   "source": [
    "%sql ALTER TABLE {site_name}_static RENAME COLUMN pt_id TO pat_id;"
   ]
  },
  {
   "cell_type": "raw",
   "metadata": {},
   "source": [
    "%sql DESCRIBE {site_name}_static;"
   ]
  },
  {
   "cell_type": "markdown",
   "metadata": {},
   "source": [
    "#### Dynamic"
   ]
  },
  {
   "cell_type": "code",
   "execution_count": null,
   "metadata": {},
   "outputs": [],
   "source": [
    "dynamic_parquet = str(data_path / 'dynamic_df_YEARLY' / 'dynamic_df_*.parquet')"
   ]
  },
  {
   "cell_type": "code",
   "execution_count": null,
   "metadata": {},
   "outputs": [],
   "source": [
    "%%sql\n",
    "CREATE TABLE '{site_name}_dynamic' AS\n",
    "SELECT * FROM read_parquet('{dynamic_parquet}');"
   ]
  },
  {
   "cell_type": "raw",
   "metadata": {},
   "source": [
    "%sql describe {site_name}_dynamic;"
   ]
  },
  {
   "cell_type": "markdown",
   "metadata": {
    "tags": []
   },
   "source": [
    "### Tables\n",
    "\n",
    "1. Patient had sepsis during encounter\n",
    "2. Patient data after admission (AND) before discharge\n",
    "3. Investigate 28 days post-sepsis for MODS"
   ]
  },
  {
   "cell_type": "code",
   "execution_count": null,
   "metadata": {},
   "outputs": [],
   "source": [
    "%%time\n",
    "%%sql\n",
    "CREATE OR REPLACE TABLE '{site_name}_sepsis' AS\n",
    "SELECT *,\n",
    "    date_part('year', {hospital_intime}) AS admission_year,\n",
    "    1+CAST(date_diff('hour', {hospital_intime}, {hospital_outtime}) AS INTEGER) AS {hospital_encounter_total},\n",
    "    1+CAST(date_diff('hour', {hospital_intime}, {record_dt}) AS INTEGER) AS {hospital_encounter_current},\n",
    "    1+CAST(date_diff('hour', {sepsis3_onset}, {record_dt}) AS INTEGER) AS hours_after_sepsis\n",
    "\n",
    "FROM {site_name}_static\n",
    "INNER JOIN {site_name}_dynamic\n",
    "ON {site_name}_static.{service_id} = {site_name}_dynamic.{service_id}\n",
    "\n",
    "WHERE {sepsis3_onset} IS NOT NULL\n",
    "AND {hospital_encounter_current} >= 0\n",
    "AND {hospital_encounter_current} <= {hospital_encounter_total}\n",
    "ORDER BY {site_name}_dynamic.{patient_id} ASC,\n",
    "         {site_name}_dynamic.{service_id} ASC,\n",
    "         {site_name}_dynamic.{record_dt} ASC;"
   ]
  },
  {
   "cell_type": "raw",
   "metadata": {},
   "source": [
    "%sql describe {site_name}_sepsis;"
   ]
  },
  {
   "cell_type": "code",
   "execution_count": null,
   "metadata": {
    "tags": []
   },
   "outputs": [],
   "source": [
    "%%time\n",
    "%%sql\n",
    "CREATE OR REPLACE TABLE {site_name}_sepsis_28days AS\n",
    "SELECT * FROM {site_name}_sepsis\n",
    "WHERE hours_after_sepsis >= 0\n",
    "AND hours_after_sepsis <= 672;"
   ]
  },
  {
   "cell_type": "raw",
   "metadata": {},
   "source": [
    "%sql describe {site_name}_sepsis_28days;"
   ]
  },
  {
   "cell_type": "code",
   "execution_count": null,
   "metadata": {},
   "outputs": [],
   "source": [
    "%%time\n",
    "%%sql\n",
    "CREATE OR REPLACE TABLE {site_name}_sepsis_1day AS\n",
    "SELECT * FROM {site_name}_sepsis_28days\n",
    "WHERE hours_after_sepsis >= 0\n",
    "AND hours_after_sepsis <= 24;"
   ]
  },
  {
   "cell_type": "raw",
   "metadata": {},
   "source": [
    "%sql describe {site_name}_sepsis_1day;"
   ]
  },
  {
   "cell_type": "code",
   "execution_count": null,
   "metadata": {},
   "outputs": [],
   "source": [
    "%%time\n",
    "%%sql\n",
    "CREATE OR REPLACE TABLE {site_name}_sepsis_admission AS\n",
    "(\n",
    "    WITH sepsis_ranked AS (\n",
    "    SELECT *, ROW_NUMBER() OVER(PARTITION BY sepsis.{patient_id}, sepsis.{service_id}\n",
    "                                 ORDER BY sepsis.{hospital_encounter_current} ASC) AS rank\n",
    "      FROM {site_name}_sepsis sepsis\n",
    "    )\n",
    "    SELECT * EXCLUDE (rank) FROM sepsis_ranked WHERE rank = 1\n",
    ");"
   ]
  },
  {
   "cell_type": "raw",
   "metadata": {},
   "source": [
    "%sql describe {site_name}_sepsis_admission;"
   ]
  },
  {
   "cell_type": "markdown",
   "metadata": {},
   "source": [
    "## Export/Import"
   ]
  },
  {
   "cell_type": "markdown",
   "metadata": {
    "tags": []
   },
   "source": [
    "### Export DB"
   ]
  },
  {
   "cell_type": "code",
   "execution_count": 21,
   "metadata": {},
   "outputs": [],
   "source": [
    "export_path = Path(f\"{project_path}/data/{run_id}/duckdb/{site_name}/\")\n",
    "export_path.mkdir(parents=True, exist_ok=True)"
   ]
  },
  {
   "cell_type": "code",
   "execution_count": null,
   "metadata": {
    "tags": []
   },
   "outputs": [],
   "source": [
    "%%time\n",
    "%%sql\n",
    "EXPORT DATABASE '{export_path}' (FORMAT PARQUET, COMPRESSION ZSTD, ROW_GROUP_SIZE 100000);"
   ]
  },
  {
   "cell_type": "markdown",
   "metadata": {
    "tags": []
   },
   "source": [
    "### Import DB\n",
    "**Note: Import is not needed when using a .duckdb file**"
   ]
  },
  {
   "cell_type": "raw",
   "metadata": {
    "tags": []
   },
   "source": [
    "%%time\n",
    "%%sql\n",
    "IMPORT DATABASE '{export_path}';"
   ]
  }
 ],
 "metadata": {
  "kernelspec": {
   "display_name": "mods",
   "language": "python",
   "name": "mods"
  },
  "language_info": {
   "codemirror_mode": {
    "name": "ipython",
    "version": 3
   },
   "file_extension": ".py",
   "mimetype": "text/x-python",
   "name": "python",
   "nbconvert_exporter": "python",
   "pygments_lexer": "ipython3",
   "version": "3.10.4"
  }
 },
 "nbformat": 4,
 "nbformat_minor": 4
}
